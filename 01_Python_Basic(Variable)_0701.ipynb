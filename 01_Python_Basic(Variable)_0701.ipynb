{
  "nbformat": 4,
  "nbformat_minor": 0,
  "metadata": {
    "colab": {
      "provenance": [],
      "collapsed_sections": [
        "f1LXCbuo-5pD",
        "Z_xnghJNBzPy",
        "zx20eryRvmdd",
        "Y9DmWIfrwaoa",
        "NxtkObO4zLU6",
        "a_yBYGo81CKq",
        "DScXs4Mh5iXy",
        "Zjz5xzhK5UJJ",
        "OWT8VdbV56t7",
        "-Vz4LYpo-Svr",
        "z1FZE9NNPQKb",
        "WE1GwWQ2PTWU",
        "3VWhiIZwPUgU"
      ],
      "authorship_tag": "ABX9TyP18HQfThjhHhdiGO9wj/7A",
      "include_colab_link": true
    },
    "kernelspec": {
      "name": "python3",
      "display_name": "Python 3"
    },
    "language_info": {
      "name": "python"
    }
  },
  "cells": [
    {
      "cell_type": "markdown",
      "metadata": {
        "id": "view-in-github",
        "colab_type": "text"
      },
      "source": [
        "<a href=\"https://colab.research.google.com/github/YugyeongJo/SeSAC_Python_Study/blob/main/01_Python_Basic(Variable)_0701.ipynb\" target=\"_parent\"><img src=\"https://colab.research.google.com/assets/colab-badge.svg\" alt=\"Open In Colab\"/></a>"
      ]
    },
    {
      "cell_type": "markdown",
      "source": [
        "# Python 기초\n",
        "\n",
        "<목차>\n",
        "1. 변수\n",
        "2. 연산자\n",
        "3. 제어문\n",
        "4. 함수\n",
        "5. 자료형 1\n",
        "6. 자료형 2\n",
        "7. 정규표현식\n",
        "8. 판다스\n",
        "9. 시각화\n",
        "10. 파일 입출력"
      ],
      "metadata": {
        "id": "imlX3Np3tZNA"
      }
    },
    {
      "cell_type": "markdown",
      "source": [
        "<hr>"
      ],
      "metadata": {
        "id": "zDC9g_65tspS"
      }
    },
    {
      "cell_type": "markdown",
      "source": [
        "# 1. 변수(문법)"
      ],
      "metadata": {
        "id": "Jw7pRQ06tyHY"
      }
    },
    {
      "cell_type": "markdown",
      "source": [
        "## 변수(객체) 주소 확인"
      ],
      "metadata": {
        "id": "vML7bn3rvQp6"
      }
    },
    {
      "cell_type": "code",
      "source": [
        "x = 100\n",
        "print(x)"
      ],
      "metadata": {
        "colab": {
          "base_uri": "https://localhost:8080/"
        },
        "id": "62C5cY8Qt0TZ",
        "outputId": "daefa7e8-7c44-41e3-fcb1-1afad8b60b11"
      },
      "execution_count": 1,
      "outputs": [
        {
          "output_type": "stream",
          "name": "stdout",
          "text": [
            "100\n"
          ]
        }
      ]
    },
    {
      "cell_type": "code",
      "source": [
        "print(id(x))"
      ],
      "metadata": {
        "colab": {
          "base_uri": "https://localhost:8080/"
        },
        "id": "UwFba1OYvNsI",
        "outputId": "e023c77c-da81-47eb-a3e1-57e7e70c9a7f"
      },
      "execution_count": 2,
      "outputs": [
        {
          "output_type": "stream",
          "name": "stdout",
          "text": [
            "139088830647632\n"
          ]
        }
      ]
    },
    {
      "cell_type": "markdown",
      "source": [
        "## 변수\n",
        "\n",
        "- 변수(Variable) : 프로그램이 실행되는 동안 상황에 따라 변하는 값을 저장\n",
        "- 변수가 없다면 : 코드 내에서 매번 값을 지정해주면 코드를 작성하거나 수정하기 어려움\n",
        "- 변수 사용 이점 : 변수는 코드 내에서 자료를 일관성 있게 사용하고 관리하기 위해서 이름(identifier)을 부여해 다른 변수 또는 자료와 구분해서 사용할 수 있도록 함."
      ],
      "metadata": {
        "id": "f1LXCbuo-5pD"
      }
    },
    {
      "cell_type": "markdown",
      "source": [
        "### 변수 선언\n",
        "- 값을 저장할 수 있는 변수를 만드는 것\n",
        "- 변수 선언을 위해서는 변수에 어떤 종류의 값이 저장되어야 하는지 알리기 위한 타입이 있어야 함\n",
        "- 파이썬은 변수를 선언하기 위한 타입이 없으므로 변수 선언 과정이 없음"
      ],
      "metadata": {
        "id": "j5LsAN0TByOK"
      }
    },
    {
      "cell_type": "markdown",
      "source": [
        "### 변수 할당\n",
        "- 어떤 값이 이름을 갖도록 하는 과정\n",
        "- =연산자를 이용\n",
        "```\n",
        "변수명 = 연산결과값\n",
        "```\n",
        "- 변수의 이름은 문자, 숫자, 밑줄(_(underscore))문자를 포함하며, 대/소문자를 구분함\n",
        "- 숫자로 시작할 수 없으며, 밑줄 문자를 제외한 특수문자, 공백, 문장부호 등은 사용 불가\n",
        "- 파이썬의 예약어는 사용할 수 없음(ex. class, def 등)\n",
        "- 사용 중인 내장 함수나 모듈 이름 등은 사용 지양(ex. id, list, print)"
      ],
      "metadata": {
        "id": "Z_xnghJNBzPy"
      }
    },
    {
      "cell_type": "markdown",
      "source": [
        "#### 변수 할당 방식\n",
        "\n",
        "- 할당(Assignment)은 변수에 값을 저장하는 것을 의미\n",
        "- 파이썬에서 변수에 값을 저장하기 위해서는 할당연산자 =(동등 기호)를 사용\n",
        "- 변수는 여러개 할당 가능\n",
        "- 변수에 값의 할당 작업은 순차적으로 발생하는 것은 아님\n",
        "\n",
        "##### 동시할당(Simultaneous Assignment)\n",
        "- 여러 변수에 값을 한번에 할당하는 방식\n",
        "\n",
        "##### 순차적할당(Sequential Assignment)\n",
        "- 변수에 값을 한 번에 하나씩, 순서대로 할당하는 방식"
      ],
      "metadata": {
        "id": "cAcXjDAnvPKY"
      }
    },
    {
      "cell_type": "code",
      "source": [
        "# 변수 할당\n",
        "a = 10\n",
        "print(a)"
      ],
      "metadata": {
        "colab": {
          "base_uri": "https://localhost:8080/"
        },
        "id": "aqz38eGpAtwy",
        "outputId": "5904878d-c6b3-4d5a-c1ed-127f777ae59e"
      },
      "execution_count": 50,
      "outputs": [
        {
          "output_type": "stream",
          "name": "stdout",
          "text": [
            "10\n"
          ]
        }
      ]
    },
    {
      "cell_type": "code",
      "source": [
        "# 동시할당\n",
        "a, b = 10, 20\n",
        "a, b = b, a+b"
      ],
      "metadata": {
        "id": "zLf_cAxKvhfn"
      },
      "execution_count": 51,
      "outputs": []
    },
    {
      "cell_type": "code",
      "source": [
        "# 순차적 할당\n",
        "a, b = 10, 20\n",
        "a = b\n",
        "b = a+b"
      ],
      "metadata": {
        "id": "dCMwx8RBBC8M"
      },
      "execution_count": 52,
      "outputs": []
    },
    {
      "cell_type": "code",
      "source": [
        "a, b"
      ],
      "metadata": {
        "colab": {
          "base_uri": "https://localhost:8080/"
        },
        "id": "qTYh0DM0vlhO",
        "outputId": "ad8a3d73-aaf8-457a-e675-8285f8025660"
      },
      "execution_count": 53,
      "outputs": [
        {
          "output_type": "execute_result",
          "data": {
            "text/plain": [
              "(20, 40)"
            ]
          },
          "metadata": {},
          "execution_count": 53
        }
      ]
    },
    {
      "cell_type": "markdown",
      "source": [
        "## Method 함수"
      ],
      "metadata": {
        "id": "mpVPnCTGCDwg"
      }
    },
    {
      "cell_type": "markdown",
      "source": [
        "### 메서드 설명 함수\n",
        "\n",
        "- 함수의 도움말을 얻기 위해 사용하는 함수\n",
        "\n",
        "```\n",
        "help(메서드명)\n",
        "```"
      ],
      "metadata": {
        "id": "zx20eryRvmdd"
      }
    },
    {
      "cell_type": "code",
      "source": [
        "help(print)"
      ],
      "metadata": {
        "colab": {
          "base_uri": "https://localhost:8080/"
        },
        "id": "Htii3eMev3XZ",
        "outputId": "803a2618-bdb5-4522-955d-4d368107489c"
      },
      "execution_count": 54,
      "outputs": [
        {
          "output_type": "stream",
          "name": "stdout",
          "text": [
            "Help on built-in function print in module builtins:\n",
            "\n",
            "print(...)\n",
            "    print(value, ..., sep=' ', end='\\n', file=sys.stdout, flush=False)\n",
            "    \n",
            "    Prints the values to a stream, or to sys.stdout by default.\n",
            "    Optional keyword arguments:\n",
            "    file:  a file-like object (stream); defaults to the current sys.stdout.\n",
            "    sep:   string inserted between values, default a space.\n",
            "    end:   string appended after the last value, default a newline.\n",
            "    flush: whether to forcibly flush the stream.\n",
            "\n"
          ]
        }
      ]
    },
    {
      "cell_type": "markdown",
      "source": [
        "### 출력 함수\n",
        "\n",
        "#### print 메서드\n",
        "```\n",
        "print(객체, sep='', end='\\n', file=None, flust=False)\n",
        "```\n",
        "\n",
        "- end 매개변수 : 기본값:\"\\n\"(줄바꿈 문자), 출력 내용의 끝에 추가되는 문자열을 지정\n",
        "- sep 매개변수 : 기본값: 공백 분자(\"\"), 여러 값/인수를 출력할 때 각 값 사이에 사용되는 구분 문자열을 지정\n",
        "- file 매개변수 : 기본값:sys.stdout(표준 출력), 출력 내용을 특정 파일로 리디렉션할 때 사용\n",
        "- flush 매개변수: 기본값: False, 출력 버퍼를 즉시 비우고 출력을 강제로 플러시할지 여부를 지정"
      ],
      "metadata": {
        "id": "Y9DmWIfrwaoa"
      }
    },
    {
      "cell_type": "code",
      "source": [
        "print('Hello', 'World')"
      ],
      "metadata": {
        "colab": {
          "base_uri": "https://localhost:8080/"
        },
        "id": "aZb6sEm2w_Ni",
        "outputId": "c79e11a3-cb0b-41fe-8e27-4b761942dcfc"
      },
      "execution_count": 7,
      "outputs": [
        {
          "output_type": "stream",
          "name": "stdout",
          "text": [
            "Hello World\n"
          ]
        }
      ]
    },
    {
      "cell_type": "code",
      "source": [
        "print('Hello', 'World', sep='.')"
      ],
      "metadata": {
        "colab": {
          "base_uri": "https://localhost:8080/"
        },
        "id": "noEAHR5SxEyR",
        "outputId": "efff81f5-6201-4aa2-fb2b-89553e34add9"
      },
      "execution_count": 8,
      "outputs": [
        {
          "output_type": "stream",
          "name": "stdout",
          "text": [
            "Hello.World\n"
          ]
        }
      ]
    },
    {
      "cell_type": "code",
      "source": [
        "print('Hello', 'World', sep='\\t')\n",
        "# \\t 는 탭문자"
      ],
      "metadata": {
        "colab": {
          "base_uri": "https://localhost:8080/"
        },
        "id": "xjG2e6DyxGg5",
        "outputId": "1fb1608b-9dd5-44a9-a4f6-79c8430006c6"
      },
      "execution_count": 10,
      "outputs": [
        {
          "output_type": "stream",
          "name": "stdout",
          "text": [
            "Hello\tWorld\n"
          ]
        }
      ]
    },
    {
      "cell_type": "code",
      "source": [
        "print('Hello')\n",
        "print('World')"
      ],
      "metadata": {
        "colab": {
          "base_uri": "https://localhost:8080/"
        },
        "id": "uQ7-Q29hxGnB",
        "outputId": "aa817ee9-c66c-40e6-b248-068218433430"
      },
      "execution_count": 11,
      "outputs": [
        {
          "output_type": "stream",
          "name": "stdout",
          "text": [
            "Hello\n",
            "World\n"
          ]
        }
      ]
    },
    {
      "cell_type": "code",
      "source": [
        "print('Hello', end='\\t')\n",
        "print('World')"
      ],
      "metadata": {
        "colab": {
          "base_uri": "https://localhost:8080/"
        },
        "id": "KRbNujv1xHRZ",
        "outputId": "403fe69a-d268-49bb-faab-a1a086a3dbe3"
      },
      "execution_count": 12,
      "outputs": [
        {
          "output_type": "stream",
          "name": "stdout",
          "text": [
            "Hello\tWorld\n"
          ]
        }
      ]
    },
    {
      "cell_type": "code",
      "source": [
        "name = '홍길동'\n",
        "age = 20"
      ],
      "metadata": {
        "id": "rmrGxErSxyAa"
      },
      "execution_count": 13,
      "outputs": []
    },
    {
      "cell_type": "code",
      "source": [
        "print(name, '님의 나이는 ', age, '세입니다.', sep='')"
      ],
      "metadata": {
        "colab": {
          "base_uri": "https://localhost:8080/"
        },
        "id": "zX4k2xNTx14p",
        "outputId": "4f7638b0-f3cb-484e-fbd1-c2ac3b3f2c58"
      },
      "execution_count": 14,
      "outputs": [
        {
          "output_type": "stream",
          "name": "stdout",
          "text": [
            "홍길동님의 나이는 20세입니다.\n"
          ]
        }
      ]
    },
    {
      "cell_type": "code",
      "source": [
        "print(f\"{name}님의 나이는 {age}세입니다.\")"
      ],
      "metadata": {
        "colab": {
          "base_uri": "https://localhost:8080/"
        },
        "id": "wPjmklFRx-XG",
        "outputId": "b7b27865-7ccc-47b2-e378-67149a2f4816"
      },
      "execution_count": 16,
      "outputs": [
        {
          "output_type": "stream",
          "name": "stdout",
          "text": [
            "홍길동님의 나이는 20세입니다.\n"
          ]
        }
      ]
    },
    {
      "cell_type": "markdown",
      "source": [
        "### 입력 함수\n",
        "\n",
        "- 사용자로부터 값을 입력 받기 위한 함수, 입력 받은 값은 항상 문자열임\n",
        "\n",
        "#### input 메서드\n",
        "```\n",
        "변수명 = input()\n",
        "```\n",
        "\n",
        "** input으로 받은 값은 str이기 때문에 숫자로 인식하고 싶을때에는 int or float로 datatype 변경 필요"
      ],
      "metadata": {
        "id": "NxtkObO4zLU6"
      }
    },
    {
      "cell_type": "code",
      "source": [
        "first_number = int(input('첫 번째 숫자 : '))"
      ],
      "metadata": {
        "colab": {
          "base_uri": "https://localhost:8080/"
        },
        "id": "8sJruiMCzLEy",
        "outputId": "4f620275-8f6d-4cf1-e205-8ddffaa2cc09"
      },
      "execution_count": 17,
      "outputs": [
        {
          "name": "stdout",
          "output_type": "stream",
          "text": [
            "첫 번째 숫자 : 20\n"
          ]
        }
      ]
    },
    {
      "cell_type": "code",
      "source": [
        "second_number = int(input('두 번째 숫자 : '))"
      ],
      "metadata": {
        "colab": {
          "base_uri": "https://localhost:8080/"
        },
        "id": "DYOg5-v7zgY2",
        "outputId": "05faacd5-0f15-429f-dbe3-d0714253a4fb"
      },
      "execution_count": 18,
      "outputs": [
        {
          "name": "stdout",
          "output_type": "stream",
          "text": [
            "두 번째 숫자 : 30\n"
          ]
        }
      ]
    },
    {
      "cell_type": "code",
      "source": [
        "print(first_number + second_number)"
      ],
      "metadata": {
        "colab": {
          "base_uri": "https://localhost:8080/"
        },
        "id": "pZEs6hSxzjie",
        "outputId": "393decbb-b67d-4b7d-d832-b05f50019ddd"
      },
      "execution_count": 19,
      "outputs": [
        {
          "output_type": "stream",
          "name": "stdout",
          "text": [
            "50\n"
          ]
        }
      ]
    },
    {
      "cell_type": "markdown",
      "source": [
        "## DataType 기본자료형\n",
        "- 프로그래밍 언어들은 변수가 가져야 할 값의 크기, 형식, 범위 등에 따라서 값의 유형을 정해 놓고 사용\n",
        "- 자료형은 프로그래밍 언어에서 정수, 실수, 논리 등 여러 종류의 자료(데이터)가 어떤 값을 가질 수 있는지에 대해 알려주는 속성\n",
        "- 자료형에 따라 저장할 수 있는 값의 범위(크기)와 값을 저장하는 방식이 달라짐\n",
        "- 자료형에 따라 수행할 수 있는 명령들이 달라질 수 있음\n",
        "\n",
        "### DataType의 종류\n",
        "- 숫자형(int, float, complex)\n",
        "- 문자형(str)\n",
        "- 이스케이프 문자\n",
        "- 논리형(bool)"
      ],
      "metadata": {
        "id": "a_yBYGo81CKq"
      }
    },
    {
      "cell_type": "markdown",
      "source": [
        "### 숫자형\n",
        " + 정수(int) : 소수점이 없는 정수\n",
        " + 실수(float) : 부동소수점, 소수점이 있는 숫자\n",
        " + 복소수(complex)"
      ],
      "metadata": {
        "id": "DScXs4Mh5iXy"
      }
    },
    {
      "cell_type": "code",
      "source": [
        "a = 10\n",
        "type(a)"
      ],
      "metadata": {
        "colab": {
          "base_uri": "https://localhost:8080/"
        },
        "id": "k9L_w_VqEt4z",
        "outputId": "29027a4f-ccba-4234-f546-b0ab7224a0d5"
      },
      "execution_count": 55,
      "outputs": [
        {
          "output_type": "execute_result",
          "data": {
            "text/plain": [
              "int"
            ]
          },
          "metadata": {},
          "execution_count": 55
        }
      ]
    },
    {
      "cell_type": "markdown",
      "source": [
        "### 문자형\n",
        " + 단일문자와 문자열을 구분하지 안음\n",
        " + 겹따옴표(\"와\") 또는 홑따옴표('와 ')로 묶어서 사용\n",
        " + 여러 줄 문자열은 겹따옴표 3개(\"\"\"와 \"\"\") 또는 홑따옴표 3개('''와 ''')를 사용"
      ],
      "metadata": {
        "id": "Zjz5xzhK5UJJ"
      }
    },
    {
      "cell_type": "code",
      "source": [
        "name = \"조유경\"\n",
        "address = \"서울시 구로구\"\n",
        "print(name, address)"
      ],
      "metadata": {
        "colab": {
          "base_uri": "https://localhost:8080/"
        },
        "id": "uHp6v5jM5vvO",
        "outputId": "13ced3f4-d36c-4833-8476-1ead2ad5aa64"
      },
      "execution_count": 20,
      "outputs": [
        {
          "output_type": "stream",
          "name": "stdout",
          "text": [
            "조유경 서울시 구로구\n"
          ]
        }
      ]
    },
    {
      "cell_type": "markdown",
      "source": [
        "#### 문자열 string 연산\n",
        "\n",
        "- 문자열과 문자열을 +(덧셈)하면 문자열을 연결\n",
        "- 문자열을 공백으로 연결해도 문자열을 연결\n",
        "- 문자열과 숫자를 *(곱셈) 연산 하면 문자열을 곱셈한 숫자만큼 반복\n",
        "\n"
      ],
      "metadata": {
        "id": "mGQJokBw5Iqq"
      }
    },
    {
      "cell_type": "code",
      "source": [
        "\"Hello\"+\"World\""
      ],
      "metadata": {
        "colab": {
          "base_uri": "https://localhost:8080/",
          "height": 35
        },
        "id": "4FdK2gUc6ifi",
        "outputId": "7ca3b17d-d1ef-4d3f-ceb3-e54af25afb7d"
      },
      "execution_count": 31,
      "outputs": [
        {
          "output_type": "execute_result",
          "data": {
            "text/plain": [
              "'HelloWorld'"
            ],
            "application/vnd.google.colaboratory.intrinsic+json": {
              "type": "string"
            }
          },
          "metadata": {},
          "execution_count": 31
        }
      ]
    },
    {
      "cell_type": "code",
      "source": [
        "\"Hello\" \"World\""
      ],
      "metadata": {
        "colab": {
          "base_uri": "https://localhost:8080/",
          "height": 35
        },
        "id": "0Mal2EjQ6wfa",
        "outputId": "0e46e4bd-c08d-4b5e-fcaf-408c193af069"
      },
      "execution_count": 32,
      "outputs": [
        {
          "output_type": "execute_result",
          "data": {
            "text/plain": [
              "'HelloWorld'"
            ],
            "application/vnd.google.colaboratory.intrinsic+json": {
              "type": "string"
            }
          },
          "metadata": {},
          "execution_count": 32
        }
      ]
    },
    {
      "cell_type": "code",
      "source": [
        "2*\"Hello\""
      ],
      "metadata": {
        "colab": {
          "base_uri": "https://localhost:8080/",
          "height": 35
        },
        "id": "v81q96Ro6wzi",
        "outputId": "2919717e-c0f2-41e4-b95c-552709f51408"
      },
      "execution_count": 30,
      "outputs": [
        {
          "output_type": "execute_result",
          "data": {
            "text/plain": [
              "'HelloHello'"
            ],
            "application/vnd.google.colaboratory.intrinsic+json": {
              "type": "string"
            }
          },
          "metadata": {},
          "execution_count": 30
        }
      ]
    },
    {
      "cell_type": "markdown",
      "source": [
        "#### 문자열 슬라이싱\n",
        "\n",
        "- 문자열[index] 형식으로 문자열에서 지정한 위치(index)의 문자를 뽑아낼 수 있음\n",
        "- 첫 문자의 인덱스가 0, 음수는 맨 뒤의 문자부터 의미(-1 인덱스는 가장 마지막 문자)\n",
        " + s[a:n] : index a번째부터 n-1번쩨까지의 문자열\n",
        " + s[:] : index 0번째(처음)부터 끝까지의 문자열\n",
        " + s[::n] : index 0번째(처음)부터 끝까지의 문자열(n번씩 띄어서)"
      ],
      "metadata": {
        "id": "8HQHSRy57dNT"
      }
    },
    {
      "cell_type": "code",
      "source": [
        "\"Python\"[0]"
      ],
      "metadata": {
        "colab": {
          "base_uri": "https://localhost:8080/",
          "height": 35
        },
        "id": "bise1yQ17sjj",
        "outputId": "c87e01cc-632e-4469-b5b6-fe5a9b51fd87"
      },
      "execution_count": 33,
      "outputs": [
        {
          "output_type": "execute_result",
          "data": {
            "text/plain": [
              "'P'"
            ],
            "application/vnd.google.colaboratory.intrinsic+json": {
              "type": "string"
            }
          },
          "metadata": {},
          "execution_count": 33
        }
      ]
    },
    {
      "cell_type": "code",
      "source": [
        "\"Python\"[3]"
      ],
      "metadata": {
        "colab": {
          "base_uri": "https://localhost:8080/",
          "height": 35
        },
        "id": "7TTHBAkJ7v4C",
        "outputId": "686b61f6-089d-4dd9-86b3-9f6632c8483f"
      },
      "execution_count": 34,
      "outputs": [
        {
          "output_type": "execute_result",
          "data": {
            "text/plain": [
              "'h'"
            ],
            "application/vnd.google.colaboratory.intrinsic+json": {
              "type": "string"
            }
          },
          "metadata": {},
          "execution_count": 34
        }
      ]
    },
    {
      "cell_type": "code",
      "source": [
        "# 마지막 문자 출력\n",
        "S = \"Today fine\"\n",
        "S[9]"
      ],
      "metadata": {
        "colab": {
          "base_uri": "https://localhost:8080/",
          "height": 35
        },
        "id": "4yPhmBg38CKw",
        "outputId": "3f507b49-219f-4fab-ca45-384a730844f9"
      },
      "execution_count": 39,
      "outputs": [
        {
          "output_type": "execute_result",
          "data": {
            "text/plain": [
              "'e'"
            ],
            "application/vnd.google.colaboratory.intrinsic+json": {
              "type": "string"
            }
          },
          "metadata": {},
          "execution_count": 39
        }
      ]
    },
    {
      "cell_type": "code",
      "source": [
        "# 첫번째 문자 출력\n",
        "S[-10]"
      ],
      "metadata": {
        "colab": {
          "base_uri": "https://localhost:8080/",
          "height": 35
        },
        "id": "cUPwHeZu8Vb6",
        "outputId": "f9f083fe-2940-4c28-ca57-717edd5855cd"
      },
      "execution_count": 40,
      "outputs": [
        {
          "output_type": "execute_result",
          "data": {
            "text/plain": [
              "'T'"
            ],
            "application/vnd.google.colaboratory.intrinsic+json": {
              "type": "string"
            }
          },
          "metadata": {},
          "execution_count": 40
        }
      ]
    },
    {
      "cell_type": "code",
      "source": [
        "# 구간 출력\n",
        "S[3:8]"
      ],
      "metadata": {
        "colab": {
          "base_uri": "https://localhost:8080/",
          "height": 35
        },
        "id": "N8f3Dmw18evj",
        "outputId": "b0b95853-d3ad-4cd9-af92-427294cb8509"
      },
      "execution_count": 41,
      "outputs": [
        {
          "output_type": "execute_result",
          "data": {
            "text/plain": [
              "'ay fi'"
            ],
            "application/vnd.google.colaboratory.intrinsic+json": {
              "type": "string"
            }
          },
          "metadata": {},
          "execution_count": 41
        }
      ]
    },
    {
      "cell_type": "code",
      "source": [
        "# 띄어넘어가며 구간 출력\n",
        "S[::2]"
      ],
      "metadata": {
        "colab": {
          "base_uri": "https://localhost:8080/",
          "height": 35
        },
        "id": "2kcKt3sM9Kpz",
        "outputId": "1a5bab60-172c-43c8-99ed-22412672e22e"
      },
      "execution_count": 43,
      "outputs": [
        {
          "output_type": "execute_result",
          "data": {
            "text/plain": [
              "'Tdyfn'"
            ],
            "application/vnd.google.colaboratory.intrinsic+json": {
              "type": "string"
            }
          },
          "metadata": {},
          "execution_count": 43
        }
      ]
    },
    {
      "cell_type": "markdown",
      "source": [
        "### 이스케이프 문자\n",
        " + \\n : 줄바꿈\n",
        " + \\t : 탭\n",
        " + \\r : 리턴(행의 첫 번째 열로 돌아옴)\n",
        " + \\0 : 널(null)\n",
        " + \\\\ : \\문자 표시\n",
        " + \\' : '(홑따옴표) 문자 표시\n",
        " + \\\" : \"(곁따옴표) 문자 표시"
      ],
      "metadata": {
        "id": "OWT8VdbV56t7"
      }
    },
    {
      "cell_type": "code",
      "source": [
        "print(\"Hello\\nWorld\")"
      ],
      "metadata": {
        "colab": {
          "base_uri": "https://localhost:8080/"
        },
        "id": "Ulw2VqP559si",
        "outputId": "a71c7554-5272-49ea-9b26-c352d5e8579f"
      },
      "execution_count": 21,
      "outputs": [
        {
          "output_type": "stream",
          "name": "stdout",
          "text": [
            "Hello\n",
            "World\n"
          ]
        }
      ]
    },
    {
      "cell_type": "code",
      "source": [
        "print(\"Hello\\tWorld\")"
      ],
      "metadata": {
        "colab": {
          "base_uri": "https://localhost:8080/"
        },
        "id": "f8733E-s6FL6",
        "outputId": "0279dd46-9988-4ed8-cf86-a8a1870f60c0"
      },
      "execution_count": 22,
      "outputs": [
        {
          "output_type": "stream",
          "name": "stdout",
          "text": [
            "Hello\tWorld\n"
          ]
        }
      ]
    },
    {
      "cell_type": "code",
      "source": [
        "print(\"Hello\\rWorld\")"
      ],
      "metadata": {
        "colab": {
          "base_uri": "https://localhost:8080/"
        },
        "id": "bZ-xcs8b6GtK",
        "outputId": "ad10b7cd-2425-499a-95b3-7ed479c3c469"
      },
      "execution_count": 23,
      "outputs": [
        {
          "output_type": "stream",
          "name": "stdout",
          "text": [
            "Hello\rWorld\n"
          ]
        }
      ]
    },
    {
      "cell_type": "code",
      "source": [
        "print(\"Hello\\0World\")"
      ],
      "metadata": {
        "colab": {
          "base_uri": "https://localhost:8080/"
        },
        "id": "d5RWoz9F5Mh5",
        "outputId": "18a99ab3-568d-4522-d00d-7aa8f2e862ed"
      },
      "execution_count": 29,
      "outputs": [
        {
          "output_type": "stream",
          "name": "stdout",
          "text": [
            "Hello\u0000World\n"
          ]
        }
      ]
    },
    {
      "cell_type": "code",
      "source": [
        "print(\"Hello\\\\World\")"
      ],
      "metadata": {
        "colab": {
          "base_uri": "https://localhost:8080/"
        },
        "id": "Ake8zTE36JrC",
        "outputId": "ac4db867-281e-41fd-fc41-a35643c0b73c"
      },
      "execution_count": 25,
      "outputs": [
        {
          "output_type": "stream",
          "name": "stdout",
          "text": [
            "Hello\\World\n"
          ]
        }
      ]
    },
    {
      "cell_type": "code",
      "source": [
        "print(\"Hello\\'World\")"
      ],
      "metadata": {
        "colab": {
          "base_uri": "https://localhost:8080/"
        },
        "id": "zmKPf_Tz6L06",
        "outputId": "d14766b9-cdf0-4fb9-9d5b-9e536c9842b2"
      },
      "execution_count": 26,
      "outputs": [
        {
          "output_type": "stream",
          "name": "stdout",
          "text": [
            "Hello'World\n"
          ]
        }
      ]
    },
    {
      "cell_type": "code",
      "source": [
        "print(\"Hello\\\"World\")"
      ],
      "metadata": {
        "colab": {
          "base_uri": "https://localhost:8080/"
        },
        "id": "iHyK55tV6OKL",
        "outputId": "2f3398ab-1af1-41e5-cfb1-b6cff69a9c78"
      },
      "execution_count": 27,
      "outputs": [
        {
          "output_type": "stream",
          "name": "stdout",
          "text": [
            "Hello\"World\n"
          ]
        }
      ]
    },
    {
      "cell_type": "markdown",
      "source": [
        "### 논리형(Bool)\n",
        "- True 또는 False 값을 가짐(true 또는 TRUE를 논리 값으로 사용 못함)\n",
        "- True로 판별되는 경우는 False로 판별되는 경우를 제외하고 모든 경우"
      ],
      "metadata": {
        "id": "QV24C9TcE_LD"
      }
    },
    {
      "cell_type": "code",
      "source": [
        "if 0:\n",
        "  print(True)\n",
        "else:\n",
        "  print(False)"
      ],
      "metadata": {
        "colab": {
          "base_uri": "https://localhost:8080/"
        },
        "id": "-RTcDj_8Gd08",
        "outputId": "40f5dae6-5bb5-4f31-e1f4-32c186bcaed1"
      },
      "execution_count": 56,
      "outputs": [
        {
          "output_type": "stream",
          "name": "stdout",
          "text": [
            "False\n"
          ]
        }
      ]
    },
    {
      "cell_type": "code",
      "source": [
        "if 0+0:\n",
        "  print(True)\n",
        "else:\n",
        "  print(False)"
      ],
      "metadata": {
        "colab": {
          "base_uri": "https://localhost:8080/"
        },
        "id": "9wGIw4nEGkFc",
        "outputId": "af4cb142-558a-4c2b-b9b7-6db902d8ca0a"
      },
      "execution_count": 57,
      "outputs": [
        {
          "output_type": "stream",
          "name": "stdout",
          "text": [
            "False\n"
          ]
        }
      ]
    },
    {
      "cell_type": "code",
      "source": [
        "if 0.0:\n",
        "  print(True)\n",
        "else:\n",
        "  print(False)"
      ],
      "metadata": {
        "colab": {
          "base_uri": "https://localhost:8080/"
        },
        "id": "UpTxNha3GmPE",
        "outputId": "923a24d3-2e2e-4d32-a2f6-e7781d8c1697"
      },
      "execution_count": 59,
      "outputs": [
        {
          "output_type": "stream",
          "name": "stdout",
          "text": [
            "False\n"
          ]
        }
      ]
    },
    {
      "cell_type": "code",
      "source": [
        "if '':\n",
        "  print(True)\n",
        "else:\n",
        "  print(False)"
      ],
      "metadata": {
        "colab": {
          "base_uri": "https://localhost:8080/"
        },
        "id": "g9pTd58-GmdU",
        "outputId": "aece64d4-8545-4fae-8017-2d770e18cd82"
      },
      "execution_count": 58,
      "outputs": [
        {
          "output_type": "stream",
          "name": "stdout",
          "text": [
            "False\n"
          ]
        }
      ]
    },
    {
      "cell_type": "markdown",
      "source": [
        "### 자료형 타입 확인\n",
        "- 자료형의 type을 확인하기 위해 사용\n",
        "\n",
        "```\n",
        "type()\n",
        "```"
      ],
      "metadata": {
        "id": "vfXgyxZjGr0r"
      }
    },
    {
      "cell_type": "code",
      "source": [
        "type(120)"
      ],
      "metadata": {
        "colab": {
          "base_uri": "https://localhost:8080/"
        },
        "id": "vz6h-1oRG1ar",
        "outputId": "ec2db046-1548-4ddd-ddb1-c2dc71b37eeb"
      },
      "execution_count": 60,
      "outputs": [
        {
          "output_type": "execute_result",
          "data": {
            "text/plain": [
              "int"
            ]
          },
          "metadata": {},
          "execution_count": 60
        }
      ]
    },
    {
      "cell_type": "code",
      "source": [
        "type(3.14)"
      ],
      "metadata": {
        "colab": {
          "base_uri": "https://localhost:8080/"
        },
        "id": "iNDJEtJ-G9HQ",
        "outputId": "1d3aba00-160a-416f-9cf2-18f6303fb87e"
      },
      "execution_count": 63,
      "outputs": [
        {
          "output_type": "execute_result",
          "data": {
            "text/plain": [
              "float"
            ]
          },
          "metadata": {},
          "execution_count": 63
        }
      ]
    },
    {
      "cell_type": "code",
      "source": [
        "type('hello')"
      ],
      "metadata": {
        "colab": {
          "base_uri": "https://localhost:8080/"
        },
        "id": "o3auQk-JG3wL",
        "outputId": "55dcb186-8e53-4ff3-c6e9-fbfbae502a2b"
      },
      "execution_count": 61,
      "outputs": [
        {
          "output_type": "execute_result",
          "data": {
            "text/plain": [
              "str"
            ]
          },
          "metadata": {},
          "execution_count": 61
        }
      ]
    },
    {
      "cell_type": "code",
      "source": [
        "type(True)"
      ],
      "metadata": {
        "colab": {
          "base_uri": "https://localhost:8080/"
        },
        "id": "UopQ7EvOG5m4",
        "outputId": "2c521c61-ec87-4e4d-ba1f-930cdd0d3694"
      },
      "execution_count": 62,
      "outputs": [
        {
          "output_type": "execute_result",
          "data": {
            "text/plain": [
              "bool"
            ]
          },
          "metadata": {},
          "execution_count": 62
        }
      ]
    },
    {
      "cell_type": "markdown",
      "source": [
        "## List 리스트\n",
        "- []를 이용해서 만들며 여러 개 값을 하나의 변수에 저장/관리할 수 있음\n",
        "\n",
        "### 인덱스\n",
        "- 각 요소의 위치, 인덱스는 0부터 시작(첫 항목의 인덱스는 0)\n",
        "\n",
        "### 슬라이싱\n",
        "- 부분 데이터셋을 뽑아내는 것. 인덱스를 이용해서 쓰기와 읽기를 지원"
      ],
      "metadata": {
        "id": "-Vz4LYpo-Svr"
      }
    },
    {
      "cell_type": "code",
      "source": [
        "fruits = [\"banana\", \"apple\", \"orange\", \"grape\"]\n",
        "print(fruits)"
      ],
      "metadata": {
        "colab": {
          "base_uri": "https://localhost:8080/"
        },
        "id": "n8-hPFZAHa6r",
        "outputId": "de31d1de-68fa-4292-be80-d228bea0ac6b"
      },
      "execution_count": 64,
      "outputs": [
        {
          "output_type": "stream",
          "name": "stdout",
          "text": [
            "['banana', 'apple', 'orange', 'grape']\n"
          ]
        }
      ]
    },
    {
      "cell_type": "code",
      "source": [
        "numbers = [1,2,3,4,5]\n",
        "print(numbers)"
      ],
      "metadata": {
        "colab": {
          "base_uri": "https://localhost:8080/"
        },
        "id": "n-YlSAEFGlrc",
        "outputId": "700e3168-eb22-4c85-acc3-49a87aa9227c"
      },
      "execution_count": 65,
      "outputs": [
        {
          "output_type": "stream",
          "name": "stdout",
          "text": [
            "[1, 2, 3, 4, 5]\n"
          ]
        }
      ]
    },
    {
      "cell_type": "code",
      "source": [
        "my_list = []\n",
        "\n",
        "if not bool(my_list):\n",
        "  print(\"The list is empty\")\n",
        "else:\n",
        "  print(\"The list is not empty\")"
      ],
      "metadata": {
        "colab": {
          "base_uri": "https://localhost:8080/"
        },
        "id": "Y5VVu7YxJgO0",
        "outputId": "7544b391-a680-4729-a66b-5838fda813e7"
      },
      "execution_count": 77,
      "outputs": [
        {
          "output_type": "stream",
          "name": "stdout",
          "text": [
            "The list is empty\n"
          ]
        }
      ]
    },
    {
      "cell_type": "markdown",
      "source": [
        "### range()\n",
        "- 연속한 값을 갖는 리스트를 생성하는 메서드\n",
        "\n",
        "```\n",
        "range([from,]to[,by]\n",
        "```"
      ],
      "metadata": {
        "id": "b_z9Do64Hq-D"
      }
    },
    {
      "cell_type": "code",
      "source": [
        "list(range(-10, 10, 2))"
      ],
      "metadata": {
        "colab": {
          "base_uri": "https://localhost:8080/"
        },
        "id": "yHJddUs_H6BE",
        "outputId": "21c2f536-0f65-4f65-f40c-37f6df4b795f"
      },
      "execution_count": 66,
      "outputs": [
        {
          "output_type": "execute_result",
          "data": {
            "text/plain": [
              "[-10, -8, -6, -4, -2, 0, 2, 4, 6, 8]"
            ]
          },
          "metadata": {},
          "execution_count": 66
        }
      ]
    },
    {
      "cell_type": "markdown",
      "source": [
        "### 다차원 리스트\n",
        "- []안에 []를 넣으면 차원이 증가\n",
        "\n",
        "```\n",
        "변수명 = [...]: 1차원 리스트\n",
        "변수명 = [[...], ...]: 2차원 리스트\n",
        "변수명 = [[[...], ...], ...]: 3차원 리스트\n",
        "...\n",
        "```"
      ],
      "metadata": {
        "id": "S5BjcMrZIAiM"
      }
    },
    {
      "cell_type": "code",
      "source": [
        "numbers_2d_v = [[1,2,3], [10,20,30], [1,3,5,7,9], [2,4,6,8]]\n",
        "print(numbers_2d_v)"
      ],
      "metadata": {
        "colab": {
          "base_uri": "https://localhost:8080/"
        },
        "id": "9rJZycdtIUoT",
        "outputId": "e5487072-40d4-4b41-f848-42af52e11cdc"
      },
      "execution_count": 67,
      "outputs": [
        {
          "output_type": "stream",
          "name": "stdout",
          "text": [
            "[[1, 2, 3], [10, 20, 30], [1, 3, 5, 7, 9], [2, 4, 6, 8]]\n"
          ]
        }
      ]
    },
    {
      "cell_type": "markdown",
      "source": [
        "### List 연산\n",
        "\n",
        "- '+' : 두 리스트를 연결함\n",
        "- '*' : 리스트를 곱한 수 만큼 반복"
      ],
      "metadata": {
        "id": "NlPryCUHI88n"
      }
    },
    {
      "cell_type": "code",
      "source": [
        "numbers=[1,2,3,4,5]\n",
        "new_numbers = numbers+numbers\n",
        "new_numbers"
      ],
      "metadata": {
        "colab": {
          "base_uri": "https://localhost:8080/"
        },
        "id": "YlaXMGGOJIOv",
        "outputId": "dad62e0e-b76f-4479-d1d2-0f4ad831f3f1"
      },
      "execution_count": 73,
      "outputs": [
        {
          "output_type": "execute_result",
          "data": {
            "text/plain": [
              "[1, 2, 3, 4, 5, 1, 2, 3, 4, 5]"
            ]
          },
          "metadata": {},
          "execution_count": 73
        }
      ]
    },
    {
      "cell_type": "code",
      "source": [
        "new_numbers_01 = 3*numbers\n",
        "new_numbers_01"
      ],
      "metadata": {
        "colab": {
          "base_uri": "https://localhost:8080/"
        },
        "id": "cqsZU-sPJT4x",
        "outputId": "b78451ce-3d01-443b-bd0b-3f0a654fda67"
      },
      "execution_count": 74,
      "outputs": [
        {
          "output_type": "execute_result",
          "data": {
            "text/plain": [
              "[1, 2, 3, 4, 5, 1, 2, 3, 4, 5, 1, 2, 3, 4, 5]"
            ]
          },
          "metadata": {},
          "execution_count": 74
        }
      ]
    },
    {
      "cell_type": "markdown",
      "source": [
        "### List 관련 Method\n",
        "\n",
        "- len() : 길이(항목의 수)\n",
        "- min(), max() : 최솟값, 최댓값\n",
        "- append() : 단일 항목을 맨 뒤에 추가함, 리스트를 append 하면 리스트가 추가됨\n",
        "- extend() : 리스트를 항목별로 맨 뒤에 추가\n",
        "- insert() : 지정한 인덱스 위치에 삽입"
      ],
      "metadata": {
        "id": "G-VQSB1uIk6r"
      }
    },
    {
      "cell_type": "code",
      "source": [
        "numbers_2d_v[0]"
      ],
      "metadata": {
        "colab": {
          "base_uri": "https://localhost:8080/"
        },
        "id": "9zIN-xbCI3bt",
        "outputId": "9eef8f1b-139b-4a92-fa74-453c84cb970a"
      },
      "execution_count": 69,
      "outputs": [
        {
          "output_type": "execute_result",
          "data": {
            "text/plain": [
              "[1, 2, 3]"
            ]
          },
          "metadata": {},
          "execution_count": 69
        }
      ]
    },
    {
      "cell_type": "code",
      "source": [
        "len(numbers_2d_v)"
      ],
      "metadata": {
        "colab": {
          "base_uri": "https://localhost:8080/"
        },
        "id": "tIxrwW6DIwis",
        "outputId": "e5870106-b714-4a72-8cad-e48b66fee217"
      },
      "execution_count": 68,
      "outputs": [
        {
          "output_type": "execute_result",
          "data": {
            "text/plain": [
              "4"
            ]
          },
          "metadata": {},
          "execution_count": 68
        }
      ]
    },
    {
      "cell_type": "code",
      "source": [
        "min(numbers_2d_v)"
      ],
      "metadata": {
        "colab": {
          "base_uri": "https://localhost:8080/"
        },
        "id": "JJzhcp_TI4yz",
        "outputId": "287e7e9b-fe4a-46f5-cc33-17dcd634bed7"
      },
      "execution_count": 70,
      "outputs": [
        {
          "output_type": "execute_result",
          "data": {
            "text/plain": [
              "[1, 2, 3]"
            ]
          },
          "metadata": {},
          "execution_count": 70
        }
      ]
    },
    {
      "cell_type": "code",
      "source": [
        "max(numbers_2d_v)"
      ],
      "metadata": {
        "colab": {
          "base_uri": "https://localhost:8080/"
        },
        "id": "kwZCdbyGI6Jz",
        "outputId": "b4b81292-2897-4587-e3c1-7caa4a149e2d"
      },
      "execution_count": 71,
      "outputs": [
        {
          "output_type": "execute_result",
          "data": {
            "text/plain": [
              "[10, 20, 30]"
            ]
          },
          "metadata": {},
          "execution_count": 71
        }
      ]
    },
    {
      "cell_type": "code",
      "source": [
        "numbers.append(10)\n",
        "numbers"
      ],
      "metadata": {
        "colab": {
          "base_uri": "https://localhost:8080/"
        },
        "id": "ZFWRHtp-KdN0",
        "outputId": "e84c4a61-cb26-4c8d-8978-fdd3c7fe68d6"
      },
      "execution_count": 78,
      "outputs": [
        {
          "output_type": "execute_result",
          "data": {
            "text/plain": [
              "[1, 2, 3, 4, 5, 10]"
            ]
          },
          "metadata": {},
          "execution_count": 78
        }
      ]
    },
    {
      "cell_type": "code",
      "source": [
        "numbers.append([20,30,40,50])\n",
        "numbers"
      ],
      "metadata": {
        "colab": {
          "base_uri": "https://localhost:8080/"
        },
        "id": "90mAttLIKiLk",
        "outputId": "02ab15f8-8fa6-492d-fca1-899d17a0a993"
      },
      "execution_count": 80,
      "outputs": [
        {
          "output_type": "execute_result",
          "data": {
            "text/plain": [
              "[1, 2, 3, 4, 5, 10, [20, 30, 40, 50], [20, 30, 40, 50]]"
            ]
          },
          "metadata": {},
          "execution_count": 80
        }
      ]
    },
    {
      "cell_type": "code",
      "source": [
        "numbers = [1,2,3,4,5]\n",
        "numbers.extend([10,20,30,40,50])\n",
        "numbers"
      ],
      "metadata": {
        "colab": {
          "base_uri": "https://localhost:8080/"
        },
        "id": "FCBFF3CmKnsc",
        "outputId": "063621d3-ffe8-40a0-a032-0650f9206b0a"
      },
      "execution_count": 81,
      "outputs": [
        {
          "output_type": "execute_result",
          "data": {
            "text/plain": [
              "[1, 2, 3, 4, 5, 10, 20, 30, 40, 50]"
            ]
          },
          "metadata": {},
          "execution_count": 81
        }
      ]
    },
    {
      "cell_type": "code",
      "source": [
        "numbers.insert(5,100)\n",
        "numbers"
      ],
      "metadata": {
        "colab": {
          "base_uri": "https://localhost:8080/"
        },
        "id": "IaNG-wLjK1FD",
        "outputId": "cf6a00e4-3d26-4883-8fae-5a65042cca4d"
      },
      "execution_count": 82,
      "outputs": [
        {
          "output_type": "execute_result",
          "data": {
            "text/plain": [
              "[1, 2, 3, 4, 5, 100, 10, 20, 30, 40, 50]"
            ]
          },
          "metadata": {},
          "execution_count": 82
        }
      ]
    },
    {
      "cell_type": "code",
      "source": [
        "# 다차원리스트 행렬\n",
        "matrix = [\n",
        "    [1,2,3]\n",
        "    , [4,5,6]\n",
        "    , [7,8,9]\n",
        "]\n",
        "print(matrix[0][1])"
      ],
      "metadata": {
        "colab": {
          "base_uri": "https://localhost:8080/"
        },
        "id": "x8_oPS6XLQQz",
        "outputId": "877b9440-98f9-4632-fc55-fb4070bab76e"
      },
      "execution_count": 84,
      "outputs": [
        {
          "output_type": "stream",
          "name": "stdout",
          "text": [
            "2\n"
          ]
        }
      ]
    },
    {
      "cell_type": "code",
      "source": [
        "numbers=[1,2,3,4,5,6,7,8,9,10]\n",
        "numbers[2:4]"
      ],
      "metadata": {
        "colab": {
          "base_uri": "https://localhost:8080/"
        },
        "id": "zfUgDcspLbuz",
        "outputId": "73e2866c-cf1a-4df7-f35c-94df79d35b29"
      },
      "execution_count": 85,
      "outputs": [
        {
          "output_type": "execute_result",
          "data": {
            "text/plain": [
              "[3, 4]"
            ]
          },
          "metadata": {},
          "execution_count": 85
        }
      ]
    },
    {
      "cell_type": "markdown",
      "source": [
        "## Tuple 튜플\n",
        "- 튜플(tuple)은 소괄호('('와 ')')를 이용해 생성\n",
        "- 튜플은 읽기 전용, 속도가 빨라 수정이 필요 없는 배열 형태의 데이터 타입에 사용\n",
        "- 데이터를 수정할 수 없기 때문에 제공되는 함수가 많지 않음"
      ],
      "metadata": {
        "id": "R7tLI_w2Lovc"
      }
    },
    {
      "cell_type": "code",
      "source": [
        "numbers1 = (1,2,3,4,5)\n",
        "type(numbers1)"
      ],
      "metadata": {
        "colab": {
          "base_uri": "https://localhost:8080/"
        },
        "id": "I69mA6aiL-3r",
        "outputId": "d167a2a6-d0cc-434d-fbb9-bcd5b69fad91"
      },
      "execution_count": 87,
      "outputs": [
        {
          "output_type": "execute_result",
          "data": {
            "text/plain": [
              "tuple"
            ]
          },
          "metadata": {},
          "execution_count": 87
        }
      ]
    },
    {
      "cell_type": "code",
      "source": [
        "numbers_2d = ((1,2,3), (4,5,6))\n",
        "numbers_2d"
      ],
      "metadata": {
        "colab": {
          "base_uri": "https://localhost:8080/"
        },
        "id": "7Dfa_1ljMEgr",
        "outputId": "25f04ace-f9a1-4b2c-e697-2aa65ed1369f"
      },
      "execution_count": 88,
      "outputs": [
        {
          "output_type": "execute_result",
          "data": {
            "text/plain": [
              "((1, 2, 3), (4, 5, 6))"
            ]
          },
          "metadata": {},
          "execution_count": 88
        }
      ]
    },
    {
      "cell_type": "markdown",
      "source": [
        "## Dictionary 딕셔너리 {key:value}\n",
        "- 중괄호('{'와 '}')를 이용해서 딕셔너리 생성, 키(key)와 값(value)의 쌍으로 구성된 자료\n",
        "- 키는 유일(unique)해야 함\n",
        "- 키에 리스트를 사용할 수 없음, 튜플 타입은 사용할 수 있음\n",
        "- 값은 중복이 가능하며 모든 타입이 가능\n",
        "- 키 목록에 없는 데이터를 사용하여 참조하면 에러가 발생, 인덱스를 이용한 참조는 지원안함"
      ],
      "metadata": {
        "id": "yCLAbfcoNH6k"
      }
    },
    {
      "cell_type": "code",
      "source": [
        "# 딕셔너리 생성\n",
        "example_dict = {'name':'Alice', 'age': 25, 'city':'Seoul'}\n",
        "example_dict"
      ],
      "metadata": {
        "colab": {
          "base_uri": "https://localhost:8080/"
        },
        "id": "hkAPPQjwN-M6",
        "outputId": "a24bee60-aaaa-4e60-f234-fca40da8d873"
      },
      "execution_count": 89,
      "outputs": [
        {
          "output_type": "execute_result",
          "data": {
            "text/plain": [
              "{'name': 'Alice', 'age': 25, 'city': 'Seoul'}"
            ]
          },
          "metadata": {},
          "execution_count": 89
        }
      ]
    },
    {
      "cell_type": "markdown",
      "source": [
        "### Dictionary 관련 Method\n",
        "- items() 메소드\n",
        " + 딕셔너리의 모든 키-값 쌍을 튜플 형태로 반환\n",
        "- keys() 메소드\n",
        " + 딕셔너리의 모든 키를 반환\n",
        "- values() 메소드\n",
        " + 딕셔너리의 모든 값을 반환"
      ],
      "metadata": {
        "id": "iABgorn8Npf8"
      }
    },
    {
      "cell_type": "code",
      "source": [
        "print(\"Items:\")\n",
        "for key, value in example_dict.items():\n",
        "  print(f\"Key:{key}, Value:{value}\")"
      ],
      "metadata": {
        "colab": {
          "base_uri": "https://localhost:8080/"
        },
        "id": "d51163HqOJZn",
        "outputId": "1dce849e-1296-4eee-b0d8-7d82506e3dce"
      },
      "execution_count": 90,
      "outputs": [
        {
          "output_type": "stream",
          "name": "stdout",
          "text": [
            "Items:\n",
            "Key:name, Value:Alice\n",
            "Key:age, Value:25\n",
            "Key:city, Value:Seoul\n"
          ]
        }
      ]
    },
    {
      "cell_type": "code",
      "source": [
        "print(\"Keys:\")\n",
        "for key in example_dict.keys():\n",
        "  print(f\"Key:{key}\")"
      ],
      "metadata": {
        "colab": {
          "base_uri": "https://localhost:8080/"
        },
        "id": "1sn0Csc2OcbM",
        "outputId": "1cb9808d-2b6b-45a7-fa24-985bde315ab3"
      },
      "execution_count": 95,
      "outputs": [
        {
          "output_type": "stream",
          "name": "stdout",
          "text": [
            "Keys:\n",
            "Key:name\n",
            "Key:age\n",
            "Key:city\n"
          ]
        }
      ]
    },
    {
      "cell_type": "code",
      "source": [
        "print(\"Values:\")\n",
        "for value in example_dict.values():\n",
        "  print(f\"Value:{value}\")"
      ],
      "metadata": {
        "colab": {
          "base_uri": "https://localhost:8080/"
        },
        "id": "lEptpnuYOpzE",
        "outputId": "1653d32a-66d9-4df1-b820-1d4edd9da46d"
      },
      "execution_count": 94,
      "outputs": [
        {
          "output_type": "stream",
          "name": "stdout",
          "text": [
            "Values:\n",
            "Value:Alice\n",
            "Value:25\n",
            "Value:Seoul\n"
          ]
        }
      ]
    },
    {
      "cell_type": "markdown",
      "source": [
        "<hr>"
      ],
      "metadata": {
        "id": "SnGmwqG9vp9H"
      }
    },
    {
      "cell_type": "markdown",
      "source": [
        "# 1. 변수(예제)"
      ],
      "metadata": {
        "id": "oBMEaR8UNCtU"
      }
    },
    {
      "cell_type": "markdown",
      "source": [
        "## 문제1) 사용자의 이름을 변수에 저장하고, 저장된 이름을 출력하세요."
      ],
      "metadata": {
        "id": "z1FZE9NNPQKb"
      }
    },
    {
      "cell_type": "code",
      "source": [
        "name = input('이름을 입력하세요')\n",
        "print(\"사용자 이름 : \", name)"
      ],
      "metadata": {
        "colab": {
          "base_uri": "https://localhost:8080/"
        },
        "id": "7X7qMOqHvre4",
        "outputId": "c779dd4f-1f5c-4b2c-e16b-d8cec367971f"
      },
      "execution_count": 98,
      "outputs": [
        {
          "output_type": "stream",
          "name": "stdout",
          "text": [
            "이름을 입력하세요조유경\n",
            "사용자 이름 :  조유경\n"
          ]
        }
      ]
    },
    {
      "cell_type": "markdown",
      "source": [
        "## 문제2) 세 개의 변수를 사용하여 사용자의 이름, 나이, 성별을 저장하고 출력하세요."
      ],
      "metadata": {
        "id": "WE1GwWQ2PTWU"
      }
    },
    {
      "cell_type": "code",
      "source": [
        "name = input('이름을 입력하세요')\n",
        "age = input('나이를 입력하세요')\n",
        "gender = input('성별을 입력하세요')\n",
        "print(f\"\"\"\n",
        "사용자 이름: {name}\n",
        "나이 : {age}\n",
        "성별 : {gender}ㅇ\n",
        "\"\"\")"
      ],
      "metadata": {
        "colab": {
          "base_uri": "https://localhost:8080/"
        },
        "id": "zu3zEmlnPyKP",
        "outputId": "33b96a04-5676-4376-b2bc-e96ca9c54d84"
      },
      "execution_count": 104,
      "outputs": [
        {
          "output_type": "stream",
          "name": "stdout",
          "text": [
            "이름을 입력하세요조유경\n",
            "나이를 입력하세요28\n",
            "성별을 입력하세요ㅕ\n",
            "\n",
            "사용자 이름: 조유경\n",
            "나이 : 28\n",
            "성별 : ㅕ\n",
            "\n"
          ]
        }
      ]
    },
    {
      "cell_type": "markdown",
      "source": [
        "## 문제3) 두 변수의 값을 교환하고, 교환된 변수의 값을 출력하세요."
      ],
      "metadata": {
        "id": "3VWhiIZwPUgU"
      }
    },
    {
      "cell_type": "code",
      "source": [
        "a = input(\"첫번째 입력\")\n",
        "b = input(\"두번째 입력\")\n",
        "# 동시 할당 방식\n",
        "a, b = b, a\n",
        "print(\"첫1번째 값 출력 : \", b)\n",
        "print(\"두번째 값 출력 : \", a)\n",
        "# 순차적 할당 방식으로 값을 교환하려고 하면 변수를 하나 더 지정해서 해야함. 1"
      ],
      "metadata": {
        "colab": {
          "base_uri": "https://localhost:8080/"
        },
        "id": "iG6J6jdRQY0E",
        "outputId": "2538286c-ac9a-461b-809e-b439c82913ce"
      },
      "execution_count": 106,
      "outputs": [
        {
          "output_type": "stream",
          "name": "stdout",
          "text": [
            "첫번째 입력10\n",
            "두번째 입력00\n",
            "첫1번째 값 출력 :  10\n",
            "두번째 값 출력 :  00\n"
          ]
        }
      ]
    },
    {
      "cell_type": "markdown",
      "source": [
        "## 문제4) 사용자로부터 입력받은 두 개의 숫자를 더한 결과를 변수에 저장하고 출력하세요."
      ],
      "metadata": {
        "id": "tuPmctXYPY50"
      }
    },
    {
      "cell_type": "code",
      "source": [
        "while True:\n",
        "    try:\n",
        "        num1 = int(input(\"첫번째 숫자 입력: \"))\n",
        "        break  # 숫자가 제대로 입력되면 반복문을 종료합니다\n",
        "    except ValueError:\n",
        "        print(\"숫자만 입력하세요.\")\n",
        "\n",
        "while True:\n",
        "    try:\n",
        "        num2 = int(input(\"두번째 숫자 입력: \"))\n",
        "        break  # 숫자가 제대로 입력되면 반복문을 종료합니다\n",
        "    except ValueError:\n",
        "        print(\"숫자만 입력하세요.\")\n",
        "\n",
        "add = num1 + num2\n",
        "print(f\"두 숫자의 합: {add}\")"
      ],
      "metadata": {
        "colab": {
          "base_uri": "https://localhost:8080/"
        },
        "id": "fGzV8V2GREbt",
        "outputId": "31180575-3e09-409c-f18f-023c36122a8b"
      },
      "execution_count": 111,
      "outputs": [
        {
          "output_type": "stream",
          "name": "stdout",
          "text": [
            "첫번째 숫자 입력: ㅇ\n",
            "숫자만 입력하세요.\n",
            "첫번째 숫자 입력: ㅇ\n",
            "숫자만 입력하세요.\n",
            "첫번째 숫자 입력: 10\n",
            "두번째 숫자 입력: ㅇ\n",
            "숫자만 입력하세요.\n",
            "두번째 숫자 입력: ㅇ\n",
            "숫자만 입력하세요.\n",
            "두번째 숫자 입력: 20\n",
            "두 숫자의 합: 30\n"
          ]
        }
      ]
    },
    {
      "cell_type": "markdown",
      "source": [
        "## 문제5) 다음 불리언 값 (True 또는 False)을 변수에 저장하고 출력하세요."
      ],
      "metadata": {
        "id": "8qeDwAS_PaJT"
      }
    },
    {
      "cell_type": "code",
      "source": [
        "import random\n",
        "\n",
        "bool_variable = random.choice([True, False])\n",
        "\n",
        "print(f\"불리언 값은 {bool_variable}입니다.\")"
      ],
      "metadata": {
        "colab": {
          "base_uri": "https://localhost:8080/"
        },
        "id": "b3NnTMqLbmYG",
        "outputId": "e8268902-dfd3-4cb3-91f2-dc1ffac8fd1f"
      },
      "execution_count": 117,
      "outputs": [
        {
          "output_type": "stream",
          "name": "stdout",
          "text": [
            "불리언 값은 True입니다.\n"
          ]
        }
      ]
    },
    {
      "cell_type": "markdown",
      "source": [
        "## 문제6) 두 숫자를 곱한 결과를 변수에 저장하고 출력하세요. (숫자는 자유롭게 선택)"
      ],
      "metadata": {
        "id": "M3WBIREWPbBA"
      }
    },
    {
      "cell_type": "code",
      "source": [
        "import random\n",
        "\n",
        "num1 = random.randint(1, 10)  # 1부터 10 사이의 정수 중 랜덤으로 선택\n",
        "num2 = random.randint(1, 10)  # 1부터 10 사이의 정수 중 랜덤으로 선택\n",
        "\n",
        "multiple = num1 * num2\n",
        "print(f\"랜덤 숫자 1 : {num1}, 랜덤 숫자 1 : {num2}, 랜덤의 두 숫자의 곱: {multiple}\")"
      ],
      "metadata": {
        "colab": {
          "base_uri": "https://localhost:8080/"
        },
        "id": "T_aWtTqIcS8N",
        "outputId": "9ab6bd86-b54a-48d7-86cd-47e296bda333"
      },
      "execution_count": 120,
      "outputs": [
        {
          "output_type": "stream",
          "name": "stdout",
          "text": [
            "랜덤 숫자 1 : 7, 랜덤 숫자 1 : 4, 랜덤의 두 숫자의 곱: 28\n"
          ]
        }
      ]
    },
    {
      "cell_type": "markdown",
      "source": [
        "## 문제7) 다음 리스트를 변수에 저장하고, 해당 변수의 내용을 출력하세요"
      ],
      "metadata": {
        "id": "a-la0-4qPb3U"
      }
    },
    {
      "cell_type": "code",
      "source": [
        "import random\n",
        "\n",
        "# 사용자가 지정한 범위에서 랜덤한 정수 5개로 구성된 리스트 생성\n",
        "start = 0\n",
        "end = 20\n",
        "custom_range_list = [random.randint(start, end) for _ in range(5)]\n",
        "print(f\"리스트 출력 : {custom_range_list}\")"
      ],
      "metadata": {
        "colab": {
          "base_uri": "https://localhost:8080/"
        },
        "id": "BauaMhLmdZlN",
        "outputId": "a4931aa7-423c-4b2a-fad2-dd0e60e5d189"
      },
      "execution_count": 124,
      "outputs": [
        {
          "output_type": "stream",
          "name": "stdout",
          "text": [
            "리스트 출력 : [17, 0, 20, 6, 13]\n"
          ]
        }
      ]
    },
    {
      "cell_type": "markdown",
      "source": [
        "## 문제8) 사용자로부터 입력받은 문자열을 변수에 저장하고 출력하세요"
      ],
      "metadata": {
        "id": "hAldZFf3dZt1"
      }
    },
    {
      "cell_type": "code",
      "source": [
        "# 단순 변수 저장\n",
        "str = input(\"값을 입력하세요\")\n",
        "print(f\"입력값 출력 : {str}\")"
      ],
      "metadata": {
        "id": "y-CH02cKgDEj"
      },
      "execution_count": null,
      "outputs": []
    },
    {
      "cell_type": "code",
      "source": [
        "# 입력값 list 저장 후 출력\n",
        "list_str = []\n",
        "while True:\n",
        "  str = input(\"값을 입력하세요(입력을 중단하고 싶을 경우 x를 입력해주세요)\")\n",
        "  if str != \"x\":\n",
        "    list_str.append(str)\n",
        "  else:\n",
        "    break\n",
        "print(f\"입력값 출력 : {list_str}\")"
      ],
      "metadata": {
        "colab": {
          "base_uri": "https://localhost:8080/"
        },
        "id": "-LnsS7Zbdbk1",
        "outputId": "c01480ed-5c97-4f0f-cda4-4b44d9924357"
      },
      "execution_count": 130,
      "outputs": [
        {
          "output_type": "stream",
          "name": "stdout",
          "text": [
            "값을 입력하세요(입력을 중단하고 싶을 경우 x를 입력해주세요)x\n",
            "입력값 출력 : []\n"
          ]
        }
      ]
    },
    {
      "cell_type": "markdown",
      "source": [
        "## 문제9) 두 변수에 각각 \"Hello\"와 \"world\"를 저장하고, 두 변수를 합쳐서 출력하세요"
      ],
      "metadata": {
        "id": "diCFVrt9db5m"
      }
    },
    {
      "cell_type": "code",
      "source": [
        "first_str = \"Hello\"\n",
        "second_str = \"world\"\n",
        "\n",
        "result = first_str+\" \"+second_str\n",
        "print(f\"결과는 : {result}\")"
      ],
      "metadata": {
        "colab": {
          "base_uri": "https://localhost:8080/"
        },
        "id": "yCSn9Ug1gR3l",
        "outputId": "5999212b-230f-43c5-c570-881d67acecb1"
      },
      "execution_count": 132,
      "outputs": [
        {
          "output_type": "stream",
          "name": "stdout",
          "text": [
            "결과는 : Hello world\n"
          ]
        }
      ]
    },
    {
      "cell_type": "markdown",
      "source": [
        "<hr>"
      ],
      "metadata": {
        "id": "KcLseDOiVCeE"
      }
    },
    {
      "cell_type": "markdown",
      "source": [
        "# 1. 변수(심화예제)"
      ],
      "metadata": {
        "id": "jZcQTczGVGEs"
      }
    },
    {
      "cell_type": "markdown",
      "source": [
        "## 문제 : 다음 코드를 확인하고 최대한 해석하여 댓글에 붙여  봅시다.\n",
        "\n",
        "import numpy as np\n",
        "<!-- 연산작업을 수행하기 위해 파이썬에서 제공하는 넘파이 패키지를 임포트하여 np라는 alias를 붙여줌 -->\n",
        "\n",
        "from sklearn.model_selection\n",
        "import train_test_split\n",
        "<!-- 사이킷런 라이브러리에 존재하는 model_selection 서브 모듈의 train_test_split(학습시킬 dataset에서 train dataset을 만들어주기 위한)함수를 사용하기 위해 임포트함 -->\n",
        "\n",
        "from sklearn.linear_model\n",
        "import LogisticRegression\n",
        "<!-- 사이킷런 라이브러리에 존재하는 linear_model 서브 모듈의 LogisticRegression(분류모델을 만들기 위한 작업들을 수행하는)클래스를 사용하기 위해 임포트함 -->\n",
        "\n",
        "from sklearn.metrics\n",
        "import accuracy_score\n",
        "<!-- 사이킷런 라이브러리에 존재하는 metrics 서브 모듈의 accuracy_score(모델의 정확도를 평가하기 위한 작업들을 수행하는)를 사용하기 위해 임포트함-->\n",
        "\n",
        "\n",
        "# 데이터 생성\n",
        "X = np.array([[1, 2], [2, 3], [3, 4], [4, 5]])\n",
        "y = np.array([0, 0, 1, 1])\n",
        "<!-- 넘파이의 배열을 통해 X와 y 데이터 생성 -->\n",
        "\n",
        "\n",
        "# 데이터 분할\n",
        "X_train, X_test, y_train, y_test = train_test_split(X,\n",
        "y, test_size=0.25)\n",
        "<!-- 생성된 X와 y 데이터를 훈련 데이터인 X_train, y_train 그리고 테스트 데이터인 X_test, y_test에 쪼개서 할당해줌 -->\n",
        "\n",
        "\n",
        "# 모델 생성 및 학습\n",
        "model = LogisticRegression()\n",
        "model.fit(X_train, y_train)\n",
        "<!-- model이라는 변수에 이진분류 작업을 수행하도록 하는 LogisticRegression() 메서드를 할당해주고, 각각 할당해둔 훈련 데이터들을 사용하여 model을 학습시켜줌 -->\n",
        "\n",
        "# 예측 및 평가\n",
        "y_pred = model.predict(X_test)\n",
        "accuracy = accuracy_score(y_test, y_pred)\n",
        "print(f'Accuracy: {accuracy}')\n",
        "<!-- 학습시킨 model의 성능을 할당해준 test 데이터를 사용하여 예측하고 모델 성능의 정확도를 편가하여 정확도를 출력함 -->"
      ],
      "metadata": {
        "id": "7DcmgBGsVZOc"
      }
    },
    {
      "cell_type": "code",
      "source": [],
      "metadata": {
        "id": "ngo5ATGoVEDq"
      },
      "execution_count": null,
      "outputs": []
    }
  ]
}