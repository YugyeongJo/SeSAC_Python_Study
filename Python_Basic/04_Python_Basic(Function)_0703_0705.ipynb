{
  "nbformat": 4,
  "nbformat_minor": 0,
  "metadata": {
    "colab": {
      "provenance": [],
      "collapsed_sections": [
        "4RlIz-QtdqUH",
        "XVDWxnGnsk8u",
        "kxVDqUBrJLNa",
        "P7flrASkl1Zc",
        "y3PdjJ22UK8u",
        "aLDgOl8Pcc_-",
        "IFxaT5e6cp7P",
        "z-RGKP_FiX4x",
        "SRgis2k-OvSe",
        "KF-DwTCmV2Ze",
        "pyMLGlZ4pCqb",
        "Z3BSbZPEc_LX"
      ],
      "authorship_tag": "ABX9TyNl9p+JUhsJ9/csoxVEDJ9G",
      "include_colab_link": true
    },
    "kernelspec": {
      "name": "python3",
      "display_name": "Python 3"
    },
    "language_info": {
      "name": "python"
    }
  },
  "cells": [
    {
      "cell_type": "markdown",
      "metadata": {
        "id": "view-in-github",
        "colab_type": "text"
      },
      "source": [
        "<a href=\"https://colab.research.google.com/github/YugyeongJo/SeSAC_Python_Study/blob/main/docs/04_Python_Basic(Function)_0703_0705.ipynb\" target=\"_parent\"><img src=\"https://colab.research.google.com/assets/colab-badge.svg\" alt=\"Open In Colab\"/></a>"
      ]
    },
    {
      "cell_type": "markdown",
      "source": [
        "# Python 기초\n",
        "\n",
        "<목차>\n",
        "1. 변수\n",
        "2. 연산자\n",
        "3. 제어문\n",
        "4. 함수\n",
        "5. 자료형 1\n",
        "6. 자료형 2\n",
        "7. 정규표현식\n",
        "8. 판다스\n",
        "9. 시각화\n",
        "10. 파일 입출력"
      ],
      "metadata": {
        "id": "EwJcNcncQfnu"
      }
    },
    {
      "cell_type": "markdown",
      "source": [
        "<hr>"
      ],
      "metadata": {
        "id": "WE1A6pcqQuZI"
      }
    },
    {
      "cell_type": "markdown",
      "source": [
        "# 4. 함수(문법)\n",
        "\n",
        "- 매개변수 있는 함수\n",
        "  + 입력 값을 받아 다른 값을 출력하도록 미리 만들어져 있는 것\n",
        "  + 반복해서 사용한 코드들을 묶어 놓고 그것에 이름을 붙인 것\n",
        "  + 반복해서 사용할 코드는 함수를 이용하면 훨씬 구조적이고 간결한 코드를 작성 가능\n",
        "\n",
        "- 함수 : docstring\n",
        "  + 함수의 설명서 문자열 또는 docstring, 함수 본문의 첫 번째 문장에 문자열을 포함\n",
        "  + 겹따옴표 3개(\"\"\"와 \"\"\") 또는 홑따옴표 3개 ('''와 ''')를 이용\n",
        "  + 문자열 스트링이 여러 개일 경우 맨 처음의 문자열만 독스트링이 됨\n",
        "\n",
        "- 함수 정의\n",
        "  + 함수를 만드는 것 = 함수를 정의한다(define)\n",
        "- 함수 호출\n",
        "  + 정의되어 있는 함수를 사용하기 위해 함수명(입력값) 형식으로 호출\n",
        "\n",
        "- 매개변수(Parameter Variable)\n",
        "  + 함수 실행을 위해 필요한 겂을 받을 변수\n",
        "  + 매개변수는 여러개 선언 가능\n",
        "  + 일반 변수와 동일한 사용법과 특징을 가지고 있음\n",
        "  + 변수명 규칙 준수 필요\n",
        "- 인수(Argument)\n",
        "  + 함수 호출 시 함수 실행을 위해 전달하는 값\n",
        "\n",
        "```\n",
        "def 함수명 (파라미터):\n",
        "  \"\"\"\n",
        "  함수 설명\n",
        "  \"\"\"\n",
        "\n",
        "  코드 작성\n",
        "\n",
        "  return 반환값\n",
        "\n",
        "-----------------------\n",
        "\n",
        "함수명(인수)\n",
        "\n",
        "```\n",
        "\n",
        "<img src=\"data:image/png;base64,iVBORw0KGgoAAAANSUhEUgAAANwAAADaCAMAAAD63dyuAAAAeFBMVEX///8AAAAiIiJmZmZ3d3fPz88zMzMVFRXKysrAwMBfX18PDw9ERES3t7cHBwdzc3NVVVWDg4OTk5Nra2sbGxt9fX2cnJzW1tb5+fknJyePj4+vr6/k5ORJSUnv7+/19fU4ODimpqZYWFjo6Ojd3d1MTEwuLi4mJiYQnkJqAAAHnUlEQVR4nO2dDXuqLByHwcpeMNaLNbUXbTn3/b/hA4gGRMvtOEyf/31dZ7nSDvdUUNQfCAEAAAAAAAAAAAAAAACAyQQv+A88Fr/5VLzFoPH4jNAGb8rZiJfiG4fuyvsjKjl65L9JOT9JxjH2I1UuWjMWOOMv7x0W+CdIOZ+/1HJ8OvLZClLkxMsSv3VUzl8h5bYrzFeHIofWOHkiF9AZ+zmngdMS/4BKLqcnpMst8P6J3HHqndE1DK9ui9ycSg5t8byWW+X5bIfJ9dlmucSf6MSXe1FquSvx1doS43iOnu5zO5zhteMS/4Baju1jl0ouOByWokZ8WqH4+GV3OKTKpaEXqfscZ1+tFxqLF1PunWK2270sNzlmkphyczn5znYujiGXFmQjP3lJFDlUEM+Qi0IqNs8PVnNyDLkR25J3rMV4VVS5JTtQQZocOlC6WI8LHESonEOVu+AR+5mJ1u4lUeVQcCeHJh8hJX5SuulyOSlSJFs7AACA/z2TZdcl+EOSU9cl+ENArq+AXF8Buf4x5x2w689YvFy6Lk1LpKupOAFNM0wlmIiT1i3pVaesDXbSWp55pxmVVwekG5s6dlu2f+bIlKjojUz90q482d6wqTDqtmz/zp6vqwmfOhfcrjQ91FP95o15eKKX/OpRTMUlqwlhbw6iWvlkIj7vIUH5tOyYPYbsrV23pWqJ1GcqKzGZb+o3PjotU3uIFaVcBlixX7PeVyYVM16T1OepCa8o+94KKFyYT91VHlbNwVA4sQ2xmqZDqUwqWI1ZX5+i+JWvw/2C05DlAkUOD1CuPpVjcq97peo3BEptOTi5bOByKzkZDU7O1+U2nRambfzbkfLw5ApcXz9OQa5PxFjcrcBJqy6jHjNfjxXITe7Mux18C1lg5bSy8jGysh1b2V3S9tTSDJtsq4/uPnHCtL2zrLf7b6+PJ4l7M47XmhzbxzBRoVl998xxZN/QPu2bZWDbhH2/8KyExArvCmjtbuppdY/6izBjcq11k4KcQ0CuKSDnEJBrCsg5BOSaAnIOAbmmgJxDQK4pIOcQkGsKyDkE5JoCcg4BuaaA3B9xXoQ4Nt77ezmZZcA/0R731/NhEIr2wZSSLEm1UBj5bG+UZISGi0n1jdqSggVeX8xH2VzI+eKxAjOoQc+HQVcfe9v1OMC+FgpTyh0L7O/WC1LeEGEsWRJaUhBcyNXPVRtyaj5M5MurXXl5ubJ65FosHRWl1TEW+T76kpL6vgmFLuXUfJi9UThNbl/dFPEurrfpSwq2YiPeT/RrjS7kVjkH3csp+TBmKIomd/swwDNzSUE+x8F8fo2x9jS9swqFWuSUfJgQ67c/a3K3D8f8rgF9SYlY8x3IBQcOssjd8mEI1ZfS5G4f8lgjY0nJy+1zSj7MT9fcbUlJ53Ja8oueD3PCel3wZJ9TlpR0Lqclv+j5MHvjeYontaWypKRzOS35Rc+HedbOie35Wsh2Tl1SIuQ6aArsyS96Pgw6+jh+S3Yn6t/LoTxmByzJqD5C0ZZU5DqoLe3JL3o+jHJsicqSq3Io1Y8t9SUF3ch1CMg1BeQcAnJNATmHgFxTQM4hINcUkHMIyDUF5BwCck0BOYeAXFNAziEg1xSQcwjINcXDmNifu/wTwq/63ox0YZ2ByU3akts2fUy2LZQrrg9oL9nvXLg041RZWx8PPictJvul+639KfW/IGCFz+V/vGNr0TLLOv+2uC/MQZcjnRambQYvVz3iPji5Jcj1lMHLVccfINcnBi03H7pcdTsUyPUJkOsrQ5aLAuUIhZ+JDynVdcF8xL2ZecT+8RSsQWTOC9iGKBO9xerjLfoQRgsQXLhM2YSX2yaPL5/2tldBQ+Syy3G75Y43Yu/EQxheMZ8qFYiUExVM0P9Y/TMP9avvnK6qzPOX+m5v4Z2/fh1dWbcHYpiOvowx/5AvbeiDWxAirzK31iV6RIJDXlGmMwE+iBdel+wp6f+YCOey3mAVZD1gU1mVpC3mrHbNqBqviWYDsqpYyPGaiiE0cHesxHhN5fBGgyM6UUyHNGqMRppR0loo7stxDvpf+wPAQJAxIleiD+CxxJ3spVoyiPJUuZEiwpu2eHx+PIv8OhkjMjLv1wgyJzY6ejKIUnIjRcRPknGM/ejhLPL7yhiR412/2AG7HwTcSAbR8gCQ+Yxu5LOZHs0iKZ8dH9+NDxpN3Q9razzr/r2ciGn4Vk7GiCBPdAAGYoC4ORUrc4GdH4saKQVP5Bas3N/KyRiRvDx/PU69M7qGoTgK3bg/YTfyJR7LrfJ8tsPk2mizPMjBjpb4s/7zLd13TxvJII/lBLEZaoTscvtq4JUdziqnifveiMZrLjgclqJG/JEc8usB4ybY+QjLxj6nBYygu32O82gWiZBbVmNwvVPsyXqkg83SqC21gBFklXs0i0TIHeXwOWlBNtWgahv3DZ2RDKIFjCCr3KNZJGU791WIX0b4wna7ci1+UPddLnoyiBYwgqxyj2aRlHJrcW/fRazATLR2EbEkw/w5WjKIFjCC7HIPZpGUcle6Y383UvCVJVo71joM5WIXQm9TYyPMLNF1feXsGac809ZuWQcAAAAAAAAAAAAAAACAXvAfk0uIE0fuMOIAAAAASUVORK5CYII=\">"
      ],
      "metadata": {
        "id": "TbHg0cvPQxBH"
      }
    },
    {
      "cell_type": "code",
      "source": [
        "counts = int(input(\"몇 개의 변수를 입력하시겠습니까? \"))\n",
        "nums = []\n",
        "\n",
        "for count in range(counts):\n",
        "  user_answer = int(input(f\"{count+1}번째의 변수를 입력하세요\"))\n",
        "  nums.append(user_answer)\n",
        "\n",
        "def calculate_average(numbers):\n",
        "  return sum(numbers) / len(numbers)\n",
        "\n",
        "avg = calculate_average(nums)\n",
        "print(f\"리스트의 평균 : {avg}\")\n"
      ],
      "metadata": {
        "colab": {
          "base_uri": "https://localhost:8080/"
        },
        "id": "JPxecu6tRoYo",
        "outputId": "123c8b0a-326d-4e39-8c28-9d4c5d43531e"
      },
      "execution_count": null,
      "outputs": [
        {
          "output_type": "stream",
          "name": "stdout",
          "text": [
            "몇 개의 변수를 입력하시겠습니까? 3\n",
            "1번째의 변수를 입력하세요1\n",
            "2번째의 변수를 입력하세요1\n",
            "3번째의 변수를 입력하세요1\n",
            "리스트의 평균 : 1.0\n"
          ]
        }
      ]
    },
    {
      "cell_type": "code",
      "source": [
        "nums = int(input(\"변수를 입력해주세요 \"))\n",
        "\n",
        "def square_number(numbers):\n",
        "  return numbers ** 2\n",
        "\n",
        "square = square_number(nums)\n",
        "print(f\"입력값의 제곱 : {square}\")"
      ],
      "metadata": {
        "colab": {
          "base_uri": "https://localhost:8080/"
        },
        "id": "QZwpFqBWVe0R",
        "outputId": "295b298b-6a1a-46fa-90c0-3f4ed9e145de"
      },
      "execution_count": null,
      "outputs": [
        {
          "output_type": "stream",
          "name": "stdout",
          "text": [
            "변수를 입력해주세요 12\n",
            "입력값의 제곱 : 144\n"
          ]
        }
      ]
    },
    {
      "cell_type": "code",
      "source": [
        "def find_index(lst, value):\n",
        "  if value in lst:\n",
        "    return lst.index(value)\n",
        "  else:\n",
        "    return -1\n",
        "\n",
        "print(find_index([1, 2, 3, 4, 5], 3))"
      ],
      "metadata": {
        "colab": {
          "base_uri": "https://localhost:8080/"
        },
        "id": "QcPxDrMpWbtJ",
        "outputId": "fc8154ec-affb-41f1-d1b0-cf7ecdeeb884"
      },
      "execution_count": null,
      "outputs": [
        {
          "output_type": "stream",
          "name": "stdout",
          "text": [
            "2\n"
          ]
        }
      ]
    },
    {
      "cell_type": "code",
      "source": [
        "import math\n",
        "\n",
        "def calculate_distance(x1, y1, x2, y2):\n",
        "  return math.sqrt((x2 - x1) ** 2 + (y2 - y1) ** 2)\n",
        "\n",
        "print(calculate_distance(0, 0, 3, 4))\n",
        "print(calculate_distance(1, 1, 4, 5))"
      ],
      "metadata": {
        "colab": {
          "base_uri": "https://localhost:8080/"
        },
        "id": "n6pKtJgwXWP4",
        "outputId": "60da056f-9080-4870-a437-79b3ce38a48b"
      },
      "execution_count": null,
      "outputs": [
        {
          "output_type": "stream",
          "name": "stdout",
          "text": [
            "5.0\n",
            "5.0\n"
          ]
        }
      ]
    },
    {
      "cell_type": "markdown",
      "source": [
        "# 4. 함수(문법) : 전역변수 vs 지역변수\n",
        "\n",
        "- 전역변수(Global Variable)\n",
        "  + 프로그램 전체에서 접근할 수 있는 변수\n",
        "  + 함수 내부와 외부 어디서든 접근할 수 있음\n",
        "  + 생명주기(lifetime)은 프로그램이 시작될 때 생성되고, 프로그램이 종료될 때 소멸\n",
        "  + 전역변수를 함수 내부에서 수정하려면 global 키워드를 사용(그렇지 않으면 함수 내부에서 전역 변수와 동일한 이름의 지역 변수가 생성됨)\n",
        "\n",
        "```\n",
        "변수명 = 변수내용\n",
        "\n",
        "def 함수명():\n",
        "  <!-- 지역 변수 선언 -->\n",
        "  global 변수명\n",
        "\n",
        "  함수 내용\n",
        "\n",
        "  return 결과값\n",
        "```\n",
        "\n",
        "- 지역변수(Local Variable)\n",
        "  + 함수 내에서만 접근할 수 있는 변수\n",
        "  + 해당 함수 외부에서는 접근할 수 없음\n",
        "  + 생명주기(lifetime)은 함수가 호출될 때 생성되고, 함수가 종료되면 소멸"
      ],
      "metadata": {
        "id": "4RlIz-QtdqUH"
      }
    },
    {
      "cell_type": "code",
      "source": [
        "# 전역 변수 선언\n",
        "global_var = '전역 변수'\n",
        "\n",
        "def example_function():\n",
        "  # 지역 변수 선언\n",
        "  local_var = '지역 변수'\n",
        "\n",
        "  print(\"함수 내부에서 전역 변수 접근 : \", global_var)\n",
        "  print(\"함수 내부에서 지역 변수 접근 : \", local_var)\n",
        "\n",
        "# 함수 호출\n",
        "example_function()\n",
        "\n",
        "# 함수 외부에서 전역 변수 접근\n",
        "print(\"함수 외부에서 전역 변수 접근 : \", global_var)\n",
        "\n",
        "# 함수 외부에서 지역 변수 접근 시도(오류발생)\n",
        "try:\n",
        "  print(\"함수 외부에서 지역 변수 접근 : \", local_var)\n",
        "except NameError as e:\n",
        "  print(\"오류 발생 : \", e)"
      ],
      "metadata": {
        "colab": {
          "base_uri": "https://localhost:8080/"
        },
        "id": "FEPs77PokArQ",
        "outputId": "3880bbdf-6fb4-444a-e3d4-86d083117ef3"
      },
      "execution_count": null,
      "outputs": [
        {
          "output_type": "stream",
          "name": "stdout",
          "text": [
            "함수 내부에서 전역 변수 접근 :  전역 변수\n",
            "함수 내부에서 지역 변수 접근 :  지역 변수\n",
            "함수 외부에서 전역 변수 접근 :  전역 변수\n",
            "오류 발생 :  name 'local_var' is not defined\n"
          ]
        }
      ]
    },
    {
      "cell_type": "code",
      "source": [
        "# 전역 변수 선언\n",
        "counter = 0\n",
        "\n",
        "def increment_counter():\n",
        "  global counter # 전역 변수를 사용하겠다고 명시\n",
        "  counter += 1\n",
        "  print(\"함수 내부에서 전역 변수 수정\")\n",
        "\n",
        "# 함수 호출\n",
        "increment_counter()\n",
        "increment_counter()\n",
        "\n",
        "# 함수 외부에서 전역 변수 확인\n",
        "print(\"함수 외부에서 전역 변수 확인 : \", counter)"
      ],
      "metadata": {
        "colab": {
          "base_uri": "https://localhost:8080/"
        },
        "id": "FgpBxwC3pDEH",
        "outputId": "ad1459c3-5344-49e0-a0a8-ad053eefd537"
      },
      "execution_count": null,
      "outputs": [
        {
          "output_type": "stream",
          "name": "stdout",
          "text": [
            "함수 내부에서 전역 변수 수정\n",
            "함수 내부에서 전역 변수 수정\n",
            "함수 외부에서 전역 변수 확인 :  2\n"
          ]
        }
      ]
    },
    {
      "cell_type": "markdown",
      "source": [
        "# 4. 함수(문법) : return value\n",
        "\n",
        "- 함수가 반환 값을 가지려면 함수의 가장 마지막 행에 return 구문을 포함해야 함\n",
        "- 여러 개 값을 반환하는 함수\n",
        "  + 여러 개 값을 반환하면 그 값들은 튜플에 저장되어 반환\n",
        "  + 반환 값을 하나의 튜플 변수에 저장하거나 함수가 반환하는 값의 개수만큼 변수를 선언하여 반환 값이 저장되도록 할 수 있음\n",
        "\n",
        "```\n",
        "def 함수명 (파라미터1, 파라미터2 ...):\n",
        "  \"\"\"\n",
        "  함수 설명\n",
        "  \"\"\"\n",
        "\n",
        "  코드 작성\n",
        "\n",
        "  return 반환값1, 반환값2 ...\n",
        "\n",
        "-----------------------\n",
        "\n",
        "함수명(인수1, 인수2 ...)\n",
        "\n",
        "```"
      ],
      "metadata": {
        "id": "XVDWxnGnsk8u"
      }
    },
    {
      "cell_type": "code",
      "source": [
        "# 반환 값을 튜플 유형으로\n",
        "def swap(a, b):\n",
        "  return b, a\n",
        "\n",
        "a = swap(1, 2)\n",
        "type(a)"
      ],
      "metadata": {
        "colab": {
          "base_uri": "https://localhost:8080/"
        },
        "id": "8zzGS4j8F0sw",
        "outputId": "29711505-1ef6-43c3-b4d1-0781cc438701"
      },
      "execution_count": null,
      "outputs": [
        {
          "output_type": "execute_result",
          "data": {
            "text/plain": [
              "tuple"
            ]
          },
          "metadata": {},
          "execution_count": 2
        }
      ]
    },
    {
      "cell_type": "code",
      "source": [
        "x, y = swap(1, 2)\n",
        "print(x, y)"
      ],
      "metadata": {
        "colab": {
          "base_uri": "https://localhost:8080/"
        },
        "id": "dvM0--1YHpQQ",
        "outputId": "226edadc-a1f1-437c-dad1-9d543413369f"
      },
      "execution_count": null,
      "outputs": [
        {
          "output_type": "stream",
          "name": "stdout",
          "text": [
            "2 1\n"
          ]
        }
      ]
    },
    {
      "cell_type": "code",
      "source": [
        "def add_and_subtranct(a, b):\n",
        "  sum_value = a + b\n",
        "  difference = a - b\n",
        "  return sum_value, difference\n",
        "\n",
        "result_sum, result_difference = add_and_subtranct(7, 3)\n",
        "print(\"합: \", result_sum)\n",
        "print(\"차: \", result_difference)"
      ],
      "metadata": {
        "colab": {
          "base_uri": "https://localhost:8080/"
        },
        "id": "nycbnzVYHvYP",
        "outputId": "72b6b3f1-36c6-489a-db73-36be5c45a748"
      },
      "execution_count": null,
      "outputs": [
        {
          "output_type": "stream",
          "name": "stdout",
          "text": [
            "합:  10\n",
            "차:  4\n"
          ]
        }
      ]
    },
    {
      "cell_type": "code",
      "source": [
        "def min_and_max(numbers):\n",
        "  min_value = min(numbers)\n",
        "  max_value = max(numbers)\n",
        "  return min_value, max_value\n",
        "\n",
        "min_val, max_val = min_and_max([1, 2, 3, 4, 5])\n",
        "print(\"최솟값: \", min_val)\n",
        "print(\"최댓값: \", max_val)"
      ],
      "metadata": {
        "colab": {
          "base_uri": "https://localhost:8080/"
        },
        "id": "pAdMHy6HJVBw",
        "outputId": "88d96921-5d58-4aab-a626-dafde5a4a347"
      },
      "execution_count": null,
      "outputs": [
        {
          "output_type": "stream",
          "name": "stdout",
          "text": [
            "최솟값:  1\n",
            "최댓값:  5\n"
          ]
        }
      ]
    },
    {
      "cell_type": "markdown",
      "source": [
        "# 4. 함수(문법) : 키워드 인수 vs 위치 인수(순서 인수)\n",
        "\n",
        "- 키워드 인수\n",
        "  + 인수를 이름으로 지정하여 전달\n",
        "  + 기본 매개변수 값을 사용하여 함수를 정의할 때 키워드 인수를 사용하여 임의의 순서로 인수가 포함된 함수를 호출 가능\n",
        "\n",
        "- 위치 인수(순서 인수)\n",
        "  + 키워드 인수를 사용하지 않는 경우 인수는 함수 시그니처에 정의된 순서대로 전달해야함\n",
        "\n",
        "- 키워드 인수, 위치 인수 혼합\n",
        "  + 키워드 인수와 위치 인수를 혼합해서 사용 가능\n",
        "  + 다만, 위치 인수는 키워드 인수 앞에 와야 함\n",
        "\n",
        "```\n",
        "def 함수명(변수명1, 변수명2=기본값, ...):\n",
        "  실행한 내용\n",
        "  return ...\n",
        "\n",
        "----------\n",
        "함수명(값1, 변수명2=값2, ...)\n",
        "\n",
        "```"
      ],
      "metadata": {
        "id": "kxVDqUBrJLNa"
      }
    },
    {
      "cell_type": "code",
      "source": [
        "def func4(a, L=None):\n",
        "  if L is None:\n",
        "    L = []\n",
        "  L.append(a)\n",
        "  return L"
      ],
      "metadata": {
        "id": "OKRmBZKQUG0O"
      },
      "execution_count": null,
      "outputs": []
    },
    {
      "cell_type": "code",
      "source": [
        "list_ = []\n",
        "func4(10, list_)"
      ],
      "metadata": {
        "colab": {
          "base_uri": "https://localhost:8080/"
        },
        "id": "NM6xE5v4h1Ft",
        "outputId": "97b3f9de-0362-41ab-e68a-35edf7820680"
      },
      "execution_count": null,
      "outputs": [
        {
          "output_type": "execute_result",
          "data": {
            "text/plain": [
              "[10]"
            ]
          },
          "metadata": {},
          "execution_count": 31
        }
      ]
    },
    {
      "cell_type": "code",
      "source": [
        "func4(20, list_)"
      ],
      "metadata": {
        "colab": {
          "base_uri": "https://localhost:8080/"
        },
        "id": "Qngh6FEWifhV",
        "outputId": "3e477b63-c22f-4a41-db3c-b9bedc2b91c8"
      },
      "execution_count": null,
      "outputs": [
        {
          "output_type": "execute_result",
          "data": {
            "text/plain": [
              "[10, 20]"
            ]
          },
          "metadata": {},
          "execution_count": 32
        }
      ]
    },
    {
      "cell_type": "code",
      "source": [
        "func4(30, list_)"
      ],
      "metadata": {
        "colab": {
          "base_uri": "https://localhost:8080/"
        },
        "id": "XQ0k-J05igcN",
        "outputId": "49ae5f66-bbf1-437e-b9ae-264453ff78a1"
      },
      "execution_count": null,
      "outputs": [
        {
          "output_type": "execute_result",
          "data": {
            "text/plain": [
              "[10, 20, 30]"
            ]
          },
          "metadata": {},
          "execution_count": 33
        }
      ]
    },
    {
      "cell_type": "code",
      "source": [
        "# 키워드 인수 입력시 순서 상관 X\n",
        "func4(L=list_, a=40)"
      ],
      "metadata": {
        "colab": {
          "base_uri": "https://localhost:8080/"
        },
        "id": "AvLIQilziT_c",
        "outputId": "ce999c08-3488-42d3-f125-499750e50e59"
      },
      "execution_count": null,
      "outputs": [
        {
          "output_type": "execute_result",
          "data": {
            "text/plain": [
              "[10, 20, 30, 40, 40]"
            ]
          },
          "metadata": {},
          "execution_count": 37
        }
      ]
    },
    {
      "cell_type": "code",
      "source": [
        "# 위치 인수는 키워드 인수보다 앞에 와야 함\n",
        "func4(40, L=list_)"
      ],
      "metadata": {
        "colab": {
          "base_uri": "https://localhost:8080/"
        },
        "id": "KMO443QtiZ00",
        "outputId": "fa8ad284-7134-46ea-8056-e589eeec4bf0"
      },
      "execution_count": null,
      "outputs": [
        {
          "output_type": "execute_result",
          "data": {
            "text/plain": [
              "[10, 20, 30, 40, 40, 40, 40]"
            ]
          },
          "metadata": {},
          "execution_count": 40
        }
      ]
    },
    {
      "cell_type": "code",
      "source": [
        "# a는 기본값을 지정하지 않았기 때문에 필수 위치 인자\n",
        "# L은 선택적 인자\n",
        "# a인자 값은 반드시 제공해야함\n",
        "func4()"
      ],
      "metadata": {
        "colab": {
          "base_uri": "https://localhost:8080/",
          "height": 147
        },
        "id": "yZwgRurtidIc",
        "outputId": "070b76e5-f141-4c17-fc81-adeea1df28a8"
      },
      "execution_count": null,
      "outputs": [
        {
          "output_type": "error",
          "ename": "TypeError",
          "evalue": "func4() missing 1 required positional argument: 'a'",
          "traceback": [
            "\u001b[0;31m---------------------------------------------------------------------------\u001b[0m",
            "\u001b[0;31mTypeError\u001b[0m                                 Traceback (most recent call last)",
            "\u001b[0;32m<ipython-input-41-0e6ad11a93c1>\u001b[0m in \u001b[0;36m<cell line: 1>\u001b[0;34m()\u001b[0m\n\u001b[0;32m----> 1\u001b[0;31m \u001b[0mfunc4\u001b[0m\u001b[0;34m(\u001b[0m\u001b[0;34m)\u001b[0m\u001b[0;34m\u001b[0m\u001b[0;34m\u001b[0m\u001b[0m\n\u001b[0m",
            "\u001b[0;31mTypeError\u001b[0m: func4() missing 1 required positional argument: 'a'"
          ]
        }
      ]
    },
    {
      "cell_type": "code",
      "source": [
        "# 위치 인수와 키워드 인수를 함께 사용하는 함수\n",
        "def greet(name, message=\"Hello\"):\n",
        "  return f\"{message}, {name}!\""
      ],
      "metadata": {
        "id": "u2LkBpKNicad"
      },
      "execution_count": null,
      "outputs": []
    },
    {
      "cell_type": "code",
      "source": [
        "# 위치 인수로 호출\n",
        "print(greet(\"Alice\"))"
      ],
      "metadata": {
        "colab": {
          "base_uri": "https://localhost:8080/"
        },
        "id": "QBz48dL3lBWk",
        "outputId": "a9489e1c-daa0-4ae6-f6df-72ae6e6b04f1"
      },
      "execution_count": null,
      "outputs": [
        {
          "output_type": "stream",
          "name": "stdout",
          "text": [
            "Hello, Alice!\n"
          ]
        }
      ]
    },
    {
      "cell_type": "code",
      "source": [
        "# 키워드 인수로 호출\n",
        "print(greet(name = \"Alice\", message=\"Hi\"))"
      ],
      "metadata": {
        "colab": {
          "base_uri": "https://localhost:8080/"
        },
        "id": "_9BlU2oYlBc0",
        "outputId": "165073d6-2d83-415d-8182-ae6932794236"
      },
      "execution_count": null,
      "outputs": [
        {
          "output_type": "stream",
          "name": "stdout",
          "text": [
            "Hi, Alice!\n"
          ]
        }
      ]
    },
    {
      "cell_type": "code",
      "source": [
        "# 위치 인수와 키워드 인수를 함께 사용\n",
        "print(greet(\"Charlie\", message=\"hey\"))"
      ],
      "metadata": {
        "colab": {
          "base_uri": "https://localhost:8080/"
        },
        "id": "9WFpgCk5lF_U",
        "outputId": "a9f111bc-da81-4db4-d7a2-224f773f0383"
      },
      "execution_count": null,
      "outputs": [
        {
          "output_type": "stream",
          "name": "stdout",
          "text": [
            "hey, Charlie!\n"
          ]
        }
      ]
    },
    {
      "cell_type": "code",
      "source": [
        "# 위치 인수는 매개변수를 넣어줄 때에도 순서가 키워드 인수보다 앞에 와야 함.\n",
        "def greet(message=\"Hello\", name):\n",
        "  return f\"{message}, {name}!\"\n",
        "\n",
        "print(greet(message=\"hey\", \"Charlie\"))"
      ],
      "metadata": {
        "colab": {
          "base_uri": "https://localhost:8080/",
          "height": 110
        },
        "id": "R0jYXeKelBhM",
        "outputId": "71fbb09b-e6e7-472e-d315-3ad70727ab8a"
      },
      "execution_count": null,
      "outputs": [
        {
          "output_type": "error",
          "ename": "SyntaxError",
          "evalue": "non-default argument follows default argument (<ipython-input-50-db11019528e2>, line 1)",
          "traceback": [
            "\u001b[0;36m  File \u001b[0;32m\"<ipython-input-50-db11019528e2>\"\u001b[0;36m, line \u001b[0;32m1\u001b[0m\n\u001b[0;31m    def greet(message=\"Hello\", name):\u001b[0m\n\u001b[0m                               ^\u001b[0m\n\u001b[0;31mSyntaxError\u001b[0m\u001b[0;31m:\u001b[0m non-default argument follows default argument\n"
          ]
        }
      ]
    },
    {
      "cell_type": "code",
      "source": [
        "def add_numbers(a, b, c):\n",
        "  return a + b + c\n",
        "\n",
        "# 위치 인수로 호출\n",
        "print(add_numbers(1, 2, 3))"
      ],
      "metadata": {
        "colab": {
          "base_uri": "https://localhost:8080/"
        },
        "id": "RMCHQBTSl2jk",
        "outputId": "4d772ddf-b9f5-410a-b852-b968a9e4a572"
      },
      "execution_count": null,
      "outputs": [
        {
          "output_type": "stream",
          "name": "stdout",
          "text": [
            "6\n"
          ]
        }
      ]
    },
    {
      "cell_type": "code",
      "source": [
        "def order_summary(item, price, quantity=1, discount=0):\n",
        "  total_price = price * quantity * (1 - discount)\n",
        "  return f\"Item: {item}, Total Price: {total_price:.2f}\"\n",
        "\n",
        "# 위치 인수와 키워드 인수를 혼합하여 호출\n",
        "print(order_summary(\"Book\", 12.99))\n",
        "print(order_summary(\"Pen\", 1.99, quantity=10, discount=0.1))"
      ],
      "metadata": {
        "colab": {
          "base_uri": "https://localhost:8080/"
        },
        "id": "k3LOzS7bmDHc",
        "outputId": "695e3f73-ed79-4ff7-d327-242d1fa7dc98"
      },
      "execution_count": null,
      "outputs": [
        {
          "output_type": "stream",
          "name": "stdout",
          "text": [
            "Item: Book, Total Price: 12.99\n",
            "Item: Pen, Total Price: 17.91\n"
          ]
        }
      ]
    },
    {
      "cell_type": "markdown",
      "source": [
        "# 4. 함수(문법) : 가변인수(arbitrary argument)\n",
        "\n",
        "- 함수가 임의의 수의 인수를 받을 수 있게 하는 것\n",
        "  + 튜플 매개 인수 (*args)\n",
        "    * args는 함수에 여러 개의 위치 인수를 전달할 때 사용\n",
        "    * 함수 내에서 args는 튜플로 취급되며, 전달된 모든 위치 인수를 포함\n",
        "  + 딕셔너리 매개 인수 (**kwargs)\n",
        "    * **kwargs는 함수에 여러 개의 키워드 인수를 전달할 때 사용\n",
        "    * 함수 내에서 kwargs는 딕셔너리로 취급되며, 전달된 모든 키워드 인수를 포함"
      ],
      "metadata": {
        "id": "P7flrASkl1Zc"
      }
    },
    {
      "cell_type": "code",
      "source": [
        "def print_args(*args):\n",
        "  for arg in args:\n",
        "    print(arg)\n",
        "\n",
        "print_args(1, 2, 3)\n",
        "print_args('a', 'b', 'c')"
      ],
      "metadata": {
        "colab": {
          "base_uri": "https://localhost:8080/"
        },
        "id": "4o6g-9WI-6s5",
        "outputId": "5d4e3c12-b504-41e5-8527-d704876b7cfa"
      },
      "execution_count": null,
      "outputs": [
        {
          "output_type": "stream",
          "name": "stdout",
          "text": [
            "1\n",
            "2\n",
            "3\n",
            "a\n",
            "b\n",
            "c\n"
          ]
        }
      ]
    },
    {
      "cell_type": "code",
      "source": [
        "def print_kwargs(**kwargs):\n",
        "  for key, value in kwargs.items():\n",
        "    print(f\"{key} = {value}\")\n",
        "\n",
        "print_kwargs(name=\"Alice\", age=30, city=\"New York\")\n",
        "print_kwargs(fruits=\"Apple\", color=\"Red\", price=1.5)"
      ],
      "metadata": {
        "colab": {
          "base_uri": "https://localhost:8080/"
        },
        "id": "nxmEnihU_N3x",
        "outputId": "05e72704-1c5d-4b77-e492-f5e8fd08a0ef"
      },
      "execution_count": null,
      "outputs": [
        {
          "output_type": "stream",
          "name": "stdout",
          "text": [
            "name = Alice\n",
            "age = 30\n",
            "city = New York\n",
            "fruits = Apple\n",
            "color = Red\n",
            "price = 1.5\n"
          ]
        }
      ]
    },
    {
      "cell_type": "code",
      "source": [
        "def calculate_area(shape, *dimensions):\n",
        "  if shape == 'rectangle':\n",
        "    length, width = dimensions\n",
        "    area = length * width\n",
        "  elif shape == 'circle':\n",
        "    radius, = dimensions\n",
        "    area = 3.14 * radius ** 2\n",
        "  else:\n",
        "    area = None\n",
        "    print(f\"Unsupported shape: {shape}\")\n",
        "  return area\n",
        "\n",
        "print(calculate_area('rectangle', 5, 10))\n",
        "print(calculate_area('circle', 3))\n",
        "print(calculate_area('triangle', 3, 4))"
      ],
      "metadata": {
        "colab": {
          "base_uri": "https://localhost:8080/"
        },
        "id": "PckOU4CX_tp6",
        "outputId": "7261d35c-259e-4889-e5ec-ff4d759afd59"
      },
      "execution_count": null,
      "outputs": [
        {
          "output_type": "stream",
          "name": "stdout",
          "text": [
            "50\n",
            "28.26\n",
            "Unsupported shape: triangle\n",
            "None\n"
          ]
        }
      ]
    },
    {
      "cell_type": "code",
      "source": [
        "def print_person_info(name, age, **kwargs):\n",
        "  print(f\"Name: {name}, Age: {age}\")\n",
        "  for key, value in kwargs.items():\n",
        "    print(f\"{key.capitalize()}: {value}\")\n",
        "\n",
        "print_person_info(\"Alice\", 25)\n",
        "print_person_info(\"Bob\", 30, occupation=\"Engineer\", city=\"New York\")\n",
        "print_person_info(\"Charlie\", 35, occupation=\"Manager\", city=\"London\", hobbies=\"Reading, Hiking\")"
      ],
      "metadata": {
        "colab": {
          "base_uri": "https://localhost:8080/"
        },
        "id": "pOB_1lWvAV0J",
        "outputId": "b21409fe-bc0d-4606-e79e-faf3d55a5592"
      },
      "execution_count": null,
      "outputs": [
        {
          "output_type": "stream",
          "name": "stdout",
          "text": [
            "Name: Alice, Age: 25\n",
            "Name: Bob, Age: 30\n",
            "Occupation: Engineer\n",
            "City: New York\n",
            "Name: Charlie, Age: 35\n",
            "Occupation: Manager\n",
            "City: London\n",
            "Hobbies: Reading, Hiking\n"
          ]
        }
      ]
    },
    {
      "cell_type": "markdown",
      "source": [
        "# 4. 함수(문법) : 튜플 인수 언패킹(unpacking)\n",
        "\n",
        "- 함수에 튜플을 인수로 전달할 때, 튜플 안에 여러 값이 들어 있을 때, 이를 함수의 개별 인수로 분리하여 전달하는 것.\n",
        "- 함수 정의 시에는 특별한 문법이 필요 없지만, 함수 호출시 인수 앞에 *를 붙여서 사용\n",
        "\n",
        "```\n",
        "def 함수명 (매개변수, ...):\n",
        "  실행할 문장\n",
        "\n",
        "# 튜플 정의\n",
        "변수명 = (인수, ...)\n",
        "\n",
        "# 튜플 언패킹을 사용하여 함수 호출\n",
        "display_info(*변수명)\n",
        "\n",
        "```"
      ],
      "metadata": {
        "id": "21CqidYCUGa2"
      }
    },
    {
      "cell_type": "code",
      "source": [
        "def display_info(name, age, country):\n",
        "  print(f\"Name: {name}\")\n",
        "  print(f\"Age: {age}\")\n",
        "  print(f\"Country: {country}\")\n",
        "\n",
        "info = (\"Alice\", 30, \"USA\")\n",
        "\n",
        "display_info(*info)"
      ],
      "metadata": {
        "colab": {
          "base_uri": "https://localhost:8080/"
        },
        "id": "5weETpSWUKx2",
        "outputId": "55d9e4af-d7cd-40e9-a420-4f217e2ac50e"
      },
      "execution_count": null,
      "outputs": [
        {
          "output_type": "stream",
          "name": "stdout",
          "text": [
            "Name: Alice\n",
            "Age: 30\n",
            "Country: USA\n"
          ]
        }
      ]
    },
    {
      "cell_type": "markdown",
      "source": [
        "# 4. 함수(문법) : 딕셔너리 인수 언패킹\n",
        "\n",
        "- 함수에 딕셔너리를 전달할 때, 딕셔너리 안에 여러 키-값 쌍이 있을 때, 이를 함수의 개별 키워드 인수로 분리하여 전달하는 것.\n",
        "- 함수 정의시에는 특별한 문법이 필요 없지만, 함수 호출시 인수 앞에 **를 붙여서 사용\n",
        "\n",
        "```\n",
        "def 함수명(매개변수, ...):\n",
        "  실행할 문장\n",
        "\n",
        "# 딕셔너리 정의\n",
        "변수명 = {\n",
        "  \"key\": \"value\"\n",
        "  , \"key\": \"value\"\n",
        "  , \"key\": \"value\"\n",
        "}\n",
        "\n",
        "# 딕셔너리 언패킹을 사용하여 함수 호출\n",
        "함수명(**변수명)\n",
        "```"
      ],
      "metadata": {
        "id": "eo5L6nyAYBq-"
      }
    },
    {
      "cell_type": "code",
      "source": [
        "def display_info(name, age, country):\n",
        "  print(f\"Name: {name}\")\n",
        "  print(f\"Age: {age}\")\n",
        "  print(f\"Country: {country}\")\n",
        "\n",
        "info = {\n",
        "    \"name\": \"Alice\"\n",
        "    , \"age\": 30\n",
        "    , \"country\":\"USA\"\n",
        "}\n",
        "\n",
        "display_info(**info)"
      ],
      "metadata": {
        "colab": {
          "base_uri": "https://localhost:8080/"
        },
        "id": "Pvr8xuPCX15_",
        "outputId": "8c4abb98-e84f-49dc-85d4-a5245172d26c"
      },
      "execution_count": null,
      "outputs": [
        {
          "output_type": "stream",
          "name": "stdout",
          "text": [
            "Name: Alice\n",
            "Age: 30\n",
            "Country: USA\n"
          ]
        }
      ]
    },
    {
      "cell_type": "markdown",
      "source": [
        "# 4. 함수(문법) : 패킹(packing) 언패킹(unpacking)\n",
        "\n",
        "- 데이터 구조(예: 리스트, 튜플 등) 안에 묶여 있는 여러 개의 값을 개별적인 변수나 인수로 분리하는 작업\n",
        "- 패킹(packing)\n",
        "  + 여러 개의 값을 하나의 데이터 구조(예: 튜플, 리스트 등)로 묶는 것.\n",
        "- 언패킹(unpacking)\n",
        "  + 하나의 데이터 구조 안에 묶여 있는 값을 개별적인 변수나 인수로 분리하는 것.\n",
        "  + 함수에 튜플이나 리스트를 전달할 때, 이를 개별 인수로 분리하여 전달하는 것\n",
        "\n",
        "```\n",
        "def 함수명(매개변수, ...):\n",
        "  실행할 문장\n",
        "\n",
        "# 딕셔너리 정의\n",
        "변수명 = {\n",
        "  \"key\": \"value\"\n",
        "  , \"key\": \"value\"\n",
        "  , \"key\": \"value\"\n",
        "}\n",
        "\n",
        "# 딕셔너리 언패킹을 사용하여 함수 호출\n",
        "함수명(**변수명)\n",
        "```"
      ],
      "metadata": {
        "id": "y3PdjJ22UK8u"
      }
    },
    {
      "cell_type": "code",
      "source": [
        "# 패킹(packing)\n",
        "packed = (1, 2, 3)\n",
        "print(packed)"
      ],
      "metadata": {
        "colab": {
          "base_uri": "https://localhost:8080/"
        },
        "id": "6DwFvIbGUMZ-",
        "outputId": "00f3e1e5-9980-4446-9137-58dab9f63b56"
      },
      "execution_count": null,
      "outputs": [
        {
          "output_type": "stream",
          "name": "stdout",
          "text": [
            "(1, 2, 3)\n"
          ]
        }
      ]
    },
    {
      "cell_type": "code",
      "source": [
        "# 언패킹(unpacking)\n",
        "a, b, c = packed\n",
        "print(a)\n",
        "print(b)\n",
        "print(c)"
      ],
      "metadata": {
        "colab": {
          "base_uri": "https://localhost:8080/"
        },
        "id": "_DwMegkqaShw",
        "outputId": "80f7cdb1-546b-4342-f6b6-0db64c5510a0"
      },
      "execution_count": null,
      "outputs": [
        {
          "output_type": "stream",
          "name": "stdout",
          "text": [
            "1\n",
            "2\n",
            "3\n"
          ]
        }
      ]
    },
    {
      "cell_type": "code",
      "source": [
        "def print_numbers(*args):\n",
        "  for arg in args:\n",
        "    print(arg)\n",
        "\n",
        "print_numbers(1, 2, 3)\n",
        "print_numbers((4, 5), 6, [7, 8])"
      ],
      "metadata": {
        "colab": {
          "base_uri": "https://localhost:8080/"
        },
        "id": "M2x0JRKpaSle",
        "outputId": "4da3bde8-4825-4d88-e89c-230bc67206f4"
      },
      "execution_count": null,
      "outputs": [
        {
          "output_type": "stream",
          "name": "stdout",
          "text": [
            "1\n",
            "2\n",
            "3\n",
            "(4, 5)\n",
            "6\n",
            "[7, 8]\n"
          ]
        }
      ]
    },
    {
      "cell_type": "code",
      "source": [
        "def calculate_volume(length, width, height):\n",
        "  return length * width * height\n",
        "\n",
        "dimensions = (5, 10, 3)\n",
        "volume = calculate_volume(*dimensions)\n",
        "print(volume)"
      ],
      "metadata": {
        "colab": {
          "base_uri": "https://localhost:8080/"
        },
        "id": "-l_8fqU0aSoP",
        "outputId": "7442d849-6de9-402c-9e8a-c9c5e81e1732"
      },
      "execution_count": null,
      "outputs": [
        {
          "output_type": "stream",
          "name": "stdout",
          "text": [
            "150\n"
          ]
        }
      ]
    },
    {
      "cell_type": "code",
      "source": [
        "def greet(first_name, last_name):\n",
        "  print(f\"Hello, {first_name} {last_name}!\")\n",
        "\n",
        "# 딕셔너리 생성\n",
        "person = {'first_name': 'John', 'last_name': 'Doe'}\n",
        "\n",
        "# 딕셔너리 언패킹하여 함수 호출\n",
        "greet(**person)"
      ],
      "metadata": {
        "colab": {
          "base_uri": "https://localhost:8080/"
        },
        "id": "yBRp9eH2bU6X",
        "outputId": "c1b11253-aa54-483c-8464-bd221bb20bfa"
      },
      "execution_count": null,
      "outputs": [
        {
          "output_type": "stream",
          "name": "stdout",
          "text": [
            "Hello, John Doe!\n"
          ]
        }
      ]
    },
    {
      "cell_type": "code",
      "source": [
        "def introduce(name, age, city):\n",
        "  print(f\"My name is {name}, I am {age} years old and I live in {city}.\")\n",
        "\n",
        "# 딕셔너리 생성\n",
        "info = {'name': 'Alice', 'age': 30, 'city': 'New York'}\n",
        "\n",
        "# 딕셔너리 언패킹하여 함수 호출\n",
        "introduce(**info)"
      ],
      "metadata": {
        "colab": {
          "base_uri": "https://localhost:8080/"
        },
        "id": "pv_yZPXjcHL3",
        "outputId": "f2f3c060-c0ff-49a2-a48d-11692156f186"
      },
      "execution_count": null,
      "outputs": [
        {
          "output_type": "stream",
          "name": "stdout",
          "text": [
            "My name is Alice, I am 30 years old and I live in New York.\n"
          ]
        }
      ]
    },
    {
      "cell_type": "code",
      "source": [
        "def print_info(name, age, city='Unknown'):\n",
        "  print(f\"Name: {name}, Age: {age}, City: {city}\")\n",
        "\n",
        "# 딕셔너리 생성\n",
        "person_info = {\n",
        "    'name': 'Bob'\n",
        "    , 'age': 25\n",
        "    }\n",
        "\n",
        "# 딕셔너리 언패킹하여 함수 호출\n",
        "print_info(**person_info)"
      ],
      "metadata": {
        "colab": {
          "base_uri": "https://localhost:8080/"
        },
        "id": "Vgj2ib16ccpm",
        "outputId": "3cba4287-8106-4b60-9a8c-ff1d4dfafad8"
      },
      "execution_count": null,
      "outputs": [
        {
          "output_type": "stream",
          "name": "stdout",
          "text": [
            "Name: Bob, Age: 25, City: Unknown\n"
          ]
        }
      ]
    },
    {
      "cell_type": "markdown",
      "source": [
        "# 4. 함수(문법) : lambda 함수\n",
        "\n",
        "- 이름 없이 정의된 간단한 함수\n",
        "- 주로 간단한 연산이나 함수를 인자로 전달할 때 사용\n",
        "- 작은 익명함수\n",
        "- 함수 객체가 필요한 곳이면 어디서든지 사용 가능\n",
        "- 한 개의 문장(표현식)만 작성 가능\n",
        "- 중첩된 함수 정의와 마찬가지로 람다함수는 포함된 범위(scope)의 변수들을 참조 가능\n",
        "\n",
        "```\n",
        "lambda 매개변수 : 실행할 문장\n",
        "```"
      ],
      "metadata": {
        "id": "aLDgOl8Pcc_-"
      }
    },
    {
      "cell_type": "code",
      "source": [
        "def add(a, b):\n",
        "  return a+b\n",
        "add(1, 2)"
      ],
      "metadata": {
        "colab": {
          "base_uri": "https://localhost:8080/"
        },
        "id": "klP72gStcdB-",
        "outputId": "02abf148-4bfe-4f1f-9a7a-a8cac67f429a"
      },
      "execution_count": null,
      "outputs": [
        {
          "output_type": "execute_result",
          "data": {
            "text/plain": [
              "3"
            ]
          },
          "metadata": {},
          "execution_count": 107
        }
      ]
    },
    {
      "cell_type": "code",
      "source": [
        "add2 = lambda a, b : a+b\n",
        "add2(1, 2)"
      ],
      "metadata": {
        "colab": {
          "base_uri": "https://localhost:8080/"
        },
        "id": "t8T3wGEXkCdu",
        "outputId": "674f50ff-1dda-47df-a13f-eb99aba338a7"
      },
      "execution_count": null,
      "outputs": [
        {
          "output_type": "execute_result",
          "data": {
            "text/plain": [
              "3"
            ]
          },
          "metadata": {},
          "execution_count": 106
        }
      ]
    },
    {
      "cell_type": "code",
      "source": [
        "add = lambda x, y: x+y\n",
        "result = add(5, 3)\n",
        "print(result)"
      ],
      "metadata": {
        "colab": {
          "base_uri": "https://localhost:8080/"
        },
        "id": "ODl3t68NkCgF",
        "outputId": "d92f06ba-0d89-419e-ae2b-2044f1f2ae59"
      },
      "execution_count": null,
      "outputs": [
        {
          "output_type": "stream",
          "name": "stdout",
          "text": [
            "8\n"
          ]
        }
      ]
    },
    {
      "cell_type": "code",
      "source": [
        "numbers = [1, 2, 3, 4, 5]\n",
        "squared_numbers = list(map(lambda x: x**2, numbers))\n",
        "print(squared_numbers)"
      ],
      "metadata": {
        "colab": {
          "base_uri": "https://localhost:8080/"
        },
        "id": "9An1ITTokeXu",
        "outputId": "4f75571b-b755-4e6b-c8aa-2c9d4d424cd4"
      },
      "execution_count": null,
      "outputs": [
        {
          "output_type": "stream",
          "name": "stdout",
          "text": [
            "[1, 4, 9, 16, 25]\n"
          ]
        }
      ]
    },
    {
      "cell_type": "code",
      "source": [
        "max_value = lambda x, y: x if x > y else y\n",
        "result = max_value(10, 20)\n",
        "print(result)"
      ],
      "metadata": {
        "colab": {
          "base_uri": "https://localhost:8080/"
        },
        "id": "mVCV3wMvlfk-",
        "outputId": "d915f64e-c3ac-47e1-a79a-2ea55f59d070"
      },
      "execution_count": null,
      "outputs": [
        {
          "output_type": "stream",
          "name": "stdout",
          "text": [
            "20\n"
          ]
        }
      ]
    },
    {
      "cell_type": "code",
      "source": [
        "students = [\n",
        "    {\n",
        "      'name': 'John'\n",
        "      , 'grade': 90\n",
        "    },\n",
        "    {\n",
        "      'name': 'Jane'\n",
        "      , 'grade': 85\n",
        "    },\n",
        "    {\n",
        "      'name': 'Dave'\n",
        "      , 'grade': 92\n",
        "    }\n",
        "]\n",
        "\n",
        "sorted_students = sorted(students, key=lambda x: x['grade'])\n",
        "print(sorted_students)"
      ],
      "metadata": {
        "colab": {
          "base_uri": "https://localhost:8080/"
        },
        "id": "UkGwqMIFlsyl",
        "outputId": "73abf7a3-7e42-4615-9339-25af89eeb253"
      },
      "execution_count": null,
      "outputs": [
        {
          "output_type": "stream",
          "name": "stdout",
          "text": [
            "[{'name': 'Jane', 'grade': 85}, {'name': 'John', 'grade': 90}, {'name': 'Dave', 'grade': 92}]\n"
          ]
        }
      ]
    },
    {
      "cell_type": "code",
      "source": [
        "numbers = [1, 2, 3, 4, 5, 6]\n",
        "even_numbers = list(filter(lambda x: x % 2 == 0, numbers))\n",
        "print(even_numbers)"
      ],
      "metadata": {
        "colab": {
          "base_uri": "https://localhost:8080/"
        },
        "id": "gGPWuDiLmcYv",
        "outputId": "04f4b2af-1dae-4c8b-eafa-df9ee823993e"
      },
      "execution_count": null,
      "outputs": [
        {
          "output_type": "stream",
          "name": "stdout",
          "text": [
            "[2, 4, 6]\n"
          ]
        }
      ]
    },
    {
      "cell_type": "markdown",
      "source": [
        "# 4. 함수(문법) : built_in 함수\n",
        "\n",
        "- 파이썬 내장함수는 import 하지 않고 즉시 사용 가능한 함수\n",
        "\n",
        "[입출력 관련 함수]\n",
        "\n",
        "|함수명|기능|비고|\n",
        "|--|--|--|\n",
        "|print(x)|객체를 문자열로 표시||\n",
        "|input([prompt])|사용자 이벼력을 문자열로 반환||\n",
        "|help([x])|x에 대한 도움말을 출력||\n",
        "|golbals()|전역변수의 리스트를 반환||\n",
        "|locals()<br>vars()|지역변수의 리스트를 반환||\n",
        "|del(x)<br>del x|객체를 변수 공간에서 삭제||\n",
        "|eval(expr)|expr 문자열을 파이썬 코드로 실행||\n",
        "|exec(obj)|파이썬 명령을 실행||\n",
        "|open(filename[, mode])|파일 열기||\n",
        "\n",
        "[기본 자료형의 생성과 변환 함수]\n",
        "\n",
        "|함수명|기능|비고|\n",
        "|--|--|--|\n",
        "|object()|새로운 object (모든 객체의 base)를 생성||\n",
        "|bool(obj)|객체의 논리값을 반환||\n",
        "|int(obj)|문자열 형태의 숫자나 실수를 정수로 변환||\n",
        "|float(obj)|문자열 형태의 숫자나 정수를 실수로 변환||\n",
        "|complex(real, imag)|실수부(real)와 허수부(imag)로 복소수를 생성||\n",
        "\n",
        "[기본 자료형의 정보를 얻는 함수]\n",
        "\n",
        "|함수명|기능|비고|\n",
        "|--|--|--|\n",
        "|type(obj)|객체의 형을 반환||\n",
        "|dir(obj)|객체가 가진 함수와 변수들을 리스트 형태로 반환||\n",
        "|repr(obj)|eval() 함수로 다시 객체를 복원할 수 있는 문자열을 생성||\n",
        "|ascii(obj)|repr()과 유사하나 non-ascii 문자는 escape||\n",
        "|id(obg)|객체의 고유번호(int형)를 반환||\n",
        "|hash(obj)|객체의 해시값(int)형을 반환(같은 값이면 해시값도 같음)||\n",
        "|chr(num)|ASCII 값을 문자로 반환||\n",
        "|ord(str)|한 문자의 ASCII 값을 반환||\n",
        "|isinstance(obj, Class)|객체가 클래스의 인스턴스인지를 판단||\n",
        "|issubclass(Sub, Super)|Sub클래스 Super클래스의 자식클래스이면 True를 반환||\n",
        "\n",
        "[열거형 정보를 얻는 함수]\n",
        "\n",
        "|함수명|기능|비고|\n",
        "|--|--|--|\n",
        "|len(seq)|시퀀스형을 받아서 그 길이를 반환||\n",
        "|iter(obj[, sentinel])|객체의 이터레이터(iterator)를 반환||\n",
        "|next(iterator)|iterator의 현재 요소를 반환하고 포인터를 하나 넘김||\n",
        "|enumerat(iterator)|iterator 객체에서 enumerate 형을 반환.<br>입력값으로 시퀀스 자료형(리스트, 튜플, 문자열)을 입력||\n",
        "|sorted(iterable[, key][, reverse])|정렬된 리스트를 반환||\n",
        "|reversed(seq)|역순으로 된 iterator를 반환||\n",
        "|filter(func, iterable)|iterable 객체의 각 요소 중 func()의 반환 값이 참인 것만 묶어서 iterator로 반환||\n",
        "|map(func, iterable)|iterable 개체의 각 요소를 func()의 반환값으로 매핑해서 iterator로 반환||\n",
        "\n",
        "[산술/논리 연산과 관련된 함수]\n",
        "\n",
        "|함수명|기능|비고|\n",
        "|--|--|--|\n",
        "|hex(n)|정수 n의 16진수 값을 구해서 '문자열'로 반환||\n",
        "|oct(n)|정수 n의 8진수 값을 구해서 '문자열'로 반환||\n",
        "|bin(n)|정수 n의 2진수 값을 구해서 '문자열'로 반환||\n",
        "|abs(n)|절댓값을 구하기. 복소수의 경우 크기를 구함||\n",
        "|pow(x, y[, x])|거듭제곱 구하기|pow(x, y) = x ** y|\n",
        "|divmod(a, b)|a를 b로 나눈 몫과 나머지를 튜플 형식(몫, 나머지)으로 반환||\n",
        "|all(iterable)|iterable의 모든 요소가 True일 경우 True를 반환||\n",
        "|any(iterable)|iterable의 하나 이상의 요소가 True일 경우 True를 반환||\n",
        "|max(iterable)|최댓값 구하기|max(arg1, ar2, ...) 형식으로 사용|\n",
        "|min(iterable)|최솟값 구하기|min(arg1, ar2, ...) 형식으로 사용|\n",
        "|round()|반올림 구하기|ceil과 floor 함수는 numpy 패키지에 존재함|\n",
        "\n",
        "[리스트 관련 함수]\n",
        "\n",
        "|함수명|기능|비고|\n",
        "|--|--|--|\n",
        "|append|리스트의 마지막에 요소를 추가|리스트를 직접 수정|\n",
        "|extend|리스트에 다른 리스트나 iterable의 모든 요소를 추가|리스트를 직접 수정|\n",
        "|insert|지정한 위치에 요소를 삽입|리스트를 직접 수정|\n",
        "|remove|리스트에서 첫 번째로 일치하는 요소를 제거|리스트를 직접 수정|\n",
        "|pop|리스트에서 지정한 위치의 요소를 제거하고 반환|인덱스를 지정하지 않으면 마지막 요소를 제거|\n",
        "|clear|리스트의 모든 요소를 제거|리스트를 직접 수정|\n",
        "|index|리스트에서 첫 번째로 일치하는 요소의 인덱스를 반환|요소가 존재하지 않으면 ValueError 발생|\n",
        "|count|리스트에서 특정 요소의 개수를 세어 반환||\n",
        "|sort|리스트의 요소를 정렬|리스트를 직접 수정|\n",
        "|reverse|리스트의 요소 순서를 반대로 변경|리스트를 직접 수정|\n",
        "|copy|리스트를 얕은 복사하여 새로운 리스트를 반환||"
      ],
      "metadata": {
        "id": "Lz96K3s7QlLw"
      }
    },
    {
      "cell_type": "code",
      "source": [
        "# eval() : 문자열로 된 표현식을 실행하여 그 결과를 반환\n",
        "expression = \"2 + 3 * 4\"\n",
        "result = eval(expression)\n",
        "print(result)\n",
        "\n",
        "# 변수를 사용한 eval()\n",
        "x = 10\n",
        "expression_with_var = \"x*2\"\n",
        "result_with_var = eval(expression_with_var)\n",
        "print(result_with_var)"
      ],
      "metadata": {
        "colab": {
          "base_uri": "https://localhost:8080/"
        },
        "id": "4vffZy0QQpXQ",
        "outputId": "aa807579-50c7-4d1c-a8bb-7ca5baab887c"
      },
      "execution_count": null,
      "outputs": [
        {
          "output_type": "stream",
          "name": "stdout",
          "text": [
            "14\n",
            "20\n"
          ]
        }
      ]
    },
    {
      "cell_type": "code",
      "source": [
        "# isintance() : 객체가 특정 클래스 또는 클래스 튜플에 속하는지 확인하는데 사용\n",
        "num = 10\n",
        "\n",
        "if isinstance(num, int):\n",
        "  print(\"int 입니다.\")\n",
        "else:\n",
        "  print(\"int가 아닙니다.\")"
      ],
      "metadata": {
        "colab": {
          "base_uri": "https://localhost:8080/"
        },
        "id": "VwNneE9tdn0O",
        "outputId": "32ca7452-8b5a-4129-f734-773fdba84522"
      },
      "execution_count": null,
      "outputs": [
        {
          "output_type": "stream",
          "name": "stdout",
          "text": [
            "int 입니다.\n"
          ]
        }
      ]
    },
    {
      "cell_type": "code",
      "source": [
        "# type() :\n",
        "num = 10\n",
        "text = \"Hello\"\n",
        "lst = [1, 2, 3]\n",
        "\n",
        "print(type(num))\n",
        "print(type(text))\n",
        "print(type(lst))"
      ],
      "metadata": {
        "colab": {
          "base_uri": "https://localhost:8080/"
        },
        "id": "y-TLsM9deUkH",
        "outputId": "0b6465ee-3e50-4ac3-eda2-d57606e21022"
      },
      "execution_count": null,
      "outputs": [
        {
          "output_type": "stream",
          "name": "stdout",
          "text": [
            "<class 'int'>\n",
            "<class 'str'>\n",
            "<class 'list'>\n"
          ]
        }
      ]
    },
    {
      "cell_type": "markdown",
      "source": [
        "<hr>"
      ],
      "metadata": {
        "id": "B_cbKkdYdpHY"
      }
    },
    {
      "cell_type": "markdown",
      "source": [
        "## 수업 문제 1\n",
        "\n",
        "- function 만들기\n"
      ],
      "metadata": {
        "id": "5hd0lCIMcPb4"
      }
    },
    {
      "cell_type": "code",
      "source": [
        "# 모음 개수 세는 함수\n",
        "user_answer = input(\"모음의 갯수를 셀 문자를 입력하세요 \")\n",
        "\n",
        "def count_vowels(input_string):\n",
        "    \"\"\"\n",
        "    입력받은 값에서 모음의 갯수를 구하는 함수\n",
        "\n",
        "    매개변수로 입력받은 값을 할당한 변수(user_answer) 인수로 넣어줍니다.\n",
        "    모음의 개수를 반환합니다.\n",
        "\n",
        "    반환된 값을 새로운 변수에 담아 활용할 수 있습니다.\n",
        "\n",
        "    \"\"\"\n",
        "\n",
        "    vowels = \"aeiouAEIOU\"\n",
        "    count = 0\n",
        "    for char in input_string:\n",
        "        if char in vowels:\n",
        "            count += 1\n",
        "    return count\n",
        "\n",
        "answer = count_vowels(user_answer)\n",
        "\n",
        "print(f\"입력받은 값 {user_answer}의 모음 개수는 {answer}개 입니다.\")"
      ],
      "metadata": {
        "colab": {
          "base_uri": "https://localhost:8080/"
        },
        "id": "JqZDozqUaxwH",
        "outputId": "97f4371e-9e77-4593-bbf2-3a9c4cd4460f"
      },
      "execution_count": null,
      "outputs": [
        {
          "output_type": "stream",
          "name": "stdout",
          "text": [
            "모음의 갯수를 셀 문자를 입력하세요 apple\n",
            "입력받은 값 apple의 모음 개수는 2개 입니다.\n"
          ]
        }
      ]
    },
    {
      "cell_type": "markdown",
      "source": [
        "## 수업 문제 2\n",
        "\n",
        "- 전역변수를  함수에서 global로 선언하여 함수내에서 사용한 코드를 작성후 공유해봅시다.\n"
      ],
      "metadata": {
        "id": "IFxaT5e6cp7P"
      }
    },
    {
      "cell_type": "code",
      "source": [
        "# 자음 모음 개수 세는 함수\n",
        "user_answer = input(\"자음과 모음의 갯수를 셀 문자를 입력하세요 \")\n",
        "\n",
        "vowels = \"aeiou\"\n",
        "consonants = \"bcdfghjklmnpqrstvwxyzBCDFGHJKLMNPQRSTVWXYZ\"\n",
        "\n",
        "def count_vowels(input_string):\n",
        "    \"\"\"\n",
        "    입력받은 값에서 자음과 모음의 갯수를 구하는 함수\n",
        "\n",
        "    매개변수로 입력받은 값을 할당한 변수(user_answer) 인수로 넣어줍니다.\n",
        "    자음과 모음의 개수를 반환합니다.\n",
        "\n",
        "    반환된 값을 새로운 변수에 담아 활용할 수 있습니다.\n",
        "    \"\"\"\n",
        "    global vowels\n",
        "    vowels = \"aeiouAEIOU\"\n",
        "\n",
        "    vowels_count, consonants_count = 0, 0\n",
        "\n",
        "    for vowels_char in input_string:\n",
        "        if vowels_char in vowels:\n",
        "            vowels_count += 1\n",
        "    for consonants_char in input_string:\n",
        "        if consonants_char in consonants:\n",
        "            consonants_count += 1\n",
        "\n",
        "    return vowels_count, consonants_count\n",
        "\n",
        "count1, count2 = count_vowels(user_answer)\n",
        "\n",
        "print(f\"입력받은 값 {user_answer}의 자음 개수는 {count2}개, 모음 개수는 {count1}개 입니다.\")"
      ],
      "metadata": {
        "colab": {
          "base_uri": "https://localhost:8080/"
        },
        "id": "F4VulXFQgwle",
        "outputId": "868633ac-ed85-4a1a-b4a5-f5a67e21c6b5"
      },
      "execution_count": null,
      "outputs": [
        {
          "output_type": "stream",
          "name": "stdout",
          "text": [
            "자음과 모음의 갯수를 셀 문자를 입력하세요 korea\n",
            "입력받은 값 korea의 자음 개수는 2개, 모음 개수는 3개 입니다.\n"
          ]
        }
      ]
    },
    {
      "cell_type": "markdown",
      "source": [
        "## 수업 문제 3\n",
        "\n",
        "- 피보나치 수열의 개념을 정리하고 코드를 수정작성하여 공유해봅시다.\n"
      ],
      "metadata": {
        "id": "z-RGKP_FiX4x"
      }
    },
    {
      "cell_type": "code",
      "source": [
        "a, b = 0, 1\n",
        "\n",
        "def fibonacci(n: int) -> list:\n",
        "    \"\"\"\n",
        "    피보나치 수열을 나열하는 함수\n",
        "\n",
        "    이 함수는 피보나치 수열을 나열할 최대 숫자를 입력하면 해당 숫자 이하까지의 피보나치 수열을 반환합니다.\n",
        "    매개변수를 정수 Type 으로 반환하지 않으면 TypeError가 발생합니다.\n",
        "\n",
        "    Parameters:\n",
        "    n (int): 수열을 나열할 최대 정수입니다.\n",
        "\n",
        "    Returns:\n",
        "    list: 나열된 피보나치 수열입니다.\n",
        "\n",
        "    Raises:\n",
        "    TypeError: If 'n' is not an integer.\n",
        "\n",
        "    Example:\n",
        "    >>> fibonacci(50)\n",
        "    [0, 1, 1, 2, 3, 5, 8, 13, 21, 34]\n",
        "    \"\"\"\n",
        "\n",
        "    if not isinstance(n, int):\n",
        "        raise TypeError(\"입력값이 숫자가 아닙니다.\")\n",
        "\n",
        "    global a, b\n",
        "    answer = []\n",
        "\n",
        "    while a <= n:\n",
        "        answer.append(a)\n",
        "        a, b = b, a + b\n",
        "\n",
        "    return answer\n",
        "\n",
        "# 사용자 입력 받기\n",
        "n = input(\"피보나치 수열을 나열할 최대 숫자를 입력하세요: \")\n",
        "\n",
        "try:\n",
        "    n = int(n)\n",
        "    print(fibonacci(n))\n",
        "except ValueError:\n",
        "    print(\"입력값이 숫자가 아닙니다.\")\n"
      ],
      "metadata": {
        "id": "sn4RLfq_rIld",
        "colab": {
          "base_uri": "https://localhost:8080/"
        },
        "outputId": "a2b547dc-e889-4a96-8c49-e70ca0886ba6"
      },
      "execution_count": null,
      "outputs": [
        {
          "output_type": "stream",
          "name": "stdout",
          "text": [
            "피보나치 수열을 나열할 최대 숫자를 입력하세요: 10\n",
            "[0, 1, 1, 2, 3, 5, 8]\n"
          ]
        }
      ]
    },
    {
      "cell_type": "code",
      "source": [
        "def fibonacci(n: int, start1: int, start2: int) -> list:\n",
        "    \"\"\"\n",
        "    피보나치 수열을 나열하는 함수 (시작 값을 변경 가능)\n",
        "\n",
        "    이 함수는 피보나치 수열을 나열할 최대 숫자를 입력하면 해당 숫자 이하까지의 피보나치 수열을 반환합니다.\n",
        "    시작 값을 변경하여 다양한 수열을 생성할 수 있습니다. 매개변수를 정수 Type으로 반환하지 않으면 TypeError가 발생합니다.\n",
        "\n",
        "    Parameters:\n",
        "    n (int): 수열을 나열할 최대 정수입니다.\n",
        "    start1 (int): 첫 번째 시작 값입니다.\n",
        "    start2 (int): 두 번째 시작 값입니다.\n",
        "\n",
        "    Returns:\n",
        "    list: 나열된 피보나치 수열입니다.\n",
        "\n",
        "    Raises:\n",
        "    TypeError: If 'n', 'start1', 또는 'start2'가 정수가 아닌 경우.\n",
        "\n",
        "    Example:\n",
        "    >>> fibonacci(50, 0, 1)\n",
        "    [0, 1, 1, 2, 3, 5, 8, 13, 21, 34]\n",
        "    >>> fibonacci(50, 1, 1)\n",
        "    [1, 1, 2, 3, 5, 8, 13, 21, 34]\n",
        "    \"\"\"\n",
        "\n",
        "    if not isinstance(n, int) or not isinstance(start1, int) or not isinstance(start2, int):\n",
        "        raise TypeError(\"입력값이 숫자가 아닙니다.\")\n",
        "\n",
        "    a, b = start1, start2\n",
        "    answer = []\n",
        "\n",
        "    while a <= n:\n",
        "        answer.append(a)\n",
        "        a, b = b, a + b\n",
        "\n",
        "    return answer\n",
        "\n",
        "# 사용자 입력 받기\n",
        "n = input(\"피보나치 수열을 나열할 최대 숫자를 입력하세요: \")\n",
        "start1 = input(\"첫 번째 시작 값을 입력하세요: \")\n",
        "start2 = input(\"두 번째 시작 값을 입력하세요: \")\n",
        "\n",
        "try:\n",
        "    n = int(n)\n",
        "    start1 = int(start1)\n",
        "    start2 = int(start2)\n",
        "    print(fibonacci(n, start1, start2))\n",
        "except ValueError:\n",
        "    print(\"입력값이 숫자가 아닙니다.\")\n"
      ],
      "metadata": {
        "colab": {
          "base_uri": "https://localhost:8080/"
        },
        "id": "BNRoL0FXLKpf",
        "outputId": "b8065ffc-123c-4941-e709-b30692bc9f16"
      },
      "execution_count": null,
      "outputs": [
        {
          "output_type": "stream",
          "name": "stdout",
          "text": [
            "피보나치 수열을 나열할 최대 숫자를 입력하세요: 50\n",
            "첫 번째 시작 값을 입력하세요: 2\n",
            "두 번째 시작 값을 입력하세요: 3\n",
            "[2, 3, 5, 8, 13, 21, 34]\n"
          ]
        }
      ]
    },
    {
      "cell_type": "markdown",
      "source": [
        "## 수업 문제 4\n",
        "\n",
        "- 여러 개의 리턴값이 있는 함수를 사용한 코드를 작성후  공유해봅시다. (주요 용어 : tuple, unpacking)\n"
      ],
      "metadata": {
        "id": "SRgis2k-OvSe"
      }
    },
    {
      "cell_type": "code",
      "source": [
        "# 통계 계산기\n",
        "import numpy as np\n",
        "\n",
        "def statistics_calculator(numbers: list) -> tuple:\n",
        "    \"\"\"\n",
        "    통계 계산기 함수\n",
        "\n",
        "    이 함수는 숫자 리스트를 입력받아 평균, 중앙값, 분산, 표준 편차를 반환합니다.\n",
        "\n",
        "    Parameters:\n",
        "    numbers (list): 숫자 리스트입니다.\n",
        "\n",
        "    Returns:\n",
        "    tuple: 평균, 중앙값, 분산, 표준 편차를 포함한 튜플입니다.\n",
        "    \"\"\"\n",
        "\n",
        "    # 평균\n",
        "    mean_num = np.mean(numbers)\n",
        "    # 중앙값\n",
        "    median_num = np.median(numbers)\n",
        "    # 분산\n",
        "    variance_num = np.var(numbers)\n",
        "    # 표준 편차\n",
        "    deviation_num = np.std(numbers)\n",
        "\n",
        "    return mean_num, median_num, variance_num, deviation_num\n",
        "\n",
        "# 사용자 입력 받기\n",
        "input_str = input(\"통계 계산기를 적용할 숫자를 전부 띄어쓰기하여 입력해주세요: \")\n",
        "\n",
        "try:\n",
        "    list_num = list(map(int, input_str.split()))\n",
        "    result_mean, result_median, result_variance, result_deviation = statistics_calculator(list_num)\n",
        "    print(f\"평균: {result_mean}, 중앙값: {result_median}, 분산: {result_variance}, 표준 편차: {result_deviation}\")\n",
        "except ValueError:\n",
        "    print(\"입력값 중에 숫자가 아닌 값이 있습니다. 올바른 숫자를 입력해주세요.\")\n",
        "except TypeError as e:\n",
        "    print(f\"입력값 처리 중 오류가 발생했습니다: {e}\")\n"
      ],
      "metadata": {
        "colab": {
          "base_uri": "https://localhost:8080/"
        },
        "id": "RNAOMZhdPxAd",
        "outputId": "f95f3c43-d0c4-4e4d-cc60-ef358e4c7f6e"
      },
      "execution_count": null,
      "outputs": [
        {
          "output_type": "stream",
          "name": "stdout",
          "text": [
            "통계 계산기를 적용할 숫자를 전부 띄어쓰기하여 입력해주세요: 1 2 3 \n",
            "평균: 2.0, 중앙값: 2.0, 분산: 0.6666666666666666, 표준 편차: 0.816496580927726\n"
          ]
        }
      ]
    },
    {
      "cell_type": "markdown",
      "source": [
        "## 수업 문제 5\n",
        "\n",
        "- 위치인수와 키워드 인수가 있는 함수를 사용한 코드를 작성 후 공유해봅시다.\n",
        "\n"
      ],
      "metadata": {
        "id": "KF-DwTCmV2Ze"
      }
    },
    {
      "cell_type": "code",
      "source": [
        "from datetime import datetime\n",
        "\n",
        "def calculate_ad_budget(ad_startdate, ad_enddate, cpc_amount=50, daily_impressions=0):\n",
        "    \"\"\"\n",
        "    광고 예산 계산 함수\n",
        "\n",
        "    Parameters:\n",
        "    ad_startdate (str): 광고 집행 시작일 (형식: 'xxxx-xx-xx')\n",
        "    ad_enddate (str): 광고 집행 마감일 (형식: 'xxxx-xx-xx')\n",
        "    cpc_amount (float): CPC 금액\n",
        "    daily_impressions (int): 일당 노출 횟수\n",
        "\n",
        "    Returns:\n",
        "    tuple: 광고 기간, 총 광고 예산\n",
        "    \"\"\"\n",
        "    # 광고 집행 시작일 변환\n",
        "    ad_startdate_parts = list(map(int, ad_startdate.split('-')))\n",
        "    ad_startdate = datetime(ad_startdate_parts[0], ad_startdate_parts[1], ad_startdate_parts[2], 0, 0, 0)\n",
        "\n",
        "    # 광고 집행 마감일 변환\n",
        "    ad_enddate_parts = list(map(int, ad_enddate.split('-')))\n",
        "    ad_enddate = datetime(ad_enddate_parts[0], ad_enddate_parts[1], ad_enddate_parts[2], 23, 59, 59)\n",
        "\n",
        "    # 광고 기간 계산\n",
        "    ad_duration = (ad_enddate - ad_startdate).days + 1\n",
        "\n",
        "    # CPC 금액을 정수로 변환\n",
        "    cpc_amount = int(cpc_amount)\n",
        "\n",
        "    # 총 광고 예산 계산\n",
        "    total_budget = cpc_amount * daily_impressions * ad_duration\n",
        "\n",
        "    return cpc_amount, ad_duration, total_budget\n",
        "\n",
        "# 키워드 인수와 위치 인수를 사용하여 함수 호출\n",
        "ad_startdate_input = input(\"광고 집행 시작일(xxxx-xx-xx)으로 입력하세요 (광고 집행은 00시 00분 00초부터 진행됩니다.): \")\n",
        "ad_enddate_input = input(\"광고 집행 마감일(xxxx-xx-xx)으로 입력하세요 (광고 집행은 23시 59분 59초까지 진행됩니다.): \")\n",
        "\n",
        "cpc_amount_input = input(\"CPC 금액을 입력하세요 (입력하지 않으면 평균단가 50원이 사용됩니다): \")\n",
        "\n",
        "if cpc_amount_input == \"\":\n",
        "    cpc_amount = 50\n",
        "else:\n",
        "    cpc_amount = float(cpc_amount_input)\n",
        "\n",
        "daily_impressions = int(input(\"일당 노출 횟수를 입력하세요: \"))\n",
        "\n",
        "# 함수 호출\n",
        "cpc_amount, ad_duration, total_budget = calculate_ad_budget(ad_startdate_input, ad_enddate_input, cpc_amount=cpc_amount, daily_impressions=daily_impressions)\n",
        "\n",
        "print(f\"광고 기간은 총 {ad_duration}일입니다.\")\n",
        "print(f\"CPC 금액은 {cpc_amount}원이며 총 광고 예산은 {total_budget}원입니다.\")"
      ],
      "metadata": {
        "colab": {
          "base_uri": "https://localhost:8080/"
        },
        "id": "KgKLoznybWe1",
        "outputId": "9b3a3708-b722-40de-b9fe-5ca3d515284a"
      },
      "execution_count": null,
      "outputs": [
        {
          "output_type": "stream",
          "name": "stdout",
          "text": [
            "광고 집행 시작일(xxxx-xx-xx)으로 입력하세요 (광고 집행은 00시 00분 00초부터 진행됩니다.): 2024-07-04\n",
            "광고 집행 마감일(xxxx-xx-xx)으로 입력하세요 (광고 집행은 23시 59분 59초까지 진행됩니다.): 2024-07-05\n",
            "CPC 금액을 입력하세요 (입력하지 않으면 평균단가 50원이 사용됩니다): \n",
            "일당 노출 횟수를 입력하세요: 100\n",
            "광고 기간은 총 2일입니다.\n",
            "CPC 금액은 50원이며 총 광고 예산은 10000원입니다.\n"
          ]
        }
      ]
    },
    {
      "cell_type": "markdown",
      "source": [
        "## 수업 문제 6\n",
        "\n",
        "- 가변인수가 있는 함수를 사용한 코드를 작성후 공유해 봅시다"
      ],
      "metadata": {
        "id": "pyMLGlZ4pCqb"
      }
    },
    {
      "cell_type": "code",
      "source": [
        "# 사용자 파이썬 학습 능력 정보 입력 함수\n",
        "def get_user_input():\n",
        "    \"\"\"\n",
        "    사용자 파이썬 학습 능력 정보 입력 함수\n",
        "    사용자로부터 이름, 파이썬 학습 경험, 그리고 파이썬 활용 가능 여부를 입력받아 딕셔너리 형태로 반환하는 함수입니다.\n",
        "\n",
        "    Returns:\n",
        "    dict: 사용자 정보를 담은 딕셔너리. 'name' (str), 'python_availability' (int),\n",
        "          'learning_ability_level' (int) 키를 포함합니다.\n",
        "    \"\"\"\n",
        "    user_info = {}\n",
        "    user_info['name'] = input(\"이름: \")\n",
        "\n",
        "    while True:\n",
        "        try:\n",
        "            python_availability = int(input(\"파이썬 학습 경험이 있다면 '1', 없다면 '0': \"))\n",
        "            if python_availability not in (0, 1):\n",
        "                raise ValueError(\"입력값(1 또는 0만을 사용하여 올바르게 다시 입력해주세요.\")\n",
        "            user_info['python_availability'] = python_availability\n",
        "            break\n",
        "        except ValueError:\n",
        "            print(\"입력값(1 또는 0)만을 사용하여 올바르게 다시 입력해주세요.\")\n",
        "\n",
        "    while True:\n",
        "        try:\n",
        "            learning_ability_level = int(input(\"파이썬 활용 가능 여부를 입력해주세요 (1: 전혀 활용할 수 없다, 2: 조금 활용할 수 있다, 3: 활용할 수 있다, 4: 잘 활용할 수 있다): \"))\n",
        "            if learning_ability_level not in (1, 2, 3, 4):\n",
        "                raise ValueError(\"입력값(1 또는 0만을 사용하여 올바르게 다시 입력해주세요.\")\n",
        "            user_info['learning_ability_level'] = learning_ability_level\n",
        "            break\n",
        "        except ValueError:\n",
        "            print(\"입력값(1, 2, 3, 4)만을 사용하여 올바르게 다시 입력해주세요.\")\n",
        "\n",
        "    return user_info\n",
        "\n",
        "# 파이썬 강의 추천 프로그램\n",
        "def curriculum_recommend(name, **kwargs):\n",
        "    \"\"\"\n",
        "    파이썬 강의 추천 프로그램\n",
        "    사용자 정보에 따라 파이썬 과정을 추천합니다.\n",
        "\n",
        "    Parameters:\n",
        "    name (str): 사용자 이름\n",
        "    kwargs (dict): 'python_availability' (int) 및 'learning_ability_level' (int)를 포함하는 키워드 인수\n",
        "\n",
        "    Returns:\n",
        "    str: 추천 과정 수준 ('Beginner', 'Intermediate', 'Advanced')\n",
        "    \"\"\"\n",
        "    python_availability = kwargs.get('python_availability', 0)\n",
        "    learning_ability_level = kwargs.get('learning_ability_level', 1)\n",
        "\n",
        "    curriculum = ('Beginner', 'Intermediate', 'Advanced')\n",
        "\n",
        "    if python_availability == 0:\n",
        "        return curriculum[0]\n",
        "    else:\n",
        "        if learning_ability_level == 1:\n",
        "            return curriculum[0]\n",
        "        elif learning_ability_level in (2, 3):\n",
        "            return curriculum[1]\n",
        "        else:\n",
        "            return curriculum[2]\n",
        "\n",
        "# 사용자 입력 받기\n",
        "user_info = get_user_input()\n",
        "\n",
        "# 함수 호출\n",
        "recommended_course = curriculum_recommend(**user_info)\n",
        "# 출력\n",
        "print(f\"{user_info['name']}님, Python {recommended_course} 강의를 추천드립니다!\")\n"
      ],
      "metadata": {
        "colab": {
          "base_uri": "https://localhost:8080/",
          "height": 391
        },
        "id": "zyQyyOY6IrRz",
        "outputId": "76ac4239-5921-4e34-c370-fb60588a53f7"
      },
      "execution_count": null,
      "outputs": [
        {
          "output_type": "error",
          "ename": "KeyboardInterrupt",
          "evalue": "Interrupted by user",
          "traceback": [
            "\u001b[0;31m---------------------------------------------------------------------------\u001b[0m",
            "\u001b[0;31mKeyboardInterrupt\u001b[0m                         Traceback (most recent call last)",
            "\u001b[0;32m<ipython-input-100-f6527d6a4cf9>\u001b[0m in \u001b[0;36m<cell line: 65>\u001b[0;34m()\u001b[0m\n\u001b[1;32m     63\u001b[0m \u001b[0;34m\u001b[0m\u001b[0m\n\u001b[1;32m     64\u001b[0m \u001b[0;31m# 사용자 입력 받기\u001b[0m\u001b[0;34m\u001b[0m\u001b[0;34m\u001b[0m\u001b[0m\n\u001b[0;32m---> 65\u001b[0;31m \u001b[0muser_info\u001b[0m \u001b[0;34m=\u001b[0m \u001b[0mget_user_input\u001b[0m\u001b[0;34m(\u001b[0m\u001b[0;34m)\u001b[0m\u001b[0;34m\u001b[0m\u001b[0;34m\u001b[0m\u001b[0m\n\u001b[0m\u001b[1;32m     66\u001b[0m \u001b[0;34m\u001b[0m\u001b[0m\n\u001b[1;32m     67\u001b[0m \u001b[0;31m# 함수 호출\u001b[0m\u001b[0;34m\u001b[0m\u001b[0;34m\u001b[0m\u001b[0m\n",
            "\u001b[0;32m<ipython-input-100-f6527d6a4cf9>\u001b[0m in \u001b[0;36mget_user_input\u001b[0;34m()\u001b[0m\n\u001b[1;32m     10\u001b[0m     \"\"\"\n\u001b[1;32m     11\u001b[0m     \u001b[0muser_info\u001b[0m \u001b[0;34m=\u001b[0m \u001b[0;34m{\u001b[0m\u001b[0;34m}\u001b[0m\u001b[0;34m\u001b[0m\u001b[0;34m\u001b[0m\u001b[0m\n\u001b[0;32m---> 12\u001b[0;31m     \u001b[0muser_info\u001b[0m\u001b[0;34m[\u001b[0m\u001b[0;34m'name'\u001b[0m\u001b[0;34m]\u001b[0m \u001b[0;34m=\u001b[0m \u001b[0minput\u001b[0m\u001b[0;34m(\u001b[0m\u001b[0;34m\"이름: \"\u001b[0m\u001b[0;34m)\u001b[0m\u001b[0;34m\u001b[0m\u001b[0;34m\u001b[0m\u001b[0m\n\u001b[0m\u001b[1;32m     13\u001b[0m \u001b[0;34m\u001b[0m\u001b[0m\n\u001b[1;32m     14\u001b[0m     \u001b[0;32mwhile\u001b[0m \u001b[0;32mTrue\u001b[0m\u001b[0;34m:\u001b[0m\u001b[0;34m\u001b[0m\u001b[0;34m\u001b[0m\u001b[0m\n",
            "\u001b[0;32m/usr/local/lib/python3.10/dist-packages/ipykernel/kernelbase.py\u001b[0m in \u001b[0;36mraw_input\u001b[0;34m(self, prompt)\u001b[0m\n\u001b[1;32m    849\u001b[0m                 \u001b[0;34m\"raw_input was called, but this frontend does not support input requests.\"\u001b[0m\u001b[0;34m\u001b[0m\u001b[0;34m\u001b[0m\u001b[0m\n\u001b[1;32m    850\u001b[0m             )\n\u001b[0;32m--> 851\u001b[0;31m         return self._input_request(str(prompt),\n\u001b[0m\u001b[1;32m    852\u001b[0m             \u001b[0mself\u001b[0m\u001b[0;34m.\u001b[0m\u001b[0m_parent_ident\u001b[0m\u001b[0;34m,\u001b[0m\u001b[0;34m\u001b[0m\u001b[0;34m\u001b[0m\u001b[0m\n\u001b[1;32m    853\u001b[0m             \u001b[0mself\u001b[0m\u001b[0;34m.\u001b[0m\u001b[0m_parent_header\u001b[0m\u001b[0;34m,\u001b[0m\u001b[0;34m\u001b[0m\u001b[0;34m\u001b[0m\u001b[0m\n",
            "\u001b[0;32m/usr/local/lib/python3.10/dist-packages/ipykernel/kernelbase.py\u001b[0m in \u001b[0;36m_input_request\u001b[0;34m(self, prompt, ident, parent, password)\u001b[0m\n\u001b[1;32m    893\u001b[0m             \u001b[0;32mexcept\u001b[0m \u001b[0mKeyboardInterrupt\u001b[0m\u001b[0;34m:\u001b[0m\u001b[0;34m\u001b[0m\u001b[0;34m\u001b[0m\u001b[0m\n\u001b[1;32m    894\u001b[0m                 \u001b[0;31m# re-raise KeyboardInterrupt, to truncate traceback\u001b[0m\u001b[0;34m\u001b[0m\u001b[0;34m\u001b[0m\u001b[0m\n\u001b[0;32m--> 895\u001b[0;31m                 \u001b[0;32mraise\u001b[0m \u001b[0mKeyboardInterrupt\u001b[0m\u001b[0;34m(\u001b[0m\u001b[0;34m\"Interrupted by user\"\u001b[0m\u001b[0;34m)\u001b[0m \u001b[0;32mfrom\u001b[0m \u001b[0;32mNone\u001b[0m\u001b[0;34m\u001b[0m\u001b[0;34m\u001b[0m\u001b[0m\n\u001b[0m\u001b[1;32m    896\u001b[0m             \u001b[0;32mexcept\u001b[0m \u001b[0mException\u001b[0m \u001b[0;32mas\u001b[0m \u001b[0me\u001b[0m\u001b[0;34m:\u001b[0m\u001b[0;34m\u001b[0m\u001b[0;34m\u001b[0m\u001b[0m\n\u001b[1;32m    897\u001b[0m                 \u001b[0mself\u001b[0m\u001b[0;34m.\u001b[0m\u001b[0mlog\u001b[0m\u001b[0;34m.\u001b[0m\u001b[0mwarning\u001b[0m\u001b[0;34m(\u001b[0m\u001b[0;34m\"Invalid Message:\"\u001b[0m\u001b[0;34m,\u001b[0m \u001b[0mexc_info\u001b[0m\u001b[0;34m=\u001b[0m\u001b[0;32mTrue\u001b[0m\u001b[0;34m)\u001b[0m\u001b[0;34m\u001b[0m\u001b[0;34m\u001b[0m\u001b[0m\n",
            "\u001b[0;31mKeyboardInterrupt\u001b[0m: Interrupted by user"
          ]
        }
      ]
    },
    {
      "cell_type": "markdown",
      "source": [
        "## 수업 문제 7\n",
        "\n",
        "- 언팩킹을 활용한 코드를 작성후 공유해 봅시다."
      ],
      "metadata": {
        "id": "Z3BSbZPEc_LX"
      }
    },
    {
      "cell_type": "code",
      "source": [
        "# 영화 정보 출력 프로그램\n",
        "\n",
        "def print_info(movie_name, movie_date, movie_director, movie_actor='Unknown'):\n",
        "  print(f\"Movie_name: {movie_name}, Movie_date: {movie_date}, 'Movie_director': {movie_director}, 'Movie_actor': {movie_actor}\")\n",
        "\n",
        "# Database에서 DB를 불러와 dict로 저장(임시로 딕셔너리 dummy data 생성)\n",
        "movie_info = [\n",
        "    {\n",
        "        'movie_name': '인사이드 아웃 2',\n",
        "        'movie_date': '2023-06-15',\n",
        "        'movie_director': '피트 닥터',\n",
        "        'movie_actor': '에이미 포엘러, 필리스 스미스'\n",
        "    },\n",
        "    {\n",
        "        'movie_name': '겨울왕국 2',\n",
        "        'movie_date': '2019-11-22',\n",
        "        'movie_director': '크리스 벅, 제니퍼 리',\n",
        "        'movie_actor': '크리스틴 벨, 이디나 멘젤'\n",
        "    },\n",
        "    {\n",
        "        'movie_name': '알라딘',\n",
        "        'movie_date': '2019-05-24',\n",
        "        'movie_director': '가이 리치',\n",
        "        'movie_actor': '메나 마수드, 나오미 스콧, 윌 스미스'\n",
        "    }\n",
        "]\n",
        "\n",
        "# 리스트의 각 딕셔너리를 언패킹하여 함수 호출\n",
        "for info in movie_info:\n",
        "    print_info(**info)"
      ],
      "metadata": {
        "colab": {
          "base_uri": "https://localhost:8080/"
        },
        "id": "C7IVROHAMosX",
        "outputId": "5cf78edd-2da0-4c79-c6f7-2cc3f1913623"
      },
      "execution_count": null,
      "outputs": [
        {
          "output_type": "stream",
          "name": "stdout",
          "text": [
            "Movie_name: 인사이드 아웃 2, Movie_date: 2023-06-15, 'Movie_director': 피트 닥터, 'Movie_actor': 에이미 포엘러, 필리스 스미스\n",
            "Movie_name: 겨울왕국 2, Movie_date: 2019-11-22, 'Movie_director': 크리스 벅, 제니퍼 리, 'Movie_actor': 크리스틴 벨, 이디나 멘젤\n",
            "Movie_name: 알라딘, Movie_date: 2019-05-24, 'Movie_director': 가이 리치, 'Movie_actor': 메나 마수드, 나오미 스콧, 윌 스미스\n"
          ]
        }
      ]
    },
    {
      "cell_type": "markdown",
      "source": [
        "## 수업 문제 8\n",
        "\n",
        "- 앞선 예시를 활용하여 람다 함수를 사용한 코드를 작성후 공유해 봅시다.\n"
      ],
      "metadata": {
        "id": "T5kNOo4Viwx3"
      }
    },
    {
      "cell_type": "code",
      "source": [
        "# 과일이름 리스트 만들기\n",
        "fruits = [\"apple\", \"banana\", \"cherry\"]\n",
        "fruits_list = '\\n'.join(map(lambda x: f\"{x[0]+1}. {x[1]}\", enumerate(fruits)))\n",
        "print(fruits_list)"
      ],
      "metadata": {
        "colab": {
          "base_uri": "https://localhost:8080/"
        },
        "id": "vPe_uiM8fitE",
        "outputId": "76fc562e-f2bd-4a87-8fbf-ceea1bd184c0"
      },
      "execution_count": null,
      "outputs": [
        {
          "output_type": "stream",
          "name": "stdout",
          "text": [
            "1. apple\n",
            "2. banana\n",
            "3. cherry\n"
          ]
        }
      ]
    },
    {
      "cell_type": "markdown",
      "source": [
        "## 수업 문제 9\n",
        "- Build in 함수 중 처음 마주치거나 관심있는 메서드를 5개 선택하여 사용방법과 예시코드를 공유해 봅시다\n",
        "\n",
        "### 1. eval()\n",
        "- 문자열로 된 표현실을 실행하여 그 결과를 반환하는 함수\n",
        "```\n",
        "expression = \"2 + 3 * 4\"\n",
        "result = eval(expression)\n",
        "print(result)\n",
        ">>> 14\n",
        "```\n",
        "```\n",
        "x = 10\n",
        "expression_with_var = \"x*2\"\n",
        "result_with_var = eval(expression_with_var)\n",
        "print(result_with_var)\n",
        ">>> 20\n",
        "```\n",
        "\n",
        "### 2. isinstance()\n",
        "- 객체가 특정 클래스 또는 클래스 튜플에 속하는지 확인하는데 사용\n",
        "```\n",
        "num = 10\n",
        "if isinstance(num, int):\n",
        "print(\"int 입니다.\")\n",
        "else:\n",
        "print(\"int가 아닙니다.\")\n",
        ">>> int 입니다\n",
        "```\n",
        "\n",
        "### 3. type()\n",
        "- 객체의 유행(클래스)를 반환\n",
        "```\n",
        "num = 10\n",
        "text = \"Hello\"\n",
        "lst = [1, 2, 3]\n",
        "print(type(num))\n",
        "print(type(text))\n",
        "print(type(lst))\n",
        ">>>\n",
        "<class 'int'>\n",
        "<class 'str'>\n",
        "<class 'list'>\n",
        "```"
      ],
      "metadata": {
        "id": "yuLLuMHLYHt0"
      }
    },
    {
      "cell_type": "markdown",
      "source": [
        "## 수업 문제 10\n",
        "- 지금까지 학습한 내용을 바탕으로 검색이나 LLM을 활용하여 다음 가이드에 따라  자유로운 주제로 코드를 작성해 공유해 주세요.\n",
        "\n",
        "- 1) 변수, 연산문 예제 1\n",
        "- 2) 제어문, 함수예제 2\n",
        "- 3) 종합 예제 등 자유로운 응용 3\n",
        "\n",
        "```\n",
        "주식기록장\n",
        "```"
      ],
      "metadata": {
        "id": "lrRlX02CfMR2"
      }
    },
    {
      "cell_type": "code",
      "source": [
        "# 1) 변수, 연산문 예제 1\n",
        "# 보유 현금 자산 총액과 보유 주식 자산 총액을 입력 후 금일 주식 구매 금액입력하여 총 자산 요약 나타내기\n",
        "cash_asserts = float(input(\"현재 보유하고 있는 현금 자산 총액을 입력해주세요 \"))\n",
        "stock_asserts = float(input(\"현재 보유하고 있는 주식 자산 총액을 입력해주세요 \"))\n",
        "stock = float(input(\"지금 구매할 or 구매한 주식 총액을 입력해주세요 \"))\n",
        "\n",
        "total_amount = cash_asserts + stock_asserts\n",
        "cash_asserts = cash_asserts - stock\n",
        "stock_asserts = stock_asserts + stock\n",
        "\n",
        "print(f\"당신의 총 자산은 {total_amount}원이며, 현금 자산 : {cash_asserts} / 주식 자산 : {stock_asserts} 입니다.\")\n"
      ],
      "metadata": {
        "colab": {
          "base_uri": "https://localhost:8080/"
        },
        "id": "ydGCmWwZhqLA",
        "outputId": "6907e497-4b22-4e0b-e02b-e084345a1ad9"
      },
      "execution_count": null,
      "outputs": [
        {
          "output_type": "stream",
          "name": "stdout",
          "text": [
            "현재 보유하고 있는 현금 자산 총액을 입력해주세요 1000\n",
            "현재 보유하고 있는 주식 자산 총액을 입력해주세요 1000\n",
            "지금 구매할 or 구매한 주식 총액을 입력해주세요 500\n",
            "당신의 총 자산은 2000.0원이며, 현금 자산 : 500.0 / 주식 자산 : 1500.0 입니다.\n"
          ]
        }
      ]
    },
    {
      "cell_type": "code",
      "source": [
        "# 2) 제어문, 함수 예제 2\n",
        "# 보유 현금 자산 총액과 보유 주식 자산 총액을 입력 후 금일 주식 구매 금액입력하여 총 자산 요약 나타내기\n",
        "\n",
        "def get_float_input(prompt):\n",
        "    while True:\n",
        "        try:\n",
        "            return float(input(prompt))\n",
        "        except ValueError:\n",
        "            print(\"잘못된 입력입니다. 숫자를 입력해주세요.\")\n",
        "\n",
        "cash_assets = get_float_input(\"현재 보유하고 있는 현금 자산 총액을 입력해주세요: \")\n",
        "stock_assets = get_float_input(\"현재 보유하고 있는 주식 자산 총액을 입력해주세요: \")\n",
        "stock_purchase = get_float_input(\"지금 구매할 or 구매한 주식 총액을 입력해주세요: \")\n",
        "\n",
        "def stock_calculator(cash_assets, stock_assets, stock_purchase):\n",
        "    new_cash_assets = cash_assets - stock_purchase\n",
        "    new_stock_assets = stock_assets + stock_purchase\n",
        "    total_assets = new_cash_assets + new_stock_assets\n",
        "    return new_cash_assets, new_stock_assets, total_assets\n",
        "\n",
        "new_cash_assets, new_stock_assets, total_assets = stock_calculator(cash_assets, stock_assets, stock_purchase)\n",
        "\n",
        "print(f\"당신의 총 자산은 {total_assets}원이며, 현금 자산: {new_cash_assets}원 / 주식 자산: {new_stock_assets}원 입니다.\")\n"
      ],
      "metadata": {
        "colab": {
          "base_uri": "https://localhost:8080/"
        },
        "id": "k8-9kG5tlM4Z",
        "outputId": "0ef23274-188a-42ff-f4db-8228c45c2961"
      },
      "execution_count": null,
      "outputs": [
        {
          "output_type": "stream",
          "name": "stdout",
          "text": [
            "현재 보유하고 있는 현금 자산 총액을 입력해주세요: 500\n",
            "현재 보유하고 있는 주식 자산 총액을 입력해주세요: ㅇ\n",
            "잘못된 입력입니다. 숫자를 입력해주세요.\n",
            "현재 보유하고 있는 주식 자산 총액을 입력해주세요: ㅇ\n",
            "잘못된 입력입니다. 숫자를 입력해주세요.\n",
            "현재 보유하고 있는 주식 자산 총액을 입력해주세요: ㅇ\n",
            "잘못된 입력입니다. 숫자를 입력해주세요.\n",
            "현재 보유하고 있는 주식 자산 총액을 입력해주세요: 500\n",
            "지금 구매할 or 구매한 주식 총액을 입력해주세요: ㅇ\n",
            "잘못된 입력입니다. 숫자를 입력해주세요.\n",
            "지금 구매할 or 구매한 주식 총액을 입력해주세요: 100\n",
            "당신의 총 자산은 1000.0원이며, 현금 자산: 400.0원 / 주식 자산: 600.0원 입니다.\n"
          ]
        }
      ]
    },
    {
      "cell_type": "code",
      "source": [
        "# 3) 종합 예제 등 자유로운 응용 3\n",
        "# 주식기록장\n",
        "\n",
        "# 사용자의 현금 자산 총액과 주식 자산 총액을 입력받는 함수\n",
        "def get_float_input(prompt):\n",
        "    while True:\n",
        "        try:\n",
        "            return float(input(prompt))\n",
        "        except ValueError:\n",
        "            print(\"잘못된 입력입니다. 숫자를 입력해주세요.\")\n",
        "\n",
        "cash_assets = get_float_input(\"현재 보유하고 있는 현금 자산 총액을 입력해주세요: \")\n",
        "stock_assets = get_float_input(\"현재 보유하고 있는 주식 자산 총액을 입력해주세요: \")\n",
        "\n",
        "# 자산 보유 현황을 계산해주는 함수\n",
        "def stock_calculator(cash_assets, stock_assets, stock_purchases):\n",
        "    new_cash_assets = cash_assets - sum(stock_purchases)\n",
        "    new_stock_assets = stock_assets + sum(stock_purchases)\n",
        "    total_assets = new_cash_assets + new_stock_assets\n",
        "    return new_cash_assets, new_stock_assets, total_assets\n",
        "\n",
        "# 자산 내역을 출력하는 함수\n",
        "def print_assets(cash_assets, stock_assets, stock_purchases=None):\n",
        "    new_cash_assets, new_stock_assets, total_assets = stock_calculator(cash_assets, stock_assets, stock_purchases or [])\n",
        "    print(f\"당신의 총 자산은 {total_assets}원이며, 현금 자산: {new_cash_assets}원 / 주식 자산: {new_stock_assets}원 입니다.\")\n",
        "    if stock_purchases is not None:\n",
        "        print(f\"총 구매한 주식의 개수는 {len(stock_purchases)}개 입니다.\")\n",
        "\n",
        "# 주식 구매 내역을 입력하는 함수\n",
        "def main():\n",
        "    stock_purchases = []\n",
        "\n",
        "    while True:\n",
        "        user_input = input(\"지금 구매할 or 구매한 주식 총액을 입력하세요 (종료하려면 숫자가 아닌 값을 입력하세요): \")\n",
        "\n",
        "        # 숫자가 아닌 값을 입력하면 종료\n",
        "        if not user_input.replace('.', '', 1).isdigit():\n",
        "            break\n",
        "\n",
        "        # 입력한 값을 float로 변환하여 리스트에 추가\n",
        "        stock_purchases.append(float(user_input))\n",
        "\n",
        "    print_assets(cash_assets, stock_assets, stock_purchases)\n",
        "\n",
        "# 해당 함수들이 직접 실행할 경우 작동할 수 있도록 하는 조건문\n",
        "# 해당 함수들이 모듈로써 다른 파일에서 임포트되어 실행될 때 main()함수는 실행되지 않도록 하는 함수\n",
        "# 임포트되어 실행될 경우 else문으로 빠져 단순 자산 보유 내역만 출력\n",
        "if __name__ == \"__main__\":\n",
        "    main()\n",
        "else:\n",
        "    print_assets(cash_assets, stock_assets)\n"
      ],
      "metadata": {
        "colab": {
          "base_uri": "https://localhost:8080/"
        },
        "id": "Hsiphn32rf11",
        "outputId": "dd9c1e28-ac79-4064-c3bf-9b5d5df3ead6"
      },
      "execution_count": null,
      "outputs": [
        {
          "output_type": "stream",
          "name": "stdout",
          "text": [
            "현재 보유하고 있는 현금 자산 총액을 입력해주세요: 500\n",
            "현재 보유하고 있는 주식 자산 총액을 입력해주세요: 500\n",
            "당신의 총 자산은 1000.0원이며, 현금 자산: 500.0원 / 주식 자산: 500.0원 입니다.\n"
          ]
        }
      ]
    },
    {
      "cell_type": "markdown",
      "source": [
        "<hr>"
      ],
      "metadata": {
        "id": "ZUXWXTg-nk8j"
      }
    },
    {
      "cell_type": "markdown",
      "source": [
        "## 4. 함수 (예제)\n",
        "\n",
        "문제 1) 두 숫자를 입력받아 더한 결과를 반환하는 함수를 작성하세요."
      ],
      "metadata": {
        "id": "huJTpjKfWVZ6"
      }
    },
    {
      "cell_type": "code",
      "source": [
        "a = int(input(\"첫번째 숫자를 입력하세요 \"))\n",
        "b = int(input(\"두번째 숫자를 입력하세요 \"))\n",
        "\n",
        "def add(a, b):\n",
        "  result = a + b\n",
        "  return result\n",
        "\n",
        "print(add(a, b))"
      ],
      "metadata": {
        "colab": {
          "base_uri": "https://localhost:8080/"
        },
        "id": "wbXBFk9KWdRi",
        "outputId": "7a58c9db-c4e1-4002-8071-a0c5cefd3294"
      },
      "execution_count": null,
      "outputs": [
        {
          "output_type": "stream",
          "name": "stdout",
          "text": [
            "첫번째 숫자를 입력하세요 5\n",
            "두번째 숫자를 입력하세요 7\n",
            "12\n"
          ]
        }
      ]
    },
    {
      "cell_type": "markdown",
      "source": [
        "문제2) 주어진 리스트의 평균을 계산하여 반환하는 함수를 작성하세요."
      ],
      "metadata": {
        "id": "sU2e1AvDWvnD"
      }
    },
    {
      "cell_type": "code",
      "source": [
        "import numpy as np\n",
        "list_a = [1, 2, 3, 4, 5]\n",
        "\n",
        "def list_mean(list_a):\n",
        "  result = np.mean(list_a)\n",
        "  return result\n",
        "\n",
        "print(list_mean(list_a))"
      ],
      "metadata": {
        "colab": {
          "base_uri": "https://localhost:8080/"
        },
        "id": "Qiq-lO9FW416",
        "outputId": "7963a70a-950a-45e0-faed-d7ac0221973d"
      },
      "execution_count": null,
      "outputs": [
        {
          "output_type": "stream",
          "name": "stdout",
          "text": [
            "3.0\n"
          ]
        }
      ]
    },
    {
      "cell_type": "markdown",
      "source": [
        "문제 3) 두 수의 곱셈과 나눗셈의 나머지를 반환하는 함수"
      ],
      "metadata": {
        "id": "XXDP_ubHXN0j"
      }
    },
    {
      "cell_type": "code",
      "source": [
        "a = int(input(\"첫번째 숫자를 입력하세요 \"))\n",
        "b = int(input(\"두번째 숫자를 입력하세요 \"))\n",
        "\n",
        "def calculator(a, b):\n",
        "  result1 = a * b\n",
        "  result2 = a % b\n",
        "  return result1, result2\n",
        "\n",
        "print(add(a, b))"
      ],
      "metadata": {
        "colab": {
          "base_uri": "https://localhost:8080/"
        },
        "id": "8uo-7B2WXhys",
        "outputId": "8e7d69eb-8dd8-4efe-8079-41544fedf360"
      },
      "execution_count": null,
      "outputs": [
        {
          "output_type": "stream",
          "name": "stdout",
          "text": [
            "첫번째 숫자를 입력하세요 10\n",
            "두번째 숫자를 입력하세요 5\n",
            "(50, 0)\n"
          ]
        }
      ]
    },
    {
      "cell_type": "markdown",
      "source": [
        "문제 4) 문자열의 두번째 글자와 마지막 세번째 글자를 반환하는 함수"
      ],
      "metadata": {
        "id": "ZmLRjV2sbNUN"
      }
    },
    {
      "cell_type": "code",
      "source": [
        "str_ = \"apple\"\n",
        "\n",
        "def solution(str_):\n",
        "  a = str_[1]\n",
        "  b = str_[-3]\n",
        "  return a, b\n",
        "\n",
        "print(solution(str_))"
      ],
      "metadata": {
        "colab": {
          "base_uri": "https://localhost:8080/"
        },
        "id": "f2ZQvtcpbWHu",
        "outputId": "f2080aaa-94c0-4e4d-a86b-210778e6f647"
      },
      "execution_count": null,
      "outputs": [
        {
          "output_type": "stream",
          "name": "stdout",
          "text": [
            "('p', 'p')\n"
          ]
        }
      ]
    },
    {
      "cell_type": "markdown",
      "source": [
        "문제 5) 두 수의 몫과 나머지를 곱셈 후 반환하는 함수"
      ],
      "metadata": {
        "id": "XBV188clbmdE"
      }
    },
    {
      "cell_type": "code",
      "source": [
        "a = int(input(\"첫번째 숫자를 입력하세요 \"))\n",
        "b = int(input(\"두번째 숫자를 입력하세요 \"))\n",
        "\n",
        "def calculator(a, b):\n",
        "  result1 = a // b\n",
        "  result2 = a % b\n",
        "  return result1, result2\n",
        "\n",
        "print(calculator(a, b))"
      ],
      "metadata": {
        "colab": {
          "base_uri": "https://localhost:8080/"
        },
        "id": "PAanCG2Ibt10",
        "outputId": "33bca1d9-c6e9-480e-ba85-ca7d3c13f13a"
      },
      "execution_count": null,
      "outputs": [
        {
          "output_type": "stream",
          "name": "stdout",
          "text": [
            "첫번째 숫자를 입력하세요 10\n",
            "두번째 숫자를 입력하세요 5\n",
            "(2, 0)\n"
          ]
        }
      ]
    },
    {
      "cell_type": "markdown",
      "source": [
        "문제 6) 아래 코드에서 오류를 수정하여, 함수 내부에서 전역 변수 num의 값을 20으로 변경하고 출력하세요."
      ],
      "metadata": {
        "id": "fxprj9nOb4pl"
      }
    },
    {
      "cell_type": "code",
      "source": [
        "num = 10\n",
        "\n",
        "def change_num():\n",
        "  global num\n",
        "  num = 20\n",
        "  return num\n",
        "\n",
        "print(change_num())"
      ],
      "metadata": {
        "colab": {
          "base_uri": "https://localhost:8080/"
        },
        "id": "ofWwDFuOcBN8",
        "outputId": "c85a69c0-d5a4-46d0-b3e0-008617db5964"
      },
      "execution_count": null,
      "outputs": [
        {
          "output_type": "stream",
          "name": "stdout",
          "text": [
            "20\n"
          ]
        }
      ]
    },
    {
      "cell_type": "markdown",
      "source": [
        "<hr>"
      ],
      "metadata": {
        "id": "qLLL-nXvExqo"
      }
    },
    {
      "cell_type": "markdown",
      "source": [
        "## 4. 함수(심화예제)\n",
        "\n",
        "- 1. 로또 번호 생성기(필요한 숫자만큼의 6개의 로또 번호를 생성)\n",
        "-  2. 진수 변환기(십진수 > 2진수, 16진수 :   자동 변환 메서드 사용 금지 !!, 로직으로 구현해주세요)\n",
        "- 3. 달력 출력기(지정된 연도와 월의 달력을 출력)"
      ],
      "metadata": {
        "id": "NPaVNDw8Ey8P"
      }
    },
    {
      "cell_type": "code",
      "source": [
        "# 1. 로또 번호 생성기(필요한 숫자만큼의 6개의 로또 번호를 생성)\n",
        "import random\n",
        "\n",
        "## 1~45까지의 번호 list 생성\n",
        "### 방법1) for문 사용\n",
        "numbers01 = []\n",
        "for i in range(1, 46):\n",
        "  numbers01.append(i)\n",
        "\n",
        "### 방법2) list함수 사용\n",
        "numbers02 = list(range(1, 46))\n",
        "\n",
        "### 방법3) 삼항연산자 사용\n",
        "numbers03 = [i for i in range(1, 46)]\n",
        "\n",
        "## 번호 list 내에서 6개 번호 추출하기\n",
        "## 중복된 번호를 없애기 위해 random.sample() 사용\n",
        "result = random.sample(numbers01, 6)\n",
        "result = random.sample(numbers02, 6)\n",
        "result = random.sample(numbers03, 6)\n",
        "\n",
        "print(f\"당신의 로또 번호는 {result} 입니다. \")"
      ],
      "metadata": {
        "colab": {
          "base_uri": "https://localhost:8080/"
        },
        "id": "A6Qtx82uEyfl",
        "outputId": "fb516568-09a1-44a4-d88e-8745656c08b6"
      },
      "execution_count": null,
      "outputs": [
        {
          "output_type": "stream",
          "name": "stdout",
          "text": [
            "당신의 로또 번호는 [32, 41, 39, 29, 11, 45] 입니다. \n"
          ]
        }
      ]
    },
    {
      "cell_type": "code",
      "source": [
        "# 2. 진수 변환기(십진수 > 2진수, 16진수 : 자동 변환 메서드 사용 금지 !!, 로직으로 구현해주세요)\n",
        "number = int(input(\"진수 변환할 숫자를 입력하세요 \"))\n",
        "num = int(input(\"몇진수로 변환할까요? \"))\n",
        "\n",
        "def change(number, num):\n",
        "  answer = []\n",
        "  while number > 0:\n",
        "      result = number % num\n",
        "      answer.append(result)\n",
        "      number = number // num\n",
        "  return answer\n",
        "\n",
        "a = change(number, num)\n",
        "a.reverse()\n",
        "print(f\"{num}진수로 변환한 값은 {a} 입니다.\")"
      ],
      "metadata": {
        "colab": {
          "base_uri": "https://localhost:8080/"
        },
        "id": "WAxSuEG6HTw3",
        "outputId": "97c9437b-6f03-48d5-a3c5-98704e56499a"
      },
      "execution_count": null,
      "outputs": [
        {
          "output_type": "stream",
          "name": "stdout",
          "text": [
            "진수 변환할 숫자를 입력하세요 15\n",
            "몇진수로 변환할까요? 3\n",
            "3진수로 변환한 값은 [1, 2, 0] 입니다.\n"
          ]
        }
      ]
    },
    {
      "cell_type": "code",
      "source": [
        "# 3. 달력 출력기(지정된 연도와 월의 달력을 출력)\n",
        "# ====== 방법1) calendar 사용 =======\n",
        "import calendar\n",
        "\n",
        "# 연도와 월을 입력받기\n",
        "year = int(input(\"연도를 입력하세요: \"))\n",
        "month = int(input(\"월을 입력하세요: \"))\n",
        "\n",
        "# 해당 월의 달력 출력\n",
        "print(calendar.month(year, month))\n",
        "\n",
        "# ====== 방법2) datetime만 사용 =======\n",
        "import datetime\n",
        "\n",
        "def print_calendar(year, month):\n",
        "    # 매월의 마지막 날짜 list 저장\n",
        "    days_in_month = [31, 28, 31, 30, 31, 30, 31, 31, 30, 31, 30, 31]\n",
        "\n",
        "    # 윤년 확인\n",
        "    if (year % 4 == 0 and year % 100 != 0) or (year % 400 == 0):\n",
        "        days_in_month[1] = 29\n",
        "\n",
        "    # 입력된 월의 1일이 무슨 요일인지 확인 (월요일-일요일 : 0-6)\n",
        "    # weekday() 메소드 사용\n",
        "    first_day = datetime.date(year, month, 1).weekday()\n",
        "\n",
        "    # 해당 월의 총 일수\n",
        "    num_days = days_in_month[month - 1]\n",
        "\n",
        "    print(f\"{year}년 {month}월의 달력:\")\n",
        "    print(\"월 화 수 목 금 토 일\")\n",
        "\n",
        "    # 첫 번째 주의 공백 출력\n",
        "    print(\"   \" * first_day, end=\"\")\n",
        "\n",
        "    # 날짜 출력\n",
        "    for day in range(1, num_days + 1):\n",
        "        print(f\"{day:2}\", end=\" \")\n",
        "        first_day += 1\n",
        "        if first_day > 6:\n",
        "            first_day = 0\n",
        "            print()\n",
        "\n",
        "    print()\n",
        "\n",
        "year = int(input(\"연도를 입력하세요 (예: 2024): \"))\n",
        "month = int(input(\"월을 입력하세요 (1-12): \"))\n",
        "\n",
        "print_calendar(year, month)"
      ],
      "metadata": {
        "colab": {
          "base_uri": "https://localhost:8080/"
        },
        "id": "CA-fPGflIU3x",
        "outputId": "5457500f-f1d1-4c6e-dd80-73a1c01fb8bc"
      },
      "execution_count": null,
      "outputs": [
        {
          "output_type": "stream",
          "name": "stdout",
          "text": [
            "연도를 입력하세요: 2024\n",
            "월을 입력하세요: 7\n",
            "     July 2024\n",
            "Mo Tu We Th Fr Sa Su\n",
            " 1  2  3  4  5  6  7\n",
            " 8  9 10 11 12 13 14\n",
            "15 16 17 18 19 20 21\n",
            "22 23 24 25 26 27 28\n",
            "29 30 31\n",
            "\n"
          ]
        }
      ]
    }
  ]
}