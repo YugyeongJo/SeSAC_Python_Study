{
  "nbformat": 4,
  "nbformat_minor": 0,
  "metadata": {
    "colab": {
      "provenance": [],
      "collapsed_sections": [
        "ErQr7HWsBunn",
        "R7Mekwk_bzeq",
        "Zmf-ZPmeetTL",
        "TtDl-KmuUdYd",
        "wVd245U7qZe8"
      ],
      "mount_file_id": "1vabP2oclXgYdwxkwT8IDkVgNf6BJGEd5",
      "authorship_tag": "ABX9TyMhK8PVm0149OLikSp0gMSs",
      "include_colab_link": true
    },
    "kernelspec": {
      "name": "python3",
      "display_name": "Python 3"
    },
    "language_info": {
      "name": "python"
    }
  },
  "cells": [
    {
      "cell_type": "markdown",
      "metadata": {
        "id": "view-in-github",
        "colab_type": "text"
      },
      "source": [
        "<a href=\"https://colab.research.google.com/github/YugyeongJo/SeSAC_Python_Study/blob/main/Python_Basic/07_Python_Basic(Regex)_0710.ipynb\" target=\"_parent\"><img src=\"https://colab.research.google.com/assets/colab-badge.svg\" alt=\"Open In Colab\"/></a>"
      ]
    },
    {
      "cell_type": "markdown",
      "source": [
        "# Python 기초\n",
        "\n",
        "<목차>\n",
        "1. 변수\n",
        "2. 연산자\n",
        "3. 제어문\n",
        "4. 함수\n",
        "5. 자료형 1\n",
        "6. 자료형 2\n",
        "7. 정규표현식\n",
        "8. 판다스\n",
        "9. 시각화\n",
        "10. 파일 입출력"
      ],
      "metadata": {
        "id": "6PU7cV8E_8Ej"
      }
    },
    {
      "cell_type": "markdown",
      "source": [
        "<hr>"
      ],
      "metadata": {
        "id": "WSRVNWXlAJ6t"
      }
    },
    {
      "cell_type": "markdown",
      "source": [
        "# 7. 정규표현식(Regular Expression, Regex)\n",
        "\n",
        "- 문자열 패턴을 정의하고 탐색, 매칭, 수정 등의 작업을 수행할 수 있게 해주는 도구\n",
        "\n",
        "## 다양한 정규 표현식 문자의 종류\n",
        "- 리터럴 문자(Literal): 일반 문자 그대로 매칭 (예: a, [, 3)\n",
        "- 메타 문자(Meta) : 특별한 의미를 갖는 문자 (예: ., , *, +, ?, ^, $, [], (), {}, |)\n",
        "- 문자 클래스(Class) : 특정 문자 집합을 나타냄 (예: \\d, \\w, \\s)\n",
        "\n",
        "- 수량자(Quantifier) : 패턴이 반복되는 횟수 지정 (예: *, +, ?, {m, n})\n",
        "- 앵커(Anchor) : 문자열의 시작 또는 끝 위치를 나타냄(예:^, $)\n",
        "- 그룹 (Group) : 부분 패턴을 그룹으로 묶음 (예: (ab+c))"
      ],
      "metadata": {
        "id": "12msRBsdAK5d"
      }
    },
    {
      "cell_type": "markdown",
      "source": [
        "## 정규 표현식의 특징\n",
        "1) 효율적인 문자열 처리 : 복잡한 문자열 검색과 변환 작업을 간단하고 효율적으로 수행.\n",
        "\n",
        "2) 범용성 : 모든 프로그래밍 언어에서 지원하므로, 한 번 배우면 여러 환경에서 활용.\n",
        "\n",
        "3) 코드 간소화 : 복잡한 문자열 처리 로직으 한두 줄의 정규 표현식으로 코드 간결\n",
        "\n",
        "4) 유연성 : 다양한 패턴 매칭을 통해 유연하게 문자열을 처리 가능\n",
        "\n",
        "5) 시간 절약 : 반복적인 문자열 처리 작업을 자동화하여 시간을 절약"
      ],
      "metadata": {
        "id": "UQYTGEZfBMj-"
      }
    },
    {
      "cell_type": "markdown",
      "source": [
        "## 정규표현식 사용 사례\n",
        "- 데이터 검증 : 이메일 주소, 전화번호, 우편번호 등의 형식을 검증할 때 (^[a-zA-Z0-9._%+-]+@[a-zA-Z0-9.-]+\\.[a-zA-Z]{2,}$)\n",
        "- 텍스트 검색 : 문서나 로그 파일에서 특정 패턴을 검색할 때 (error\\s\\d{3})\n",
        "- 데이터 추출 : HTML 문서나 로그 파일 등에서 특정 정보를 추출할 때 (\\<title>(.*?)\\</title>)\n",
        "- 데이터 치환 : 문자열 내의 특정 패턴을 다른 문자열로 대체할 때 (s/old/new/g)\n",
        "- 로그 분석 : 서버 로그 파일에서 IP주소나 특정 이벤트를 추출하여 분석할 때 (\\b\\d{1,3}\\.\\d{1,3}\\.\\d{1,3}\\.\\d{1,3}\\b)\n",
        "- 형식 변환 : 날짜 형식이나 전화번호 형식 등을 일관되게 변환할 때 ((\\d{4})-(\\d{2})-(\\d{2}))"
      ],
      "metadata": {
        "id": "ErQr7HWsBunn"
      }
    },
    {
      "cell_type": "markdown",
      "source": [
        "### 활용 사례 1. 이메일 주소 검증 `^[a-zA-Z0-9._%+-]+@[a-zA-Z0-9.-]+\\.[a-zA-Z]{2,}$`\n",
        "\n",
        "- `^` : 문자열의 시작을 나타냅니다.\n",
        "- `[a-zA-Z0-9._%+-]+` : 알파벳 대소문자, 숫자, ,_%+- 특수문자 중 하나 이상이 반복.\n",
        "- `@` : '@'문자.\n",
        "- `[a-zA-Z0-9.-]+` : 알파벳 대소문자, 숫자, .- 중 하나 이상이 반복됩니다.\n",
        "- `\\.` : '.'문자.\n",
        "- `[a-zA-Z]{2,}` : 알파벳 대소문자 2개 이상이 반복됩니다.\n",
        "- `$` : 문자열의 끝을 나타냅니다."
      ],
      "metadata": {
        "id": "KzqbzTHACQke"
      }
    },
    {
      "cell_type": "markdown",
      "source": [
        "### 활용 사례 2. 에러 코드 찾기 : `error\\s\\d{3}`\n",
        "- `error` : \"error\" 문자열.\n",
        "- `\\s` : 공백 문자.\n",
        "- `\\d{3}` : 숫자 3개.\n",
        "\n",
        "설명 : HTML 문서에서 `<title>` 태그 안의 내용을 추출합니다."
      ],
      "metadata": {
        "id": "meWc7AwMDnnP"
      }
    },
    {
      "cell_type": "markdown",
      "source": [
        "### 활용 사례 3. HTML 제목 추출 : <code>&lt;title&gt;(.*?)&lt;/title&gt;</code>\n",
        "<ul>\n",
        "  <li><code>&lt;title&gt;</code> : \"&lt;title&gt;\" 태그.</li>\n",
        "  <li><code>(.*?)</code> : 어떤 문자든지 0번 이상 반복 (비탐욕적).</li>\n",
        "  <li><code>&lt;/title&gt;</code> : \"&lt;/title&gt;\" 태그</li>\n",
        "</ul>\n",
        "\n",
        "설명 : HTML 문서에서 `<title>`태그 안의 내용을 추출합니다."
      ],
      "metadata": {
        "id": "NMUoJnitD2PX"
      }
    },
    {
      "cell_type": "markdown",
      "source": [
        "### 활용 사례 4. 문자열 치환 : `s\\old\\new\\g `\n",
        "- `sl` : 치환 명령어의 시작\n",
        "- `old` : 치환될 문자열 패턴\n",
        "- `\\new\\` : 새문자열\n",
        "- `g` : 전역적으로 치환\n",
        "\n",
        "설명 : 문자열에서 \"old\"를 \"new\"로 전역적으로 치환합니다."
      ],
      "metadata": {
        "id": "BIhzX9sKEPvH"
      }
    },
    {
      "cell_type": "markdown",
      "source": [
        "### 활용 사례 5. IPv4 주소 찾기 : `\\b\\d{1,3}\\.\\d{1,3}\\.\\d{1,3}\\.\\d{1,3}\\b`\n",
        "- `\\b` : 단어 경계를 나타냅니다.\n",
        "- `\\d{1, 3}` : 1~3자리 숫자.\n",
        "- `\\.` : '.' 문자\n",
        "\n",
        "설명 : IPv4 주소 형식(예: 192.158.0.1)을 찾습니다.\n"
      ],
      "metadata": {
        "id": "0oUb2PkgGg4Y"
      }
    },
    {
      "cell_type": "markdown",
      "source": [
        "## 슬래시(/) & 백슬래시(\\)\n",
        "\n",
        "- 슬래시 (/) : 정규표현식에서 슬래시는 주로 패턴의 시작과 끝을 나타내는 구분자로 사용\n",
        "  + ex) /abc/ 는 문자열 \"abc\"를 찾는 정규표현식입니다.\n",
        "- 백슬래시(\\) : 백슬래시(\\)는 이스케이프 문자로, 특별한 의미를 가지는 문자 앞에 사용하여 그 문자를 리터럴로 취급하게 합니다.\n",
        "  + `\\.`는 마침표 문자 자체를 의미\n",
        "  + `\\\\`는 백슬래시 자체를 의미\n",
        "  + `\\d`는 숫자 (0-9)를 의미 digit\n",
        "  + `\\w`는 단어 문자 (알파벳 대소문자, 숫자, 밑줄)를 의미 word\n",
        "  + `\\s`는 공백 문자 (스페이스, 탭 등)를 의미 space"
      ],
      "metadata": {
        "id": "sk9YJ3csG5up"
      }
    },
    {
      "cell_type": "markdown",
      "source": [
        "### 정규표현식 : 기본 문법\n",
        "\n",
        "|정규표현식|설명|\n",
        "|--|--|\n",
        "|.|임의의 한 문자|\n",
        "|^|문자열의 시작|\n",
        "|$|문자열의 끝|\n",
        "|\\b|단어 경계를 나타냄|\n",
        "|\\B|단어 경계가 아닌 곳을 나타냄|\n",
        "|*|0 회 이상 반복|\n",
        "|+|1 회 이상 반복|\n",
        "|?|0 회 또는 1 회|\n",
        "|{n}|정확히 n 회 반복|\n",
        "|{n,}|n 회 이상 반복|\n",
        "|{n,m}|n 회 이상, m 회 이하 반복|\n",
        "|\\d|숫자 (0-9)|\n",
        "|\\D|숫자가 아닌 문자|\n",
        "|\\w|단어 문자 (알파벳, 숫자, 언더스코어)|\n",
        "|\\W|단어 문자가 아닌 문자|\n",
        "|\\s|공백 문자 (스페이스, 탭, 줄 바꿈 등)|\n",
        "|\\S|공백 문자가 아닌 문자|\n",
        "|[]|문자 클래스 (예  [a-z]는 소문자 알파벳을 의미)|\n",
        "|[abc]|'a', 'b', 'c' 중 하나와 매칭|\n",
        "|[A-Z]|대문자 알파벳 중 하나와 매칭|\n",
        "|[0-9]|숫자 중 하나와 매칭|\n",
        "|**.**|중 바꿈 문자를 제외한 모든 문자와 매칭|\n",
        "|\\||OR 연산자 (예  a|b는 ‘a’ 또는’b’ 를 의미)|\n",
        "|()|그룹화 (서브 패턴을 그룹화하여 캡처)|"
      ],
      "metadata": {
        "id": "9mJIqI2bL276"
      }
    },
    {
      "cell_type": "markdown",
      "source": [
        "## 그룹(Group) : 부분 패턴을 그룹으로 묶음\n",
        "\n",
        "- 캡처 그룹 : 일치하는 부분을 캡처하여 나중에 참조할 수 있음\n",
        "ex) (abc)는 'abc'와 매칭되고, 캡처된 그룹 1로 저장\n",
        "- 비캡처 그룹 : (?:...) 형식으로, 캡처하지 않고 그룹화만 가능\n",
        "ex) (?:abc)는 'abc'와 매칭되지만 캡처되지 않음\n",
        "- 역참조 : \\1, \\2 등으로 이전에 캡처된 그룹을 참조\n",
        "ex) (abc)\\1은 'abcabc'와 매칭"
      ],
      "metadata": {
        "id": "RvXr4XnAUcYV"
      }
    },
    {
      "cell_type": "markdown",
      "source": [
        "## 정규표현식 : 표현 방법\n",
        "- 정규표현식을 다룰 때 문자열 앞에 r을 붙이는 것이 일반적\n",
        "  + 백슬래시 (\\)를 이스케이프 문자로 인식하지 않고 문자 그래도 처리하도록 사용\n",
        "  + 일반 문자열에서는 백슬래시가 이스케이프 문자로 사용"
      ],
      "metadata": {
        "id": "R7Mekwk_bzeq"
      }
    },
    {
      "cell_type": "code",
      "source": [
        "import re\n",
        "\n",
        "pattern = r'\\d{3}-\\d{3}-\\d{4}'\n",
        "text = \"My phone number is 123-456-7890.\"\n",
        "match = re.search(pattern, text)\n",
        "\n",
        "if match:\n",
        "  print(match.group())"
      ],
      "metadata": {
        "colab": {
          "base_uri": "https://localhost:8080/"
        },
        "id": "IvJKYSxYcH_K",
        "outputId": "b18b6a7e-594a-4a38-e480-e8181536759b"
      },
      "execution_count": null,
      "outputs": [
        {
          "output_type": "stream",
          "name": "stdout",
          "text": [
            "123-456-7890\n"
          ]
        }
      ]
    },
    {
      "cell_type": "code",
      "source": [
        "import re\n",
        "\n",
        "pattern = '\\\\d{3}-\\d{3}-\\d{4}'\n",
        "text = \"My phone number is 123-456-7890.\"\n",
        "match = re.search(pattern, text)\n",
        "\n",
        "if match:\n",
        "  print(match.group())"
      ],
      "metadata": {
        "colab": {
          "base_uri": "https://localhost:8080/"
        },
        "id": "Y5Wxd-0TcbNh",
        "outputId": "c97ef0c6-d637-45ab-bbdf-c0b6560a4c17"
      },
      "execution_count": null,
      "outputs": [
        {
          "output_type": "stream",
          "name": "stdout",
          "text": [
            "123-456-7890\n"
          ]
        }
      ]
    },
    {
      "cell_type": "markdown",
      "source": [
        "### 정규표현식 : 내장 메소드\n",
        "- 내장 string 메소드 사용 : 일부 간단한 패턴 매칭의 경우, string 객체의 내장 메소드를 사용\n",
        "\n",
        "|메소드|설명|예시코드|\n",
        "|--|--|--|\n",
        "|`re.match()`| 문자열의 시작에서 정규표현식과 일치하는 패턴을 찾습니다. | ```python<br>import re<br><br>result = re.match(r'Hello', 'Hello, World!')<br>if result:<br>print(\"Match found:\", result.group())``` |\n",
        "|`re.search()`| 문자열 전체를 검색하여 정규표현식과 일치하는 패턴을 찾습니다. | ```python<br>import re<br><br>result = re.search(r'World', 'Hello, World!')<br>if result:<br>print(\"Search found:\", result.group())``` |\n",
        "|`re.findall()`| 문자열에서 정규표현식과 일치하는 모든 패턴을 리스트로 반환합니다. | ```python<br>import re<br><br>result = re.findall(r'\\d+', '123 abc 456 def 789')<br>print(\"Findall found:\", result)``` |\n",
        "|`re.finditer()`| 문자열에서 정규표현식과 일치하는 모든 패턴을 이터레이터 객체로 반환합니다. | ```python<br>import re<br><br>result = re.finditer(r'\\d+', '123 abc 456 def 789')<br>for match in result:<br>print(\"Finditer found:\", match.group())``` |\n",
        "|`re.sub()`| 문자열에서 정규표현식과 일치하는 패턴을 다른 문자열로 대체합니다. | ```python<br>import re<br><br>result = re.sub(r'\\d+', '#', '123 abc 456 def 789')<br>print(\"Sub result:\", result)``` |\n",
        "|`re.subn()`| `re.sub()`와 동일하지만, 대체된 횟수를 함께 반환합니다. | ```python<br>import re<br><br>result, count = re.subn(r'\\d+', '#', '123 abc 456 def 789')<br>print(\"Subn result:\", result, \"Count:\", count)``` |\n",
        "|`re.split()`| 정규표현식을 기준으로 문자열을 분리하여 리스트로 반환합니다. | ```python<br>import re<br><br>result = re.split(r'\\s+', 'This is a test')<br>print(\"Split result:\", result)``` |\n",
        "|`re.fullmatch()`| 문자열 전체가 정규표현식과 일치하는지 검사합니다. | ```python<br>import re<br><br>result = re.fullmatch(r'\\d+', '123456')<br>if result:<br>print(\"Fullmatch found:\", result.group())``` |\n",
        "|`str.startswith()`| 문자열이 지정된 접두사로 시작하는지 여부를 반환합니다. | ```python<br>text = \"Hello, World!\"<br>result = text.startswith(\"Hello\")<br>print(result)  # True``` |\n",
        "|`str.endswith()`| 문자열이 지정된 접미사로 끝나는지 여부를 반환합니다. | ```python<br>text = \"Hello, World!\"<br>result = text.endswith(\"World!\")<br>print(result)  # True``` |\n",
        "| `str.find()`| 문자열에서 부분 문자열의 첫 번째 발생 위치를 반환합니다. 발견되지 않으면 `-1`을 반환합니다. | ```python<br>text = \"Hello, World!\"<br>pos = text.find(\"World\")<br>print(pos)  # 7``` |\n",
        "| `str.count()`| 문자열에서 부분 문자열의 발생 횟수를 반환합니다. | ```python<br>text = \"Hello, World!\"<br>count = text.count(\"l\")<br>print(count)  # 3``` |\n",
        "| `str.replace()`| 문자열에서 지정된 문자열을 다른 문자열로 치환합니다. | ```python<br>text = \"Hello, World!\"<br>new_text = text.replace(\"World\", \"Python\")<br>print(new_text)  # Hello, Python!``` |\n",
        "| `str.split()`| 문자열을 지정된 구분자를 기준으로 분리하여 리스트로 반환합니다. | ```python<br>text = \"apple, banana, cherry\"<br>fruits = text.split(\", \")<br>print(fruits)  # ['apple', 'banana', 'cherry']``` |\n",
        "| `str.strip()`| 문자열의 양쪽 끝에서 공백을 제거합니다. | ```python<br>text = \"  Hello, World!  \"<br>stripped_text = text.strip()<br>print(stripped_text)  # \"Hello, World!\"``` |\n",
        "| `str.isdigit()`| 문자열이 모두 숫자로 이루어져 있는지 여부를 반환합니다.| ```python<br>text = \"12345\"<br>result = text.isdigit()<br>print(result)  # True``` |\n"
      ],
      "metadata": {
        "id": "m7U5VoAScvnL"
      }
    },
    {
      "cell_type": "markdown",
      "source": [
        "### 정규표현식 : 메소드\n",
        "- RE(Reqular Expression) Library : 정규표현식을 위한 내장 라이브러리 (import re)\n",
        "\n",
        "|메소드|설명|예시코드|\n",
        "|--|--|--|\n",
        "|`re.match()`| 문자열의 시작에서 정규표현식과 일치하는 패턴을 찾습니다.| ```python<br>import re<br><br>result = re.match(r'Hello', 'Hello, World!')<br>if result:<br>    print(\"Match found:\", result.group())``` |\n",
        "|`re.search()`| 문자열 전체를 검색하여 정규표현식과 일치하는 패턴을 찾습니다. | ```python<br>import re<br><br>result = re.search(r'World', 'Hello, World!')<br>if result:<br>    print(\"Search found:\", result.group())``` |\n",
        "|`re.findall()`| 문자열에서 정규표현식과 일치하는 모든 패턴을 리스트로 반환합니다. | ```python<br>import re<br><br>result = re.findall(r'\\d+', '123 abc 456 def 789')<br>print(\"Findall found:\", result)``` |\n",
        "| `re.finditer()`| 문자열에서 정규표현식과 일치하는 모든 패턴을 이터레이터 객체로 반환합니다. | ```python<br>import re<br><br>result = re.finditer(r'\\d+', '123 abc 456 def 789')<br>for match in result:<br>    print(\"Finditer found:\", match.group())``` |\n",
        "| `re.fullmatch()`| 문자열 전체가 정규표현식과 완벽하게 일치하는지 검사합니다.| ```python<br>import re<br><br>result = re.fullmatch(r'\\d+', '123456')<br>if result:<br>    print(\"Fullmatch found:\", result.group())``` |\n",
        "|`re.split()`| 정규표현식을 기준으로 문자열을 분리하여 리스트로 반환합니다.| ```python<br>import re<br><br>result = re.split(r'\\s+', 'This is a test')<br>print(\"Split result:\", result)``` |\n",
        "|`re.sub()`| 문자열에서 정규표현식과 일치하는 패턴을 다른 문자열로 대체합니다.| ```python<br>import re<br><br>result = re.sub(r'\\d+', '#', '123 abc 456 def 789')<br>print(\"Sub result:\", result)``` |\n",
        "|`re.subn()`| `re.sub()`와 동일하지만, 대체된 횟수를 함께 반환합니다.| ```python<br>import re<br><br>result, count = re.subn(r'\\d+', '#', '123 abc 456 def 789')<br>print(\"Subn result:\", result, \"Count:\", count)``` |\n",
        "\n",
        "- MatchObject의 주요 속성과 메서드\n",
        "\n",
        "|속성 또는 메소드|설명|예시코드|\n",
        "|--|--|--|\n",
        "|`.group()`| 일치하는 문자열을 반환합니다.                                 | ```python<br>import re<br><br>text = \"Hello, World!\"<br>match = re.search(r'Hello', text)<br>if match:<br>    print(match.group())  # 'Hello'``` |\n",
        "|`.start()`| 일치하는 문자열의 시작 위치를 반환합니다.| ```python<br>import re<br><br>text = \"Hello, World!\"<br>match = re.search(r'Hello', text)<br>if match:<br>    print(match.start())  # 0``` |\n",
        "|`.end()`| 일치하는 문자열의 끝 위치를 반환합니다.| ```python<br>import re<br><br>text = \"Hello, World!\"<br>match = re.search(r'World', text)<br>if match:<br>    print(match.end())  # 5``` |\n",
        "|`.span()`| 일치하는 문자열의 (시작, 끝) 위치를 튜플로 반환합니다.| ```python<br>import re<br><br>text = \"Hello, World!\"<br>match = re.search(r'World', text)<br>if match:<br>    print(match.span())  # (7, 12)``` |\n",
        "|`.group(1), .group(2), ...` | 그룹화된 부분 패턴을 반환합니다.| ```python<br>import re<br><br>text = \"Hello, 12345\"<br>match = re.search(r'(\\w+), (\\d+)', text)<br>if match:<br>    print(match.group(1))  # 'Hello'<br>    print(match.group(2))  # '12345'``` |\n",
        "|`.groups()`| 모든 그룹화된 부분 패턴을 튜플로 반환합니다.| ```python<br>import re<br><br>text = \"Hello, 12345\"<br>match = re.search(r'(\\w+), (\\d+)', text)<br>if match:<br> print(match.groups())  # ('Hello', '12345')``` |\n",
        "|`.escape()`| 정규표현식에서 특수문자를 이스케이프 처리하여 일반 문자열로 변환합니다.| ```python<br>import re<br><br>pattern = re.escape('Hello.*World?')<br>print(\"Escaped pattern:\", pattern)``` |\n"
      ],
      "metadata": {
        "id": "Zmf-ZPmeetTL"
      }
    },
    {
      "cell_type": "code",
      "source": [
        "# 1단계 : 리터럴 문자 예시 실습\n",
        "import re\n",
        "\n",
        "# 패턴 정의\n",
        "pattern1 = r'cat'\n",
        "\n",
        "# 예제 문자열\n",
        "string1 = [\"cat\", \"concatenate\", \"catfish\", \"bat\", \"catalog\"]\n",
        "\n",
        "# 패턴 매칭 확인\n",
        "matches1 = [s for s in string1 if re.search(pattern1, s)]\n",
        "print(\"1단계 매칭 : \", matches1)"
      ],
      "metadata": {
        "colab": {
          "base_uri": "https://localhost:8080/"
        },
        "id": "MZfSyoIWgUY8",
        "outputId": "676e388c-7904-4366-d8b6-da01096d50d9"
      },
      "execution_count": null,
      "outputs": [
        {
          "output_type": "stream",
          "name": "stdout",
          "text": [
            "1단계 매칭 :  ['cat', 'concatenate', 'catfish', 'catalog']\n"
          ]
        }
      ]
    },
    {
      "cell_type": "code",
      "source": [
        "# 2단계 : 리터럴 문자 + 문자 클래스 예시 실습\n",
        "import re\n",
        "\n",
        "# 패턴 정의\n",
        "pattern2 = r\"c[aeiou]t\"\n",
        "\n",
        "# 예제 문자열\n",
        "string2 = [\"cat\", \"cet\", \"cit\", \"cot\", \"cut\", \"czt\", \"cart\", \"ct\"]\n",
        "\n",
        "# 패턴 매칭 확인\n",
        "matches2 = [s for s in string2 if re.search(pattern2, s)]\n",
        "print(\"2단계 매칭 : \", matches2)"
      ],
      "metadata": {
        "colab": {
          "base_uri": "https://localhost:8080/"
        },
        "id": "VGAJLwU3gqCs",
        "outputId": "56ad12ad-0cbc-4574-e924-87586d920909"
      },
      "execution_count": null,
      "outputs": [
        {
          "output_type": "stream",
          "name": "stdout",
          "text": [
            "2단계 매칭 :  ['cat', 'cet', 'cit', 'cot', 'cut']\n"
          ]
        }
      ]
    },
    {
      "cell_type": "code",
      "source": [
        "# 3단계 : 리터럴 문자 + 문자 클래스 + 수량자 예시 실습\n",
        "import re\n",
        "\n",
        "# 패턴 정의\n",
        "pattern3 = r\"c[aeiou]*t\"\n",
        "\n",
        "# 예제 문자열\n",
        "strings3 = [\"ct\", \"cat\", \"cet\", \"cit\", \"cooot\", \"cuuuit\", \"czt\", \"cart\"]\n",
        "\n",
        "# 패턴 매칭 확인\n",
        "matches3 = [s for s in strings3 if re.search(pattern3, s)]\n",
        "print(\"3단계 매칭 : \", matches3)"
      ],
      "metadata": {
        "colab": {
          "base_uri": "https://localhost:8080/"
        },
        "id": "oDdxA7XVhNC1",
        "outputId": "cfc48240-ac5f-42b2-e0a6-15f21b81ee32"
      },
      "execution_count": null,
      "outputs": [
        {
          "output_type": "stream",
          "name": "stdout",
          "text": [
            "3단계 매칭 :  ['ct', 'cat', 'cet', 'cit', 'cooot', 'cuuuit']\n"
          ]
        }
      ]
    },
    {
      "cell_type": "code",
      "source": [
        "# 4단계 : 리터럴 문자 + 문자 클래스 + 수량자 + 앵커 예시 실습\n",
        "import re\n",
        "\n",
        "# 패턴 정의\n",
        "pattern4 = r\"^c[aeiou]*t$\"\n",
        "\n",
        "# 예제 문자열\n",
        "strings4 = [\"ct\", \"cat\", \"cet\", \"cit\", \"cooot\", \"cuuuit\", \"czt\", \"cart\", \"concatenatecat\", \"catfish\"]\n",
        "\n",
        "# 패턴 매칭 확인\n",
        "matches4 = [s for s in strings4 if re.search(pattern4, s)]\n",
        "print(\"4단계 매칭 : \", matches4)"
      ],
      "metadata": {
        "colab": {
          "base_uri": "https://localhost:8080/"
        },
        "id": "yB6yuTs_hp-F",
        "outputId": "35efabf2-ae6b-4d75-fdb6-a0a16e9377d8"
      },
      "execution_count": null,
      "outputs": [
        {
          "output_type": "stream",
          "name": "stdout",
          "text": [
            "4단계 매칭 :  ['ct', 'cat', 'cet', 'cit', 'cooot', 'cuuuit']\n"
          ]
        }
      ]
    },
    {
      "cell_type": "code",
      "source": [
        "# 5단계 : 리터럴 문자 + 문자 클래스 + 수량자 + 앵커 + 그룹 예시 실습\n",
        "import re\n",
        "\n",
        "# 패턴 정의\n",
        "pattern5 = r\"^(c[aeiou]*t)$\"\n",
        "\n",
        "# 예제 문자열\n",
        "strings5 = [\"ct\", \"cat\", \"cet\", \"cit\", \"cooot\", \"cuuuit\", \"czt\", \"cart\", \"concatenatecat\", \"catfish\"]\n",
        "\n",
        "# 패턴 매칭 확인\n",
        "matches5 = [s for s in strings5 if re.search(pattern5, s)]\n",
        "print(\"5단계 매칭 : \", matches5)"
      ],
      "metadata": {
        "colab": {
          "base_uri": "https://localhost:8080/"
        },
        "id": "L4BgLX53iDFl",
        "outputId": "dd985ec6-53b0-4d36-d677-172ee3aefca4"
      },
      "execution_count": null,
      "outputs": [
        {
          "output_type": "stream",
          "name": "stdout",
          "text": [
            "5단계 매칭 :  ['ct', 'cat', 'cet', 'cit', 'cooot', 'cuuuit']\n"
          ]
        }
      ]
    },
    {
      "cell_type": "markdown",
      "source": [
        "### 정규표현식 예시\n"
      ],
      "metadata": {
        "id": "56gtZDeU0cVz"
      }
    },
    {
      "cell_type": "markdown",
      "source": [
        "#### 예시 1) pattern = r'(\\w+) (\\w+)'\n",
        "- \\w+ : \\w는 단어 문자 (word character)를 의미하며, 이는 알파벳, 숫자, 밑줄(_)을 포함\n",
        "- 뒤에 붙은 + : 하나 이상을 의미. 따라서, \\w+는 하나 이상의 연속된 단어 문자를 의미\n",
        "- 가운데 공백 : 이것은 공백을 의미, (\\w+) (\\w+) 패턴은 두 단어가 공백으로 구분된 패턴을 찾음\n",
        "- 괄호 () : 그룹을 만드는 데 사용되며, 매칭된 각 부분을 따로 가져올 수 있음. 두 개의 그룹이 있으므로 두 단어를 각각 따로 가져올 수 있음"
      ],
      "metadata": {
        "id": "1xtUiweZhQwL"
      }
    },
    {
      "cell_type": "code",
      "source": [
        "import re\n",
        "\n",
        "pattern = r'(\\w+) (\\w+)'\n",
        "text = \"Hello World\"\n",
        "\n",
        "match = re.search(pattern, text)\n",
        "\n",
        "if match:\n",
        "  print(match.group(1))\n",
        "  print(match.group(2))\n",
        "\n",
        "# group() : 매치된 전체 문자열을 반환. 1은 첫번째 그룹을 의미."
      ],
      "metadata": {
        "colab": {
          "base_uri": "https://localhost:8080/"
        },
        "id": "_NOAjtpR1fkl",
        "outputId": "5b0e23cf-49e3-4e42-9ebc-d21cd86ec4c3"
      },
      "execution_count": null,
      "outputs": [
        {
          "output_type": "stream",
          "name": "stdout",
          "text": [
            "Hello\n",
            "World\n"
          ]
        }
      ]
    },
    {
      "cell_type": "markdown",
      "source": [
        "#### 예시 2) 이메일 주소 찾기\n",
        "\n",
        "- 이메일 주소의 형식과 일치\n",
        "- \\w : 이 부분은 \"word character\", 알파벳 (A-Z, a-z), 숫자(0-9), 그리고 밑줄 (_)\n",
        "- \\. : 이스케이프 문자를 사용하여 실제 '마침표(.)' 문자.\n",
        "- - : 대시 또는 하이픈을 의미\n",
        "- [\\w\\.-] : 대괄호 ([]) sms \"character class\"를 정의\n",
        "- + : 앞의 문자 (또는 문자 클래스)가 하나 이상 반복.\n",
        "- [\\w\\.-]는 알파벳, 숫자, 밑줄, 마침표, 하이픈 중 하나 이상의 연속으로 이루어진 문자열에 일치\n",
        "- @ : 골뱅이 기호 ('@')에 직접 일치. 이메일 주소에 사용자 이름과 도메인을 구분"
      ],
      "metadata": {
        "id": "JH8UBZtg2AS-"
      }
    },
    {
      "cell_type": "code",
      "source": [
        "import re\n",
        "\n",
        "pattern = r'[\\w\\.-]+@[\\w\\.-]+'\n",
        "text = \"Please contact us at support@example.com for further assistance.\"\n",
        "\n",
        "matches = re.findall(pattern, text)\n",
        "\n",
        "print(matches)\n",
        "\n",
        "# findall(pattern, string) : 문자열에서 패턴과 일치하는 모든 부분을 찾아 리스트로 반환\n",
        "# 한 개 이상의 알파벳, 숫자, 밑줄, 마침표 또는 하이픈으로 시작하고, '@' 기호가 나타나며, 다시 한 번 한개 이상의 알파벳, 숫자, 밑줄, 마침표 또는 하이픈으로 끝나는 패턴"
      ],
      "metadata": {
        "colab": {
          "base_uri": "https://localhost:8080/"
        },
        "id": "gLcml0_s2Ub9",
        "outputId": "99d476f3-b864-4b95-e3c2-b895f2970d19"
      },
      "execution_count": null,
      "outputs": [
        {
          "output_type": "stream",
          "name": "stdout",
          "text": [
            "['support@example.com']\n"
          ]
        }
      ]
    },
    {
      "cell_type": "markdown",
      "source": [
        "#### 예시 3) 전화번호 찾기\n",
        "- 형식 : 123-456-7890\n",
        "- 세 자리 숫자, 하이픈('-'), 세 자리 숫자, 하이픈('-'), 네 자리 숫자.\n",
        "- \\d : 이 부분은 \"digit\" 즉, 숫자를 의미. 0부터 9까지의 어떤 숫자와도 일치\n",
        "- {3} : 중괄호({})는 앞의 문자 (이 경우는 \\d, 즉 숫자)가 몇 번 반복되어야 하는지를 지정. {3}은 앞의 문자(숫자)가 정확히 세 번 반복되어야 함을 의미\n",
        "- - : 대시 또는 하이픈('-')에 직접 일치\n",
        "- \\d{3} : 숫자가 정확히 세 번 반복되어야 함을 의미\n",
        "- \\d{4} : 숫자가 정확히 네 번 반복되어야 함을 의미"
      ],
      "metadata": {
        "id": "g-IEhNpZ3mFv"
      }
    },
    {
      "cell_type": "code",
      "source": [
        "import re\n",
        "\n",
        "pattern = r'\\d{3}-\\d{3}-\\d{4}'\n",
        "text = \"You can reach me at 123-456-7890 or 987-654-3210.\"\n",
        "\n",
        "matches = re.findall(pattern, text)\n",
        "\n",
        "print(matches)"
      ],
      "metadata": {
        "colab": {
          "base_uri": "https://localhost:8080/"
        },
        "id": "NjTUpQgA4SWP",
        "outputId": "98da6591-849d-4eb4-9a3f-264406fed61a"
      },
      "execution_count": null,
      "outputs": [
        {
          "output_type": "stream",
          "name": "stdout",
          "text": [
            "['123-456-7890', '987-654-3210']\n"
          ]
        }
      ]
    },
    {
      "cell_type": "markdown",
      "source": [
        "#### 예시 4) HTML 태그 제거\n",
        "- <문자로 시작하고 >문자로 끝나는 모든 문자열\n",
        "- HTML 또는 XML 문서에서 태그를 추출하는 데 유용\n",
        "- < : 태그의 시작을 나타내는 '작은 괄호 열기' 문자.\n",
        "- .*?\n",
        "  + .: 임의의 문자, 모든 단일 문자와 일치. 줄바꿈 문자를 제외한 모든 문자와 일치\n",
        "  + * : 앞의 문자(이 경우는 .)가 0번 이상 반복될 수 있음을 의미. *는 아무 문자나 0번 이상 반복 될 수 있다는 것을 의미.\n",
        "  + ? : 0회 또는 1회, 기본적으로 *\n",
        "  는 가능한 많이 일치시키려는 탐욕적 (greedy) 수량자\n",
        "    * *?는 가능한 최소한으로 일치시키려는 비탐욕적 수량자\n",
        "    * *?는 가능한 한 적은 수의 문자에 일치.\n",
        "- \\> : 태그의 끝을 나타내는 '작은 괄호 닫기' 문자.\n",
        "\n",
        "```\n",
        "<.*?>와 같은 비탐욕적 패턴을 사용하는 이유\n",
        "\n",
        "HTML 태그를 제거할 때 정확하게 매칭하여 불필요한 문자를 포함하지 않도록 하기 위함\n",
        "\n",
        "탐욕적 패턴인 .*를 사용하면 전체 문자열을 매칭하게 되어 원하는 결과를 얻지 못할 수 있으므로, 비탐욕적 패턴 .*?를 사용하여 필요한 부분만 매칭\n",
        "```"
      ],
      "metadata": {
        "id": "eoQQcwbo4h7u"
      }
    },
    {
      "cell_type": "code",
      "source": [
        "# 탐욕적 수량자 사용\n",
        "import re\n",
        "\n",
        "pattern_greedy = r'<.*>'\n",
        "text = \"<p>This is a <b>bold</b> paragraph.</p>\"\n",
        "clean_text_greedy = re.sub(pattern_greedy, '', text)\n",
        "\n",
        "print(clean_text_greedy)"
      ],
      "metadata": {
        "colab": {
          "base_uri": "https://localhost:8080/"
        },
        "id": "fjqVblYp6erp",
        "outputId": "d5b78061-38ed-4faf-e01a-2f875000da42"
      },
      "execution_count": null,
      "outputs": [
        {
          "output_type": "stream",
          "name": "stdout",
          "text": [
            "\n"
          ]
        }
      ]
    },
    {
      "cell_type": "code",
      "source": [
        "# 비탐욕적 패턴 사용 <.*?>\n",
        "import re\n",
        "\n",
        "pattern_greedy = r'<.*?>'\n",
        "text = \"<p>This is a <b>bold</b> paragraph.</p>\"\n",
        "clean_text_greedy = re.sub(pattern_greedy, '', text)\n",
        "\n",
        "print(clean_text_greedy)"
      ],
      "metadata": {
        "colab": {
          "base_uri": "https://localhost:8080/"
        },
        "id": "Kq1pWK9F7FJY",
        "outputId": "fc805f1a-0666-4ddd-83f2-60d0e601c0cf"
      },
      "execution_count": null,
      "outputs": [
        {
          "output_type": "stream",
          "name": "stdout",
          "text": [
            "This is a bold paragraph.\n"
          ]
        }
      ]
    },
    {
      "cell_type": "markdown",
      "source": [
        "#### 예시 5) 특정 단어로 시작하는 문자열 찾기"
      ],
      "metadata": {
        "id": "qt4E5uOr7S5X"
      }
    },
    {
      "cell_type": "code",
      "source": [
        "pattern = r'^Hello'\n",
        "\n",
        "text1 = \"Hello World\"\n",
        "text2 = \"Hi there\"\n",
        "\n",
        "match1 = re.match(pattern, text1)\n",
        "match2 = re.match(pattern, text2)\n",
        "\n",
        "print(match1)\n",
        "print(match2)"
      ],
      "metadata": {
        "colab": {
          "base_uri": "https://localhost:8080/"
        },
        "id": "I4kRKyyj7ZPI",
        "outputId": "4fad2f1d-d985-4ae4-982a-7fc40df122ce"
      },
      "execution_count": null,
      "outputs": [
        {
          "output_type": "stream",
          "name": "stdout",
          "text": [
            "<re.Match object; span=(0, 5), match='Hello'>\n",
            "None\n"
          ]
        }
      ]
    },
    {
      "cell_type": "code",
      "source": [
        "import re\n",
        "\n",
        "def extract_numbers(text):\n",
        "  return re.findall(r'\\d+', text)\n",
        "\n",
        "# 테스트\n",
        "sentence = \"저는 20살이고, 키는 175cm이며, 몸무게는 68kg입니다.\"\n",
        "numbers = extract_numbers(sentence)\n",
        "print(numbers)"
      ],
      "metadata": {
        "colab": {
          "base_uri": "https://localhost:8080/"
        },
        "id": "uCp262Q77wmY",
        "outputId": "c431cb20-661e-4750-9778-b7b1443681f5"
      },
      "execution_count": null,
      "outputs": [
        {
          "output_type": "stream",
          "name": "stdout",
          "text": [
            "['20', '175', '68']\n"
          ]
        }
      ]
    },
    {
      "cell_type": "code",
      "source": [
        "import re\n",
        "\n",
        "# 예시 문자열\n",
        "text = \"안녕하세요. 제 이메일은 example@email.com이고, 전화번호는 010-1234-5678 입니다.\"\n",
        "\n",
        "# 이메일 주소 찾기\n",
        "email_pattern = r'\\b[A-Za-z0-9._%+-]+@[A-Z|a-z]{2,}\\b'\n",
        "email = re.search(email_pattern, text)\n",
        "if email:\n",
        "  print(\"이메일 주소 : \", email.group())\n",
        "\n",
        "# 전화번호 찾기\n",
        "phone_pattern = r'\\d{3}-\\d{4}-\\d{4}'\n",
        "phone = re.search(phone_pattern, text)\n",
        "if phone :\n",
        "  print(\"전화번호 : \", phone.group())\n",
        "\n",
        "# 모든 숫자 찾기\n",
        "numbers = re.findall(r'\\d+', text)\n",
        "print(\"발견된 모든 숫자 : \", numbers)\n",
        "\n",
        "# 문자열 대체하기\n",
        "new_text = re.sub(r'이메일', '메일 주소', text)\n",
        "print(\"대체된 문자열 : \", new_text)"
      ],
      "metadata": {
        "colab": {
          "base_uri": "https://localhost:8080/"
        },
        "id": "MxZ9gCsb8EgX",
        "outputId": "08768783-e984-4184-e982-87c66e7c6ffb"
      },
      "execution_count": null,
      "outputs": [
        {
          "output_type": "stream",
          "name": "stdout",
          "text": [
            "이메일 주소 :  example@email\n",
            "전화번호 :  010-1234-5678\n",
            "발견된 모든 숫자 :  ['010', '1234', '5678']\n",
            "대체된 문자열 :  안녕하세요. 제 메일 주소은 example@email.com이고, 전화번호는 010-1234-5678 입니다.\n"
          ]
        }
      ]
    },
    {
      "cell_type": "markdown",
      "source": [
        "<hr>"
      ],
      "metadata": {
        "id": "jidv0vTL92XR"
      }
    },
    {
      "cell_type": "markdown",
      "source": [
        "## 수업 문제 1\n",
        "\n",
        "- 정규표현식 사용사례를 최대한 자세히 분석하여 공유해 봅시다."
      ],
      "metadata": {
        "id": "TtDl-KmuUdYd"
      }
    },
    {
      "cell_type": "code",
      "source": [
        "import re\n",
        "\n",
        "def remove_postpositions(text):\n",
        "    # 조사의 패턴 정의 (공백이나 문장 끝을 기준으로 조사 제거)\n",
        "    postpositions = r'(이|가|을|를|은|는|와|과|에게|에서|으로|에|의|도|만|으로서|로서|부터|까지|처럼|조차|마저)(?=\\s|$)'\n",
        "\n",
        "    # 조사를 공백으로 대체\n",
        "    clean_text = re.sub(postpositions, '', text)\n",
        "\n",
        "    # 여러 개의 연속된 공백을 하나의 공백으로 변환\n",
        "    clean_text = re.sub(r'\\s+', ' ', clean_text).strip()\n",
        "\n",
        "    return clean_text\n",
        "\n",
        "def extract_urls(text):\n",
        "    # URL 패턴 정의\n",
        "    url_pattern = r'https?://[^\\s<>\"]+|www\\.[^\\s<>\"]+'\n",
        "\n",
        "    # URL 추출\n",
        "    urls = re.findall(url_pattern, text)\n",
        "\n",
        "    return urls\n",
        "\n",
        "# 예시 문장에서 URL 추출 및 조사 제거\n",
        "text = \"고양이가 방에서 책을 읽고 있다. 자세한 내용은 https://example.com에서 확인할 수 있습니다.\"\n",
        "urls = extract_urls(text)\n",
        "# URL 추출 후 텍스트에서 URL 제거\n",
        "for url in urls:\n",
        "    text = text.replace(url, '')\n",
        "\n",
        "clean_text = remove_postpositions(text)\n",
        "\n",
        "print(\"조사가 제거된 텍스트:\", clean_text)\n",
        "print(\"추출된 URL:\", urls)\n"
      ],
      "metadata": {
        "colab": {
          "base_uri": "https://localhost:8080/"
        },
        "id": "LZ7Ewz2SNhWj",
        "outputId": "98e6535a-5f8d-43bc-f710-cc8819972327"
      },
      "execution_count": null,
      "outputs": [
        {
          "output_type": "stream",
          "name": "stdout",
          "text": [
            "조사가 제거된 텍스트: 고양이 방 책 읽고 있다. 자세한 내용 확인할 수 있습니다.\n",
            "추출된 URL: ['https://example.com에서']\n"
          ]
        }
      ]
    },
    {
      "cell_type": "markdown",
      "source": [
        "## 수업 문제 2\n",
        "\n",
        "- 메서드를 이해하고 정규표현식 메서드의 변형/응용코드를 작성하여 공유해 봅시다."
      ],
      "metadata": {
        "id": "xJJ1n9j3TyTu"
      }
    },
    {
      "cell_type": "code",
      "source": [
        "# 내장 string 메소드 : .strip()\n",
        "# RE 라이브러리 메소드 : re.search(pattern, string), re.escape(string), re.findall(pattern, string)\n",
        "import re\n",
        "\n",
        "def extract_comments_after_phrase(sentences, phrase):\n",
        "    pattern = r'{}[\\s,:;]*(.*?)[.?!]'.format(re.escape(phrase))\n",
        "    matching_comments = []\n",
        "\n",
        "    for sentence in sentences:\n",
        "        match = re.search(pattern, sentence)\n",
        "        if match:\n",
        "            matching_comments.append(match.group(1).strip())\n",
        "\n",
        "    return matching_comments\n",
        "\n",
        "# 예시 문장 리스트\n",
        "sentences = [\n",
        "    \"이 제품 좋네요!\",\n",
        "    \"광고는 싫어요.\",\n",
        "    \"추천합니다!\",\n",
        "    \"저도 이 제품 써보고 싶어요.\",\n",
        "    \"이 제품은 최고에요!\",\n",
        "    \"이번 주차 뉴스기사 모음입니다. 자세한 내용은 사이트에서 확인하세요.\",\n",
        "    \"이 제품은 정말 좋아요.\",\n",
        "    \"상품 소개가 좋네요.\",\n",
        "    \"이번 주차 뉴스기사 모음입니다. 다양한 주제를 다루고 있습니다.\",\n",
        "    \"이 상품을 사용해보고 싶어요.\"\n",
        "]\n",
        "\n",
        "phrase = \"주차 뉴스기사 모음입니다.\"\n",
        "\n",
        "matching_comments = extract_comments_after_phrase(sentences, phrase)\n",
        "print(\"'{0}' 뒤의 댓글들:\".format(phrase))\n",
        "for comment in matching_comments:\n",
        "    print(comment)\n"
      ],
      "metadata": {
        "colab": {
          "base_uri": "https://localhost:8080/"
        },
        "id": "AshH5oNoiaxl",
        "outputId": "40f667b6-461e-4be6-d3f7-0e90818e5d74"
      },
      "execution_count": null,
      "outputs": [
        {
          "output_type": "stream",
          "name": "stdout",
          "text": [
            "'주차 뉴스기사 모음입니다.' 뒤의 댓글들:\n",
            "자세한 내용은 사이트에서 확인하세요\n",
            "다양한 주제를 다루고 있습니다\n"
          ]
        }
      ]
    },
    {
      "cell_type": "markdown",
      "source": [
        "<hr>"
      ],
      "metadata": {
        "id": "X1PsIgFWUaq3"
      }
    },
    {
      "cell_type": "markdown",
      "source": [
        "# 정규표현식 심화 예제"
      ],
      "metadata": {
        "id": "Ftdtg-i494dw"
      }
    },
    {
      "cell_type": "markdown",
      "source": [
        "## 심화 예제 1"
      ],
      "metadata": {
        "id": "wVd245U7qZe8"
      }
    },
    {
      "cell_type": "code",
      "source": [
        "import pandas as pd\n",
        "import re\n",
        "\n",
        "# 예시 데이터\n",
        "data = {\n",
        "    'Name': ['John, Mr. Owen Harris', 'Anna, Miss. Laina', 'Peter', 'Linda'],\n",
        "    'Age': [28, 35, 21, 29],\n",
        "    'City': ['New York', 'Paris', 'Berlin', 'London']\n",
        "}\n",
        "\n",
        "# 데이터 프레임 생성\n",
        "df_information = pd.DataFrame(data)\n",
        "\n",
        "# 데이터 프레임 출력\n",
        "print(df_information)"
      ],
      "metadata": {
        "colab": {
          "base_uri": "https://localhost:8080/"
        },
        "id": "QRin1gJu931p",
        "outputId": "d09e110f-6fb6-4f24-e5b0-ed5e9447a9c1"
      },
      "execution_count": null,
      "outputs": [
        {
          "output_type": "stream",
          "name": "stdout",
          "text": [
            "                    Name  Age      City\n",
            "0  John, Mr. Owen Harris   28  New York\n",
            "1      Anna, Miss. Laina   35     Paris\n",
            "2                  Peter   21    Berlin\n",
            "3                  Linda   29    London\n"
          ]
        }
      ]
    },
    {
      "cell_type": "code",
      "source": [
        "# 정규표현식을 사용하여 타이틀 추출\n",
        "df_information['Title'] = df_information['Name'].str.extract('([A-Za-z]+)\\.', expand=False)\n",
        "\n",
        "print(df_information)\n",
        "\n",
        "# ([A-Za-z]+)\n",
        "## [] 대괄호 안의 문자들 중 하나와 일치\n",
        "## [A-Za-z] 알파벡 대문자(A-Z) 또는 소문자(a-z)와 일치\n",
        "## + 앞의 패턴이 1번 이상 반복됨\n",
        "## 따라서, 연속된 알파벳 문자열을 의미\n",
        "\n",
        "# \\.\n",
        "## \\ 특수문자를 문자로 인식하도록 이스케이프 처리\n",
        "## . 임의의 한 문자를 의미\n",
        "## 따라서, \\.는 점('.')문자와 일치\n",
        "\n",
        "# '([A-Za-z]+)\\.'\n",
        "## 문자열 내에서 알파벳 대문자 또는 소문자로만 이루어진 단어와 그 뒤에 점('.')이 오는 패턴을 찾는 정규표현식"
      ],
      "metadata": {
        "colab": {
          "base_uri": "https://localhost:8080/"
        },
        "id": "FaTS0RiT-aJx",
        "outputId": "55232e82-369b-4bec-945b-ff94b3675b5a"
      },
      "execution_count": null,
      "outputs": [
        {
          "output_type": "stream",
          "name": "stdout",
          "text": [
            "                    Name  Age      City Title\n",
            "0  John, Mr. Owen Harris   28  New York    Mr\n",
            "1      Anna, Miss. Laina   35     Paris  Miss\n",
            "2                  Peter   21    Berlin   NaN\n",
            "3                  Linda   29    London   NaN\n"
          ]
        }
      ]
    },
    {
      "cell_type": "markdown",
      "source": [
        "## 심화 예제 2\n",
        "- 타이타닉 데이터 셋을 사용하여 데이터 전처리 실습"
      ],
      "metadata": {
        "id": "So9pzCXbG_SF"
      }
    },
    {
      "cell_type": "markdown",
      "source": [
        "### Basic Setting"
      ],
      "metadata": {
        "id": "NG9im7tuSbgv"
      }
    },
    {
      "cell_type": "code",
      "source": [
        "import pandas as pd\n",
        "import seaborn as sns\n",
        "import numpy as np\n",
        "import scipy\n",
        "import scipy.stats as stats\n",
        "import matplotlib.pyplot as plt\n",
        "\n",
        "# 파일 경로 지정\n",
        "train_file_path = '/content/drive/MyDrive/SeSAC 데이터 AI개발 과정/dataset/train.csv'\n",
        "test_file_path = '/content/drive/MyDrive/SeSAC 데이터 AI개발 과정/dataset/test.csv'\n",
        "\n",
        "# pandas를 사용하여 CSV 파일 불러오기\n",
        "df_titanic_train = pd.read_csv(train_file_path)\n",
        "df_titanic_test = pd.read_csv(test_file_path)"
      ],
      "metadata": {
        "id": "ktaq4OMUKOIe"
      },
      "execution_count": null,
      "outputs": []
    },
    {
      "cell_type": "markdown",
      "source": [
        "### 데이터 확인\n",
        "- Dataset\n",
        "  + titanic train dataset\n",
        "  + titanic test dataset"
      ],
      "metadata": {
        "id": "oZ2JjAmRSjGA"
      }
    },
    {
      "cell_type": "markdown",
      "source": [
        "#### titanic train dataset\n",
        "\n",
        "|Column|Description|Key|Opinion|\n",
        "|--|--|--|--|\n",
        "|PassengerId|승객ID|-||\n",
        "|Survived|생존유무|0 = 사망, 1 = 생존|범주형|\n",
        "|Pclass|티켓 클래스|1 = 1st, 2 = 2nd, 3 = 3rd|범주형|\n",
        "|Name|탑승객 성명|||\n",
        "|Sex|성별|||\n",
        "|Age|나이(세)|||\n",
        "|SibSp|함께 탑승한 형제자매, 배우자 수 총합|||\n",
        "|Parch|함께 탑승한 부모, 자녀 수 총합|||\n",
        "|Ticket|티켓 넘버|||\n",
        "|Fare|탑승 요금|||\n",
        "|Cabin|객실 넘버|||\n",
        "|Embarked|탑승 항구|||\n",
        "\n",
        "\n"
      ],
      "metadata": {
        "id": "qbL4MTA1TBu5"
      }
    },
    {
      "cell_type": "code",
      "source": [
        "# 데이터 프레임 출력\n",
        "df_titanic_train[:5]"
      ],
      "metadata": {
        "colab": {
          "base_uri": "https://localhost:8080/",
          "height": 504
        },
        "id": "JoCiHkPFSYyT",
        "outputId": "7e8c5bfb-c586-4367-d024-40a615a38a9b"
      },
      "execution_count": null,
      "outputs": [
        {
          "output_type": "execute_result",
          "data": {
            "text/plain": [
              "   PassengerId  Survived  Pclass  \\\n",
              "0            1         0       3   \n",
              "1            2         1       1   \n",
              "2            3         1       3   \n",
              "3            4         1       1   \n",
              "4            5         0       3   \n",
              "\n",
              "                                                Name     Sex   Age  SibSp  \\\n",
              "0                            Braund, Mr. Owen Harris    male  22.0      1   \n",
              "1  Cumings, Mrs. John Bradley (Florence Briggs Th...  female  38.0      1   \n",
              "2                             Heikkinen, Miss. Laina  female  26.0      0   \n",
              "3       Futrelle, Mrs. Jacques Heath (Lily May Peel)  female  35.0      1   \n",
              "4                           Allen, Mr. William Henry    male  35.0      0   \n",
              "\n",
              "   Parch            Ticket     Fare Cabin Embarked  \n",
              "0      0         A/5 21171   7.2500   NaN        S  \n",
              "1      0          PC 17599  71.2833   C85        C  \n",
              "2      0  STON/O2. 3101282   7.9250   NaN        S  \n",
              "3      0            113803  53.1000  C123        S  \n",
              "4      0            373450   8.0500   NaN        S  "
            ],
            "text/html": [
              "\n",
              "  <div id=\"df-31d578ce-f5ed-442f-bf2b-dea61f657b3a\" class=\"colab-df-container\">\n",
              "    <div>\n",
              "<style scoped>\n",
              "    .dataframe tbody tr th:only-of-type {\n",
              "        vertical-align: middle;\n",
              "    }\n",
              "\n",
              "    .dataframe tbody tr th {\n",
              "        vertical-align: top;\n",
              "    }\n",
              "\n",
              "    .dataframe thead th {\n",
              "        text-align: right;\n",
              "    }\n",
              "</style>\n",
              "<table border=\"1\" class=\"dataframe\">\n",
              "  <thead>\n",
              "    <tr style=\"text-align: right;\">\n",
              "      <th></th>\n",
              "      <th>PassengerId</th>\n",
              "      <th>Survived</th>\n",
              "      <th>Pclass</th>\n",
              "      <th>Name</th>\n",
              "      <th>Sex</th>\n",
              "      <th>Age</th>\n",
              "      <th>SibSp</th>\n",
              "      <th>Parch</th>\n",
              "      <th>Ticket</th>\n",
              "      <th>Fare</th>\n",
              "      <th>Cabin</th>\n",
              "      <th>Embarked</th>\n",
              "    </tr>\n",
              "  </thead>\n",
              "  <tbody>\n",
              "    <tr>\n",
              "      <th>0</th>\n",
              "      <td>1</td>\n",
              "      <td>0</td>\n",
              "      <td>3</td>\n",
              "      <td>Braund, Mr. Owen Harris</td>\n",
              "      <td>male</td>\n",
              "      <td>22.0</td>\n",
              "      <td>1</td>\n",
              "      <td>0</td>\n",
              "      <td>A/5 21171</td>\n",
              "      <td>7.2500</td>\n",
              "      <td>NaN</td>\n",
              "      <td>S</td>\n",
              "    </tr>\n",
              "    <tr>\n",
              "      <th>1</th>\n",
              "      <td>2</td>\n",
              "      <td>1</td>\n",
              "      <td>1</td>\n",
              "      <td>Cumings, Mrs. John Bradley (Florence Briggs Th...</td>\n",
              "      <td>female</td>\n",
              "      <td>38.0</td>\n",
              "      <td>1</td>\n",
              "      <td>0</td>\n",
              "      <td>PC 17599</td>\n",
              "      <td>71.2833</td>\n",
              "      <td>C85</td>\n",
              "      <td>C</td>\n",
              "    </tr>\n",
              "    <tr>\n",
              "      <th>2</th>\n",
              "      <td>3</td>\n",
              "      <td>1</td>\n",
              "      <td>3</td>\n",
              "      <td>Heikkinen, Miss. Laina</td>\n",
              "      <td>female</td>\n",
              "      <td>26.0</td>\n",
              "      <td>0</td>\n",
              "      <td>0</td>\n",
              "      <td>STON/O2. 3101282</td>\n",
              "      <td>7.9250</td>\n",
              "      <td>NaN</td>\n",
              "      <td>S</td>\n",
              "    </tr>\n",
              "    <tr>\n",
              "      <th>3</th>\n",
              "      <td>4</td>\n",
              "      <td>1</td>\n",
              "      <td>1</td>\n",
              "      <td>Futrelle, Mrs. Jacques Heath (Lily May Peel)</td>\n",
              "      <td>female</td>\n",
              "      <td>35.0</td>\n",
              "      <td>1</td>\n",
              "      <td>0</td>\n",
              "      <td>113803</td>\n",
              "      <td>53.1000</td>\n",
              "      <td>C123</td>\n",
              "      <td>S</td>\n",
              "    </tr>\n",
              "    <tr>\n",
              "      <th>4</th>\n",
              "      <td>5</td>\n",
              "      <td>0</td>\n",
              "      <td>3</td>\n",
              "      <td>Allen, Mr. William Henry</td>\n",
              "      <td>male</td>\n",
              "      <td>35.0</td>\n",
              "      <td>0</td>\n",
              "      <td>0</td>\n",
              "      <td>373450</td>\n",
              "      <td>8.0500</td>\n",
              "      <td>NaN</td>\n",
              "      <td>S</td>\n",
              "    </tr>\n",
              "  </tbody>\n",
              "</table>\n",
              "</div>\n",
              "    <div class=\"colab-df-buttons\">\n",
              "\n",
              "  <div class=\"colab-df-container\">\n",
              "    <button class=\"colab-df-convert\" onclick=\"convertToInteractive('df-31d578ce-f5ed-442f-bf2b-dea61f657b3a')\"\n",
              "            title=\"Convert this dataframe to an interactive table.\"\n",
              "            style=\"display:none;\">\n",
              "\n",
              "  <svg xmlns=\"http://www.w3.org/2000/svg\" height=\"24px\" viewBox=\"0 -960 960 960\">\n",
              "    <path d=\"M120-120v-720h720v720H120Zm60-500h600v-160H180v160Zm220 220h160v-160H400v160Zm0 220h160v-160H400v160ZM180-400h160v-160H180v160Zm440 0h160v-160H620v160ZM180-180h160v-160H180v160Zm440 0h160v-160H620v160Z\"/>\n",
              "  </svg>\n",
              "    </button>\n",
              "\n",
              "  <style>\n",
              "    .colab-df-container {\n",
              "      display:flex;\n",
              "      gap: 12px;\n",
              "    }\n",
              "\n",
              "    .colab-df-convert {\n",
              "      background-color: #E8F0FE;\n",
              "      border: none;\n",
              "      border-radius: 50%;\n",
              "      cursor: pointer;\n",
              "      display: none;\n",
              "      fill: #1967D2;\n",
              "      height: 32px;\n",
              "      padding: 0 0 0 0;\n",
              "      width: 32px;\n",
              "    }\n",
              "\n",
              "    .colab-df-convert:hover {\n",
              "      background-color: #E2EBFA;\n",
              "      box-shadow: 0px 1px 2px rgba(60, 64, 67, 0.3), 0px 1px 3px 1px rgba(60, 64, 67, 0.15);\n",
              "      fill: #174EA6;\n",
              "    }\n",
              "\n",
              "    .colab-df-buttons div {\n",
              "      margin-bottom: 4px;\n",
              "    }\n",
              "\n",
              "    [theme=dark] .colab-df-convert {\n",
              "      background-color: #3B4455;\n",
              "      fill: #D2E3FC;\n",
              "    }\n",
              "\n",
              "    [theme=dark] .colab-df-convert:hover {\n",
              "      background-color: #434B5C;\n",
              "      box-shadow: 0px 1px 3px 1px rgba(0, 0, 0, 0.15);\n",
              "      filter: drop-shadow(0px 1px 2px rgba(0, 0, 0, 0.3));\n",
              "      fill: #FFFFFF;\n",
              "    }\n",
              "  </style>\n",
              "\n",
              "    <script>\n",
              "      const buttonEl =\n",
              "        document.querySelector('#df-31d578ce-f5ed-442f-bf2b-dea61f657b3a button.colab-df-convert');\n",
              "      buttonEl.style.display =\n",
              "        google.colab.kernel.accessAllowed ? 'block' : 'none';\n",
              "\n",
              "      async function convertToInteractive(key) {\n",
              "        const element = document.querySelector('#df-31d578ce-f5ed-442f-bf2b-dea61f657b3a');\n",
              "        const dataTable =\n",
              "          await google.colab.kernel.invokeFunction('convertToInteractive',\n",
              "                                                    [key], {});\n",
              "        if (!dataTable) return;\n",
              "\n",
              "        const docLinkHtml = 'Like what you see? Visit the ' +\n",
              "          '<a target=\"_blank\" href=https://colab.research.google.com/notebooks/data_table.ipynb>data table notebook</a>'\n",
              "          + ' to learn more about interactive tables.';\n",
              "        element.innerHTML = '';\n",
              "        dataTable['output_type'] = 'display_data';\n",
              "        await google.colab.output.renderOutput(dataTable, element);\n",
              "        const docLink = document.createElement('div');\n",
              "        docLink.innerHTML = docLinkHtml;\n",
              "        element.appendChild(docLink);\n",
              "      }\n",
              "    </script>\n",
              "  </div>\n",
              "\n",
              "\n",
              "<div id=\"df-ec4d1123-b091-4284-95a1-81c12da475e7\">\n",
              "  <button class=\"colab-df-quickchart\" onclick=\"quickchart('df-ec4d1123-b091-4284-95a1-81c12da475e7')\"\n",
              "            title=\"Suggest charts\"\n",
              "            style=\"display:none;\">\n",
              "\n",
              "<svg xmlns=\"http://www.w3.org/2000/svg\" height=\"24px\"viewBox=\"0 0 24 24\"\n",
              "     width=\"24px\">\n",
              "    <g>\n",
              "        <path d=\"M19 3H5c-1.1 0-2 .9-2 2v14c0 1.1.9 2 2 2h14c1.1 0 2-.9 2-2V5c0-1.1-.9-2-2-2zM9 17H7v-7h2v7zm4 0h-2V7h2v10zm4 0h-2v-4h2v4z\"/>\n",
              "    </g>\n",
              "</svg>\n",
              "  </button>\n",
              "\n",
              "<style>\n",
              "  .colab-df-quickchart {\n",
              "      --bg-color: #E8F0FE;\n",
              "      --fill-color: #1967D2;\n",
              "      --hover-bg-color: #E2EBFA;\n",
              "      --hover-fill-color: #174EA6;\n",
              "      --disabled-fill-color: #AAA;\n",
              "      --disabled-bg-color: #DDD;\n",
              "  }\n",
              "\n",
              "  [theme=dark] .colab-df-quickchart {\n",
              "      --bg-color: #3B4455;\n",
              "      --fill-color: #D2E3FC;\n",
              "      --hover-bg-color: #434B5C;\n",
              "      --hover-fill-color: #FFFFFF;\n",
              "      --disabled-bg-color: #3B4455;\n",
              "      --disabled-fill-color: #666;\n",
              "  }\n",
              "\n",
              "  .colab-df-quickchart {\n",
              "    background-color: var(--bg-color);\n",
              "    border: none;\n",
              "    border-radius: 50%;\n",
              "    cursor: pointer;\n",
              "    display: none;\n",
              "    fill: var(--fill-color);\n",
              "    height: 32px;\n",
              "    padding: 0;\n",
              "    width: 32px;\n",
              "  }\n",
              "\n",
              "  .colab-df-quickchart:hover {\n",
              "    background-color: var(--hover-bg-color);\n",
              "    box-shadow: 0 1px 2px rgba(60, 64, 67, 0.3), 0 1px 3px 1px rgba(60, 64, 67, 0.15);\n",
              "    fill: var(--button-hover-fill-color);\n",
              "  }\n",
              "\n",
              "  .colab-df-quickchart-complete:disabled,\n",
              "  .colab-df-quickchart-complete:disabled:hover {\n",
              "    background-color: var(--disabled-bg-color);\n",
              "    fill: var(--disabled-fill-color);\n",
              "    box-shadow: none;\n",
              "  }\n",
              "\n",
              "  .colab-df-spinner {\n",
              "    border: 2px solid var(--fill-color);\n",
              "    border-color: transparent;\n",
              "    border-bottom-color: var(--fill-color);\n",
              "    animation:\n",
              "      spin 1s steps(1) infinite;\n",
              "  }\n",
              "\n",
              "  @keyframes spin {\n",
              "    0% {\n",
              "      border-color: transparent;\n",
              "      border-bottom-color: var(--fill-color);\n",
              "      border-left-color: var(--fill-color);\n",
              "    }\n",
              "    20% {\n",
              "      border-color: transparent;\n",
              "      border-left-color: var(--fill-color);\n",
              "      border-top-color: var(--fill-color);\n",
              "    }\n",
              "    30% {\n",
              "      border-color: transparent;\n",
              "      border-left-color: var(--fill-color);\n",
              "      border-top-color: var(--fill-color);\n",
              "      border-right-color: var(--fill-color);\n",
              "    }\n",
              "    40% {\n",
              "      border-color: transparent;\n",
              "      border-right-color: var(--fill-color);\n",
              "      border-top-color: var(--fill-color);\n",
              "    }\n",
              "    60% {\n",
              "      border-color: transparent;\n",
              "      border-right-color: var(--fill-color);\n",
              "    }\n",
              "    80% {\n",
              "      border-color: transparent;\n",
              "      border-right-color: var(--fill-color);\n",
              "      border-bottom-color: var(--fill-color);\n",
              "    }\n",
              "    90% {\n",
              "      border-color: transparent;\n",
              "      border-bottom-color: var(--fill-color);\n",
              "    }\n",
              "  }\n",
              "</style>\n",
              "\n",
              "  <script>\n",
              "    async function quickchart(key) {\n",
              "      const quickchartButtonEl =\n",
              "        document.querySelector('#' + key + ' button');\n",
              "      quickchartButtonEl.disabled = true;  // To prevent multiple clicks.\n",
              "      quickchartButtonEl.classList.add('colab-df-spinner');\n",
              "      try {\n",
              "        const charts = await google.colab.kernel.invokeFunction(\n",
              "            'suggestCharts', [key], {});\n",
              "      } catch (error) {\n",
              "        console.error('Error during call to suggestCharts:', error);\n",
              "      }\n",
              "      quickchartButtonEl.classList.remove('colab-df-spinner');\n",
              "      quickchartButtonEl.classList.add('colab-df-quickchart-complete');\n",
              "    }\n",
              "    (() => {\n",
              "      let quickchartButtonEl =\n",
              "        document.querySelector('#df-ec4d1123-b091-4284-95a1-81c12da475e7 button');\n",
              "      quickchartButtonEl.style.display =\n",
              "        google.colab.kernel.accessAllowed ? 'block' : 'none';\n",
              "    })();\n",
              "  </script>\n",
              "</div>\n",
              "\n",
              "    </div>\n",
              "  </div>\n"
            ],
            "application/vnd.google.colaboratory.intrinsic+json": {
              "type": "dataframe",
              "summary": "{\n  \"name\": \"df_titanic_train[:5]\",\n  \"rows\": 5,\n  \"fields\": [\n    {\n      \"column\": \"PassengerId\",\n      \"properties\": {\n        \"dtype\": \"number\",\n        \"std\": 1,\n        \"min\": 1,\n        \"max\": 5,\n        \"num_unique_values\": 5,\n        \"samples\": [\n          2,\n          5,\n          3\n        ],\n        \"semantic_type\": \"\",\n        \"description\": \"\"\n      }\n    },\n    {\n      \"column\": \"Survived\",\n      \"properties\": {\n        \"dtype\": \"number\",\n        \"std\": 0,\n        \"min\": 0,\n        \"max\": 1,\n        \"num_unique_values\": 2,\n        \"samples\": [\n          1,\n          0\n        ],\n        \"semantic_type\": \"\",\n        \"description\": \"\"\n      }\n    },\n    {\n      \"column\": \"Pclass\",\n      \"properties\": {\n        \"dtype\": \"number\",\n        \"std\": 1,\n        \"min\": 1,\n        \"max\": 3,\n        \"num_unique_values\": 2,\n        \"samples\": [\n          1,\n          3\n        ],\n        \"semantic_type\": \"\",\n        \"description\": \"\"\n      }\n    },\n    {\n      \"column\": \"Name\",\n      \"properties\": {\n        \"dtype\": \"string\",\n        \"num_unique_values\": 5,\n        \"samples\": [\n          \"Cumings, Mrs. John Bradley (Florence Briggs Thayer)\",\n          \"Allen, Mr. William Henry\"\n        ],\n        \"semantic_type\": \"\",\n        \"description\": \"\"\n      }\n    },\n    {\n      \"column\": \"Sex\",\n      \"properties\": {\n        \"dtype\": \"category\",\n        \"num_unique_values\": 2,\n        \"samples\": [\n          \"female\",\n          \"male\"\n        ],\n        \"semantic_type\": \"\",\n        \"description\": \"\"\n      }\n    },\n    {\n      \"column\": \"Age\",\n      \"properties\": {\n        \"dtype\": \"number\",\n        \"std\": 6.833739825307955,\n        \"min\": 22.0,\n        \"max\": 38.0,\n        \"num_unique_values\": 4,\n        \"samples\": [\n          38.0,\n          35.0\n        ],\n        \"semantic_type\": \"\",\n        \"description\": \"\"\n      }\n    },\n    {\n      \"column\": \"SibSp\",\n      \"properties\": {\n        \"dtype\": \"number\",\n        \"std\": 0,\n        \"min\": 0,\n        \"max\": 1,\n        \"num_unique_values\": 2,\n        \"samples\": [\n          0,\n          1\n        ],\n        \"semantic_type\": \"\",\n        \"description\": \"\"\n      }\n    },\n    {\n      \"column\": \"Parch\",\n      \"properties\": {\n        \"dtype\": \"number\",\n        \"std\": 0,\n        \"min\": 0,\n        \"max\": 0,\n        \"num_unique_values\": 1,\n        \"samples\": [\n          0\n        ],\n        \"semantic_type\": \"\",\n        \"description\": \"\"\n      }\n    },\n    {\n      \"column\": \"Ticket\",\n      \"properties\": {\n        \"dtype\": \"string\",\n        \"num_unique_values\": 5,\n        \"samples\": [\n          \"PC 17599\"\n        ],\n        \"semantic_type\": \"\",\n        \"description\": \"\"\n      }\n    },\n    {\n      \"column\": \"Fare\",\n      \"properties\": {\n        \"dtype\": \"number\",\n        \"std\": 30.5100288352535,\n        \"min\": 7.25,\n        \"max\": 71.2833,\n        \"num_unique_values\": 5,\n        \"samples\": [\n          71.2833\n        ],\n        \"semantic_type\": \"\",\n        \"description\": \"\"\n      }\n    },\n    {\n      \"column\": \"Cabin\",\n      \"properties\": {\n        \"dtype\": \"category\",\n        \"num_unique_values\": 2,\n        \"samples\": [\n          \"C123\"\n        ],\n        \"semantic_type\": \"\",\n        \"description\": \"\"\n      }\n    },\n    {\n      \"column\": \"Embarked\",\n      \"properties\": {\n        \"dtype\": \"category\",\n        \"num_unique_values\": 2,\n        \"samples\": [\n          \"C\"\n        ],\n        \"semantic_type\": \"\",\n        \"description\": \"\"\n      }\n    }\n  ]\n}"
            }
          },
          "metadata": {},
          "execution_count": 63
        }
      ]
    },
    {
      "cell_type": "code",
      "source": [
        "df_titanic_train.isnull().sum()"
      ],
      "metadata": {
        "colab": {
          "base_uri": "https://localhost:8080/"
        },
        "id": "F-hu46tRU6Iy",
        "outputId": "de6bfe2c-a510-4c50-cc19-fedbc89cf4ba"
      },
      "execution_count": null,
      "outputs": [
        {
          "output_type": "execute_result",
          "data": {
            "text/plain": [
              "PassengerId      0\n",
              "Survived         0\n",
              "Pclass           0\n",
              "Name             0\n",
              "Sex              0\n",
              "Age            177\n",
              "SibSp            0\n",
              "Parch            0\n",
              "Ticket           0\n",
              "Fare             0\n",
              "Cabin          687\n",
              "Embarked         2\n",
              "dtype: int64"
            ]
          },
          "metadata": {},
          "execution_count": 64
        }
      ]
    },
    {
      "cell_type": "code",
      "source": [
        "# 결측치 시각화\n",
        "import missingno as msno\n",
        "msno.matrix(df_titanic_train, figsize=(12, 5))"
      ],
      "metadata": {
        "colab": {
          "base_uri": "https://localhost:8080/",
          "height": 470
        },
        "id": "TqsKs6jfVEHz",
        "outputId": "203d3240-4e7f-4a49-df84-f4348d421465"
      },
      "execution_count": null,
      "outputs": [
        {
          "output_type": "execute_result",
          "data": {
            "text/plain": [
              "<Axes: >"
            ]
          },
          "metadata": {},
          "execution_count": 66
        },
        {
          "output_type": "display_data",
          "data": {
            "text/plain": [
              "<Figure size 1200x500 with 2 Axes>"
            ],
            "image/png": "[encoded data removed]"
          },
          "metadata": {}
        }
      ]
    },
    {
      "cell_type": "code",
      "source": [
        "df_titanic_train['Pclass'].unique()"
      ],
      "metadata": {
        "colab": {
          "base_uri": "https://localhost:8080/"
        },
        "id": "fePuTptKVXQr",
        "outputId": "10b2e893-81da-484d-c383-3e343b6826bb"
      },
      "execution_count": null,
      "outputs": [
        {
          "output_type": "execute_result",
          "data": {
            "text/plain": [
              "array([3, 1, 2])"
            ]
          },
          "metadata": {},
          "execution_count": 73
        }
      ]
    },
    {
      "cell_type": "code",
      "source": [
        "# 데이터 프레임 출력\n",
        "df_titanic_test[:5]"
      ],
      "metadata": {
        "colab": {
          "base_uri": "https://localhost:8080/",
          "height": 276
        },
        "id": "5RMUeuG5LZq1",
        "outputId": "95778dc0-43ac-4d69-ef09-fe548198e6e4"
      },
      "execution_count": null,
      "outputs": [
        {
          "output_type": "execute_result",
          "data": {
            "text/plain": [
              "   PassengerId  Pclass                                          Name     Sex  \\\n",
              "0          892       3                              Kelly, Mr. James    male   \n",
              "1          893       3              Wilkes, Mrs. James (Ellen Needs)  female   \n",
              "2          894       2                     Myles, Mr. Thomas Francis    male   \n",
              "3          895       3                              Wirz, Mr. Albert    male   \n",
              "4          896       3  Hirvonen, Mrs. Alexander (Helga E Lindqvist)  female   \n",
              "\n",
              "    Age  SibSp  Parch   Ticket     Fare Cabin Embarked  \n",
              "0  34.5      0      0   330911   7.8292   NaN        Q  \n",
              "1  47.0      1      0   363272   7.0000   NaN        S  \n",
              "2  62.0      0      0   240276   9.6875   NaN        Q  \n",
              "3  27.0      0      0   315154   8.6625   NaN        S  \n",
              "4  22.0      1      1  3101298  12.2875   NaN        S  "
            ],
            "text/html": [
              "\n",
              "  <div id=\"df-4f6ae807-5ad0-4062-b6b1-ea31d0570b3a\" class=\"colab-df-container\">\n",
              "    <div>\n",
              "<style scoped>\n",
              "    .dataframe tbody tr th:only-of-type {\n",
              "        vertical-align: middle;\n",
              "    }\n",
              "\n",
              "    .dataframe tbody tr th {\n",
              "        vertical-align: top;\n",
              "    }\n",
              "\n",
              "    .dataframe thead th {\n",
              "        text-align: right;\n",
              "    }\n",
              "</style>\n",
              "<table border=\"1\" class=\"dataframe\">\n",
              "  <thead>\n",
              "    <tr style=\"text-align: right;\">\n",
              "      <th></th>\n",
              "      <th>PassengerId</th>\n",
              "      <th>Pclass</th>\n",
              "      <th>Name</th>\n",
              "      <th>Sex</th>\n",
              "      <th>Age</th>\n",
              "      <th>SibSp</th>\n",
              "      <th>Parch</th>\n",
              "      <th>Ticket</th>\n",
              "      <th>Fare</th>\n",
              "      <th>Cabin</th>\n",
              "      <th>Embarked</th>\n",
              "    </tr>\n",
              "  </thead>\n",
              "  <tbody>\n",
              "    <tr>\n",
              "      <th>0</th>\n",
              "      <td>892</td>\n",
              "      <td>3</td>\n",
              "      <td>Kelly, Mr. James</td>\n",
              "      <td>male</td>\n",
              "      <td>34.5</td>\n",
              "      <td>0</td>\n",
              "      <td>0</td>\n",
              "      <td>330911</td>\n",
              "      <td>7.8292</td>\n",
              "      <td>NaN</td>\n",
              "      <td>Q</td>\n",
              "    </tr>\n",
              "    <tr>\n",
              "      <th>1</th>\n",
              "      <td>893</td>\n",
              "      <td>3</td>\n",
              "      <td>Wilkes, Mrs. James (Ellen Needs)</td>\n",
              "      <td>female</td>\n",
              "      <td>47.0</td>\n",
              "      <td>1</td>\n",
              "      <td>0</td>\n",
              "      <td>363272</td>\n",
              "      <td>7.0000</td>\n",
              "      <td>NaN</td>\n",
              "      <td>S</td>\n",
              "    </tr>\n",
              "    <tr>\n",
              "      <th>2</th>\n",
              "      <td>894</td>\n",
              "      <td>2</td>\n",
              "      <td>Myles, Mr. Thomas Francis</td>\n",
              "      <td>male</td>\n",
              "      <td>62.0</td>\n",
              "      <td>0</td>\n",
              "      <td>0</td>\n",
              "      <td>240276</td>\n",
              "      <td>9.6875</td>\n",
              "      <td>NaN</td>\n",
              "      <td>Q</td>\n",
              "    </tr>\n",
              "    <tr>\n",
              "      <th>3</th>\n",
              "      <td>895</td>\n",
              "      <td>3</td>\n",
              "      <td>Wirz, Mr. Albert</td>\n",
              "      <td>male</td>\n",
              "      <td>27.0</td>\n",
              "      <td>0</td>\n",
              "      <td>0</td>\n",
              "      <td>315154</td>\n",
              "      <td>8.6625</td>\n",
              "      <td>NaN</td>\n",
              "      <td>S</td>\n",
              "    </tr>\n",
              "    <tr>\n",
              "      <th>4</th>\n",
              "      <td>896</td>\n",
              "      <td>3</td>\n",
              "      <td>Hirvonen, Mrs. Alexander (Helga E Lindqvist)</td>\n",
              "      <td>female</td>\n",
              "      <td>22.0</td>\n",
              "      <td>1</td>\n",
              "      <td>1</td>\n",
              "      <td>3101298</td>\n",
              "      <td>12.2875</td>\n",
              "      <td>NaN</td>\n",
              "      <td>S</td>\n",
              "    </tr>\n",
              "  </tbody>\n",
              "</table>\n",
              "</div>\n",
              "    <div class=\"colab-df-buttons\">\n",
              "\n",
              "  <div class=\"colab-df-container\">\n",
              "    <button class=\"colab-df-convert\" onclick=\"convertToInteractive('df-4f6ae807-5ad0-4062-b6b1-ea31d0570b3a')\"\n",
              "            title=\"Convert this dataframe to an interactive table.\"\n",
              "            style=\"display:none;\">\n",
              "\n",
              "  <svg xmlns=\"http://www.w3.org/2000/svg\" height=\"24px\" viewBox=\"0 -960 960 960\">\n",
              "    <path d=\"M120-120v-720h720v720H120Zm60-500h600v-160H180v160Zm220 220h160v-160H400v160Zm0 220h160v-160H400v160ZM180-400h160v-160H180v160Zm440 0h160v-160H620v160ZM180-180h160v-160H180v160Zm440 0h160v-160H620v160Z\"/>\n",
              "  </svg>\n",
              "    </button>\n",
              "\n",
              "  <style>\n",
              "    .colab-df-container {\n",
              "      display:flex;\n",
              "      gap: 12px;\n",
              "    }\n",
              "\n",
              "    .colab-df-convert {\n",
              "      background-color: #E8F0FE;\n",
              "      border: none;\n",
              "      border-radius: 50%;\n",
              "      cursor: pointer;\n",
              "      display: none;\n",
              "      fill: #1967D2;\n",
              "      height: 32px;\n",
              "      padding: 0 0 0 0;\n",
              "      width: 32px;\n",
              "    }\n",
              "\n",
              "    .colab-df-convert:hover {\n",
              "      background-color: #E2EBFA;\n",
              "      box-shadow: 0px 1px 2px rgba(60, 64, 67, 0.3), 0px 1px 3px 1px rgba(60, 64, 67, 0.15);\n",
              "      fill: #174EA6;\n",
              "    }\n",
              "\n",
              "    .colab-df-buttons div {\n",
              "      margin-bottom: 4px;\n",
              "    }\n",
              "\n",
              "    [theme=dark] .colab-df-convert {\n",
              "      background-color: #3B4455;\n",
              "      fill: #D2E3FC;\n",
              "    }\n",
              "\n",
              "    [theme=dark] .colab-df-convert:hover {\n",
              "      background-color: #434B5C;\n",
              "      box-shadow: 0px 1px 3px 1px rgba(0, 0, 0, 0.15);\n",
              "      filter: drop-shadow(0px 1px 2px rgba(0, 0, 0, 0.3));\n",
              "      fill: #FFFFFF;\n",
              "    }\n",
              "  </style>\n",
              "\n",
              "    <script>\n",
              "      const buttonEl =\n",
              "        document.querySelector('#df-4f6ae807-5ad0-4062-b6b1-ea31d0570b3a button.colab-df-convert');\n",
              "      buttonEl.style.display =\n",
              "        google.colab.kernel.accessAllowed ? 'block' : 'none';\n",
              "\n",
              "      async function convertToInteractive(key) {\n",
              "        const element = document.querySelector('#df-4f6ae807-5ad0-4062-b6b1-ea31d0570b3a');\n",
              "        const dataTable =\n",
              "          await google.colab.kernel.invokeFunction('convertToInteractive',\n",
              "                                                    [key], {});\n",
              "        if (!dataTable) return;\n",
              "\n",
              "        const docLinkHtml = 'Like what you see? Visit the ' +\n",
              "          '<a target=\"_blank\" href=https://colab.research.google.com/notebooks/data_table.ipynb>data table notebook</a>'\n",
              "          + ' to learn more about interactive tables.';\n",
              "        element.innerHTML = '';\n",
              "        dataTable['output_type'] = 'display_data';\n",
              "        await google.colab.output.renderOutput(dataTable, element);\n",
              "        const docLink = document.createElement('div');\n",
              "        docLink.innerHTML = docLinkHtml;\n",
              "        element.appendChild(docLink);\n",
              "      }\n",
              "    </script>\n",
              "  </div>\n",
              "\n",
              "\n",
              "<div id=\"df-0b78abb9-a9a2-4016-be38-716675201975\">\n",
              "  <button class=\"colab-df-quickchart\" onclick=\"quickchart('df-0b78abb9-a9a2-4016-be38-716675201975')\"\n",
              "            title=\"Suggest charts\"\n",
              "            style=\"display:none;\">\n",
              "\n",
              "<svg xmlns=\"http://www.w3.org/2000/svg\" height=\"24px\"viewBox=\"0 0 24 24\"\n",
              "     width=\"24px\">\n",
              "    <g>\n",
              "        <path d=\"M19 3H5c-1.1 0-2 .9-2 2v14c0 1.1.9 2 2 2h14c1.1 0 2-.9 2-2V5c0-1.1-.9-2-2-2zM9 17H7v-7h2v7zm4 0h-2V7h2v10zm4 0h-2v-4h2v4z\"/>\n",
              "    </g>\n",
              "</svg>\n",
              "  </button>\n",
              "\n",
              "<style>\n",
              "  .colab-df-quickchart {\n",
              "      --bg-color: #E8F0FE;\n",
              "      --fill-color: #1967D2;\n",
              "      --hover-bg-color: #E2EBFA;\n",
              "      --hover-fill-color: #174EA6;\n",
              "      --disabled-fill-color: #AAA;\n",
              "      --disabled-bg-color: #DDD;\n",
              "  }\n",
              "\n",
              "  [theme=dark] .colab-df-quickchart {\n",
              "      --bg-color: #3B4455;\n",
              "      --fill-color: #D2E3FC;\n",
              "      --hover-bg-color: #434B5C;\n",
              "      --hover-fill-color: #FFFFFF;\n",
              "      --disabled-bg-color: #3B4455;\n",
              "      --disabled-fill-color: #666;\n",
              "  }\n",
              "\n",
              "  .colab-df-quickchart {\n",
              "    background-color: var(--bg-color);\n",
              "    border: none;\n",
              "    border-radius: 50%;\n",
              "    cursor: pointer;\n",
              "    display: none;\n",
              "    fill: var(--fill-color);\n",
              "    height: 32px;\n",
              "    padding: 0;\n",
              "    width: 32px;\n",
              "  }\n",
              "\n",
              "  .colab-df-quickchart:hover {\n",
              "    background-color: var(--hover-bg-color);\n",
              "    box-shadow: 0 1px 2px rgba(60, 64, 67, 0.3), 0 1px 3px 1px rgba(60, 64, 67, 0.15);\n",
              "    fill: var(--button-hover-fill-color);\n",
              "  }\n",
              "\n",
              "  .colab-df-quickchart-complete:disabled,\n",
              "  .colab-df-quickchart-complete:disabled:hover {\n",
              "    background-color: var(--disabled-bg-color);\n",
              "    fill: var(--disabled-fill-color);\n",
              "    box-shadow: none;\n",
              "  }\n",
              "\n",
              "  .colab-df-spinner {\n",
              "    border: 2px solid var(--fill-color);\n",
              "    border-color: transparent;\n",
              "    border-bottom-color: var(--fill-color);\n",
              "    animation:\n",
              "      spin 1s steps(1) infinite;\n",
              "  }\n",
              "\n",
              "  @keyframes spin {\n",
              "    0% {\n",
              "      border-color: transparent;\n",
              "      border-bottom-color: var(--fill-color);\n",
              "      border-left-color: var(--fill-color);\n",
              "    }\n",
              "    20% {\n",
              "      border-color: transparent;\n",
              "      border-left-color: var(--fill-color);\n",
              "      border-top-color: var(--fill-color);\n",
              "    }\n",
              "    30% {\n",
              "      border-color: transparent;\n",
              "      border-left-color: var(--fill-color);\n",
              "      border-top-color: var(--fill-color);\n",
              "      border-right-color: var(--fill-color);\n",
              "    }\n",
              "    40% {\n",
              "      border-color: transparent;\n",
              "      border-right-color: var(--fill-color);\n",
              "      border-top-color: var(--fill-color);\n",
              "    }\n",
              "    60% {\n",
              "      border-color: transparent;\n",
              "      border-right-color: var(--fill-color);\n",
              "    }\n",
              "    80% {\n",
              "      border-color: transparent;\n",
              "      border-right-color: var(--fill-color);\n",
              "      border-bottom-color: var(--fill-color);\n",
              "    }\n",
              "    90% {\n",
              "      border-color: transparent;\n",
              "      border-bottom-color: var(--fill-color);\n",
              "    }\n",
              "  }\n",
              "</style>\n",
              "\n",
              "  <script>\n",
              "    async function quickchart(key) {\n",
              "      const quickchartButtonEl =\n",
              "        document.querySelector('#' + key + ' button');\n",
              "      quickchartButtonEl.disabled = true;  // To prevent multiple clicks.\n",
              "      quickchartButtonEl.classList.add('colab-df-spinner');\n",
              "      try {\n",
              "        const charts = await google.colab.kernel.invokeFunction(\n",
              "            'suggestCharts', [key], {});\n",
              "      } catch (error) {\n",
              "        console.error('Error during call to suggestCharts:', error);\n",
              "      }\n",
              "      quickchartButtonEl.classList.remove('colab-df-spinner');\n",
              "      quickchartButtonEl.classList.add('colab-df-quickchart-complete');\n",
              "    }\n",
              "    (() => {\n",
              "      let quickchartButtonEl =\n",
              "        document.querySelector('#df-0b78abb9-a9a2-4016-be38-716675201975 button');\n",
              "      quickchartButtonEl.style.display =\n",
              "        google.colab.kernel.accessAllowed ? 'block' : 'none';\n",
              "    })();\n",
              "  </script>\n",
              "</div>\n",
              "\n",
              "    </div>\n",
              "  </div>\n"
            ],
            "application/vnd.google.colaboratory.intrinsic+json": {
              "type": "dataframe",
              "repr_error": "Out of range float values are not JSON compliant: nan"
            }
          },
          "metadata": {},
          "execution_count": 62
        }
      ]
    },
    {
      "cell_type": "markdown",
      "source": [
        "## 심화 예제 3\n",
        "- 자연어 처리를 위한 전처리 실습\n",
        "- 단어수, 문장수, 대문자로 시작하는 단어수(잠재적 고유명사), 숫자 개수, 가장 흔한 단어, 이메일 주소 개수 등을 추출"
      ],
      "metadata": {
        "id": "48dSBxv-S5Pv"
      }
    },
    {
      "cell_type": "code",
      "source": [
        "import re\n",
        "from collections import Counter\n",
        "\n",
        "def extract_features(text):\n",
        "  features = {}\n",
        "\n",
        "  # 단어 수 계산"
      ],
      "metadata": {
        "id": "azKSj1BOqrh1"
      },
      "execution_count": null,
      "outputs": []
    },
    {
      "cell_type": "code",
      "source": [],
      "metadata": {
        "id": "tT-xKeOKq0Jt"
      },
      "execution_count": null,
      "outputs": []
    }
  ]
}