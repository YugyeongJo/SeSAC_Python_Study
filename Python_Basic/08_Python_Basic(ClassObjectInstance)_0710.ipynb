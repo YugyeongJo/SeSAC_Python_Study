{
  "nbformat": 4,
  "nbformat_minor": 0,
  "metadata": {
    "colab": {
      "provenance": [],
      "authorship_tag": "ABX9TyNCQBJ32tBTt1pr+1j5XHRL",
      "include_colab_link": true
    },
    "kernelspec": {
      "name": "python3",
      "display_name": "Python 3"
    },
    "language_info": {
      "name": "python"
    }
  },
  "cells": [
    {
      "cell_type": "markdown",
      "metadata": {
        "id": "view-in-github",
        "colab_type": "text"
      },
      "source": [
        "<a href=\"https://colab.research.google.com/github/YugyeongJo/SeSAC_Python_Study/blob/main/docs/08_Python_Basic(ClassObjectInstance)_0710.ipynb\" target=\"_parent\"><img src=\"https://colab.research.google.com/assets/colab-badge.svg\" alt=\"Open In Colab\"/></a>"
      ]
    },
    {
      "cell_type": "markdown",
      "source": [
        "# Python 기초\n",
        "\n",
        "<목차>\n",
        "1. 변수\n",
        "2. 연산자\n",
        "3. 제어문\n",
        "4. 함수\n",
        "5. 자료형 1\n",
        "6. 자료형 2\n",
        "7. 정규표현식\n",
        "8. 판다스\n",
        "9. 시각화\n",
        "10. 파일 입출력"
      ],
      "metadata": {
        "id": "3ft2OHcQWKc1"
      }
    },
    {
      "cell_type": "markdown",
      "source": [
        "<hr>"
      ],
      "metadata": {
        "id": "szKZK-IwWajw"
      }
    },
    {
      "cell_type": "markdown",
      "source": [
        "# 8. 클래스, 객체, 인스턴스(Class Object Instance)\n",
        "\n",
        "- 클래스(Class) : 객체를 만들기 위한 '설계도' 또는 '틀'\n",
        "  + 객체가 가져야 할 속성(데이터)과 매서드(기능)를 정의\n",
        "- 객체(Object) : 클래스를 바탕으로 만들어진 실제 데이터 구조\n",
        "  + 클래스의 인스턴스\n",
        "  + 클래스에서 정의한 속성과 매서드를 가짐\n",
        "  + 객체 명사적 특성 : 데이터(Data), 변수(Variable), 필드(Field), 속성(Attribute)\n",
        "  + 객체 동사적 특성 : 행위(Behavior), 함수(Function), 매서드(Method), 기능(Operation)\n",
        "- 인스턴스(Instance) : 클래스로부터 생성도니 각각의 객체를 그 클래스의 인스턴스\n",
        "  + 객체와 인스턴스는 같은 의미로 사용되는 경우 多\n",
        "\n",
        "[추가 설명]\n",
        "- 변수와 객체의 차이점 : 변수는 값을 가지고, 객체는 값과 행동을 가질 수 있음\n",
        "  + 객체를 이용하면 객체가 정보를 저장하고 그 정보를 이용해서 어떤 동작이 일어나게 할 수 있음\n",
        "- self : 클래스에서 인스턴스 자신을 가리키는 이름\n",
        "  + self를 통해 이 인스턴스 변수에 접근하고, 매서드 내에서 사용 가능\n",
        "  + self를 사용함으로써 각 객체는 자신만의 속성을 가질 수 있음\n",
        "- __init__ : 객체의 초기 설정, 클래스의 생성자 파이썬의 내장 객체\n",
        "  + 객체가 생성될 때 초기에 무엇을 해야할지 정의\n",
        "  + 객체가 가져야 할 기본 속성을 정의"
      ],
      "metadata": {
        "id": "Z_AnN538WbxQ"
      }
    },
    {
      "cell_type": "code",
      "source": [
        "class Car:\n",
        "    def __init__(self, brand, model, color):\n",
        "        self.brand = brand\n",
        "        self.model = model\n",
        "        self.color = color\n",
        "        self.speed = 0\n",
        "\n",
        "    def accelerate(self, amount):\n",
        "        self.speed += amount\n",
        "        print(f\"{self.brand} {self.model}의 속도가 {self.speed}km/h로 증가했습니다.\")\n",
        "\n",
        "# 객체(인스턴스) 생성\n",
        "car1 = Car(\"현대\", \"소나타\", \"흰색\")\n",
        "car2 = Car(\"기아\", \"K5\", \"검은색\")\n",
        "\n",
        "# 메서드 호출\n",
        "car1.accelerate(30)\n",
        "car2.accelerate(20)\n",
        "\n",
        "print(f\"car1은 {car1.brand} {car1.model} {car1.color}입니다.\")\n",
        "print(f\"car2은 {car2.brand} {car2.model} {car2.color}입니다.\")\n"
      ],
      "metadata": {
        "colab": {
          "base_uri": "https://localhost:8080/"
        },
        "id": "6AufdFqwXKkB",
        "outputId": "bd67c861-0a38-4a8f-e9a7-116b21b2be09"
      },
      "execution_count": 4,
      "outputs": [
        {
          "output_type": "stream",
          "name": "stdout",
          "text": [
            "현대 소나타의 속도가 30km/h로 증가했습니다.\n",
            "기아 K5의 속도가 20km/h로 증가했습니다.\n",
            "car1은 현대 소나타 흰색입니다.\n",
            "car2은 기아 K5 검은색입니다.\n"
          ]
        }
      ]
    },
    {
      "cell_type": "code",
      "source": [
        "class Student:\n",
        "    def __init__(self, name, grade):\n",
        "        self.name = name\n",
        "        self.grade = grade\n",
        "        self.score = 0\n",
        "\n",
        "    def study(self, hours):\n",
        "        self.score += hours * 10\n",
        "        print(f\"{self.name}가 {hours}시간 공부해서 점수가 {self.score}점이 되었습니다.\")\n",
        "\n",
        "# 객체(인스턴스) 생성\n",
        "student1 = Student(\"철수\", 3)  # 3학년 철수라는 학생\n",
        "student2 = Student(\"영희\", 2)  # 2학년 영희라는 학생\n",
        "\n",
        "student1.study(2)  # 철수가 2시간 공부함\n",
        "student2.study(3)  # 영희가 3시간 공부함\n",
        "\n",
        "print(f\"student1은 {student1.grade}학년 {student1.name}입니다. 현재 점수는 {student1.score}점입니다.\")\n",
        "print(f\"student2는 {student2.grade}학년 {student2.name}입니다. 현재 점수는 {student2.score}점입니다.\")"
      ],
      "metadata": {
        "colab": {
          "base_uri": "https://localhost:8080/"
        },
        "id": "S_QMsMa_ZUoT",
        "outputId": "71554194-a996-4f2c-c331-0b951b48beb8"
      },
      "execution_count": 6,
      "outputs": [
        {
          "output_type": "stream",
          "name": "stdout",
          "text": [
            "철수가 2시간 공부해서 점수가 20점이 되었습니다.\n",
            "영희가 3시간 공부해서 점수가 30점이 되었습니다.\n",
            "student1은 3학년 철수입니다. 현재 점수는 20점입니다.\n",
            "student2는 2학년 영희입니다. 현재 점수는 30점입니다.\n"
          ]
        }
      ]
    },
    {
      "cell_type": "markdown",
      "source": [
        "# 8. 클래스, 객체, 인스턴스(Class Object Instance)\n",
        "\n",
        "- 클래스(Class) 생성\n",
        "  + class 키워드를 사용하며, 클래스 이름을 카멜(CamelCase) 표기법을 사용(강제는 아님)\n",
        "  + 객체 생성은 클래스명() 형식을 이용\n",
        "  + 객체를 이용해 참조할 수 있는 매서드\n",
        "  + 인스턴스 매서드의 첫 번째 인자는 self여야 함\n",
        "  + self 인자는 객체의 멤버(변수 또는 매서드)에 접근하기 위해 사용\n",
        "\n",
        "```\n",
        "# class 생성\n",
        "class Class명:\n",
        "  class_body\n",
        "\n",
        "# 객체 생성\n",
        "a = Class()\n",
        "```\n",
        "\n",
        "[class를 사용하는 가장 큰 이유]\n",
        "- 객체를 이용해 데이터를 저장하기 위해 -> 변수\n",
        "- 객체 고유의 기능을 갖기 위해 -> 매서드"
      ],
      "metadata": {
        "id": "_KXkskVNYMGt"
      }
    },
    {
      "cell_type": "code",
      "source": [
        "class Person:\n",
        "  name = \"홍길동\"\n",
        "  gender = \"남자\"\n",
        "\n",
        "  def print_info(self):\n",
        "    print(\"{}님은 {}입니다.\".format(self.name, self.gender))\n",
        "\n",
        "p1 = Person()\n",
        "\n",
        "p1.print_info()"
      ],
      "metadata": {
        "colab": {
          "base_uri": "https://localhost:8080/"
        },
        "id": "W2OjSTrbc6s7",
        "outputId": "c39a814d-8770-4736-e044-d522d95bb680"
      },
      "execution_count": 9,
      "outputs": [
        {
          "output_type": "stream",
          "name": "stdout",
          "text": [
            "홍길동님은 남자입니다.\n"
          ]
        }
      ]
    },
    {
      "cell_type": "markdown",
      "source": [
        "# 8. 클래스, 객체, 인스턴스(Class Object Instance)\n",
        "\n",
        "- 상속(Inheritance)\n",
        "  + 기존의 클래스를 기반으로 새로운 클래스를 만드는 것.\n",
        "  + 새로운 클래스는 기존 클래스의 속성과 매서드를 물려받아 사용할 수 있음\n",
        "  + 필요에 따라 새로운 속성이나 매서드를 추가하거나 기존의 것을 수정할 수도 있음\n",
        "  + 객체 재사용의 한 방법\n",
        "\n",
        "- 상속받는 클래스 (자식 클래스)\n",
        "  + 부모 클래스의 모든 속성들을 그대로 물려받아 새로 생성하려고 하는 클래스에 특화된 속성과 메서드를 추가\n",
        "  + 상속의 장점\n",
        "    * 코드 재사용성 : 공통된 기능을 부모 클래스에 정의해두면 클래스에서 이를 재사용할 수 있음\n",
        "    * 유지모수 용이 : 코드의 중복을 줄임으로써 유지보수가 쉬워짐\n",
        "    * 확장성 : 새로운 기능을 추가하거나 기존 기능을 변경할 때 유연하게 대처할 수 있음\n",
        "\n",
        "```\n",
        "class SubClassName(SuperClassName)\n",
        "  subclass_body\n",
        "```"
      ],
      "metadata": {
        "id": "NeT3cPX0deRk"
      }
    },
    {
      "cell_type": "code",
      "source": [
        "class Person:\n",
        "  def __init__(self, name, gender):\n",
        "    self.name = name\n",
        "    self.gender = gender\n",
        "\n",
        "  def __str__(self):\n",
        "    return \"name: {0}, gender: {1}\".format(self.name, self.gender)\n",
        "\n",
        "  def print_info(self):\n",
        "    print(\"{}님은 {}입니다.\".format(self.name, self.gender))\n",
        "\n",
        "class Student(Person):\n",
        "  def __init__(self, name, gender, major):\n",
        "    super().__init__(name, gender)\n",
        "    self.major = major\n",
        "\n",
        "  def __del__(self):\n",
        "    pass\n",
        "\n",
        "issubclass(Student, Person)"
      ],
      "metadata": {
        "colab": {
          "base_uri": "https://localhost:8080/"
        },
        "id": "PN1ZlbiJd2Ud",
        "outputId": "38b111a1-02fa-4459-cc2a-0fb15a549eb6"
      },
      "execution_count": 2,
      "outputs": [
        {
          "output_type": "execute_result",
          "data": {
            "text/plain": [
              "True"
            ]
          },
          "metadata": {},
          "execution_count": 2
        }
      ]
    }
  ]
}