{
  "nbformat": 4,
  "nbformat_minor": 0,
  "metadata": {
    "colab": {
      "provenance": [],
      "collapsed_sections": [
        "M3TSxuHYtL3q",
        "IjBR9oEjxT6o",
        "r8vun8zhtvSL",
        "c8lY-490tU1D",
        "W1BtJV1D2dZH",
        "J8YxMzW129xX",
        "bpX5hWT22-dH",
        "SiXp1NTu6AqJ",
        "CNeCvguH6QlH",
        "wguhZN_qFdOI",
        "MZd-DXvQGsHX",
        "ZSUlaZ5xP7dA",
        "GdXfIFM4I6in",
        "2ieYZ1wpUu7H",
        "uBHy2fjGUy5Q"
      ],
      "authorship_tag": "ABX9TyMZWzQaIMaSLR84u4qI64RO",
      "include_colab_link": true
    },
    "kernelspec": {
      "name": "python3",
      "display_name": "Python 3"
    },
    "language_info": {
      "name": "python"
    }
  },
  "cells": [
    {
      "cell_type": "markdown",
      "metadata": {
        "id": "view-in-github",
        "colab_type": "text"
      },
      "source": [
        "<a href=\"https://colab.research.google.com/github/YugyeongJo/SeSAC_Python_Study/blob/main/docs/02_Python_Basic(Operator)_0702.ipynb\" target=\"_parent\"><img src=\"https://colab.research.google.com/assets/colab-badge.svg\" alt=\"Open In Colab\"/></a>"
      ]
    },
    {
      "cell_type": "markdown",
      "source": [
        "# Python 기초\n",
        "\n",
        "<목차>\n",
        "1. 변수\n",
        "2. 연산자\n",
        "3. 제어문\n",
        "4. 함수\n",
        "5. 자료형 1\n",
        "6. 자료형 2\n",
        "7. 정규표현식\n",
        "8. 판다스\n",
        "9. 시각화\n",
        "10. 파일 입출력"
      ],
      "metadata": {
        "id": "wwtdCTrNtBfR"
      }
    },
    {
      "cell_type": "markdown",
      "source": [
        "<hr>"
      ],
      "metadata": {
        "id": "Lc0O8NngtDm4"
      }
    },
    {
      "cell_type": "markdown",
      "source": [
        "# 2. 연산자(문법)"
      ],
      "metadata": {
        "id": "YggNA8k6tFK4"
      }
    },
    {
      "cell_type": "markdown",
      "source": [
        "## 연산자\n",
        "- 연산을 수행하는 기호\n",
        "\n",
        "|Operators|Type|비고|\n",
        "|--|--|--|\n",
        "|+, -, *, /, %|Arithmetic operator|산술연산자|\n",
        "|=, +=, ==, *=, %=|Assignment operator|대입(복합)연산자|\n",
        "|AND, OR, NOT|Logical operator|논리연산자|\n",
        "|<, <=, >, >=, !=|Relational operator|비교연산자|\n",
        "|&, ,\\|, <<, >>, -. ^|Bitwise operator|비트연산자|"
      ],
      "metadata": {
        "id": "ibl6YYCLmrRD"
      }
    },
    {
      "cell_type": "markdown",
      "source": [
        "### 산술연산자(Arithmetic operator)\n",
        "\n",
        "- 덧셈(+), 뺄셈(-), 곱셈(*), 나눗셈(/)은 수학에서의 연산과 동일\n",
        "- 나머지 연산자(%)는 피젯수를 젯구로 나눈 나머지 값을 구하는 연산\n",
        "- //는 몫을 계산하며, **는 제곱(승수)를 계산하는 연산자\n",
        "\n",
        "|Operators|Explanation|비고|\n",
        "|--|--|--|\n",
        "|+|덧셈|문자열 더하기도 가능|\n",
        "|-|뺄셈||\n",
        "|*|곱셈||\n",
        "|/|나눗셈||\n",
        "|//|몫||\n",
        "|%|나머지||\n",
        "|**|제곱||"
      ],
      "metadata": {
        "id": "M3TSxuHYtL3q"
      }
    },
    {
      "cell_type": "code",
      "source": [
        "# 변수 입력\n",
        "a = 10\n",
        "b = 3"
      ],
      "metadata": {
        "id": "pmzlvqMtvU3_"
      },
      "execution_count": null,
      "outputs": []
    },
    {
      "cell_type": "code",
      "source": [
        "# 덧셈\n",
        "sum_result = a + b\n",
        "print(f\"a + b = {sum_result}\")"
      ],
      "metadata": {
        "colab": {
          "base_uri": "https://localhost:8080/"
        },
        "id": "CAMG12dbvcbx",
        "outputId": "52ae4643-a20c-4960-f7c2-84033301fa6e"
      },
      "execution_count": null,
      "outputs": [
        {
          "output_type": "stream",
          "name": "stdout",
          "text": [
            "a + b = 13\n"
          ]
        }
      ]
    },
    {
      "cell_type": "code",
      "source": [
        "# 뺄셈\n",
        "sub_result = a - b\n",
        "print(f\"a - b = {sub_result}\")"
      ],
      "metadata": {
        "colab": {
          "base_uri": "https://localhost:8080/"
        },
        "id": "vX7ENIwBvom4",
        "outputId": "ff496f1c-2062-4775-95e1-795f1d840a33"
      },
      "execution_count": null,
      "outputs": [
        {
          "output_type": "stream",
          "name": "stdout",
          "text": [
            "a - b = 7\n"
          ]
        }
      ]
    },
    {
      "cell_type": "code",
      "source": [
        "# 곱셈\n",
        "mul_result = a * b\n",
        "print(f\"a * b = {mul_result}\")"
      ],
      "metadata": {
        "colab": {
          "base_uri": "https://localhost:8080/"
        },
        "id": "a_gPstS6v17h",
        "outputId": "f2839ba4-b2eb-438c-8a55-d39ad79dcf0e"
      },
      "execution_count": null,
      "outputs": [
        {
          "output_type": "stream",
          "name": "stdout",
          "text": [
            "a * b = 30\n"
          ]
        }
      ]
    },
    {
      "cell_type": "code",
      "source": [
        "# 나눗셈\n",
        "div_result = a / b\n",
        "print(f\"a / b = {div_result}\")"
      ],
      "metadata": {
        "colab": {
          "base_uri": "https://localhost:8080/"
        },
        "id": "DQzGkOJPvtO4",
        "outputId": "98f5beda-0e67-4eb0-9063-269149bbe76f"
      },
      "execution_count": null,
      "outputs": [
        {
          "output_type": "stream",
          "name": "stdout",
          "text": [
            "a / b = 3.3333333333333335\n"
          ]
        }
      ]
    },
    {
      "cell_type": "code",
      "source": [
        "# 나머지\n",
        "mod_result = a % b\n",
        "print(f\"a % b = {mod_result}\")"
      ],
      "metadata": {
        "colab": {
          "base_uri": "https://localhost:8080/"
        },
        "id": "gdQyeR9Jv71Y",
        "outputId": "4da4fa27-b009-4e7e-e5d2-8f33f15ea91f"
      },
      "execution_count": null,
      "outputs": [
        {
          "output_type": "stream",
          "name": "stdout",
          "text": [
            "a % b = 1\n"
          ]
        }
      ]
    },
    {
      "cell_type": "code",
      "source": [
        "# 나머지\n",
        "pow_result = a ** b\n",
        "print(f\"a / b = {pow_result}\")"
      ],
      "metadata": {
        "colab": {
          "base_uri": "https://localhost:8080/"
        },
        "id": "f3Bg7jNUwFgh",
        "outputId": "e693d849-c121-44c6-d957-505c59483684"
      },
      "execution_count": null,
      "outputs": [
        {
          "output_type": "stream",
          "name": "stdout",
          "text": [
            "a / b = 1000\n"
          ]
        }
      ]
    },
    {
      "cell_type": "code",
      "source": [
        "import numpy as np\n",
        "\n",
        "data = np.array([10,20,30,40,50])\n",
        "normalized_data = (data - np.min(data)) / (np.max(data) - np.min(data))\n",
        "print(f\"정규화된 데이터 : {normalized_data}\")\n",
        "# 계산 과정:\n",
        "# [0, 10, 20, 30, 40] / (50 - 10)\n",
        "# [0, 10, 20, 30, 40] / 40\n",
        "# [0, 0.25, 0.5, 0.75, 1.0]\n",
        "\n",
        "# 정규화 : 데이터의 스케일을 동일하게 맞춤으로써 특정 특징이 다른 특징보다 모델에 더 큰 영향을 미치는 것을 방지하기 위해 적용\n",
        "# Min-Max Normalization\n",
        "# Min-Max : 주어진 데이터를 최소값과 최대값 사이의 특정 범위로 변환. 일반적으로 0과 1 사이로 스케일링"
      ],
      "metadata": {
        "colab": {
          "base_uri": "https://localhost:8080/"
        },
        "id": "DTB_HqjNwLb4",
        "outputId": "4823e6e6-094b-4305-e0db-03852f948035"
      },
      "execution_count": null,
      "outputs": [
        {
          "output_type": "stream",
          "name": "stdout",
          "text": [
            "정규화된 데이터 : [0.   0.25 0.5  0.75 1.  ]\n"
          ]
        }
      ]
    },
    {
      "cell_type": "code",
      "source": [
        "import numpy as np\n",
        "y_true = np.array([1, 2, 3, 4, 5])\n",
        "y_pred = np.array([1.1, 2.1, 2.9, 4.0, 5.1])\n",
        "\n",
        "mse = np.mean((y_true - y_pred) ** 2)\n",
        "print(f\"평균 제곱 오차 (MSE): {mse}\")"
      ],
      "metadata": {
        "colab": {
          "base_uri": "https://localhost:8080/"
        },
        "id": "WyL3aGv5wmkY",
        "outputId": "07c34696-1a31-4aa0-d3a3-b3182f9dbdb3"
      },
      "execution_count": null,
      "outputs": [
        {
          "output_type": "stream",
          "name": "stdout",
          "text": [
            "평균 제곱 오차 (MSE): 0.007999999999999997\n"
          ]
        }
      ]
    },
    {
      "cell_type": "code",
      "source": [
        "import numpy as np\n",
        "\n",
        "data = np.array([10, 20, 30, 40, 50])\n",
        "standardized_data = (data - np.mean(data)) / np.std(data)\n",
        "print(f\"표준화된 데이터 : {standardized_data}\")"
      ],
      "metadata": {
        "colab": {
          "base_uri": "https://localhost:8080/"
        },
        "id": "NC_hiXKwxBe4",
        "outputId": "d55aea26-283b-45ef-e3eb-916738569154"
      },
      "execution_count": null,
      "outputs": [
        {
          "output_type": "stream",
          "name": "stdout",
          "text": [
            "표준화된 데이터 : [-1.41421356 -0.70710678  0.          0.70710678  1.41421356]\n"
          ]
        }
      ]
    },
    {
      "cell_type": "markdown",
      "source": [
        "### 대입(복합)연산자 (Assignment operator)\n",
        "\n",
        "- 대입연산자(=)은 변수에 값을 저장하기 위한 연산자, 할당연산자라고 부르기도 함\n",
        "- =의 오른쪽은 값, 계산되어서 값으로 출력될 수 있는 표현식, 함수 호출 구문이 올 수 있음\n",
        "- 복합대입연산자(=, +=, -=, *=, **=, /=, //=, %= 등)은 연산자와 대입연산자를 함께 사용\n",
        "\n",
        "|Operators|Explanation|비고|\n",
        "|--|--|--|\n",
        "|=|할당||\n",
        "|+=|더해서 할당||\n",
        "|-=|빼서 할당||\n",
        "|*=|곱해서 할당||\n",
        "|**=|제곱해서 할당|\n",
        "|/=|나눠서 할당||\n",
        "|//=|몫을 할당||\n",
        "|%=|나머지를 할당||"
      ],
      "metadata": {
        "id": "IjBR9oEjxT6o"
      }
    },
    {
      "cell_type": "code",
      "source": [
        "# +=(더하기 할당)\n",
        "x = 10\n",
        "x += 5\n",
        "print(f\"덧셈 복합 연산 결과: {x}\")"
      ],
      "metadata": {
        "colab": {
          "base_uri": "https://localhost:8080/"
        },
        "id": "Q6nFqHhXyNkh",
        "outputId": "12e54f79-a8fd-42e7-a213-5b2ebb8f03dc"
      },
      "execution_count": null,
      "outputs": [
        {
          "output_type": "stream",
          "name": "stdout",
          "text": [
            "덧셈 복합 연산 결과: 15\n"
          ]
        }
      ]
    },
    {
      "cell_type": "code",
      "source": [
        "# -=(빼기 할당)\n",
        "x = 20\n",
        "x -= 7\n",
        "print(f\"빼기 복합 연산 결과: {x}\")"
      ],
      "metadata": {
        "colab": {
          "base_uri": "https://localhost:8080/"
        },
        "id": "7R8n_e0Oye4Y",
        "outputId": "64f1e5bc-f45f-4cbe-96aa-b9acebf4d8cb"
      },
      "execution_count": null,
      "outputs": [
        {
          "output_type": "stream",
          "name": "stdout",
          "text": [
            "빼기 복합 연산 결과: 13\n"
          ]
        }
      ]
    },
    {
      "cell_type": "code",
      "source": [
        "# *=(곱하기 할당)\n",
        "x = 3\n",
        "x *= 4\n",
        "print(f\"곱하기 복합 연산 결과: {x}\")"
      ],
      "metadata": {
        "colab": {
          "base_uri": "https://localhost:8080/"
        },
        "id": "fT9q5H33yi8Y",
        "outputId": "cc34d98e-3707-43aa-f399-693e4c92cff1"
      },
      "execution_count": null,
      "outputs": [
        {
          "output_type": "stream",
          "name": "stdout",
          "text": [
            "곱하기 복합 연산 결과: 12\n"
          ]
        }
      ]
    },
    {
      "cell_type": "code",
      "source": [
        "# /=(나누기 할당)\n",
        "x = 25\n",
        "x /= 5\n",
        "print(f\"나누기 복합 연산 결과: {x}\")"
      ],
      "metadata": {
        "colab": {
          "base_uri": "https://localhost:8080/"
        },
        "id": "VenbCHSsyqxI",
        "outputId": "c5bc8cb3-626c-414f-bf04-bddb52534fec"
      },
      "execution_count": null,
      "outputs": [
        {
          "output_type": "stream",
          "name": "stdout",
          "text": [
            "나누기 복합 연산 결과: 5.0\n"
          ]
        }
      ]
    },
    {
      "cell_type": "code",
      "source": [
        "weights = np.array([0.1, 0.2, 0.3])\n",
        "learning_rate = 0.01\n",
        "gradient = np.array([0.02, -0.03, 0.01])\n",
        "\n",
        "# 가중치 업데이트\n",
        "weights -= learning_rate * gradient\n",
        "print(f\"업데이트된 가중치 : {weights}\")"
      ],
      "metadata": {
        "colab": {
          "base_uri": "https://localhost:8080/"
        },
        "id": "Q7piEa3PyupZ",
        "outputId": "45ce5e10-bdf8-4b75-b752-8bfe7f709d64"
      },
      "execution_count": null,
      "outputs": [
        {
          "output_type": "stream",
          "name": "stdout",
          "text": [
            "업데이트된 가중치 : [0.0998 0.2003 0.2999]\n"
          ]
        }
      ]
    },
    {
      "cell_type": "code",
      "source": [
        "import numpy as np\n",
        "\n",
        "data = np.array([10, 20, 30, 40, 50], dtype=float)\n",
        "data -= np.min(data)\n",
        "data /= np.max(data)\n",
        "print(f\"정규화된 데이터: {data}\")"
      ],
      "metadata": {
        "colab": {
          "base_uri": "https://localhost:8080/"
        },
        "id": "Uyb6gffwzSH3",
        "outputId": "b09b1321-e49c-4ab0-cae8-d86b9d258a68"
      },
      "execution_count": null,
      "outputs": [
        {
          "output_type": "stream",
          "name": "stdout",
          "text": [
            "정규화된 데이터: [0.   0.25 0.5  0.75 1.  ]\n"
          ]
        }
      ]
    },
    {
      "cell_type": "code",
      "source": [
        "losses = [0.5, 0.3, 0.2, 0.4]\n",
        "total_loss = 0\n",
        "\n",
        "for loss in losses:\n",
        "  total_loss += loss\n",
        "\n",
        "average_loss = total_loss / len(losses)\n",
        "print(f\"평균 손실 : {average_loss}\")"
      ],
      "metadata": {
        "colab": {
          "base_uri": "https://localhost:8080/"
        },
        "id": "rG03w1UgzfZI",
        "outputId": "6d9dfbe2-d6e4-49f9-b0c4-120442bdb2dc"
      },
      "execution_count": null,
      "outputs": [
        {
          "output_type": "stream",
          "name": "stdout",
          "text": [
            "평균 손실 : 0.35\n"
          ]
        }
      ]
    },
    {
      "cell_type": "code",
      "source": [
        "learning_rate = 0.1\n",
        "decay_rate = 0.01\n",
        "\n",
        "# 에포크마다 학습률 감소\n",
        "for epoch in range(10):\n",
        "  learning_rate -= decay_rate\n",
        "  print(f\"Epoch {epoch+1}, Learning Rate: {learning_rate}\")"
      ],
      "metadata": {
        "colab": {
          "base_uri": "https://localhost:8080/"
        },
        "id": "PfBg6m6E0MpI",
        "outputId": "c3cbd209-98fe-4ef4-a3d9-1872e3b7ffca"
      },
      "execution_count": null,
      "outputs": [
        {
          "output_type": "stream",
          "name": "stdout",
          "text": [
            "Epoch 1, Learning Rate: 0.09000000000000001\n",
            "Epoch 2, Learning Rate: 0.08000000000000002\n",
            "Epoch 3, Learning Rate: 0.07000000000000002\n",
            "Epoch 4, Learning Rate: 0.06000000000000002\n",
            "Epoch 5, Learning Rate: 0.05000000000000002\n",
            "Epoch 6, Learning Rate: 0.040000000000000015\n",
            "Epoch 7, Learning Rate: 0.030000000000000013\n",
            "Epoch 8, Learning Rate: 0.02000000000000001\n",
            "Epoch 9, Learning Rate: 0.01000000000000001\n",
            "Epoch 10, Learning Rate: 1.0408340855860843e-17\n"
          ]
        }
      ]
    },
    {
      "cell_type": "code",
      "source": [
        "import numpy as np\n",
        "\n",
        "data = np.array([1,2,3,4,5], dtype=float)\n",
        "mean = np.mean(data)\n",
        "std = np.std(data)\n",
        "\n",
        "# 데이터 정규화\n",
        "data -= mean\n",
        "data /= std\n",
        "print(f\"정규화된 데이터 : {data}\")\n",
        "\n",
        "# Z-점수 정규화 (Z-score Normalization) 또는 **표준화 (Standardization)**\n",
        "# 데이터의 평균을 0으로, 표준편차를 1로 맞추는 정규화 방식\n",
        "# 평균을 기준으로 얼마나 떨어져 있는지를 확인\n",
        "# SVM, 로지스틱 회귀, 신경망 등 여러 머신러닝 알고리즘에서 자주 사용"
      ],
      "metadata": {
        "colab": {
          "base_uri": "https://localhost:8080/"
        },
        "id": "wgZdGu410eVY",
        "outputId": "d95b17ee-bce7-4cdb-eeb0-80aea56405e2"
      },
      "execution_count": null,
      "outputs": [
        {
          "output_type": "stream",
          "name": "stdout",
          "text": [
            "정규화된 데이터 : [-1.41421356 -0.70710678  0.          0.70710678  1.41421356]\n"
          ]
        }
      ]
    },
    {
      "cell_type": "code",
      "source": [
        "import numpy as np\n",
        "\n",
        "# 가상의 이미지 데이터\n",
        "image = np.array([[1, 2], [3, 4]])\n",
        "\n",
        "# 이미지 밝기 증가\n",
        "brightness_increase = 10\n",
        "image += brightness_increase\n",
        "print(f\"밝기 증가한 이미지 : \\n {image}\")"
      ],
      "metadata": {
        "colab": {
          "base_uri": "https://localhost:8080/"
        },
        "id": "CTpdBoAo0uen",
        "outputId": "f7d95e4d-a898-4fe6-cc75-0ebe4ca89a76"
      },
      "execution_count": null,
      "outputs": [
        {
          "output_type": "stream",
          "name": "stdout",
          "text": [
            "밝기 증가한 이미지 : \n",
            " [[11 12]\n",
            " [13 14]]\n"
          ]
        }
      ]
    },
    {
      "cell_type": "markdown",
      "source": [
        "### 논리연산자 (Logical operator)\n",
        "\n",
        "- True와 False의 논리값을 연산하여 연산값을 산출하는 연산자\n",
        "- &와 AND 연산자는 양쪽 항의 값이 모두 True인 경우에만 True를 반환\n",
        "- |와 OR 연산자는 양쪽 항 중에서 어느 한쪽만 True이면 True를 반환\n",
        "\n",
        "|Operators|Explanation|비고|\n",
        "|--|--|--|\n",
        "|&|AND|논리곱|\n",
        "|\\||OR|논리합|\n",
        "|and|AND|False로 판별되는 첫 번째 항의 결과를 반환|\n",
        "|or|OR|True로 판별되는 첫 번째 항의 결과를 반환|\n",
        "|not|NOT|논리반전|\n"
      ],
      "metadata": {
        "id": "r8vun8zhtvSL"
      }
    },
    {
      "cell_type": "code",
      "source": [
        "a = True\n",
        "b = False\n",
        "\n",
        "result = a and b\n",
        "print(f\"and 연산 결과 : {result}\")"
      ],
      "metadata": {
        "colab": {
          "base_uri": "https://localhost:8080/"
        },
        "id": "MgBA4SF7xAlr",
        "outputId": "345c35a7-6639-41d8-d1d0-8d1c16fdf70a"
      },
      "execution_count": null,
      "outputs": [
        {
          "output_type": "stream",
          "name": "stdout",
          "text": [
            "and 연산 결과 : False\n"
          ]
        }
      ]
    },
    {
      "cell_type": "code",
      "source": [
        "a = True\n",
        "b = False\n",
        "\n",
        "result = a or b\n",
        "print(f\"or 연산 결과 : {result}\")"
      ],
      "metadata": {
        "colab": {
          "base_uri": "https://localhost:8080/"
        },
        "id": "4VX460EsxKUL",
        "outputId": "72b13431-5646-438b-f76b-3ea81a274111"
      },
      "execution_count": null,
      "outputs": [
        {
          "output_type": "stream",
          "name": "stdout",
          "text": [
            "or 연산 결과 : True\n"
          ]
        }
      ]
    },
    {
      "cell_type": "code",
      "source": [
        "accuracy = 0.85\n",
        "precision = 0.8\n",
        "\n",
        "# 정확도가 0.8 이상이고, 정밀도가 0.75 이상일 때 모델 배포\n",
        "def model_deployment_status(accuracy, precision):\n",
        "  if accuracy >= 0.8 and precision >= 0.75:\n",
        "    model_deployment = \"Yes\"\n",
        "  else:\n",
        "    model_deployment = \"No\"\n",
        "  return print(f\"모델 배포 여부는 {model_deployment}\")\n",
        "\n",
        "model_deployment_status(accuracy, precision)"
      ],
      "metadata": {
        "colab": {
          "base_uri": "https://localhost:8080/"
        },
        "id": "uQ5NftT3xOka",
        "outputId": "7246c431-b3c9-4450-cd8f-1cd22921aa21"
      },
      "execution_count": null,
      "outputs": [
        {
          "output_type": "stream",
          "name": "stdout",
          "text": [
            "모델 배포 여부는 Yes\n"
          ]
        }
      ]
    },
    {
      "cell_type": "code",
      "source": [
        "import numpy as np\n",
        "\n",
        "# 가상의 데이터 생성\n",
        "features = np.array([\n",
        "    [0.1, 0.2, 0.3]\n",
        "    , [0.4, 0.5, 0.6]\n",
        "    , [0.7, 0.8, 0.9]\n",
        "])\n",
        "\n",
        "# 조건 : 첫 번째 특성이 0.3 이상인 행 선택\n",
        "selected_features = features[features[:, 0] >= 0.3]\n",
        "print(\"선택된 특성:\\n\", selected_features)"
      ],
      "metadata": {
        "colab": {
          "base_uri": "https://localhost:8080/"
        },
        "id": "lLbpCCUIydIV",
        "outputId": "66985b1f-2468-474f-9919-be4c6fe1c688"
      },
      "execution_count": null,
      "outputs": [
        {
          "output_type": "stream",
          "name": "stdout",
          "text": [
            "선택된 특성:\n",
            " [[0.4 0.5 0.6]\n",
            " [0.7 0.8 0.9]]\n"
          ]
        }
      ]
    },
    {
      "cell_type": "code",
      "source": [
        "import numpy as np\n",
        "\n",
        "# 가상의 예측 결과 (확률 값)\n",
        "predictions = np.array([\n",
        "    [0.1, 0.7, 0.2]\n",
        "    , [0.3, 0.4, 0.3]\n",
        "    , [0.2, 0.2, 0.6]\n",
        "])\n",
        "\n",
        "# 클래스 1에 대한 예측\n",
        "class_1_predictions = predictions[:,1] > 0.5\n",
        "print(f\"클래스 1 예측 결과 : {class_1_predictions}\")"
      ],
      "metadata": {
        "colab": {
          "base_uri": "https://localhost:8080/"
        },
        "id": "vw5lxVbozJrF",
        "outputId": "0704ef81-6d72-44c0-ff0b-7aab40105841"
      },
      "execution_count": null,
      "outputs": [
        {
          "output_type": "stream",
          "name": "stdout",
          "text": [
            "클래스 1 예측 결과 : [ True False False]\n"
          ]
        }
      ]
    },
    {
      "cell_type": "markdown",
      "source": [
        "### 비교연산자 (Relational operator)\n",
        "\n",
        "- 양 변의 값을 비교하는 연산자\n",
        "- 크기를 비교해 결과를 True 또는 False로 반환\n",
        "- 문자열 타입도 가능. 소문자가 대문자보다 큰 값으로 인식\n",
        "- 논리 타입도 크기 비교가 가능. True가 False보다 큰 값으로 인식\n",
        "\n",
        "|Operators|Explanation|비고|\n",
        "|--|--|--|\n",
        "|<|작다||\n",
        "|<=|작거나 같다||\n",
        "|>|크다||\n",
        "|>=|크거나 같다||\n",
        "|==|같으면 True|조건문에서 유용|\n",
        "|!=|같지 않다||"
      ],
      "metadata": {
        "id": "c8lY-490tU1D"
      }
    },
    {
      "cell_type": "code",
      "source": [
        "a = 10\n",
        "b = 20\n",
        "\n",
        "result = (a == b)\n",
        "print(f\"== 연산 결과 : {result}\")"
      ],
      "metadata": {
        "colab": {
          "base_uri": "https://localhost:8080/"
        },
        "id": "4N8nrVeW09dk",
        "outputId": "dc0514f9-59e1-4bb6-972c-4f8e5b9cf331"
      },
      "execution_count": null,
      "outputs": [
        {
          "output_type": "stream",
          "name": "stdout",
          "text": [
            "== 연산 결과 : False\n"
          ]
        }
      ]
    },
    {
      "cell_type": "code",
      "source": [
        "a = 10\n",
        "b = 20\n",
        "\n",
        "result = (a < b)\n",
        "print(f\"< 연산 결과 : {result}\")"
      ],
      "metadata": {
        "colab": {
          "base_uri": "https://localhost:8080/"
        },
        "id": "_sbC22691IAh",
        "outputId": "71b59a12-9a1e-43b0-80fa-e0bef76a6e0b"
      },
      "execution_count": null,
      "outputs": [
        {
          "output_type": "stream",
          "name": "stdout",
          "text": [
            "< 연산 결과 : True\n"
          ]
        }
      ]
    },
    {
      "cell_type": "code",
      "source": [
        "a = 10\n",
        "b = 10\n",
        "\n",
        "result = (a >= b)\n",
        "print(f\">= 연산 결과 : {result}\")"
      ],
      "metadata": {
        "colab": {
          "base_uri": "https://localhost:8080/"
        },
        "id": "pOJl9srj1L7y",
        "outputId": "92ae70d1-837b-4f74-dbd4-e65000500ed5"
      },
      "execution_count": null,
      "outputs": [
        {
          "output_type": "stream",
          "name": "stdout",
          "text": [
            ">= 연산 결과 : True\n"
          ]
        }
      ]
    },
    {
      "cell_type": "code",
      "source": [
        "accuracy_model_1 = 0.85\n",
        "accuracy_model_2 = 0.90\n",
        "\n",
        "better_model = \"Model 1\" if accuracy_model_1 > accuracy_model_2 else \"Model 2\"\n",
        "print(f\"더 나은 모델 : {better_model}\")"
      ],
      "metadata": {
        "colab": {
          "base_uri": "https://localhost:8080/"
        },
        "id": "aaB_J4ry1Ry7",
        "outputId": "32f25e8c-b228-4c7d-c405-b8701f8ceca3"
      },
      "execution_count": null,
      "outputs": [
        {
          "output_type": "stream",
          "name": "stdout",
          "text": [
            "더 나은 모델 : Model 2\n"
          ]
        }
      ]
    },
    {
      "cell_type": "code",
      "source": [
        "import numpy as np\n",
        "\n",
        "predictions = np.array([1, 0, 1, 1, 0])\n",
        "actuals = np.array([1, 0, 1, 0, 0])\n",
        "\n",
        "accuracy = np.mean(predictions == actuals)\n",
        "print(f\"정확도 : {accuracy}\")"
      ],
      "metadata": {
        "colab": {
          "base_uri": "https://localhost:8080/"
        },
        "id": "Zn1NKGh_1sk0",
        "outputId": "cab9ca72-a660-427f-907c-46e0365b69ef"
      },
      "execution_count": null,
      "outputs": [
        {
          "output_type": "stream",
          "name": "stdout",
          "text": [
            "정확도 : 0.8\n"
          ]
        }
      ]
    },
    {
      "cell_type": "code",
      "source": [
        "learning_rate = 0.01\n",
        "batch_size = 32\n",
        "\n",
        "# 학습률과 배치 크기 조건을 비교\n",
        "if learning_rate < 0.1 and batch_size >= 32:\n",
        "  print(\"적절한 하이퍼파라미터 설정입니다.\")\n",
        "else:\n",
        "  print(\"하이퍼파라미터를 조정해야 합니다.\")"
      ],
      "metadata": {
        "colab": {
          "base_uri": "https://localhost:8080/"
        },
        "id": "iIBoE0YZ2BHF",
        "outputId": "825c18ce-3ce8-4c5d-c50b-3ca90576ec6d"
      },
      "execution_count": null,
      "outputs": [
        {
          "output_type": "stream",
          "name": "stdout",
          "text": [
            "적절한 하이퍼파라미터 설정입니다.\n"
          ]
        }
      ]
    },
    {
      "cell_type": "markdown",
      "source": [
        "## Bitwise operator 비트 연산자\n",
        "\n",
        "- 숫자를 2진수로 변환하여 계산하는 연산자\n",
        "\n",
        "|Operators|Explanation|비고|\n",
        "|--|--|--|\n",
        "|a & b|두 비트가 모두 1이면 1|AND 연산|\n",
        "|a \\| b|두 비트 중 하나 이상 1이면 1|OR 연산|\n",
        "|a ^ b|두 비트가 같으면 0, 다르면 1|XOR 연산|\n",
        "|~a|0을 1로, 1을 0으로 변환|NOT 연산|\n",
        "|a >> n|a를 n비트만큼 오른쪽으로 이동, 2로 나눈 결과와 같음|Shift 연산|\n",
        "|a << n|a를 n비트만큼 왼쪽으로 이동, 2를 곱한 결과와 같음|Shift 연산|"
      ],
      "metadata": {
        "id": "W1BtJV1D2dZH"
      }
    },
    {
      "cell_type": "code",
      "source": [
        "x = 0b00101011\n",
        "y = 0b00001111\n",
        "print(\"{:08b}\".format(x & y))"
      ],
      "metadata": {
        "colab": {
          "base_uri": "https://localhost:8080/"
        },
        "id": "QdkWuGcA1LXZ",
        "outputId": "cffe0e44-2aa8-424a-fd66-8d44a924a960"
      },
      "execution_count": null,
      "outputs": [
        {
          "output_type": "stream",
          "name": "stdout",
          "text": [
            "00001011\n"
          ]
        }
      ]
    },
    {
      "cell_type": "code",
      "source": [
        "x = 0b00101011\n",
        "y = 0b00001111\n",
        "print(\"{:08b}\".format(x | y))"
      ],
      "metadata": {
        "colab": {
          "base_uri": "https://localhost:8080/"
        },
        "id": "PhxFy64X33qk",
        "outputId": "508ddeb4-ff33-4a43-d24b-fdde01b7ab65"
      },
      "execution_count": null,
      "outputs": [
        {
          "output_type": "stream",
          "name": "stdout",
          "text": [
            "00101111\n"
          ]
        }
      ]
    },
    {
      "cell_type": "code",
      "source": [
        "x = 0b00101011\n",
        "print(\"{:08b}\".format(x >> 3))"
      ],
      "metadata": {
        "colab": {
          "base_uri": "https://localhost:8080/"
        },
        "id": "QjkrD_ZV36fT",
        "outputId": "c3d236be-3f74-4ce0-a7a1-53d3a1fd94e2"
      },
      "execution_count": null,
      "outputs": [
        {
          "output_type": "stream",
          "name": "stdout",
          "text": [
            "00000101\n"
          ]
        }
      ]
    },
    {
      "cell_type": "code",
      "source": [
        "import numpy as np\n",
        "x = 0b00101011\n",
        "print(\"{:08b}, {:08b}m {:08b}\".format(x, ~x, np.ubyte(~x)))"
      ],
      "metadata": {
        "colab": {
          "base_uri": "https://localhost:8080/"
        },
        "id": "Z8EwhcXs38PU",
        "outputId": "862a0637-ffd5-49df-dc98-6e798e8cc2c0"
      },
      "execution_count": null,
      "outputs": [
        {
          "output_type": "stream",
          "name": "stdout",
          "text": [
            "00101011, -0101100m 11010100\n"
          ]
        },
        {
          "output_type": "stream",
          "name": "stderr",
          "text": [
            "<ipython-input-32-cb9bc0648473>:3: DeprecationWarning: NumPy will stop allowing conversion of out-of-bound Python integers to integer arrays.  The conversion of -44 to uint8 will fail in the future.\n",
            "For the old behavior, usually:\n",
            "    np.array(value).astype(dtype)\n",
            "will give the desired result (the cast overflows).\n",
            "  print(\"{:08b}, {:08b}m {:08b}\".format(x, ~x, np.ubyte(~x)))\n"
          ]
        }
      ]
    },
    {
      "cell_type": "markdown",
      "source": [
        "## 포맷팅 format\n",
        "\n",
        "- 문자, 숫자, 날짜 데이터에 형식을 지정하는 것\n",
        "- 변수와 텍스트를 결합해서 보기 좋은 형식의 새로운 텍스트를 만들 때 사용\n",
        "\n",
        "```\n",
        "format() 메소드\n",
        "\n",
        "print(\"텍스트 {변수1}, {변수2}\".format(변수1, 변수2)\n",
        "```\n",
        "\n",
        "- 키워드 인자 사용\n",
        "  변수명을 직접 지정하여 사용할 수 있음\n",
        "  ```\n",
        "  print(\"텍스트 {변수1}, {변수2}\".format(변수1, 변수2)\n",
        "  ```\n",
        "\n",
        "- 딕셔너리 사용\n",
        "  딕셔너리로부터 직접 값을 추출하여 사용할 수 있음\n",
        "  ** 언패킹(딕셔너리를 풀어서 넣어줌)\n",
        "  ```\n",
        "  print(\"텍스트 {딕셔너리 키값}, {딕셔너리 값}\".format(**딕셔너리 변수)\n",
        "  ```\n",
        "\n",
        "- 소수점 조절\n",
        "  소수점 아래 자릿수를 정확하게 지정할 수 있음\n",
        "  ```\n",
        "  print(\"텍스트 {:.2f}\".format(변수)\n",
        "  ```"
      ],
      "metadata": {
        "id": "Q17yYzJS29Hg"
      }
    },
    {
      "cell_type": "markdown",
      "source": [
        "### 포매팅 : 패딩과 정렬\n",
        "\n",
        "- 문자열의 정렬과 공백을 조절 가능\n",
        "\n",
        "|Formating|Explanation|비고|\n",
        "|--|--|--|\n",
        "|{:<10}|문자열을 왼쪽 정렬하고, 전체 너비를 10칸으로 설정||\n",
        "|{:^10}|문자열을 가운데 정렬하고, 전체 너비를 10칸으로 설정||\n",
        "|{:>10}|문자열을 오른쪽 정렬하고, 전체 너비를 10칸으로 설정||\n",
        "|{:.2f}|소수점 이하 2자리까지 표시||\n",
        "|{:,}|천 단위마다 콤마를 넣어 표시||"
      ],
      "metadata": {
        "id": "J8YxMzW129xX"
      }
    },
    {
      "cell_type": "code",
      "source": [
        "# 왼쪽 정렬\n",
        "print(\"{:<10}\".format(\"Alice\"))"
      ],
      "metadata": {
        "colab": {
          "base_uri": "https://localhost:8080/"
        },
        "id": "uGxTd12U5Uuu",
        "outputId": "82b207ce-ba14-44ca-bd5f-baf93df08c25"
      },
      "execution_count": null,
      "outputs": [
        {
          "output_type": "stream",
          "name": "stdout",
          "text": [
            "Alice     \n"
          ]
        }
      ]
    },
    {
      "cell_type": "code",
      "source": [
        "# 가운데 정렬\n",
        "print(\"{:^10}\".format(\"Alice\"))"
      ],
      "metadata": {
        "colab": {
          "base_uri": "https://localhost:8080/"
        },
        "id": "1a1HComo5cTc",
        "outputId": "55be1574-817c-4387-b737-5db5fdb85d1c"
      },
      "execution_count": null,
      "outputs": [
        {
          "output_type": "stream",
          "name": "stdout",
          "text": [
            "  Alice   \n"
          ]
        }
      ]
    },
    {
      "cell_type": "code",
      "source": [
        "# 오른쪾 정렬\n",
        "print(\"{:>10}\".format(\"Alice\"))"
      ],
      "metadata": {
        "colab": {
          "base_uri": "https://localhost:8080/"
        },
        "id": "cCXINoQu5cyb",
        "outputId": "a78b8e0c-47f5-4748-d19a-70cfe7718685"
      },
      "execution_count": null,
      "outputs": [
        {
          "output_type": "stream",
          "name": "stdout",
          "text": [
            "     Alice\n"
          ]
        }
      ]
    },
    {
      "cell_type": "markdown",
      "source": [
        "### 포매팅 : 날짜 포맷팅\n",
        "\n",
        "- datetime 객체를 포맷팅할 때 사용"
      ],
      "metadata": {
        "id": "bpX5hWT22-dH"
      }
    },
    {
      "cell_type": "code",
      "source": [
        "from datetime import datetime\n",
        "now = datetime.now()\n",
        "print(\"The current time is {:%Y-%m-%d %H:%M}.\".format(now))"
      ],
      "metadata": {
        "colab": {
          "base_uri": "https://localhost:8080/"
        },
        "id": "OyoTlTXj5r_U",
        "outputId": "d8560e6b-2c96-4dc4-9b66-4ef3864d70e2"
      },
      "execution_count": null,
      "outputs": [
        {
          "output_type": "stream",
          "name": "stdout",
          "text": [
            "The current time is 2024-07-02 14:45.\n"
          ]
        }
      ]
    },
    {
      "cell_type": "markdown",
      "source": [
        "### 포매팅 : 문자 표현 및 위치 지정\n",
        "\n",
        "- 중괄호 문자 표현\n",
        "  중괄호를 문자로 표시하려면 이중 중괄호를 사용\n",
        "- 위치 지정\n",
        "  위치를 지정하고자 할때에는 인덱스를 사용하여 변수의 위치 지정\n"
      ],
      "metadata": {
        "id": "SiXp1NTu6AqJ"
      }
    },
    {
      "cell_type": "code",
      "source": [
        "# 중괄호 문자 표현\n",
        "print(\"To display curly braces, use {{and }}.\".format())"
      ],
      "metadata": {
        "colab": {
          "base_uri": "https://localhost:8080/"
        },
        "id": "PNj5LHkI6Spz",
        "outputId": "bebc7333-d5fa-42c4-e6ec-dc6adf3dc638"
      },
      "execution_count": null,
      "outputs": [
        {
          "output_type": "stream",
          "name": "stdout",
          "text": [
            "To display curly braces, use {and }.\n"
          ]
        }
      ]
    },
    {
      "cell_type": "code",
      "source": [
        "# 위치 인자 사용\n",
        "name = \"Luten\"\n",
        "age = 34\n",
        "\n",
        "print(\"My name is {0} and I am {1} years old. Nice to meet you, {0}.\".format(name, age))"
      ],
      "metadata": {
        "colab": {
          "base_uri": "https://localhost:8080/"
        },
        "id": "OTTG9-xl6fKD",
        "outputId": "9c29fb82-d6c7-4f02-8ca1-dcebbde291d2"
      },
      "execution_count": null,
      "outputs": [
        {
          "output_type": "stream",
          "name": "stdout",
          "text": [
            "My name is Luten and I am 34 years old. Nice to meet you, Luten.\n"
          ]
        }
      ]
    },
    {
      "cell_type": "markdown",
      "source": [
        "### 포매팅 : % 연산자를 사용한 문자열 포맷팅\n",
        "\n",
        "- Python의 오래된 방식. but, 여전히 사용\n",
        "\n",
        "#### 주요 포맷 지정자\n",
        "\n",
        "|Format|Explanation|\n",
        "|--|--|\n",
        "|%s|문자열|\n",
        "|%d|정수|\n",
        "|%f|부동소수점수|\n",
        "|%x|16진수|\n",
        "|%.2f|소수점 둘째 자리까니의 부동소수점 수|"
      ],
      "metadata": {
        "id": "CNeCvguH6QlH"
      }
    },
    {
      "cell_type": "code",
      "source": [
        "name = \"Alice\"\n",
        "age = 30\n",
        "\n",
        "print(\"My name is %s and I'm %d years old.\"% (name, age))"
      ],
      "metadata": {
        "colab": {
          "base_uri": "https://localhost:8080/"
        },
        "id": "SGpyWsQq6w-s",
        "outputId": "007ea283-85cf-46e3-d612-c72450fa4c96"
      },
      "execution_count": null,
      "outputs": [
        {
          "output_type": "stream",
          "name": "stdout",
          "text": [
            "My name is Alice and I'm 30 years old.\n"
          ]
        }
      ]
    },
    {
      "cell_type": "code",
      "source": [
        "# 딕셔너리 사용\n",
        "data = {\"name\": \"Bob\", \"age\":25}\n",
        "print(\"%(name)s is %(age)d years old.\"% data)"
      ],
      "metadata": {
        "colab": {
          "base_uri": "https://localhost:8080/"
        },
        "id": "jFQ7pys57GnP",
        "outputId": "0b5edce4-52ad-4b53-ae6b-65d391799dc7"
      },
      "execution_count": null,
      "outputs": [
        {
          "output_type": "stream",
          "name": "stdout",
          "text": [
            "Bob is 25 years old.\n"
          ]
        }
      ]
    },
    {
      "cell_type": "code",
      "source": [
        "# 너비 지정\n",
        "print(\"%10s\"%\"test\") # 10칸 너비의 우측 정렬\n",
        "print(\"%-10s\"%\"test\") # 10칸 너비의 좌측 정렬"
      ],
      "metadata": {
        "colab": {
          "base_uri": "https://localhost:8080/"
        },
        "id": "tnwgwFsr7cZn",
        "outputId": "36fccf8a-7656-411f-d0ff-387bd18308cd"
      },
      "execution_count": null,
      "outputs": [
        {
          "output_type": "stream",
          "name": "stdout",
          "text": [
            "      test\n",
            "test      \n"
          ]
        }
      ]
    },
    {
      "cell_type": "code",
      "source": [
        "# 숫자 형식\n",
        "print(\"%05d\"% 42) # 5자리 정수, 앞을 0으로 채움\n",
        "print(\"%.2f\" % 3.14159) # 소수점 둘째 자리까지"
      ],
      "metadata": {
        "colab": {
          "base_uri": "https://localhost:8080/"
        },
        "id": "cO4CJqK58AGH",
        "outputId": "2b2eaca1-897a-4896-cebf-662518eee54e"
      },
      "execution_count": null,
      "outputs": [
        {
          "output_type": "stream",
          "name": "stdout",
          "text": [
            "00042\n",
            "3.14\n"
          ]
        }
      ]
    },
    {
      "cell_type": "markdown",
      "source": [
        "### 포매팅 : f-string\n",
        "\n",
        "- f-strings은 문자열에 형식을 지정할 때 서식을 쉽게 만들 수 있도록 함\n",
        "- 3.6 버전부터 사용할 수 있음\n",
        "- 형식을 지정하는 문자열 앞에 f(또는 F)를 붙여주고 {} 안에 변수, 리터럴, 표현식 등을 직접 삽입하여 동적인 문자열을 생성\n",
        "\n",
        "```\n",
        "기본 사용법\n",
        "변수의 값을 문자열 내에 직접 삽입할 수 있음\n",
        "\n",
        "print(f\"텍스트 {변수}\")\n",
        "```\n"
      ],
      "metadata": {
        "id": "KeqDEP7k8Mbn"
      }
    },
    {
      "cell_type": "code",
      "source": [
        "# 수식 사용 : f-string 내에서 직접 수식을 사용\n",
        "a = 5\n",
        "b = 10\n",
        "print(f\"{a}와 {b}의 합은 {a+b}입니다.\")"
      ],
      "metadata": {
        "colab": {
          "base_uri": "https://localhost:8080/"
        },
        "id": "0obsdDdU8mXI",
        "outputId": "3497eb25-09ff-4b69-886c-40eabf9c73e0"
      },
      "execution_count": null,
      "outputs": [
        {
          "output_type": "stream",
          "name": "stdout",
          "text": [
            "5와 10의 합은 15입니다.\n"
          ]
        }
      ]
    },
    {
      "cell_type": "code",
      "source": [
        "# 함수 호출 : 함수 호출 결과를 바로 삽입\n",
        "def greet(name):\n",
        "  return f\"안녕하세요, {name}님!\"\n",
        "\n",
        "print(f\"인사 : {greet('카일')}\")"
      ],
      "metadata": {
        "colab": {
          "base_uri": "https://localhost:8080/"
        },
        "id": "90ZwLGyQ-Nun",
        "outputId": "592041c5-11c0-4041-8338-d95e2deb74a0"
      },
      "execution_count": null,
      "outputs": [
        {
          "output_type": "stream",
          "name": "stdout",
          "text": [
            "인사 : 안녕하세요, 카일님!\n"
          ]
        }
      ]
    },
    {
      "cell_type": "code",
      "source": [
        "# 소수점 조절 : 소수점 이하 자릿수를 조절\n",
        "\n",
        "pi = 3.141592\n",
        "print(f\"파이의 값은 {pi:.2f}입니다.\")"
      ],
      "metadata": {
        "colab": {
          "base_uri": "https://localhost:8080/"
        },
        "id": "Aw6VV5hb-iwp",
        "outputId": "147c1bd3-ddcc-4542-f0e2-df0787c57663"
      },
      "execution_count": null,
      "outputs": [
        {
          "output_type": "stream",
          "name": "stdout",
          "text": [
            "파이의 값은 3.14입니다.\n"
          ]
        }
      ]
    },
    {
      "cell_type": "code",
      "source": [
        "number = 3.141592\n",
        "formatted_string = f\"원주율: {number:.2f}\"\n",
        "print(formatted_string)"
      ],
      "metadata": {
        "colab": {
          "base_uri": "https://localhost:8080/"
        },
        "id": "Z6Z3HPrk-skH",
        "outputId": "26e1a4cd-2de9-4b5a-8363-9319cc225839"
      },
      "execution_count": null,
      "outputs": [
        {
          "output_type": "stream",
          "name": "stdout",
          "text": [
            "원주율: 3.14\n"
          ]
        }
      ]
    },
    {
      "cell_type": "code",
      "source": [
        "name = \"Alice\"\n",
        "age = 30\n",
        "formatted_string = f\"이름 : {name}, 나이 : {age}\"\n",
        "print(formatted_string)"
      ],
      "metadata": {
        "colab": {
          "base_uri": "https://localhost:8080/"
        },
        "id": "gxrX6tXg-3WX",
        "outputId": "ae239ab2-8c48-4905-8ca7-f69c25fca36d"
      },
      "execution_count": null,
      "outputs": [
        {
          "output_type": "stream",
          "name": "stdout",
          "text": [
            "이름 : Alice, 나이 : 30\n"
          ]
        }
      ]
    },
    {
      "cell_type": "code",
      "source": [
        "width = 5\n",
        "height = 10\n",
        "area = width * height\n",
        "formatted_string = f\"가로 : {width}, 세로 : {height}, 면적 : {area}\"\n",
        "print(formatted_string)"
      ],
      "metadata": {
        "colab": {
          "base_uri": "https://localhost:8080/"
        },
        "id": "xK3hnQ_N_CQn",
        "outputId": "3dbed77a-5844-481f-c4d1-302422264c27"
      },
      "execution_count": null,
      "outputs": [
        {
          "output_type": "stream",
          "name": "stdout",
          "text": [
            "가로 : 5, 세로 : 10, 면적 : 50\n"
          ]
        }
      ]
    },
    {
      "cell_type": "code",
      "source": [
        "epoch = 10\n",
        "loss = 0.25\n",
        "accuracy = 0.92\n",
        "formatted_string = f\"Epoch: {epoch}, Loss: {loss:.4f}, Accuracy: {accuracy:.2%}\"\n",
        "print(formatted_string)"
      ],
      "metadata": {
        "colab": {
          "base_uri": "https://localhost:8080/"
        },
        "id": "R5noqHrd_OYX",
        "outputId": "922b8609-8ae1-4dd5-bdee-8aaabda35beb"
      },
      "execution_count": null,
      "outputs": [
        {
          "output_type": "stream",
          "name": "stdout",
          "text": [
            "Epoch: 10, Loss: 0.2500, Accuracy: 92.00%\n"
          ]
        }
      ]
    },
    {
      "cell_type": "code",
      "source": [
        "learning_rate = 0.01\n",
        "batch_size = 32\n",
        "formatted_string = f\"Learning Rate: {learning_rate}, Batch Size: {batch_size}\"\n",
        "print(formatted_string)"
      ],
      "metadata": {
        "colab": {
          "base_uri": "https://localhost:8080/"
        },
        "id": "GPnopO9j_de3",
        "outputId": "1a7ca4d7-f1ae-4333-8d74-e29316ac0428"
      },
      "execution_count": null,
      "outputs": [
        {
          "output_type": "stream",
          "name": "stdout",
          "text": [
            "Learning Rate: 0.01, Batch Size: 32\n"
          ]
        }
      ]
    },
    {
      "cell_type": "code",
      "source": [
        "#  날짜와 시간 포맷팅 : datetime 객체를 포맷팅할 때 유용하게 사용\n",
        "from datetime import datetime\n",
        "import pytz\n",
        "\n",
        "# UTC 기준의 현재 시간\n",
        "utc_now = datetime.now(pytz.utc)\n",
        "print(f\"현재 UTC 시간은 {utc_now:%Y-%m-%d %H:%M}입니다.\")\n",
        "\n",
        "# 한국 표준시(KST)로 변환\n",
        "kst = pytz.timezone('Asia/Seoul')\n",
        "kst_now = utc_now.astimezone(kst)\n",
        "print(f\"현재 한국 시간은 {kst_now:%Y-%m-%d %H:%M}입니다.\")\n"
      ],
      "metadata": {
        "colab": {
          "base_uri": "https://localhost:8080/"
        },
        "id": "mbz9kioD_vuH",
        "outputId": "77f81c5d-46a9-4e3d-d697-69ed384e265a"
      },
      "execution_count": null,
      "outputs": [
        {
          "output_type": "stream",
          "name": "stdout",
          "text": [
            "현재 UTC 시간은 2024-07-02 06:12입니다.\n",
            "현재 한국 시간은 2024-07-02 15:12입니다.\n"
          ]
        }
      ]
    },
    {
      "cell_type": "code",
      "source": [
        "# 딕셔너리 항목 접근 : f-string을 사용하여 딕셔너리 항목에 접근 가능\n",
        "person = {'name':'심 슨', 'age': 14}\n",
        "print(f\"{person['name']}의 나이는 {person['age']}살 입니다.\")"
      ],
      "metadata": {
        "colab": {
          "base_uri": "https://localhost:8080/"
        },
        "id": "Yx_kEgJnCuGv",
        "outputId": "950afa9d-a095-4c30-aa9f-2ea8cf62f777"
      },
      "execution_count": null,
      "outputs": [
        {
          "output_type": "stream",
          "name": "stdout",
          "text": [
            "심 슨의 나이는 14살 입니다.\n"
          ]
        }
      ]
    },
    {
      "cell_type": "code",
      "source": [
        "# 중괄호 문자 표현 : f-string에서 중괄호를 문자로 표시하려면 이중 중괄호를 사용\n",
        "print(f\"중괄호를 표시하려면 {{와 }}을 사용하세요.\")"
      ],
      "metadata": {
        "colab": {
          "base_uri": "https://localhost:8080/"
        },
        "id": "Ofpu4thiFH8i",
        "outputId": "68662a12-67e3-4bf3-9b29-3d672969d070"
      },
      "execution_count": null,
      "outputs": [
        {
          "output_type": "stream",
          "name": "stdout",
          "text": [
            "중괄호를 표시하려면 {와 }을 사용하세요.\n"
          ]
        }
      ]
    },
    {
      "cell_type": "markdown",
      "source": [
        "<hr>"
      ],
      "metadata": {
        "id": "mmIjBZj3FSXd"
      }
    },
    {
      "cell_type": "markdown",
      "source": [
        "# 2. 연산자(문제)"
      ],
      "metadata": {
        "id": "vKhN847OFWB9"
      }
    },
    {
      "cell_type": "markdown",
      "source": [
        "## 문제1) 두 숫자를 입력받아 덧셈/뺄셈/곱셈/나눗셈 연산을 수행하여 결과를 출력하세요."
      ],
      "metadata": {
        "id": "wguhZN_qFdOI"
      }
    },
    {
      "cell_type": "code",
      "source": [
        "num1 = float(input(\"첫번째 숫자 입력\"))\n",
        "num2 = float(input(\"두번째 숫자 입력\"))\n",
        "\n",
        "def calculator(num1, num2):\n",
        "  Add = num1 + num2\n",
        "  Subtract = num1 - num2\n",
        "  Multiply = num1 * num2\n",
        "  Divide = num1 / num2\n",
        "\n",
        "  return print(f\"첫번째 숫자: {num1}, 두번째 숫자 {num2} \\n 덧셈:{Add}, 뺄셈:{Subtract}, 곱셈:{Multiply}, 나누셈:{Divide}\")\n",
        "\n",
        "calculator(num1, num2)"
      ],
      "metadata": {
        "colab": {
          "base_uri": "https://localhost:8080/"
        },
        "id": "wz_0JGMXFsbG",
        "outputId": "0417091f-f670-4318-8b0e-15feed29260d"
      },
      "execution_count": null,
      "outputs": [
        {
          "output_type": "stream",
          "name": "stdout",
          "text": [
            "첫번째 숫자 입력10\n",
            "두번째 숫자 입력5\n",
            "첫번째 숫자: 10.0, 두번째 숫자 5.0 \n",
            " 덧셈:15.0, 뺄셈:5.0, 곱셈:50.0, 나누셈:2.0\n"
          ]
        }
      ]
    },
    {
      "cell_type": "markdown",
      "source": [
        "## 문제2) 두 숫자를 입력받아 나머지/제곱 연산을 수행하여 결과를 출력하세요."
      ],
      "metadata": {
        "id": "MZd-DXvQGsHX"
      }
    },
    {
      "cell_type": "code",
      "source": [
        "num1 = float(input(\"첫번째 숫자 입력\"))\n",
        "num2 = float(input(\"두번째 숫자 입력\"))\n",
        "\n",
        "def calculator(num1, num2):\n",
        "  result1 = num1 % num2\n",
        "  result2_num1 = num1**2\n",
        "  result2_num2 = num2**2\n",
        "\n",
        "  return print(f\"첫번째 숫자: {num1}, 두번째 숫자 {num2} \\n 나머지:{result1}, 첫번째수 제곱:{result2_num1}, 두번째수 제곱:{result2_num2}\")\n",
        "\n",
        "calculator(num1, num2)"
      ],
      "metadata": {
        "colab": {
          "base_uri": "https://localhost:8080/"
        },
        "id": "4eC0xNi8H4U1",
        "outputId": "fef76468-1c01-43fd-ebaf-9891ed19e890"
      },
      "execution_count": null,
      "outputs": [
        {
          "output_type": "stream",
          "name": "stdout",
          "text": [
            "첫번째 숫자 입력10\n",
            "두번째 숫자 입력5\n",
            "첫번째 숫자: 10.0, 두번째 숫자 5.0 \n",
            " 나머지:0.0, 첫번째수 제곱:100.0, 두번째수 제곱:25.0\n"
          ]
        }
      ]
    },
    {
      "cell_type": "markdown",
      "source": [
        "## 문제3) 주어진 숫자의 제곱근을 계산하여 출력하세요."
      ],
      "metadata": {
        "id": "ZSUlaZ5xP7dA"
      }
    },
    {
      "cell_type": "code",
      "source": [
        "# 숫자 변수 지정\n",
        "num = 16"
      ],
      "metadata": {
        "id": "ixRnP6P-UE0I"
      },
      "execution_count": null,
      "outputs": []
    },
    {
      "cell_type": "code",
      "source": [
        "# 거듭제곱 연산자 사용\n",
        "num = 16\n",
        "sqrt_num = num ** 0.5\n",
        "print(f\"{num}의 제곱근은 {sqrt_num}입니다.\")"
      ],
      "metadata": {
        "colab": {
          "base_uri": "https://localhost:8080/"
        },
        "id": "GSMNkW0oUN_Y",
        "outputId": "ef1567fd-ac14-4918-ef4b-b0ed46cf898d"
      },
      "execution_count": null,
      "outputs": [
        {
          "output_type": "stream",
          "name": "stdout",
          "text": [
            "16의 제곱근은 4.0입니다.\n"
          ]
        }
      ]
    },
    {
      "cell_type": "code",
      "source": [
        "# math 모듈 사용\n",
        "import math\n",
        "\n",
        "sqrt_num = math.sqrt(num)\n",
        "print(f\"{num}의 제곱근은 {sqrt_num}입니다.\")"
      ],
      "metadata": {
        "colab": {
          "base_uri": "https://localhost:8080/"
        },
        "id": "47th57W0QAaZ",
        "outputId": "9ef1b0ce-3a0a-42d6-cfef-52e186450f9f"
      },
      "execution_count": null,
      "outputs": [
        {
          "output_type": "stream",
          "name": "stdout",
          "text": [
            "16의 제곱근은 4.0입니다.\n"
          ]
        }
      ]
    },
    {
      "cell_type": "code",
      "source": [
        "# cmath 모듈 사용\n",
        "import cmath\n",
        "\n",
        "sqrt_num = cmath.sqrt(num)\n",
        "print(f\"{num}의 제곱근은 {sqrt_num}입니다.\")"
      ],
      "metadata": {
        "colab": {
          "base_uri": "https://localhost:8080/"
        },
        "id": "Uczt8cxTUIfh",
        "outputId": "9c26973a-2e75-442a-c2f7-a7cbe9d1194f"
      },
      "execution_count": null,
      "outputs": [
        {
          "output_type": "stream",
          "name": "stdout",
          "text": [
            "16의 제곱근은 (4+0j)입니다.\n"
          ]
        }
      ]
    },
    {
      "cell_type": "code",
      "source": [
        "# numpy 모듈 사용\n",
        "import numpy as np\n",
        "\n",
        "sqrt_num = np.sqrt(num)\n",
        "print(f\"{num}의 제곱근은 {sqrt_num}입니다.\")"
      ],
      "metadata": {
        "colab": {
          "base_uri": "https://localhost:8080/"
        },
        "id": "IavjdC7aUSqA",
        "outputId": "0afc1cb3-8eb6-44b0-9b1a-8e70fbfd26bc"
      },
      "execution_count": null,
      "outputs": [
        {
          "output_type": "stream",
          "name": "stdout",
          "text": [
            "16의 제곱근은 4.0입니다.\n"
          ]
        }
      ]
    },
    {
      "cell_type": "code",
      "source": [
        "# sympy 모듈 사용\n",
        "import sympy as sp\n",
        "\n",
        "sqrt_num = sp.sqrt(num)\n",
        "print(f\"{num}의 제곱근은 {sqrt_num}입니다.\")\n"
      ],
      "metadata": {
        "colab": {
          "base_uri": "https://localhost:8080/"
        },
        "id": "p2fFscmaUXgZ",
        "outputId": "6bfb8d08-d541-4087-b4b3-358c6355d7ac"
      },
      "execution_count": null,
      "outputs": [
        {
          "output_type": "stream",
          "name": "stdout",
          "text": [
            "16의 제곱근은 4입니다.\n"
          ]
        }
      ]
    },
    {
      "cell_type": "code",
      "source": [
        "# scipy 모듈 사용\n",
        "from scipy import sqrt\n",
        "\n",
        "sqrt_num = sqrt(num)\n",
        "print(f\"{num}의 제곱근은 {sqrt_num}입니다.\")"
      ],
      "metadata": {
        "colab": {
          "base_uri": "https://localhost:8080/"
        },
        "id": "tlZTFbLkUacx",
        "outputId": "ad621bfb-4951-47fe-fa56-0fc04c5c49b4"
      },
      "execution_count": null,
      "outputs": [
        {
          "output_type": "stream",
          "name": "stdout",
          "text": [
            "16의 제곱근은 4.0입니다.\n"
          ]
        },
        {
          "output_type": "stream",
          "name": "stderr",
          "text": [
            "<ipython-input-100-b5f0529bd5f1>:4: DeprecationWarning: scipy.sqrt is deprecated and will be removed in SciPy 2.0.0, use numpy.lib.scimath.sqrt instead\n",
            "  sqrt_num = sqrt(num)\n"
          ]
        }
      ]
    },
    {
      "cell_type": "markdown",
      "source": [
        "## 문제4) 두 문자열을 입력받아 연결하여 출력하세요."
      ],
      "metadata": {
        "id": "GdXfIFM4I6in"
      }
    },
    {
      "cell_type": "code",
      "source": [
        "str1 = input(\"첫번째 문자 입력\")\n",
        "str2 = input(\"두번째 문자 입력\")\n",
        "\n",
        "def connect_str(str1, str2):\n",
        "  result = str1 + str2\n",
        "\n",
        "  return print(f\"첫번째 문자는 {str1}, 두번째 문자는 {str2} \\n 연결하면 {result}입니다.\")\n",
        "\n",
        "connect_str(str1, str2)"
      ],
      "metadata": {
        "colab": {
          "base_uri": "https://localhost:8080/"
        },
        "id": "1UeHAYe9JoSM",
        "outputId": "9b93ce2c-2a7b-45b2-9b1c-7a23dde2a385"
      },
      "execution_count": null,
      "outputs": [
        {
          "output_type": "stream",
          "name": "stdout",
          "text": [
            "첫번째 문자 입력가\n",
            "두번째 문자 입력나다\n",
            "첫번째 문자는 가, 두번째 문자는 나다 \n",
            " 연결하면 가나다입니다.\n"
          ]
        }
      ]
    },
    {
      "cell_type": "markdown",
      "source": [
        "## 문제5) 두 불리언 값에 대해 AND 연산을 수행하여 결과를 출력하세요."
      ],
      "metadata": {
        "id": "s5NJ-u-JUlNv"
      }
    },
    {
      "cell_type": "code",
      "source": [
        "import sys\n",
        "\n",
        "bool1 = input(\"첫 번째 불리언 값을 입력하세요 : \")\n",
        "if bool1 == 'True':\n",
        "  bool1 = True\n",
        "elif bool1 == 'False':\n",
        "  bool1 = False\n",
        "else :\n",
        "  print(\"값은 True 혹은 False값만 입력해주세요. 프로그램이 종료됩니다.\")\n",
        "  sys.exit(1)\n",
        "\n",
        "bool2 = input(\"두 번째 불리언 값을 입력하세요 : \")\n",
        "if bool2 == 'True':\n",
        "  bool2 = True\n",
        "elif bool2 == 'False':\n",
        "  bool2 = False\n",
        "else :\n",
        "  print(\"값은 True 혹은 False값만 입력해주세요. 프로그램이 종료됩니다.\")\n",
        "  sys.exit(1)\n",
        "\n",
        "result_AND = bool1 and bool2\n",
        "result_OR = bool1 or bool2\n",
        "\n",
        "print(f\"boo1 입력값 : {bool1}, bool2 입력값 : {bool2}, AND 연산 결과 : {result_AND}, OR 연산 결과 : {result_OR}\")"
      ],
      "metadata": {
        "id": "DJTotLosUsqg",
        "colab": {
          "base_uri": "https://localhost:8080/"
        },
        "outputId": "96fd8e36-b08d-4791-acee-0582c4afd01d"
      },
      "execution_count": null,
      "outputs": [
        {
          "output_type": "stream",
          "name": "stdout",
          "text": [
            "첫 번째 불리언 값을 입력하세요 : True\n",
            "두 번째 불리언 값을 입력하세요 : False\n",
            "boo1 입력값 : True, bool2 입력값 : False, AND 연산 결과 : False, OR 연산 결과 : True\n"
          ]
        }
      ]
    },
    {
      "cell_type": "markdown",
      "source": [
        "## 문제6) 주어진 두 숫자를 비교하여 큰 숫자를 출력하세요."
      ],
      "metadata": {
        "id": "2ieYZ1wpUu7H"
      }
    },
    {
      "cell_type": "code",
      "source": [
        "num1 = float(input(\"첫 번째 숫자를 입력하세요 : \"))\n",
        "num2 = float(input(\"두 번째 숫자를 입력하세요 : \"))\n",
        "\n",
        "if num1 > num2:\n",
        "  print(\"큰 숫자: \", num1)\n",
        "elif num1 < num2:\n",
        "  print(\"큰 숫자 : \", num2)\n",
        "else:\n",
        "  print(\"두 값은 동일합니다.\")"
      ],
      "metadata": {
        "id": "8xA5kfszUycA",
        "colab": {
          "base_uri": "https://localhost:8080/"
        },
        "outputId": "3640fe01-b1b4-4e08-a4f4-1bd204e663d9"
      },
      "execution_count": null,
      "outputs": [
        {
          "output_type": "stream",
          "name": "stdout",
          "text": [
            "첫 번째 숫자를 입력하세요 : 1\n",
            "두 번째 숫자를 입력하세요 : 1\n",
            "두 값은 동일합니다.\n"
          ]
        }
      ]
    },
    {
      "cell_type": "markdown",
      "source": [
        "## 문제7) 사용자로부터 입력받은 숫자가 짝수인지 홀수인지 판별하여 출력하세요."
      ],
      "metadata": {
        "id": "uBHy2fjGUy5Q"
      }
    },
    {
      "cell_type": "code",
      "source": [
        "# 나머지 연산 사용\n",
        "def even_odd_using_modulo(num):\n",
        "    if num % 2 == 0:\n",
        "        return \"짝수\"\n",
        "    else:\n",
        "        return \"홀수\"\n",
        "\n",
        "number = 16\n",
        "result = even_odd_using_modulo(number)\n",
        "print(f\"{number}는 {result}입니다.\")"
      ],
      "metadata": {
        "id": "lnZKhyjqU9wQ",
        "colab": {
          "base_uri": "https://localhost:8080/"
        },
        "outputId": "f6a83288-9a0b-4760-b370-93f713636cae"
      },
      "execution_count": null,
      "outputs": [
        {
          "output_type": "stream",
          "name": "stdout",
          "text": [
            "16는 짝수입니다.\n"
          ]
        }
      ]
    },
    {
      "cell_type": "code",
      "source": [
        "# 비트 연산 사용\n",
        "def even_odd_using_bitwise(num):\n",
        "    if num & 1 == 0:\n",
        "        return \"짝수\"\n",
        "    else:\n",
        "        return \"홀수\"\n",
        "\n",
        "number = 24\n",
        "result = even_odd_using_bitwise(number)\n",
        "print(f\"{number}는 {result}입니다.\")"
      ],
      "metadata": {
        "id": "owYJAYIQU4nQ",
        "colab": {
          "base_uri": "https://localhost:8080/"
        },
        "outputId": "ee23dd58-58af-44e0-ffff-fef22bbdb8bc"
      },
      "execution_count": null,
      "outputs": [
        {
          "output_type": "stream",
          "name": "stdout",
          "text": [
            "24는 짝수입니다.\n"
          ]
        }
      ]
    },
    {
      "cell_type": "code",
      "source": [
        "# 리스트 사용\n",
        "def even_odd_using_list(num):\n",
        "    parity = [\"짝수\", \"홀수\"]\n",
        "    return parity[num % 2]\n",
        "\n",
        "number = 9\n",
        "result = even_odd_using_list(number)\n",
        "print(f\"{number}는 {result}입니다.\")\n"
      ],
      "metadata": {
        "colab": {
          "base_uri": "https://localhost:8080/"
        },
        "id": "CFU0I5w2BnOa",
        "outputId": "9f3c3721-0fb7-4bc3-8391-1e76a2ee61ba"
      },
      "execution_count": null,
      "outputs": [
        {
          "output_type": "stream",
          "name": "stdout",
          "text": [
            "9는 홀수입니다.\n"
          ]
        }
      ]
    },
    {
      "cell_type": "code",
      "source": [
        "# 빌트인 함수 활용\n",
        "# divmod : 나눗셈의 몫과 나머지를 한 번에 계산\n",
        "def even_odd_using_divmod(num):\n",
        "    _, remainder = divmod(num, 2)\n",
        "    if remainder == 0:\n",
        "        return \"짝수\"\n",
        "    else:\n",
        "        return \"홀수\"\n",
        "\n",
        "# 사용 예시\n",
        "number = 42\n",
        "result = even_odd_using_divmod(number)\n",
        "print(f\"{number}는 {result}입니다.\")"
      ],
      "metadata": {
        "colab": {
          "base_uri": "https://localhost:8080/"
        },
        "id": "C662fdwMBnf5",
        "outputId": "3c140141-929a-45ac-ad16-18f52e8f7e89"
      },
      "execution_count": null,
      "outputs": [
        {
          "output_type": "stream",
          "name": "stdout",
          "text": [
            "42는 짝수입니다.\n"
          ]
        }
      ]
    },
    {
      "cell_type": "code",
      "source": [
        "# 조건 표현식(삼항 연산자)을 이용\n",
        "def even_odd_using_conditional(num):\n",
        "    return \"짝수\" if num % 2 == 0 else \"홀수\"\n",
        "\n",
        "number = 33\n",
        "result = even_odd_using_conditional(number)\n",
        "print(f\"{number}는 {result}입니다.\")"
      ],
      "metadata": {
        "colab": {
          "base_uri": "https://localhost:8080/"
        },
        "id": "COV-0g8iB5kt",
        "outputId": "0279046c-fe96-4fca-bcef-4ff71a55ce48"
      },
      "execution_count": null,
      "outputs": [
        {
          "output_type": "stream",
          "name": "stdout",
          "text": [
            "33는 홀수입니다.\n"
          ]
        }
      ]
    },
    {
      "cell_type": "markdown",
      "source": [
        "## 문제8) 세 개의 숫자를 입력받고, 가장 큰 숫자를 출력하세요."
      ],
      "metadata": {
        "id": "yHRghjFXU5cw"
      }
    },
    {
      "cell_type": "code",
      "source": [
        "import sys\n",
        "\n",
        "try:\n",
        "  num1 = float(input(\"첫 번째 숫자를 입력하세요 : \"))\n",
        "  num2 = float(input(\"두 번째 숫자를 입력하세요 : \"))\n",
        "  num3 = float(input(\"세 번째 숫자를 입력하세요 : \"))\n",
        "except:\n",
        "  print(\"값은 숫자만 입력해주세요. 프로그램이 종료됩니다.\")\n",
        "  sys.exit(1)\n",
        "\n",
        "result = max(num1, num2, num3)\n",
        "print(f\"가장 큰 수는 {result}입니다.\")"
      ],
      "metadata": {
        "colab": {
          "base_uri": "https://localhost:8080/"
        },
        "id": "piftqnUSB5Bt",
        "outputId": "43740437-e3a2-45b1-a4f4-16e944f97522"
      },
      "execution_count": null,
      "outputs": [
        {
          "output_type": "stream",
          "name": "stdout",
          "text": [
            "첫 번째 숫자를 입력하세요 : 1\n",
            "두 번째 숫자를 입력하세요 : 2\n",
            "세 번째 숫자를 입력하세요 : 3\n",
            "가장 큰 수는 3.0입니다.\n"
          ]
        }
      ]
    },
    {
      "cell_type": "markdown",
      "source": [
        "## 문제9) 사용자로부터 입력받은 숫자에 10을 더한 후 결과를 출력하세요."
      ],
      "metadata": {
        "id": "O0KIdmNnKagG"
      }
    },
    {
      "cell_type": "code",
      "source": [
        "num = float(input(\"숫자 입력\"))\n",
        "\n",
        "def plus_10(num):\n",
        "  input_num = num\n",
        "  num += 10\n",
        "  return print(f\"입력받은 숫자 : {input_num}, 10을 더한 후 결과 : {num}\")\n",
        "\n",
        "plus_10(num)"
      ],
      "metadata": {
        "colab": {
          "base_uri": "https://localhost:8080/"
        },
        "id": "ZtRPeoqBKi9H",
        "outputId": "3d5562bc-1b0e-46e3-c8a4-78ce355fa58c"
      },
      "execution_count": null,
      "outputs": [
        {
          "output_type": "stream",
          "name": "stdout",
          "text": [
            "숫자 입력100\n",
            "입력받은 숫자 : 100.0, 10을 더한 후 결과 : 110.0\n"
          ]
        }
      ]
    },
    {
      "cell_type": "markdown",
      "source": [
        "<hr>"
      ],
      "metadata": {
        "id": "ijkA6RRALS5e"
      }
    },
    {
      "cell_type": "markdown",
      "source": [
        "# 2. 연산자(심화문제)"
      ],
      "metadata": {
        "id": "J1dxlk1wDSj2"
      }
    },
    {
      "cell_type": "markdown",
      "source": [
        "## 예제 1 : 데이터 전처리 - 스케일링\n",
        "\n",
        "- 다음 내용의 코드를 변수의 의미에 따라 직독직해서 공유해봅시다."
      ],
      "metadata": {
        "id": "-np6V2wZDtgs"
      }
    },
    {
      "cell_type": "code",
      "source": [
        "import numpy as np\n",
        "\n",
        "# 데이터 셋\n",
        "# numpy 모듈을 사용하여 배열을 만들어 data 변수에 저장\n",
        "data = np.array([100, 200, 300, 400, 500], dtype=float)\n",
        "\n",
        "# 데이터 스케일링 (표준화)\n",
        "# data의 평균값을 mean, 분산을 std에 저장\n",
        "mean = np.mean(data)\n",
        "std = np.std(data)\n",
        "\n",
        "# data 배열에 저장해둔 평균값 -, 분산 / 적용\n",
        "data -= mean\n",
        "data /= std"
      ],
      "metadata": {
        "id": "EQDKVrth5zln"
      },
      "execution_count": null,
      "outputs": []
    },
    {
      "cell_type": "markdown",
      "source": [
        "## 예제 2 : 손실 함수 계산 - MSE\n",
        "\n",
        "- 다음 내용의 코드를 변수의 의미에 따라 직독직해서 공유해봅시다."
      ],
      "metadata": {
        "id": "Zya8I52A6p7q"
      }
    },
    {
      "cell_type": "code",
      "source": [
        "# 실제 값과 예측 값\n",
        "# actual과 predicted에 배열 생성\n",
        "actual = np.array([1.0, 2.0, 3.0])\n",
        "predicted = np.array([1.1, 1.9, 3.2])\n",
        "\n",
        "# MSE 계산\n",
        "# 배열 - 연산 작업 후 제곱의 평균 구하기\n",
        "mse = np.mean((actual - predicted) **2)\n",
        "print(mse)"
      ],
      "metadata": {
        "colab": {
          "base_uri": "https://localhost:8080/"
        },
        "id": "KKgolrkv6DIH",
        "outputId": "53e9f195-8ad3-4d4d-82e1-2e2e4d5457e6"
      },
      "execution_count": null,
      "outputs": [
        {
          "output_type": "stream",
          "name": "stdout",
          "text": [
            "0.020000000000000035\n"
          ]
        }
      ]
    },
    {
      "cell_type": "markdown",
      "source": [
        "## 예제 3 : 가중치 업데이트 - 경사 하강법\n",
        "\n",
        "- 다음 내용의 코드를 변수의 의미에 따라 직독직해서 공유해봅시다."
      ],
      "metadata": {
        "id": "MENz-Lhz6-iw"
      }
    },
    {
      "cell_type": "code",
      "source": [
        "# 가중치 초기화\n",
        "# weights, gradient 배열 생성\n",
        "weights = np.array([0.5, -0.5])\n",
        "learning_rate = 0.01\n",
        "gradient = np.array([0.1, -0.2])\n",
        "\n",
        "# 가중치 업데이트\n",
        "weights -= learning_rate * gradient\n",
        "# weights = weights - learning_rate * gradient"
      ],
      "metadata": {
        "id": "GQfY9UHK8fDr"
      },
      "execution_count": null,
      "outputs": []
    },
    {
      "cell_type": "markdown",
      "source": [
        "## 예제 4 : 활성화 함수 적용 - ReLU\n",
        "\n",
        "- 다음 내용의 코드를 변수의 의미에 따라 직독직해서 공유해봅시다."
      ],
      "metadata": {
        "id": "Ge0cu2Ob88b5"
      }
    },
    {
      "cell_type": "code",
      "source": [
        "# 입력값\n",
        "inputs = np.array([-1.0, 2.0, -0.5, 3.0])\n",
        "\n",
        "# ReLU 활성화 함수 적용\n",
        "inputs = np.maximum(0, inputs)\n",
        "print(inputs)\n",
        "\n",
        "# maximum(매개변수1, 매개변수2) = 매개변수1보다 큰 매개변수2는 유지, 아닐경우 매개변수1로 대체\n",
        "# ReLU = 모델 학습 진행시 데이터가 모델에 별다른 영향을 주지 않을 data를 삭제하기 위함"
      ],
      "metadata": {
        "colab": {
          "base_uri": "https://localhost:8080/"
        },
        "id": "HnfRhvEQ9CGv",
        "outputId": "6e4c688d-53cd-41eb-e80b-ca017cf6cbc6"
      },
      "execution_count": null,
      "outputs": [
        {
          "output_type": "stream",
          "name": "stdout",
          "text": [
            "[0. 2. 0. 3.]\n"
          ]
        }
      ]
    },
    {
      "cell_type": "markdown",
      "source": [
        "## 예제 5 : 최종\n",
        "\n",
        "- 다음 내용의 코드를 변수의 의미에 따라 직독직해서 공유해봅시다."
      ],
      "metadata": {
        "id": "cQba1M29_VIw"
      }
    },
    {
      "cell_type": "code",
      "source": [
        "import numpy as np\n",
        "\n",
        "# 예측값과 실제값\n",
        "y_true = np.array([3, -0, 2, 7])\n",
        "y_pred = np.array([2.5, 0, 2, 8])\n",
        "\n",
        "# 샘플 수\n",
        "n = len(y_true)\n",
        "\n",
        "# MSE (Mean Absolute Error)\n",
        "rmse = sum(abs(y_true - y_pred)) / n\n",
        "print(f\"MSE:{rmse}\")\n",
        "\n",
        "# RMSE(Root Mean Squared Error)\n",
        "rmse = (sum((y_true - y_pred) **2)/n) **0.5\n",
        "\n",
        "# RMSLE(Root Mean Squared Logarithmic Error)\n",
        "# 로그를 계산할 때 Log(0)이 발생하지 않도록 1을 더함\n",
        "log_true = np.log(y_true + 1)\n",
        "log_pred = np.log(y_pred + 1)\n",
        "rmsle = (sum((log_true - log_pred)**2)/n)**0.5\n",
        "print(f\"RMSLE: {rmsle}\")"
      ],
      "metadata": {
        "colab": {
          "base_uri": "https://localhost:8080/"
        },
        "id": "jOckINDt_cIw",
        "outputId": "899c2d6d-b7fd-49b1-d23f-b0b87aebc24f"
      },
      "execution_count": null,
      "outputs": [
        {
          "output_type": "stream",
          "name": "stdout",
          "text": [
            "MSE:0.375\n",
            "RMSLE: 0.08902735015807975\n"
          ]
        }
      ]
    },
    {
      "cell_type": "code",
      "source": [],
      "metadata": {
        "id": "vsJYzCiFAZta"
      },
      "execution_count": null,
      "outputs": []
    }
  ]
}