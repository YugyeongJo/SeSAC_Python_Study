{
  "nbformat": 4,
  "nbformat_minor": 0,
  "metadata": {
    "colab": {
      "provenance": [],
      "authorship_tag": "ABX9TyNUc6GSB4XMncJmAMb453e9",
      "include_colab_link": true
    },
    "kernelspec": {
      "name": "python3",
      "display_name": "Python 3"
    },
    "language_info": {
      "name": "python"
    }
  },
  "cells": [
    {
      "cell_type": "markdown",
      "metadata": {
        "id": "view-in-github",
        "colab_type": "text"
      },
      "source": [
        "<a href=\"https://colab.research.google.com/github/YugyeongJo/SeSAC_Python_Study/blob/main/00_Python_Introduction_0701.ipynb\" target=\"_parent\"><img src=\"https://colab.research.google.com/assets/colab-badge.svg\" alt=\"Open In Colab\"/></a>"
      ]
    },
    {
      "cell_type": "markdown",
      "source": [
        "# Python 들어가기\n",
        "\n",
        "## Python 출력\n",
        "### print 메서드 사용\n",
        "```\n",
        "print()\n",
        "```"
      ],
      "metadata": {
        "id": "pz-xiE_-kdl_"
      }
    },
    {
      "cell_type": "code",
      "execution_count": 3,
      "metadata": {
        "colab": {
          "base_uri": "https://localhost:8080/"
        },
        "id": "sQadtVQDiz7b",
        "outputId": "ef93349f-cd70-46ce-88ae-e34edf8daad5"
      },
      "outputs": [
        {
          "output_type": "stream",
          "name": "stdout",
          "text": [
            "Hello\n"
          ]
        }
      ],
      "source": [
        "print(\"Hello\")"
      ]
    },
    {
      "cell_type": "markdown",
      "source": [
        "<hr>"
      ],
      "metadata": {
        "id": "Jt47nr4yq474"
      }
    },
    {
      "cell_type": "markdown",
      "source": [
        "# Markdown\n",
        "\n",
        "## 기본 문법"
      ],
      "metadata": {
        "id": "yFKMc_Ywqw77"
      }
    },
    {
      "cell_type": "markdown",
      "source": [
        "# Markdown 실습\n",
        "## 1) 변수의 의미\n",
        "### 변수는 객체인가요?\n",
        "\n",
        "- 오늘\n",
        "- 내일"
      ],
      "metadata": {
        "id": "H0AAP7gHqRWg"
      }
    },
    {
      "cell_type": "markdown",
      "source": [
        "<hr>"
      ],
      "metadata": {
        "id": "reoueSRHq9nA"
      }
    },
    {
      "cell_type": "markdown",
      "source": [
        "# drive 파일 불러오기\n",
        "\n",
        "## 경로 확인\n",
        "- /content/drive/MyDrive/SeSAC 데이터 AI개발 과정/수업내용 모음/실습자료/01.Python_0701.ipynb"
      ],
      "metadata": {
        "id": "d6hg8ea1mhqy"
      }
    },
    {
      "cell_type": "markdown",
      "source": [
        "<hr>"
      ],
      "metadata": {
        "id": "MHkgYIsPrBjw"
      }
    },
    {
      "cell_type": "markdown",
      "source": [
        "# 파일 생성\n",
        "\n",
        "## 파일 생성 기본 code\n",
        "```\n",
        "file_path = 파일경로\n",
        "with open(file_path, \"파일 모드 세팅\") as f:\n",
        "  파일 내용\n",
        "```"
      ],
      "metadata": {
        "id": "5bMFkDIBo-Wn"
      }
    },
    {
      "cell_type": "code",
      "source": [
        "with open(\"output.txt\", \"w\") as f:\n",
        "  print(\"Hello, file!\", file=f)"
      ],
      "metadata": {
        "id": "IdCScNc_kWWI"
      },
      "execution_count": 2,
      "outputs": []
    },
    {
      "cell_type": "markdown",
      "source": [
        "<hr>"
      ],
      "metadata": {
        "id": "CPbPO_APrE1J"
      }
    },
    {
      "cell_type": "markdown",
      "source": [
        "# Python 오류\n",
        "\n",
        "## IndentationError 띄어쓰기 오류\n"
      ],
      "metadata": {
        "id": "XDSXl1jypJ6o"
      }
    },
    {
      "cell_type": "markdown",
      "source": [
        "<hr>"
      ],
      "metadata": {
        "id": "0JlY3fvnsm2Y"
      }
    }
  ]
}