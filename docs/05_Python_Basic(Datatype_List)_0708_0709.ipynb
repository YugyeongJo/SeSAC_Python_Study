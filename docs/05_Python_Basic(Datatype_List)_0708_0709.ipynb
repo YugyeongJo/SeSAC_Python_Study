{
  "nbformat": 4,
  "nbformat_minor": 0,
  "metadata": {
    "colab": {
      "provenance": [],
      "collapsed_sections": [
        "kyhN7XOky9z2",
        "bK196q7H94Oc",
        "9GVqay4b-XU2",
        "xpsCDe13_e51",
        "819pmz6YD6u4",
        "e-AQ3lYVHidJ",
        "C-UME-bqJ_n7",
        "WPxIVrs2NIZM"
      ],
      "authorship_tag": "ABX9TyOpYUX/CSkb+q7VhBGBvKfW",
      "include_colab_link": true
    },
    "kernelspec": {
      "name": "python3",
      "display_name": "Python 3"
    },
    "language_info": {
      "name": "python"
    }
  },
  "cells": [
    {
      "cell_type": "markdown",
      "metadata": {
        "id": "view-in-github",
        "colab_type": "text"
      },
      "source": [
        "<a href=\"https://colab.research.google.com/github/YugyeongJo/SeSAC_Python_Study/blob/main/docs/05_Python_Basic(Datatype_List)_0708_0709.ipynb\" target=\"_parent\"><img src=\"https://colab.research.google.com/assets/colab-badge.svg\" alt=\"Open In Colab\"/></a>"
      ]
    },
    {
      "cell_type": "markdown",
      "source": [
        "# Python 기초\n",
        "\n",
        "<목차>\n",
        "1. 변수\n",
        "2. 연산자\n",
        "3. 제어문\n",
        "4. 함수\n",
        "5. 자료형 1\n",
        "6. 자료형 2\n",
        "7. 정규표현식\n",
        "8. 판다스\n",
        "9. 시각화\n",
        "10. 파일 입출력"
      ],
      "metadata": {
        "id": "KjVKYqQ3v06y"
      }
    },
    {
      "cell_type": "markdown",
      "source": [
        "<hr>"
      ],
      "metadata": {
        "id": "7eYLYUjEwv3V"
      }
    },
    {
      "cell_type": "markdown",
      "source": [
        "# 5. 자료형 1\n",
        "\n",
        "- 리스트(List) : 다양한 데이터 유형을 포함할 수 있으며 데이터 수집, 전처리, 모델 입력 등 여러 단계에서 중요한 역할\n",
        "  + 데이터 수집 및 저장 : 데이터셋을 리스트에 저장하여 관리.\n",
        "  ex) 입력 데이터, 레이블, 예측 결과 등\n",
        "  + 데이터 전처리 : 데이터를 정렬, 필터링, 변환 등의 작업을 수행\n",
        "  ex) 결측치 처리, 데이터 정규화, 데이터 증간 등\n",
        "  + 모델 입력 : 배열이나 텐서로 변환하여 모델의 입력으로 사용.\n",
        "  ex) numpy배열이나 tensorflow 텐서로 변환.\n",
        "  + 결과 저장 및 분석 : 모델의 예측 결과나 성능 지표를 저장하고 분석.\n",
        "  ex) 예측값, 손실값, 정확도 등"
      ],
      "metadata": {
        "id": "XD18Jv4hwxOm"
      }
    },
    {
      "cell_type": "markdown",
      "source": [
        "## 리스트(List)의 특징\n",
        "- Ordered : 데이터 삽입 순서 유지\n",
        "- Changeable : 목록 변경 가능하며 항목을 수정 가능\n",
        "- Heterogeneous : 다양한 유형의 데이터를 나열하고 포함\n",
        "- Contains duplicate : 중복 데이터 허용"
      ],
      "metadata": {
        "id": "0Si6HsBFw562"
      }
    },
    {
      "cell_type": "markdown",
      "source": [
        "## 표준 라이브러리에 포함된 리스트(List) 자료형의 기본 기능\n",
        "\n",
        "|방법|설명|비고|\n",
        "|--|--|--|\n",
        "|listData = []|리스트를 만들어 줌||\n",
        "|len(listData)|리스트의 항목의 수를 반환||\n",
        "|min(listData), max(listData)|리스트에서 가장 작은(min)항목과 가장 큰(max)항목을 반환||\n",
        "|listData[from:to]|리스트의 from 위치부터 to 위치까지 부분 데이터를 추출(to 위치의 항목은 포함 안 됨||\n",
        "|listData.append(value)|list에 value를 추가||\n",
        "|listData.clear()|list의 모든 항목을 삭제||\n",
        "|listData.count(value)|리스트에서 value의 개수를 반환||\n",
        "|listData.extend(newList)|list에 newList를 추가||\n",
        "|+|두 리스트를 연결함||\n",
        "|*|리스트를 곱한 수 만큼 반복||\n",
        "|listData.index(value, position=0)|position위치 이후에서 value의 값이 있는 인덱스를 반환||\n",
        "|listData.insert(index, value)|list의 index위치에 value를 삽입||\n",
        "|listData.remove(value)|리스트에서 해당 값을 삭제||\n",
        "|del listData[index]|리스트에서 인덱스를 이용해 항목을 삭제||\n",
        "|listData.pop()|리스트에서 가장 마지막 항목을 반환하고 삭제||\n",
        "|listData.reverse()|리스트의 항목들의 순서를 반대로 함||\n",
        "|listData.sort(reverse=False)|리스트의 항목들을 정렬. reverse 속성을 True로 하면 내림차순으로 정렬||\n",
        "|listData.copy()|리스트의 얕은 복사본을 반환||\n"
      ],
      "metadata": {
        "id": "kyhN7XOky9z2"
      }
    },
    {
      "cell_type": "code",
      "source": [
        "# 리스트 생성 및 요소 추가\n",
        "## 리스트 생성\n",
        "listData = []\n",
        "\n",
        "## 요소 추가\n",
        "listData.append(10)\n",
        "listData.append(20)\n",
        "listData.append(30)\n",
        "\n",
        "print(listData)"
      ],
      "metadata": {
        "colab": {
          "base_uri": "https://localhost:8080/"
        },
        "id": "RGF_z_g80r0C",
        "outputId": "b4c5876c-d30f-4a79-e121-987b0ee267bb"
      },
      "execution_count": null,
      "outputs": [
        {
          "output_type": "stream",
          "name": "stdout",
          "text": [
            "[10, 20, 30]\n"
          ]
        }
      ]
    },
    {
      "cell_type": "code",
      "source": [
        "# 리스트 길이 확인 및 최소/최대값 찾기\n",
        "## 리스트 생성\n",
        "listData = [3, 1, 4, 1, 5, 9, 2, 6, 5, 3, 5]\n",
        "\n",
        "## 리스트 길이 확인\n",
        "length = len(listData)\n",
        "print(f\"리스트 길이 : {length}\")\n",
        "\n",
        "## 최소값과 최대값 찾기\n",
        "min_value = min(listData)\n",
        "max_value = max(listData)\n",
        "print(f\"최소값: {min_value}, 최대값 : {max_value}\")"
      ],
      "metadata": {
        "colab": {
          "base_uri": "https://localhost:8080/"
        },
        "id": "sOzDe5x003UB",
        "outputId": "846a0dfd-ee81-46f1-c4c2-0d3ead26ed85"
      },
      "execution_count": null,
      "outputs": [
        {
          "output_type": "stream",
          "name": "stdout",
          "text": [
            "리스트 길이 : 11\n",
            "최소값: 1, 최대값 : 9\n"
          ]
        }
      ]
    },
    {
      "cell_type": "code",
      "source": [
        "# 슬라이싱 및 요소 개수 세기\n",
        "## 리스트 생성\n",
        "listData = [1, 2, 3, 4, 5, 6, 7, 8, 9, 10]\n",
        "\n",
        "## 슬라이싱\n",
        "sliced_list = listData[2:5]\n",
        "print(sliced_list)\n",
        "\n",
        "## 요소 개수 세기\n",
        "count_of_five = listData.count(5)\n",
        "print(f\"5의 개수 : {count_of_five}\")"
      ],
      "metadata": {
        "colab": {
          "base_uri": "https://localhost:8080/"
        },
        "id": "IFeqzWyd1Hun",
        "outputId": "c1d7969a-67f9-49d1-a041-2398143cbbf9"
      },
      "execution_count": null,
      "outputs": [
        {
          "output_type": "stream",
          "name": "stdout",
          "text": [
            "[3, 4, 5]\n",
            "5의 개수 : 1\n"
          ]
        }
      ]
    },
    {
      "cell_type": "code",
      "source": [
        "# 요소 삽입, 제거 및 인덱스 찾기\n",
        "listData = [10, 20, 30, 40, 50]\n",
        "listData.insert(2, 25)\n",
        "print(listData)\n",
        "\n",
        "listData.remove(25)\n",
        "print(listData)\n",
        "\n",
        "index_of_40 = listData.index(40)\n",
        "print(f\"40의 인덱스 : {index_of_40}\")"
      ],
      "metadata": {
        "colab": {
          "base_uri": "https://localhost:8080/"
        },
        "id": "e-sa91HL1pAH",
        "outputId": "38443708-a3f1-46e0-d4c8-0a4d264e6050"
      },
      "execution_count": null,
      "outputs": [
        {
          "output_type": "stream",
          "name": "stdout",
          "text": [
            "[10, 20, 25, 30, 40, 50]\n",
            "[10, 20, 30, 40, 50]\n",
            "40의 인덱스 : 3\n"
          ]
        }
      ]
    },
    {
      "cell_type": "code",
      "source": [
        "# 리스트 정렬 및 역순 정렬\n",
        "listData = [3, 1, 4, 1, 5, 9, 2, 6]\n",
        "listData.sort()\n",
        "print(listData)\n",
        "\n",
        "listData.reverse()\n",
        "print(listData)"
      ],
      "metadata": {
        "colab": {
          "base_uri": "https://localhost:8080/"
        },
        "id": "Av2NA_Km1__Y",
        "outputId": "96dd1d20-a1f6-4a33-8847-b620022a925b"
      },
      "execution_count": null,
      "outputs": [
        {
          "output_type": "stream",
          "name": "stdout",
          "text": [
            "[1, 1, 2, 3, 4, 5, 6, 9]\n",
            "[9, 6, 5, 4, 3, 2, 1, 1]\n"
          ]
        }
      ]
    },
    {
      "cell_type": "code",
      "source": [
        "# len() 메서드 : list의 전체 길이 (요소의 개수)를 반환\n",
        "my_list = [1, 2, 3, 4, 5]\n",
        "print(len(my_list))"
      ],
      "metadata": {
        "colab": {
          "base_uri": "https://localhost:8080/"
        },
        "id": "zBKQuBga2kqB",
        "outputId": "a79ee327-d29c-453f-d154-06887e4cc186"
      },
      "execution_count": null,
      "outputs": [
        {
          "output_type": "stream",
          "name": "stdout",
          "text": [
            "5\n"
          ]
        }
      ]
    },
    {
      "cell_type": "code",
      "source": [
        "# count() 메서드 : 리스트 내에서 특정 요소가 몇 번 나타나는지를 세어 반환\n",
        "my_list = [1, 2, 3, 2, 2, 4, 5]\n",
        "print(my_list.count(2))"
      ],
      "metadata": {
        "colab": {
          "base_uri": "https://localhost:8080/"
        },
        "id": "r6W_zD_92suK",
        "outputId": "d4b2de21-73cd-42a0-ec6b-f32868b40e2f"
      },
      "execution_count": null,
      "outputs": [
        {
          "output_type": "stream",
          "name": "stdout",
          "text": [
            "3\n"
          ]
        }
      ]
    },
    {
      "cell_type": "code",
      "source": [
        "# append() 메서드 : 리스트의 끝에 하나의 요소를 추가\n",
        "my_list = [1, 2, 3]\n",
        "my_list.append(4)\n",
        "print(my_list)\n",
        "my_list.append([5, 6])\n",
        "print(my_list)"
      ],
      "metadata": {
        "colab": {
          "base_uri": "https://localhost:8080/"
        },
        "id": "VyElnmkW3VCo",
        "outputId": "507664d8-e476-48cd-846d-2a8f057c8058"
      },
      "execution_count": null,
      "outputs": [
        {
          "output_type": "stream",
          "name": "stdout",
          "text": [
            "[1, 2, 3, 4]\n",
            "[1, 2, 3, 4, [5, 6]]\n"
          ]
        }
      ]
    },
    {
      "cell_type": "code",
      "source": [
        "# extend() 메서드 : 리스트의 끝에 다른 리스트의 모든 요소를 추가\n",
        "my_list = [1, 2, 3]\n",
        "my_list.extend([4, 5, 6])\n",
        "print(my_list)"
      ],
      "metadata": {
        "colab": {
          "base_uri": "https://localhost:8080/"
        },
        "id": "fdp_zUFI3q9o",
        "outputId": "108ebd8b-ca31-413a-9ecd-8897f6064d58"
      },
      "execution_count": null,
      "outputs": [
        {
          "output_type": "stream",
          "name": "stdout",
          "text": [
            "[1, 2, 3, 4, 5, 6]\n"
          ]
        }
      ]
    },
    {
      "cell_type": "code",
      "source": [
        "# remove() 메서드 : 리스트에서 특정 값을 가진 첫 번째 요소를 제거(입력값으로 요소)\n",
        "my_list = [1, 2, 3, 2, 4]\n",
        "my_list.remove(2)\n",
        "print(my_list)"
      ],
      "metadata": {
        "colab": {
          "base_uri": "https://localhost:8080/"
        },
        "id": "UptDl6h736JZ",
        "outputId": "377cf102-3f16-49d2-b95f-7cd44bca3763"
      },
      "execution_count": null,
      "outputs": [
        {
          "output_type": "stream",
          "name": "stdout",
          "text": [
            "[1, 3, 2, 4]\n"
          ]
        }
      ]
    },
    {
      "cell_type": "code",
      "source": [
        "# pop() 메서드 : 리스트에서 특정 위치의 요소를 제거하고, 그 요소를 반환.(입력값으로 인덱스)\n",
        "my_list = [1, 2, 3, 4]\n",
        "removed_element = my_list.pop(2)\n",
        "print(removed_element)\n",
        "print(my_list)\n",
        "last_element = my_list.pop()\n",
        "print(last_element)\n",
        "print(my_list)"
      ],
      "metadata": {
        "colab": {
          "base_uri": "https://localhost:8080/"
        },
        "id": "p92DaSm39gZM",
        "outputId": "1975a6ea-362e-4eb4-c608-3b83d091093f"
      },
      "execution_count": null,
      "outputs": [
        {
          "output_type": "stream",
          "name": "stdout",
          "text": [
            "3\n",
            "[1, 2, 4]\n",
            "4\n",
            "[1, 2]\n"
          ]
        }
      ]
    },
    {
      "cell_type": "code",
      "source": [
        "# 학생 관리 시스템\n",
        "\n",
        "# 학생 목록 초기화\n",
        "students = [\"Alice\", \"Bob\", \"Charile\"]\n",
        "\n",
        "# 1. 새로운 학생 추가 (append)\n",
        "students.append(\"David\")\n",
        "print(\"학생 추가 후 : \", students)\n",
        "\n",
        "# 2. 여러 명의 학생을 한 번에 추가 (extend)\n",
        "new_students = [\"Eve\", \"Frank\"]\n",
        "students.extend(new_students)\n",
        "print(\"여러 학생 추가 후 : \", students)\n",
        "\n",
        "# 3. 특정 위치에 새로운 학생 삽입 (insert)\n",
        "students.insert(2, \"Grance\")\n",
        "print(\"특정 위치에 학생 삽입 후 : \", students)"
      ],
      "metadata": {
        "colab": {
          "base_uri": "https://localhost:8080/"
        },
        "id": "TUBfT3ZPAryo",
        "outputId": "a28767c6-4ed6-49a5-e2df-91beff11e774"
      },
      "execution_count": null,
      "outputs": [
        {
          "output_type": "stream",
          "name": "stdout",
          "text": [
            "학생 추가 후 :  ['Alice', 'Bob', 'Charile', 'David']\n",
            "여러 학생 추가 후 :  ['Alice', 'Bob', 'Charile', 'David', 'Eve', 'Frank']\n",
            "특정 위치에 학생 삽입 후 :  ['Alice', 'Bob', 'Grance', 'Charile', 'David', 'Eve', 'Frank']\n"
          ]
        }
      ]
    },
    {
      "cell_type": "markdown",
      "source": [
        "## 리스트 range(시작, 끝, 증분)\n",
        "- range() : range([from,]to[,by]) 이용해서 연속한 값을 갖는 리스트 생성"
      ],
      "metadata": {
        "id": "bK196q7H94Oc"
      }
    },
    {
      "cell_type": "code",
      "source": [
        "# 기본 사용법\n",
        "# 0부터 9까지의 숫자 생성\n",
        "numbers = list(range(10))\n",
        "print(numbers)"
      ],
      "metadata": {
        "colab": {
          "base_uri": "https://localhost:8080/"
        },
        "id": "ApARy9w2-TPv",
        "outputId": "e08cb7ba-93bc-41ec-d3ee-70ce9ff43811"
      },
      "execution_count": null,
      "outputs": [
        {
          "output_type": "stream",
          "name": "stdout",
          "text": [
            "[0, 1, 2, 3, 4, 5, 6, 7, 8, 9]\n"
          ]
        }
      ]
    },
    {
      "cell_type": "code",
      "source": [
        "# 시작 값과 끝 값 지정\n",
        "# 5부터 14까지의 숫자 생성\n",
        "numbers = list(range(5, 15))\n",
        "print(numbers)"
      ],
      "metadata": {
        "colab": {
          "base_uri": "https://localhost:8080/"
        },
        "id": "_hCAkGaV-XJO",
        "outputId": "0ce41d94-49f3-4eeb-ce84-590bb13e9c29"
      },
      "execution_count": null,
      "outputs": [
        {
          "output_type": "stream",
          "name": "stdout",
          "text": [
            "[5, 6, 7, 8, 9, 10, 11, 12, 13, 14]\n"
          ]
        }
      ]
    },
    {
      "cell_type": "code",
      "source": [
        "# 증분값 지정\n",
        "# 0부터 18까지 2씩 증가하는 숫자 생성\n",
        "numbers = list(range(0, 20, 2))\n",
        "print(numbers)"
      ],
      "metadata": {
        "colab": {
          "base_uri": "https://localhost:8080/"
        },
        "id": "RAomdEmc-XLW",
        "outputId": "55d66496-2b2f-4f29-9a78-2d6a2c8edbc4"
      },
      "execution_count": null,
      "outputs": [
        {
          "output_type": "stream",
          "name": "stdout",
          "text": [
            "[0, 2, 4, 6, 8, 10, 12, 14, 16, 18]\n"
          ]
        }
      ]
    },
    {
      "cell_type": "code",
      "source": [
        "# 역순으로 숫자 생성\n",
        "# 10부터 1까지 1씩 감소하는 숫자 생성\n",
        "numbers = list(range(10, 0, -1))\n",
        "print(numbers)"
      ],
      "metadata": {
        "colab": {
          "base_uri": "https://localhost:8080/"
        },
        "id": "7mhlN7JN-XNl",
        "outputId": "892e9ff0-04b4-46f0-f53e-c70c6f704a81"
      },
      "execution_count": null,
      "outputs": [
        {
          "output_type": "stream",
          "name": "stdout",
          "text": [
            "[10, 9, 8, 7, 6, 5, 4, 3, 2, 1]\n"
          ]
        }
      ]
    },
    {
      "cell_type": "code",
      "source": [
        "# 특정 조건을 만족하는 숫자 생성\n",
        "# 0부터 99까지의 숫자 중에서 3의 배수만 생성\n",
        "multiples_of_three = [x for x in range(100) if x % 3 == 0]\n",
        "print(multiples_of_three)"
      ],
      "metadata": {
        "colab": {
          "base_uri": "https://localhost:8080/"
        },
        "id": "5SMD9DpD-XPt",
        "outputId": "845aca56-1ef2-48b4-a737-ef6b9f9b14e5"
      },
      "execution_count": null,
      "outputs": [
        {
          "output_type": "stream",
          "name": "stdout",
          "text": [
            "[0, 3, 6, 9, 12, 15, 18, 21, 24, 27, 30, 33, 36, 39, 42, 45, 48, 51, 54, 57, 60, 63, 66, 69, 72, 75, 78, 81, 84, 87, 90, 93, 96, 99]\n"
          ]
        }
      ]
    },
    {
      "cell_type": "code",
      "source": [
        "# 2차원 배열 생성\n",
        "n = 5\n",
        "matrix = [[(i+j) % 2 for j in range(n)] for i in range(n)]\n",
        "for row in matrix:\n",
        "  print(row)"
      ],
      "metadata": {
        "colab": {
          "base_uri": "https://localhost:8080/"
        },
        "id": "Q4RH3jqW-XR1",
        "outputId": "cb70535e-1339-44e7-e348-bab238d92465"
      },
      "execution_count": null,
      "outputs": [
        {
          "output_type": "stream",
          "name": "stdout",
          "text": [
            "[0, 1, 0, 1, 0]\n",
            "[1, 0, 1, 0, 1]\n",
            "[0, 1, 0, 1, 0]\n",
            "[1, 0, 1, 0, 1]\n",
            "[0, 1, 0, 1, 0]\n"
          ]
        }
      ]
    },
    {
      "cell_type": "markdown",
      "source": [
        "## 다차원 리스트\n",
        "- [] 안에 []를 넣으면 차원이 증가\n",
        "  + 변수명 = [...] : 1차원 리스트\n",
        "  + 변수명 = [[...], ...] : 2차원 리스트\n",
        "  + 변수명 = [[[...], ...], ...] : 3차원 리스트"
      ],
      "metadata": {
        "id": "9GVqay4b-XU2"
      }
    },
    {
      "cell_type": "code",
      "source": [
        "# 2x2 행렬 생성 및 출력\n",
        "matrix=[\n",
        "    [1, 2]\n",
        "    , [3, 4]\n",
        "]\n",
        "\n",
        "for row in matrix:\n",
        "  print(row)"
      ],
      "metadata": {
        "colab": {
          "base_uri": "https://localhost:8080/"
        },
        "id": "Itwc-i5y_e1m",
        "outputId": "dad05362-23f6-484a-89a4-97ec09cdb867"
      },
      "execution_count": null,
      "outputs": [
        {
          "output_type": "stream",
          "name": "stdout",
          "text": [
            "[1, 2]\n",
            "[3, 4]\n"
          ]
        }
      ]
    },
    {
      "cell_type": "code",
      "source": [
        "# 3x3 행렬 합 구하기\n",
        "matrix=[\n",
        "    [1, 2, 3]\n",
        "    , [4, 5, 6]\n",
        "    , [7, 8, 9]\n",
        "]\n",
        "\n",
        "total_sum = 0\n",
        "for row in matrix:\n",
        "  for element in row:\n",
        "    total_sum += element\n",
        "\n",
        "print(total_sum)"
      ],
      "metadata": {
        "colab": {
          "base_uri": "https://localhost:8080/"
        },
        "id": "ONLkAn8I_e3u",
        "outputId": "84c2ee4f-0bfc-4e2d-ce4d-137dda2188f5"
      },
      "execution_count": null,
      "outputs": [
        {
          "output_type": "stream",
          "name": "stdout",
          "text": [
            "45\n"
          ]
        }
      ]
    },
    {
      "cell_type": "markdown",
      "source": [
        "## 리스트 슬라이싱\n",
        "- 리스트[from : to : by ]\n",
        "  + from부터 to까지 매 by번째 항목 추출, to 인덱스 포함 안함\n",
        "  + from 인덱스와 to 인덱스를 생략하면 자동으로 맨 처음 인덱스와 마지막 인덱스가 선택됨\n",
        "  + [from:to] 형식은 by 값이 1인 경우\n",
        "  + from 인덱스가 to 인덱스보다 뒤의 인덱스일 경우 by는 음수가 될 수 있음"
      ],
      "metadata": {
        "id": "xpsCDe13_e51"
      }
    },
    {
      "cell_type": "code",
      "source": [
        "# 격자 패턴으로 요소 추출\n",
        "letters = ['a', 'b', 'c', 'd', 'e', 'f', 'g', 'h', 'i', 'j']\n",
        "\n",
        "grid_pattern = letters[::3]\n",
        "print(grid_pattern)"
      ],
      "metadata": {
        "colab": {
          "base_uri": "https://localhost:8080/"
        },
        "id": "mm0of_zw_e8G",
        "outputId": "07be3dc7-2435-4603-b040-07ae0a8c77df"
      },
      "execution_count": null,
      "outputs": [
        {
          "output_type": "stream",
          "name": "stdout",
          "text": [
            "['a', 'd', 'g', 'j']\n"
          ]
        }
      ]
    },
    {
      "cell_type": "code",
      "source": [
        "# 다차원 리스트에서 특정 열 추출\n",
        "matrix = [\n",
        "    [1, 2, 3, 4]\n",
        "    , [5, 6, 7, 8]\n",
        "    , [9, 10, 11, 12]\n",
        "    , [13, 14, 15, 16]\n",
        "]\n",
        "\n",
        "column = [row[1] for row in matrix]\n",
        "print(column)"
      ],
      "metadata": {
        "colab": {
          "base_uri": "https://localhost:8080/"
        },
        "id": "9oVej--i_e-m",
        "outputId": "7dde4df4-4c07-455f-c2f4-67fda538c2de"
      },
      "execution_count": null,
      "outputs": [
        {
          "output_type": "stream",
          "name": "stdout",
          "text": [
            "[2, 6, 10, 14]\n"
          ]
        }
      ]
    },
    {
      "cell_type": "code",
      "source": [
        "# 중첩된 슬라이싱을 사용한 부분 리스트 추출\n",
        "numbers = [10, 20, 30, 40, 50, 60, 70, 80, 90]\n",
        "\n",
        "sub_slice = numbers[2:8][1:]\n",
        "print(sub_slice)"
      ],
      "metadata": {
        "colab": {
          "base_uri": "https://localhost:8080/"
        },
        "id": "FPkvAU-BCSzf",
        "outputId": "055f97c8-ca84-4ac7-c2cc-db891811f6f4"
      },
      "execution_count": null,
      "outputs": [
        {
          "output_type": "stream",
          "name": "stdout",
          "text": [
            "[40, 50, 60, 70, 80]\n"
          ]
        }
      ]
    },
    {
      "cell_type": "code",
      "source": [
        "# 다차원 리스트에서 슬라이싱\n",
        "matrix = [\n",
        "    [1, 2, 3, 4]\n",
        "    , [5, 6, 7, 8]\n",
        "    , [9, 10, 11, 12]\n",
        "    , [13, 14, 15, 16]\n",
        "]\n",
        "\n",
        "sub_matrix = [row[1:3] for row in matrix[1:3]]\n",
        "print(sub_matrix)"
      ],
      "metadata": {
        "colab": {
          "base_uri": "https://localhost:8080/"
        },
        "id": "_-VosP8lCS1w",
        "outputId": "93c7daee-2b2f-4f04-dcac-080bcdfd2821"
      },
      "execution_count": null,
      "outputs": [
        {
          "output_type": "stream",
          "name": "stdout",
          "text": [
            "[[6, 7], [10, 11]]\n"
          ]
        }
      ]
    },
    {
      "cell_type": "code",
      "source": [
        "# 중첩된 슬라이싱 : 고차원 리스트의 중첩 슬라이싱은 Numpy에서 제공\n",
        "import numpy as np\n",
        "matrix = [\n",
        "    [1, 2, 3, 4]\n",
        "    , [5, 6, 7, 8]\n",
        "    , [9, 10, 11, 12]\n",
        "    , [13, 14, 15, 16]\n",
        "]\n",
        "\n",
        "np_matrix = np.array(matrix)\n",
        "\n",
        "nested_slicing_result = np_matrix[::2, 1::2]\n",
        "\n",
        "print(\"중첩된 슬라이싱 결과 : \")\n",
        "print(nested_slicing_result)"
      ],
      "metadata": {
        "colab": {
          "base_uri": "https://localhost:8080/"
        },
        "id": "if-rHuK7CS3_",
        "outputId": "ac800eb8-0ce7-41a9-d11c-42777dabec17"
      },
      "execution_count": null,
      "outputs": [
        {
          "output_type": "stream",
          "name": "stdout",
          "text": [
            "중첩된 슬라이싱 결과 : \n",
            "[[ 2  4]\n",
            " [10 12]]\n"
          ]
        }
      ]
    },
    {
      "cell_type": "code",
      "source": [
        "# 조건을 만족하는 요소만 슬라이싱으로 추출\n",
        "numbers = [10, 15, 20, 25, 30, 35, 40, 45]\n",
        "\n",
        "indices = [i for i, num in enumerate(numbers) if num > 20]\n",
        "print(indices)\n",
        "\n",
        "filtered_numbers = [numbers[i] for i in indices]\n",
        "print(filtered_numbers)"
      ],
      "metadata": {
        "colab": {
          "base_uri": "https://localhost:8080/"
        },
        "id": "I8dkN1v8CS6X",
        "outputId": "38457658-ef74-4eb8-acbd-ae5bd79de77e"
      },
      "execution_count": null,
      "outputs": [
        {
          "output_type": "stream",
          "name": "stdout",
          "text": [
            "[3, 4, 5, 6, 7]\n",
            "[25, 30, 35, 40, 45]\n"
          ]
        }
      ]
    },
    {
      "cell_type": "code",
      "source": [
        "# 시작 및 종료 인덱스 지정\n",
        "my_list = ['apple', 'banana', 'cherry', 'banana', 'date']\n",
        "\n",
        "index = my_list.index('banana', 2, 4)\n",
        "print(index)"
      ],
      "metadata": {
        "colab": {
          "base_uri": "https://localhost:8080/"
        },
        "id": "BAikIdj4D6sq",
        "outputId": "2b4031bf-ddde-48a4-9c52-1ce956f80e09"
      },
      "execution_count": null,
      "outputs": [
        {
          "output_type": "stream",
          "name": "stdout",
          "text": [
            "3\n"
          ]
        }
      ]
    },
    {
      "cell_type": "markdown",
      "source": [
        "## 리스트 수정하기\n",
        "- 리스트 데이터는 인덱싱 방법으로 수정할 수 있음\n",
        "- 지정한 인덱스 위치의 데이터를 다른 데이터로 바꿈\n",
        "- 지정한 범위의 리스트 항목을 다른 항목들로 바꿈\n",
        "- 연속하는 항목을 바꿀 경우 수정할 항목의 개수가 달라도 됨"
      ],
      "metadata": {
        "id": "819pmz6YD6u4"
      }
    },
    {
      "cell_type": "code",
      "source": [
        "numebrs = [1, 3, 5, 7, 9, 1, 2, 3, 4, 5]\n",
        "numbers[2] = 2\n",
        "numbers[4] = 40\n",
        "numbers[6] = 600\n",
        "numbers"
      ],
      "metadata": {
        "colab": {
          "base_uri": "https://localhost:8080/"
        },
        "id": "rB8NbFRxD6w_",
        "outputId": "d9313a3f-23f3-4b77-99c0-1c7a84a376f5"
      },
      "execution_count": null,
      "outputs": [
        {
          "output_type": "execute_result",
          "data": {
            "text/plain": [
              "[10, 15, 2, 25, 40, 35, 600, 45]"
            ]
          },
          "metadata": {},
          "execution_count": 22
        }
      ]
    },
    {
      "cell_type": "code",
      "source": [
        "numebrs = [1, 3, 5, 7, 9, 1, 2, 3, 4, 5]\n",
        "numebrs[0:5] = [2, 4, 6]\n",
        "numebrs"
      ],
      "metadata": {
        "colab": {
          "base_uri": "https://localhost:8080/"
        },
        "id": "yzcusEirD6zJ",
        "outputId": "35cc528b-fe3e-4a4c-f43c-2cd18234f920"
      },
      "execution_count": null,
      "outputs": [
        {
          "output_type": "execute_result",
          "data": {
            "text/plain": [
              "[2, 4, 6, 1, 2, 3, 4, 5]"
            ]
          },
          "metadata": {},
          "execution_count": 27
        }
      ]
    },
    {
      "cell_type": "code",
      "source": [
        "numebrs = [1, 3, 5, 7, 9, 1, 2, 3, 4, 5]\n",
        "numebrs[0:5:2] = [2, 4, 6]\n",
        "numebrs"
      ],
      "metadata": {
        "colab": {
          "base_uri": "https://localhost:8080/"
        },
        "id": "JtsCZz_AHiYr",
        "outputId": "b439db1e-4559-45d5-a0c1-1b7dd3c3b451"
      },
      "execution_count": null,
      "outputs": [
        {
          "output_type": "execute_result",
          "data": {
            "text/plain": [
              "[2, 3, 4, 7, 6, 1, 2, 3, 4, 5]"
            ]
          },
          "metadata": {},
          "execution_count": 28
        }
      ]
    },
    {
      "cell_type": "code",
      "source": [
        "my_list = [1, 2, 3, 4, 5, 6, 7, 8, 9, 10]\n",
        "my_list[2:5] = [100, 200, 300, 400, 500]\n",
        "print(my_list)"
      ],
      "metadata": {
        "colab": {
          "base_uri": "https://localhost:8080/"
        },
        "id": "URywsJl0Hia5",
        "outputId": "4e8fc8f8-9810-496e-8f02-9db40370ead8"
      },
      "execution_count": null,
      "outputs": [
        {
          "output_type": "stream",
          "name": "stdout",
          "text": [
            "[1, 2, 100, 200, 300, 400, 500, 6, 7, 8, 9, 10]\n"
          ]
        }
      ]
    },
    {
      "cell_type": "markdown",
      "source": [
        "## 원본 변경 리스트 & 원본 비변경 리스트\n",
        "- 원본 리스트를 변경하는 메서드 : 메서드가 리스트 객체의 메서드로 호출되고, 반환 값이 None\n",
        "  + list.sort()\n",
        "  + list.reverse()\n",
        "  + list.append()\n",
        "  + list.extend()\n",
        "  + list.insert()\n",
        "  + list.remove()\n",
        "  + list.pop()\n",
        "  + list.copy()\n",
        "  + list.clear()\n",
        "\n",
        "- 원본 리스트를 변경하지 않는 함수 : 함수가 내장 함수로 호출되며, 정렬된 또는 뒤집힌 새로운 리스트나 반복자를 반환\n",
        "  + sorted()\n",
        "  + reversed()\n",
        "  + enumerate()\n",
        "  + zip()\n",
        "  + filter()\n",
        "  + map()"
      ],
      "metadata": {
        "id": "e-AQ3lYVHidJ"
      }
    },
    {
      "cell_type": "code",
      "source": [
        "my_list = [3, 1, 4, 1, 5, 9, 2, 6, 5]\n",
        "\n",
        "# list.sort()\n",
        "my_list.sort()\n",
        "print(\"Sorted List (in-place):\", my_list)  # Output: [1, 1, 2, 3, 4, 5, 5, 6, 9]\n",
        "\n",
        "# list.reverse()\n",
        "my_list.reverse()\n",
        "print(\"Reversed List (in-place):\", my_list)  # Output: [9, 6, 5, 5, 4, 3, 2, 1, 1]\n",
        "\n",
        "# list.append(x)\n",
        "my_list.append(7)\n",
        "print(\"Appended List:\", my_list)  # Output: [9, 6, 5, 5, 4, 3, 2, 1, 1, 7]\n",
        "\n",
        "# list.extend(iterable)\n",
        "my_list.extend([8, 9])\n",
        "print(\"Extended List:\", my_list)  # Output: [9, 6, 5, 5, 4, 3, 2, 1, 1, 7, 8, 9]\n",
        "\n",
        "# list.insert(i, x)\n",
        "my_list.insert(0, 0)\n",
        "print(\"Inserted List:\", my_list)  # Output: [0, 9, 6, 5, 5, 4, 3, 2, 1, 1, 7, 8, 9]\n",
        "\n",
        "# list.remove(x)\n",
        "my_list.remove(5)\n",
        "print(\"List after Remove:\", my_list)  # Output: [0, 9, 6, 5, 4, 3, 2, 1, 1, 7, 8, 9]\n",
        "\n",
        "# list.pop([i])\n",
        "popped_element = my_list.pop(2)\n",
        "print(\"Popped Element:\", popped_element)  # Output: 6\n",
        "print(\"List after Pop:\", my_list)  # Output: [0, 9, 5, 4, 3, 2, 1, 1, 7, 8, 9]\n",
        "\n",
        "# list.clear()\n",
        "my_list.clear()\n",
        "print(\"Cleared List:\", my_list)  # Output: []\n",
        "\n",
        "# list.copy()\n",
        "original_list = [1, 2, 3]\n",
        "copied_list = original_list.copy()\n",
        "print(\"Copied List:\", copied_list)  # Output: [1, 2, 3]"
      ],
      "metadata": {
        "colab": {
          "base_uri": "https://localhost:8080/"
        },
        "id": "jDZR_ArUHifg",
        "outputId": "e347d397-36b6-437e-9bcc-004a9431e685"
      },
      "execution_count": null,
      "outputs": [
        {
          "output_type": "stream",
          "name": "stdout",
          "text": [
            "Sorted List (in-place): [1, 1, 2, 3, 4, 5, 5, 6, 9]\n",
            "Reversed List (in-place): [9, 6, 5, 5, 4, 3, 2, 1, 1]\n",
            "Appended List: [9, 6, 5, 5, 4, 3, 2, 1, 1, 7]\n",
            "Extended List: [9, 6, 5, 5, 4, 3, 2, 1, 1, 7, 8, 9]\n",
            "Inserted List: [0, 9, 6, 5, 5, 4, 3, 2, 1, 1, 7, 8, 9]\n",
            "List after Remove: [0, 9, 6, 5, 4, 3, 2, 1, 1, 7, 8, 9]\n",
            "Popped Element: 6\n",
            "List after Pop: [0, 9, 5, 4, 3, 2, 1, 1, 7, 8, 9]\n",
            "Cleared List: []\n",
            "Copied List: [1, 2, 3]\n"
          ]
        }
      ]
    },
    {
      "cell_type": "code",
      "source": [
        "my_list = [3, 1, 4, 1, 5, 9, 2, 6, 5]\n",
        "\n",
        "# sorted()\n",
        "sorted_list = sorted(my_list)\n",
        "print(\"Sorted List (new):\", sorted_list)  # Output: [1, 1, 2, 3, 4, 5, 5, 6, 9]\n",
        "\n",
        "# reversed()\n",
        "reversed_list = list(reversed(my_list))\n",
        "print(\"Reversed List (new):\", reversed_list)  # Output: [5, 6, 2, 9, 5, 1, 4, 1, 3]\n",
        "\n",
        "# enumerate()\n",
        "enumerated_list = list(enumerate(my_list))\n",
        "print(\"Enumerated List:\", enumerated_list)  # Output: [(0, 3), (1, 1), (2, 4), (3, 1), (4, 5), (5, 9), (6, 2), (7, 6), (8, 5)]\n",
        "\n",
        "# zip()\n",
        "list1 = [1, 2, 3]\n",
        "list2 = ['a', 'b', 'c']\n",
        "zipped_list = list(zip(list1, list2))\n",
        "print(\"Zipped List:\", zipped_list)  # Output: [(1, 'a'), (2, 'b'), (3, 'c')]\n",
        "\n",
        "# filter()\n",
        "filtered_list = list(filter(lambda x: x % 2 == 0, my_list))\n",
        "print(\"Filtered List:\", filtered_list)  # Output: [4, 2, 6]\n",
        "\n",
        "# map()\n",
        "mapped_list = list(map(lambda x: x * 2, my_list))\n",
        "print(\"Mapped List:\", mapped_list)  # Output: [6, 2, 8, 2, 10, 18, 4, 12, 10]\n"
      ],
      "metadata": {
        "colab": {
          "base_uri": "https://localhost:8080/"
        },
        "id": "5ToMX18yJ_ls",
        "outputId": "a150c105-f284-41ed-e95d-7690f0590edf"
      },
      "execution_count": null,
      "outputs": [
        {
          "output_type": "stream",
          "name": "stdout",
          "text": [
            "Sorted List (new): [1, 1, 2, 3, 4, 5, 5, 6, 9]\n",
            "Reversed List (new): [5, 6, 2, 9, 5, 1, 4, 1, 3]\n",
            "Enumerated List: [(0, 3), (1, 1), (2, 4), (3, 1), (4, 5), (5, 9), (6, 2), (7, 6), (8, 5)]\n",
            "Zipped List: [(1, 'a'), (2, 'b'), (3, 'c')]\n",
            "Filtered List: [4, 2, 6]\n",
            "Mapped List: [6, 2, 8, 2, 10, 18, 4, 12, 10]\n"
          ]
        }
      ]
    },
    {
      "cell_type": "markdown",
      "source": [
        "## 리스트 복사(copy)\n",
        "- 단순 할당 (=) : 두 변수는 동일한 리스트 객체를 참조\n",
        "  + 하나의 변수를 통해 리스트를 변경하면 다른 변수에서도 변경이 반영\n",
        "  + 얕은 복사(shallow copy)로, 실제로는 새로운 리스트가 생성되지 않음\n",
        "- copy() : copy() 메서드를 사용하면 원본 리스트의 얕은 복사본이 생성\n",
        "  + 새로운 리스트 객체가 생성되고, 원본 리스트의 요소들이 새로운 리스트로 복사\n",
        "  + 두 변수는 서로 다른 리스트 객체를 참조\n",
        "  + But, 리스트 요소가 리스트와 같은 가변 객체일 경우, 그 가변 객체들은 원본리스트와 복사된 리스트가 동일한 객체를 참조하게 됨\n",
        "- copy 모듈의 deepcopy() 함수\n",
        "  + 원본 리스트의 가변 객체 요소까지 복사하려면, 깊은 복사(deep copy)를 수행하려면 copy 모듈의 deepcopy() 함수를 사용\n",
        "\n",
        "```\n",
        "copy() : 복제된 새로운 객체를 생성\n",
        "= : 주소를 복사해 같은 객체를 참조\n",
        "```\n"
      ],
      "metadata": {
        "id": "C-UME-bqJ_n7"
      }
    },
    {
      "cell_type": "code",
      "source": [
        "numbers = [6, 2, 7, 4, 10, 8, 3, 9, 1, 5]\n",
        "\n",
        "new_numbers = numbers.copy()\n",
        "print(numbers)\n",
        "print(new_numbers)"
      ],
      "metadata": {
        "colab": {
          "base_uri": "https://localhost:8080/"
        },
        "id": "C_EKJ0g9J_qM",
        "outputId": "39bb4ca5-f9dc-47d8-e28d-0c58cd48c6cc"
      },
      "execution_count": null,
      "outputs": [
        {
          "output_type": "stream",
          "name": "stdout",
          "text": [
            "[6, 2, 7, 4, 10, 8, 3, 9, 1, 5]\n",
            "[6, 2, 7, 4, 10, 8, 3, 9, 1, 5]\n"
          ]
        }
      ]
    },
    {
      "cell_type": "code",
      "source": [
        "new_numbers = numbers\n",
        "print(numbers)\n",
        "print(new_numbers)"
      ],
      "metadata": {
        "colab": {
          "base_uri": "https://localhost:8080/"
        },
        "id": "J3yl1Dw-J_sO",
        "outputId": "db8803db-bd3c-4969-b95f-9e77ae66b480"
      },
      "execution_count": null,
      "outputs": [
        {
          "output_type": "stream",
          "name": "stdout",
          "text": [
            "[6, 2, 7, 4, 10, 8, 3, 9, 1, 5]\n",
            "[6, 2, 7, 4, 10, 8, 3, 9, 1, 5]\n"
          ]
        }
      ]
    },
    {
      "cell_type": "code",
      "source": [
        "original_list = [1, 2, 3]\n",
        "copied_list = original_list\n",
        "\n",
        "copied_list[0] = 100\n",
        "\n",
        "print(original_list)\n",
        "print(copied_list)"
      ],
      "metadata": {
        "colab": {
          "base_uri": "https://localhost:8080/"
        },
        "id": "gZs48t0jJ_uO",
        "outputId": "adaeeb01-d7ce-4e53-a46b-db35a821bc39"
      },
      "execution_count": null,
      "outputs": [
        {
          "output_type": "stream",
          "name": "stdout",
          "text": [
            "[100, 2, 3]\n",
            "[100, 2, 3]\n"
          ]
        }
      ]
    },
    {
      "cell_type": "code",
      "source": [
        "original_list = [1, 2, 3]\n",
        "copied_list = original_list.copy()\n",
        "\n",
        "copied_list[0] = 100\n",
        "\n",
        "print(original_list)\n",
        "print(copied_list)"
      ],
      "metadata": {
        "colab": {
          "base_uri": "https://localhost:8080/"
        },
        "id": "Xrbs5tztL8ot",
        "outputId": "b6adbada-9fbf-43ae-ed1e-34d31f1249b7"
      },
      "execution_count": null,
      "outputs": [
        {
          "output_type": "stream",
          "name": "stdout",
          "text": [
            "[1, 2, 3]\n",
            "[100, 2, 3]\n"
          ]
        }
      ]
    },
    {
      "cell_type": "code",
      "source": [
        "# shallow vs deep\n",
        "original_list = [[1, 2], [3, 4]]\n",
        "copied_list = original_list.copy()\n",
        "\n",
        "copied_list[0][0] = 100\n",
        "\n",
        "print(original_list)\n",
        "print(copied_list)"
      ],
      "metadata": {
        "colab": {
          "base_uri": "https://localhost:8080/"
        },
        "id": "s_Yd5bShL8q7",
        "outputId": "bd7a752d-c49f-49c3-b73c-c3fc4e4cf064"
      },
      "execution_count": null,
      "outputs": [
        {
          "output_type": "stream",
          "name": "stdout",
          "text": [
            "[[100, 2], [3, 4]]\n",
            "[[100, 2], [3, 4]]\n"
          ]
        }
      ]
    },
    {
      "cell_type": "code",
      "source": [
        "import copy\n",
        "\n",
        "original_list = [[1, 2], [3, 4]]\n",
        "copied_list = copy.deepcopy(original_list)\n",
        "\n",
        "copied_list[0][0] = 100\n",
        "\n",
        "print(original_list)\n",
        "print(copied_list)"
      ],
      "metadata": {
        "colab": {
          "base_uri": "https://localhost:8080/"
        },
        "id": "WSp9xFGsL8tN",
        "outputId": "0ce33300-9a29-4f0a-a141-9ac5beb654f5"
      },
      "execution_count": null,
      "outputs": [
        {
          "output_type": "stream",
          "name": "stdout",
          "text": [
            "[[1, 2], [3, 4]]\n",
            "[[100, 2], [3, 4]]\n"
          ]
        }
      ]
    },
    {
      "cell_type": "markdown",
      "source": [
        "## 리스트 컴프리헨션 List Comprehension\n",
        "- 리스트를 보다 간결하고 효율적으로 생성하는 방법\n",
        "- 기존의 for-loop를 사용한 리스트 생성 방식보다 더 직관적이고 간결하게 작성\n",
        "\n",
        "기본 문법\n",
        "```\n",
        "[expression for item in iterable]\n",
        "\n",
        "expression : 리스트의 각 항목이 될 표현식\n",
        "item : 반복할 때 마다 iterable에서 가져오는 항목\n",
        "iterable : 반복 가능한 객체 (리스트, 문자열, 튜플 등)\n",
        "```"
      ],
      "metadata": {
        "id": "WPxIVrs2NIZM"
      }
    },
    {
      "cell_type": "code",
      "source": [
        "# 기존의 for-loop vs 리스트 컴프리헨션\n",
        "squares = []\n",
        "for x in range(10):\n",
        "  squares.append(x**2)\n",
        "print(squares)"
      ],
      "metadata": {
        "colab": {
          "base_uri": "https://localhost:8080/"
        },
        "id": "8x6v6SEONH-m",
        "outputId": "67a7d768-f2ce-4017-bede-b91b089dc17f"
      },
      "execution_count": null,
      "outputs": [
        {
          "output_type": "stream",
          "name": "stdout",
          "text": [
            "[0, 1, 4, 9, 16, 25, 36, 49, 64, 81]\n"
          ]
        }
      ]
    },
    {
      "cell_type": "code",
      "source": [
        "squares = [x**2 for x in range(10)]\n",
        "print(squares)"
      ],
      "metadata": {
        "colab": {
          "base_uri": "https://localhost:8080/"
        },
        "id": "Sx7tEQoKNIBd",
        "outputId": "81b170ee-e414-49b9-b42f-d6d6eeb2d76c"
      },
      "execution_count": null,
      "outputs": [
        {
          "output_type": "stream",
          "name": "stdout",
          "text": [
            "[0, 1, 4, 9, 16, 25, 36, 49, 64, 81]\n"
          ]
        }
      ]
    },
    {
      "cell_type": "code",
      "source": [
        "# 중첩된 리스트 컴프리헨션\n",
        "matrix = []\n",
        "for i in range(3):\n",
        "  row = []\n",
        "  for j in range(3):\n",
        "    row.append(i*j)\n",
        "  matrix.append(row)\n",
        "print(matrix)"
      ],
      "metadata": {
        "colab": {
          "base_uri": "https://localhost:8080/"
        },
        "id": "OTFEbrN8NIDk",
        "outputId": "04f0f5c9-eb3c-4026-978e-5ad1769a83c8"
      },
      "execution_count": null,
      "outputs": [
        {
          "output_type": "stream",
          "name": "stdout",
          "text": [
            "[[0, 0, 0], [0, 1, 2], [0, 2, 4]]\n"
          ]
        }
      ]
    },
    {
      "cell_type": "code",
      "source": [
        "matrix = [[i*j for j in range(3)] for i in range(3)]\n",
        "print(matrix)"
      ],
      "metadata": {
        "colab": {
          "base_uri": "https://localhost:8080/"
        },
        "id": "uHNysQzxOESu",
        "outputId": "f75de321-1bf3-4f2a-b037-4064c55fc647"
      },
      "execution_count": null,
      "outputs": [
        {
          "output_type": "stream",
          "name": "stdout",
          "text": [
            "[[0, 0, 0], [0, 1, 2], [0, 2, 4]]\n"
          ]
        }
      ]
    },
    {
      "cell_type": "code",
      "source": [
        "# 조건이 있는 리스트 컴프리헨션\n",
        "even_squares = []\n",
        "for x in range(10):\n",
        "  if x % 2 == 0 :\n",
        "    even_squares.append(x**2)\n",
        "print(even_squares)"
      ],
      "metadata": {
        "colab": {
          "base_uri": "https://localhost:8080/"
        },
        "id": "yyMT-dK5OEU8",
        "outputId": "ff18858b-51b8-4e95-8d62-a3e96196a54d"
      },
      "execution_count": null,
      "outputs": [
        {
          "output_type": "stream",
          "name": "stdout",
          "text": [
            "[0, 4, 16, 36, 64]\n"
          ]
        }
      ]
    },
    {
      "cell_type": "code",
      "source": [
        "even_squares = [x**2 for x in range(10) if x % 2 == 0]\n",
        "print(even_squares)"
      ],
      "metadata": {
        "colab": {
          "base_uri": "https://localhost:8080/"
        },
        "id": "MaNsOkfWOctN",
        "outputId": "da0a2ff7-245c-45dc-835e-d73bc9750a53"
      },
      "execution_count": null,
      "outputs": [
        {
          "output_type": "stream",
          "name": "stdout",
          "text": [
            "[0, 4, 16, 36, 64]\n"
          ]
        }
      ]
    },
    {
      "cell_type": "code",
      "source": [
        "# 1부터 10까지의 숫자 리스트 생성\n",
        "numbers = [x for x in range(1, 11)]\n",
        "print(numbers)"
      ],
      "metadata": {
        "colab": {
          "base_uri": "https://localhost:8080/"
        },
        "id": "EjcQcRlHOEXl",
        "outputId": "bf4e85eb-a291-402f-feb8-03f776f8d904"
      },
      "execution_count": null,
      "outputs": [
        {
          "output_type": "stream",
          "name": "stdout",
          "text": [
            "[1, 2, 3, 4, 5, 6, 7, 8, 9, 10]\n"
          ]
        }
      ]
    },
    {
      "cell_type": "code",
      "source": [
        "# 리스트의 각 요소에 2를 곱하기\n",
        "numbers = [1, 2, 3, 4, 5]\n",
        "doubled = [x*2 for x in numbers]\n",
        "print(doubled)"
      ],
      "metadata": {
        "colab": {
          "base_uri": "https://localhost:8080/"
        },
        "id": "HqTFcR7mOEdN",
        "outputId": "3c55d93d-4ebc-4bee-a818-cbb8b85e2486"
      },
      "execution_count": null,
      "outputs": [
        {
          "output_type": "stream",
          "name": "stdout",
          "text": [
            "[2, 4, 6, 8, 10]\n"
          ]
        }
      ]
    },
    {
      "cell_type": "code",
      "source": [
        "# 문자열 리스트의 요소를 대문자로 바꾸기\n",
        "words = ['apple', 'banana', 'cherry']\n",
        "upper_words = [word.upper() for word in words]\n",
        "print(upper_words)"
      ],
      "metadata": {
        "colab": {
          "base_uri": "https://localhost:8080/"
        },
        "id": "g0y0Fnh6OEfd",
        "outputId": "d62b6426-e5e6-4f9a-e31b-5c2de170ec65"
      },
      "execution_count": null,
      "outputs": [
        {
          "output_type": "stream",
          "name": "stdout",
          "text": [
            "['APPLE', 'BANANA', 'CHERRY']\n"
          ]
        }
      ]
    },
    {
      "cell_type": "code",
      "source": [
        "# 1부터 10까지의 제곱수를 계산하기\n",
        "squares = [x**2 for x in range(1, 11)]\n",
        "print(squares)"
      ],
      "metadata": {
        "colab": {
          "base_uri": "https://localhost:8080/"
        },
        "id": "MDX7cm6YPA1e",
        "outputId": "9ce09e04-b147-456c-9b12-487fe86bcd13"
      },
      "execution_count": null,
      "outputs": [
        {
          "output_type": "stream",
          "name": "stdout",
          "text": [
            "[1, 4, 9, 16, 25, 36, 49, 64, 81, 100]\n"
          ]
        }
      ]
    },
    {
      "cell_type": "code",
      "source": [
        "# 리스트에서 짝수만 필터링하기\n",
        "numbers = [1, 2, 3, 4, 5, 6, 7, 8, 9, 10]\n",
        "even_numbers = [x for x in numbers if x % 2 == 0]\n",
        "print(even_numbers)"
      ],
      "metadata": {
        "colab": {
          "base_uri": "https://localhost:8080/"
        },
        "id": "YRXXuwi9PA4m",
        "outputId": "387799c3-7f3f-4f00-d3ca-034aaa1ab9fc"
      },
      "execution_count": null,
      "outputs": [
        {
          "output_type": "stream",
          "name": "stdout",
          "text": [
            "[2, 4, 6, 8, 10]\n"
          ]
        }
      ]
    },
    {
      "cell_type": "code",
      "source": [
        "# 문자열 리스트에서 길이가 5이상인 단어만 필터링하기\n",
        "words = [\"apple\", \"banana\", \"cherry\", \"date\"]\n",
        "long_words = [word for word in words if len(word) >= 5]\n",
        "print(long_words)"
      ],
      "metadata": {
        "colab": {
          "base_uri": "https://localhost:8080/"
        },
        "id": "zk-qw7P6PA62",
        "outputId": "e249b837-d4f0-4d4c-e322-9977d56f1ee9"
      },
      "execution_count": null,
      "outputs": [
        {
          "output_type": "stream",
          "name": "stdout",
          "text": [
            "['apple', 'banana', 'cherry']\n"
          ]
        }
      ]
    },
    {
      "cell_type": "code",
      "source": [
        "# 두 리스트의 곱셈 결과 생성\n",
        "list1 = [1, 2, 3]\n",
        "list2 = [4, 5, 6]\n",
        "products = [x*y for x in list1 for y in list2]\n",
        "print(products)"
      ],
      "metadata": {
        "colab": {
          "base_uri": "https://localhost:8080/"
        },
        "id": "eiofQCsbPA9Q",
        "outputId": "5f59a843-e862-404d-b267-b3262cebe152"
      },
      "execution_count": null,
      "outputs": [
        {
          "output_type": "stream",
          "name": "stdout",
          "text": [
            "[4, 5, 6, 8, 10, 12, 12, 15, 18]\n"
          ]
        }
      ]
    },
    {
      "cell_type": "code",
      "source": [
        "# 1부터 10까지의 숫자 중 홀수는 '홀수', 짝수는 '짝수'로 변환\n",
        "numbers = [x for x in range(1, 11)]\n",
        "labels = ['홀수' if x%2 != 0 else '짝수' for x in numbers]\n",
        "print(labels)"
      ],
      "metadata": {
        "colab": {
          "base_uri": "https://localhost:8080/"
        },
        "id": "oMKRsvA-PBgu",
        "outputId": "823c87db-d3a4-4d33-825a-85daf7611cee"
      },
      "execution_count": null,
      "outputs": [
        {
          "output_type": "stream",
          "name": "stdout",
          "text": [
            "['홀수', '짝수', '홀수', '짝수', '홀수', '짝수', '홀수', '짝수', '홀수', '짝수']\n"
          ]
        }
      ]
    },
    {
      "cell_type": "code",
      "source": [
        "# 문자열 조작을 위한 리스트 컴프리헨션\n",
        "words = ['hello', 'world', 'python']\n",
        "capitalized = [word.capitalize() for word in words]\n",
        "print(capitalized)"
      ],
      "metadata": {
        "colab": {
          "base_uri": "https://localhost:8080/"
        },
        "id": "LaHdZy5MPBjF",
        "outputId": "9b7d6a25-d5dd-48fb-8451-54e36177cd08"
      },
      "execution_count": null,
      "outputs": [
        {
          "output_type": "stream",
          "name": "stdout",
          "text": [
            "['Hello', 'World', 'Python']\n"
          ]
        }
      ]
    },
    {
      "cell_type": "code",
      "source": [
        "# 중첩 루프를 사용한 리스트 컴프리헨션\n",
        "matrix = [[i*j for j in range(1, 4)] for i in range(1, 4)]\n",
        "print(matrix)"
      ],
      "metadata": {
        "colab": {
          "base_uri": "https://localhost:8080/"
        },
        "id": "iCQZTjzbQWf3",
        "outputId": "07c89914-13c7-4d2c-879c-267c200c73c0"
      },
      "execution_count": null,
      "outputs": [
        {
          "output_type": "stream",
          "name": "stdout",
          "text": [
            "[[1, 2, 3], [2, 4, 6], [3, 6, 9]]\n"
          ]
        }
      ]
    },
    {
      "cell_type": "markdown",
      "source": [
        "<hr>"
      ],
      "metadata": {
        "id": "t1ujYvP77r8s"
      }
    },
    {
      "cell_type": "markdown",
      "source": [
        "# 수업문제 1\n",
        "- 리스트의 메서드 기본 사용 응용/변형코드를 댓글에 공유해 주세요"
      ],
      "metadata": {
        "id": "LjFFHpp27s8E"
      }
    },
    {
      "cell_type": "code",
      "source": [
        "# 원본 리스트 생성\n",
        "original_list = [1, 2, 3, 4, 5]\n",
        "\n",
        "# copy() 메서드를 사용하여 리스트 복사본 생성\n",
        "copied_list = original_list.copy()\n",
        "\n",
        "# 복사본 리스트 변경\n",
        "copied_list.append(6)\n",
        "copied_list[0] = 100\n",
        "\n",
        "# 원본 리스트와 복사본 리스트 출력\n",
        "print(\"Original List:\", original_list)\n",
        "print(\"Copied List:\", copied_list)"
      ],
      "metadata": {
        "colab": {
          "base_uri": "https://localhost:8080/"
        },
        "id": "k0ECGTdh73Uk",
        "outputId": "95a887cb-07c0-40a9-cb27-22cae9a8cf0b"
      },
      "execution_count": null,
      "outputs": [
        {
          "output_type": "stream",
          "name": "stdout",
          "text": [
            "Original List: [1, 2, 3, 4, 5]\n",
            "Copied List: [100, 2, 3, 4, 5, 6]\n"
          ]
        }
      ]
    },
    {
      "cell_type": "markdown",
      "source": [
        "# 수업문제 2\n",
        "- 리스트 슬라이싱의 예시를 참조하여 변형/응용 코드를 작성해서 공유해 주세요"
      ],
      "metadata": {
        "id": "iSN4KIq99F_l"
      }
    },
    {
      "cell_type": "code",
      "source": [
        "# 예제 1: 리스트의 일부 추출\n",
        "my_list = [0, 1, 2, 3, 4, 5, 6, 7, 8, 9]\n",
        "subset1 = my_list[2:5]\n",
        "print(\"Subset 1:\", subset1)  # Output: [2, 3, 4]\n",
        "\n",
        "# 예제 2: 시작 인덱스 생략\n",
        "subset2 = my_list[:5]\n",
        "print(\"Subset 2:\", subset2)  # Output: [0, 1, 2, 3, 4]\n",
        "\n",
        "# 예제 3: 종료 인덱스 생략\n",
        "subset3 = my_list[5:]\n",
        "print(\"Subset 3:\", subset3)  # Output: [5, 6, 7, 8, 9]\n",
        "\n",
        "# 예제 4: 양쪽 인덱스 생략\n",
        "copy_list = my_list[:]\n",
        "print(\"Copy List:\", copy_list)  # Output: [0, 1, 2, 3, 4, 5, 6, 7, 8, 9]\n",
        "\n",
        "# 예제 5: 음수 인덱스 사용\n",
        "subset4 = my_list[-2:]\n",
        "print(\"Subset 4:\", subset4)  # Output: [8, 9]\n",
        "\n",
        "# 예제 6: 스텝 지정\n",
        "subset5 = my_list[::2]\n",
        "print(\"Subset 5:\", subset5)  # Output: [0, 2, 4, 6, 8]\n",
        "\n",
        "# 예제 7: 슬라이싱을 통한 리스트 수정\n",
        "my_list[2:5] = ['a', 'b', 'c']\n",
        "print(\"Modified List:\", my_list)  # Output: [0, 1, 'a', 'b', 'c', 5, 6, 7, 8, 9]\n",
        "\n",
        "# 예제 8: 슬라이싱을 통한 리스트 삭제\n",
        "del my_list[2:5]\n",
        "print(\"List after deletion:\", my_list)  # Output: [0, 1, 5, 6, 7, 8, 9]\n",
        "\n",
        "# 예제 9: 슬라이싱을 통한 역순 추출\n",
        "reversed_list = my_list[::-1]\n",
        "print(\"Reversed List:\", reversed_list)  # Output: [9, 8, 7, 6, 5, 1, 0]\n",
        "\n",
        "# 예제 10: 중첩 리스트에서 슬라이싱\n",
        "nested_list = [[1, 2, 3], [4, 5, 6], [7, 8, 9]]\n",
        "nested_subset = nested_list[1:]\n",
        "print(\"Nested List Subset:\", nested_subset)  # Output: [[4, 5, 6], [7, 8, 9]]\n",
        "\n",
        "# 중첩 리스트 내부 요소 슬라이싱\n",
        "inner_subset = nested_list[1][1:]\n",
        "print(\"Inner Subset:\", inner_subset)  # Output: [5, 6]"
      ],
      "metadata": {
        "colab": {
          "base_uri": "https://localhost:8080/"
        },
        "id": "q3zr9VXl9a9E",
        "outputId": "55c49505-6d9b-4f25-b4d4-11f96b0f381e"
      },
      "execution_count": null,
      "outputs": [
        {
          "output_type": "stream",
          "name": "stdout",
          "text": [
            "Subset 1: [2, 3, 4]\n",
            "Subset 2: [0, 1, 2, 3, 4]\n",
            "Subset 3: [5, 6, 7, 8, 9]\n",
            "Copy List: [0, 1, 2, 3, 4, 5, 6, 7, 8, 9]\n",
            "Subset 4: [8, 9]\n",
            "Subset 5: [0, 2, 4, 6, 8]\n",
            "Modified List: [0, 1, 'a', 'b', 'c', 5, 6, 7, 8, 9]\n",
            "List after deletion: [0, 1, 5, 6, 7, 8, 9]\n",
            "Reversed List: [9, 8, 7, 6, 5, 1, 0]\n",
            "Nested List Subset: [[4, 5, 6], [7, 8, 9]]\n",
            "Inner Subset: [5, 6]\n"
          ]
        }
      ]
    },
    {
      "cell_type": "markdown",
      "source": [
        "# 수업문제 3\n",
        "- 리스트 컴프리헨션의 예시를 변형/응용하여 공유해 주세요"
      ],
      "metadata": {
        "id": "UZlz22Nv95x1"
      }
    },
    {
      "cell_type": "code",
      "source": [
        "# 알파벳 필터링\n",
        "\n",
        "# 주어진 문자열\n",
        "input_string = \"Hello, World! 1234 @#%\"\n",
        "\n",
        "alphabet_list = [char for char in input_string if char.isalpha()]\n",
        "print(\"알파벳만 추출한 리스트 : \", alphabet_list)"
      ],
      "metadata": {
        "colab": {
          "base_uri": "https://localhost:8080/"
        },
        "id": "HcJ_OLE5QxL0",
        "outputId": "24a7ae80-617d-4dd1-e69a-c739ec440062"
      },
      "execution_count": null,
      "outputs": [
        {
          "output_type": "stream",
          "name": "stdout",
          "text": [
            "알파벳만 추출한 리스트 :  ['H', 'e', 'l', 'l', 'o', 'W', 'o', 'r', 'l', 'd']\n"
          ]
        }
      ]
    }
  ]
}