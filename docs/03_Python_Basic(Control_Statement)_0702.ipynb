{
  "nbformat": 4,
  "nbformat_minor": 0,
  "metadata": {
    "colab": {
      "provenance": [],
      "collapsed_sections": [
        "5leHSpJMWYLm",
        "6yVYZHAGWcO-",
        "WevHpc48B2os",
        "1fW7WOB0EeMs",
        "TcpMCi1TI1oz",
        "nx2lZqZfyOC3",
        "Ac9AR1vxzune",
        "PrRkhge9fVyd",
        "QTFC7eC0fd5l",
        "u_cwEazhiBPF",
        "5Vm5kYpIJmtT",
        "bnbNFxadOW8h",
        "VfPZwRLIfrCI",
        "rCAfrCdw6tpr",
        "WSPw-vTmPrci",
        "DVdZLku9PuV7",
        "vyCF3qOuP-uL",
        "0mJFzQ-UtmHF",
        "ko2iUBekt8wl",
        "oi0oP20suaVE",
        "DBRFtuv4uyd0",
        "gSAToY9PvUGl",
        "fGtifiscxnld"
      ],
      "authorship_tag": "ABX9TyPko/SEhD3ZyLVcT7hdthZe",
      "include_colab_link": true
    },
    "kernelspec": {
      "name": "python3",
      "display_name": "Python 3"
    },
    "language_info": {
      "name": "python"
    }
  },
  "cells": [
    {
      "cell_type": "markdown",
      "metadata": {
        "id": "view-in-github",
        "colab_type": "text"
      },
      "source": [
        "<a href=\"https://colab.research.google.com/github/YugyeongJo/SeSAC_Python_Study/blob/main/docs/03_Python_Basic(Control_Statement)_0702.ipynb\" target=\"_parent\"><img src=\"https://colab.research.google.com/assets/colab-badge.svg\" alt=\"Open In Colab\"/></a>"
      ]
    },
    {
      "cell_type": "markdown",
      "source": [
        "# Python 기초\n",
        "\n",
        "<목차>\n",
        "1. 변수\n",
        "2. 연산자\n",
        "3. 제어문\n",
        "4. 함수\n",
        "5. 자료형 1\n",
        "6. 자료형 2\n",
        "7. 정규표현식\n",
        "8. 판다스\n",
        "9. 시각화\n",
        "10. 파일 입출력"
      ],
      "metadata": {
        "id": "wwtdCTrNtBfR"
      }
    },
    {
      "cell_type": "markdown",
      "source": [
        "<hr>"
      ],
      "metadata": {
        "id": "Lc0O8NngtDm4"
      }
    },
    {
      "cell_type": "markdown",
      "source": [
        "# 3. 제어문(문법)\n",
        "\n",
        "- 조건식에 따라서 실행 여부를 결정하는 조건문, 정해진 횟수만큼 반복해서 실행시키는 반복문 등 프로그램의 실행을 제어하는 구문\n",
        "\n",
        "|Control Statement|Syntax|\n",
        "|--|--|\n",
        "|조건문(If문)|if ~ elif ~ else|\n",
        "|반복문(for문)|for ~ in|\n",
        "|반복문(while문)|while ~ else|\n",
        "|break, continue문|break, continue|"
      ],
      "metadata": {
        "id": "5leHSpJMWYLm"
      }
    },
    {
      "cell_type": "markdown",
      "source": [
        "## 제어문 : 조건문 If문\n",
        "\n",
        "- if 구문\n",
        "  + if는 조건문에 사용하는 키워드\n",
        "  + if 다음에는 '조건식'이 존재하는데 이 '조건식'이 참(True)이면 들여쓰기 한 문장 실행\n",
        "  + if 문장의 조건식 뒤에는 콜론(:)을 입력하고 블록의 시작을 알림\n",
        "  + 조건식이 참일 경우 실행할 문장과 거짓일 경우 실행할 문장이 다를 경우 if~else 구문 사용\n",
        "- else 구문\n",
        "  + else 구문은 if 문의 조건식이 False일 경우 실행하는 블록을 정의\n",
        "  + else는 단독으로 사용될 수 없으며 반드시 if와 같이 사용돼야 함\n",
        "- elif 구문\n",
        "  + 여러개의 조건식을 사용하려면 elif 구문을 사용\n",
        "  + elif는 단독으로 사용 불가\n",
        "\n",
        "```\n",
        "if 조건식1 :    \n",
        "  조건식1이 참(True)일 경우 실행할 문장\n",
        "elif 조건식2 :    \n",
        "  조건식2가 참(True)일 경우 실행할 문장\n",
        "elif 조건식3 :    \n",
        "  조건식3이 참(True)일 경우 실행할 문장\n",
        "else:\n",
        "  모든 조건식이 거짓(False)일 경우 실행할 문장\n",
        "```"
      ],
      "metadata": {
        "id": "6yVYZHAGWcO-"
      }
    },
    {
      "cell_type": "code",
      "source": [
        "# 변수 정의\n",
        "c = 4"
      ],
      "metadata": {
        "id": "VReBof_XYVQv"
      },
      "execution_count": null,
      "outputs": []
    },
    {
      "cell_type": "code",
      "source": [
        "# if-elif-else문 예시\n",
        "if c > 5:\n",
        "  print(f\"{c}는 5보다 큽니다.\")\n",
        "elif c == 5:\n",
        "  print(f\"{c}는 5와 같습니다.\")\n",
        "else:\n",
        "  print(f\"{c}는 5보다 작습니다.\")"
      ],
      "metadata": {
        "colab": {
          "base_uri": "https://localhost:8080/"
        },
        "id": "KBPBImQeZzVf",
        "outputId": "b1fd28ff-f92e-4d2d-a5ba-274c787ace22"
      },
      "execution_count": null,
      "outputs": [
        {
          "output_type": "stream",
          "name": "stdout",
          "text": [
            "4는 5보다 작습니다.\n"
          ]
        }
      ]
    },
    {
      "cell_type": "code",
      "source": [
        "age = int(input(\"나이를 입력하세요\"))\n",
        "income = int(input(\"연봉을 입력하세요\"))\n",
        "credit_score = int(input(\"신용도를 입력하세요\"))\n",
        "\n",
        "print(f\"당신의 나이는 {age}세이며, 연봉은 {income}원이며, 신용도는 {credit_score} 입니다.\")\n",
        "\n",
        "def loan_availability_check(age, income, credit_score):\n",
        "  if age > 18:\n",
        "    if income > 300000003:\n",
        "      if credit_score > 650:\n",
        "        loan_availability = \"당신은 대출 가능 대상자입니다.\"\n",
        "      else:\n",
        "        loan_availability = \"당신의 신용도가 너무 낮기 때문에 대출 가능 대상자가 아닙니다.\"\n",
        "    else:\n",
        "      loan_availability = \"당신의 연봉이 너무 낮기 때문에 대출 가능 대상자가 아닙니다.\"\n",
        "  else:\n",
        "    loan_availability = \"당신은 너무 어리기 때문에 대출 가능 대상자가 아닙니다.\"\n",
        "  return print(loan_availability)\n",
        "\n",
        "loan_availability_check(age, income, credit_score)"
      ],
      "metadata": {
        "colab": {
          "base_uri": "https://localhost:8080/"
        },
        "id": "Fyu4MuPtaDWl",
        "outputId": "8044a9a6-cb6e-4910-8fa4-77a25863b14a"
      },
      "execution_count": null,
      "outputs": [
        {
          "output_type": "stream",
          "name": "stdout",
          "text": [
            "나이를 입력하세요28\n",
            "연봉을 입력하세요33000000\n",
            "신용도를 입력하세요750\n",
            "당신의 나이는 28세이며, 연봉은 33000000원이며, 신용도는 750 입니다.\n",
            "당신은 대출 가능 대상자입니다.\n"
          ]
        }
      ]
    },
    {
      "cell_type": "code",
      "source": [
        "temperature = int(input(\"기온을 입력하세요\"))\n",
        "humidity = int(input(\"습도를 입력하세요\"))\n",
        "wind_speed = int(input(\"풍속을 입력하세요\"))\n",
        "\n",
        "print(f\"현재 기온은 {temperature}도, 습도는 {humidity}%, 풍속은 {wind_speed} 입니다.\")\n",
        "\n",
        "def weather_condition(temperature, humidity, wind_speed):\n",
        "  if temperature > 85:\n",
        "    if humidity > 60:\n",
        "      weather_condition = \"It's a hot and humid day.\"\n",
        "    else:\n",
        "      weather_condition = \"It's a hot day.\"\n",
        "  elif temperature > 60:\n",
        "    if wind_speed > 20:\n",
        "      weather_condition = \"It's a pleasant but windy day.\"\n",
        "    else:\n",
        "      weather_condition = \"It's a pleasant day.\"\n",
        "  else:\n",
        "    weather_condition = \"It's a cold day.\"\n",
        "  return print(weather_condition)\n",
        "\n",
        "weather_condition(temperature, humidity, wind_speed)"
      ],
      "metadata": {
        "colab": {
          "base_uri": "https://localhost:8080/"
        },
        "id": "CXs5UGinmHZV",
        "outputId": "e533e23a-df1c-460a-bd99-720a06b974b8"
      },
      "execution_count": null,
      "outputs": [
        {
          "output_type": "stream",
          "name": "stdout",
          "text": [
            "기온을 입력하세요85\n",
            "습도를 입력하세요40\n",
            "풍속을 입력하세요10\n",
            "현재 기온은 85도, 습도는 40%, 풍속은 10 입니다.\n",
            "It's a pleasant day.\n"
          ]
        }
      ]
    },
    {
      "cell_type": "markdown",
      "source": [
        "## 제어문 : 반복문 for ~ in\n",
        "\n",
        "- for ~ in 구문\n",
        " + 반복문을 작성할 때 사용하는 구문\n",
        " + 리스트, 튜플, 문자열 등 순회 가능한 객체의 각 요소를 하나씩 가져와서 반복문을 실행\n",
        " + 나열 가능한 자료에서 자료의 항목들을 모두 소비할 때까지 처리\n",
        "\n",
        "```\n",
        "for 변수 in 나열할 자료:\n",
        "  실행할 문장\n",
        "```"
      ],
      "metadata": {
        "id": "WevHpc48B2os"
      }
    },
    {
      "cell_type": "code",
      "source": [
        "# 리스트 for문 적용\n",
        "fruits = [\"apple\", \"banana\", \"cherry\"]\n",
        "\n",
        "for fruit in fruits:\n",
        "  print(fruit)"
      ],
      "metadata": {
        "colab": {
          "base_uri": "https://localhost:8080/"
        },
        "id": "utQ4OxLbCapM",
        "outputId": "b3c34803-6c05-4175-bdf1-f17f75d586d8"
      },
      "execution_count": null,
      "outputs": [
        {
          "output_type": "stream",
          "name": "stdout",
          "text": [
            "apple\n",
            "banana\n",
            "cherry\n"
          ]
        }
      ]
    },
    {
      "cell_type": "code",
      "source": [
        "# range를 활용한 for문 반복\n",
        "for i in range(5):\n",
        "  print(i)\n",
        "# range(숫자) : 범위 지정\n",
        "# 0부터 (숫자-1)까지"
      ],
      "metadata": {
        "colab": {
          "base_uri": "https://localhost:8080/"
        },
        "id": "-82nDZdlCoLb",
        "outputId": "478f8f41-600d-401c-f819-6add3495e5a4"
      },
      "execution_count": null,
      "outputs": [
        {
          "output_type": "stream",
          "name": "stdout",
          "text": [
            "0\n",
            "1\n",
            "2\n",
            "3\n",
            "4\n"
          ]
        }
      ]
    },
    {
      "cell_type": "code",
      "source": [
        "# 문자열 data for문 적용\n",
        "favorite_hobby = ['reading', 'fishing', 'shopping']\n",
        "for hobby in favorite_hobby :\n",
        "  print('%s is my favorite hobby' % hobby)\n",
        "  # % 는 숫자형 data 포맷팅\n",
        "  # %s 는 문자형 data 포맷팅"
      ],
      "metadata": {
        "colab": {
          "base_uri": "https://localhost:8080/"
        },
        "id": "DIoaS2evC4pk",
        "outputId": "492d6ae0-6291-4a5e-f89e-9923ef89ebfa"
      },
      "execution_count": null,
      "outputs": [
        {
          "output_type": "stream",
          "name": "stdout",
          "text": [
            "reading is my favorite hobby\n",
            "fishing is my favorite hobby\n",
            "shopping is my favorite hobby\n"
          ]
        }
      ]
    },
    {
      "cell_type": "code",
      "source": [
        "# 딕셔너리 for문 적용\n",
        "color = {\"apple\":\"green\", \"banana\":\"yellow\", \"cherry\":\"red\"}\n",
        "for dict in color.items():\n",
        "  print(dict)"
      ],
      "metadata": {
        "colab": {
          "base_uri": "https://localhost:8080/"
        },
        "id": "vCxVMX18Dckz",
        "outputId": "892beaa1-e923-4666-a118-9b9458c64e4b"
      },
      "execution_count": null,
      "outputs": [
        {
          "output_type": "stream",
          "name": "stdout",
          "text": [
            "('apple', 'green')\n",
            "('banana', 'yellow')\n",
            "('cherry', 'red')\n"
          ]
        }
      ]
    },
    {
      "cell_type": "code",
      "source": [
        "word = 'hello'\n",
        "for letter in word:\n",
        "  print(letter)"
      ],
      "metadata": {
        "colab": {
          "base_uri": "https://localhost:8080/"
        },
        "id": "mUcegrc_Dufj",
        "outputId": "1d9b0748-c865-4fd2-bda2-16e66290ff1f"
      },
      "execution_count": null,
      "outputs": [
        {
          "output_type": "stream",
          "name": "stdout",
          "text": [
            "h\n",
            "e\n",
            "l\n",
            "l\n",
            "o\n"
          ]
        }
      ]
    },
    {
      "cell_type": "code",
      "source": [
        "numbers = (1, 2, 3)\n",
        "for number in numbers:\n",
        "  print(number)"
      ],
      "metadata": {
        "colab": {
          "base_uri": "https://localhost:8080/"
        },
        "id": "aAdPv5idD0jz",
        "outputId": "3e0a40ed-0bd5-4dc6-d6a0-57bd0fc7d0ab"
      },
      "execution_count": null,
      "outputs": [
        {
          "output_type": "stream",
          "name": "stdout",
          "text": [
            "1\n",
            "2\n",
            "3\n"
          ]
        }
      ]
    },
    {
      "cell_type": "code",
      "source": [
        "matrix = [\n",
        "    [1, 2, 3]\n",
        "    , [4, 5, 6]\n",
        "    , [7, 8, 9]\n",
        "]\n",
        "for row in matrix:\n",
        "  for element in row:\n",
        "    print(element, end=' ')\n",
        "  print()"
      ],
      "metadata": {
        "colab": {
          "base_uri": "https://localhost:8080/"
        },
        "id": "ziNlY_GjD5xr",
        "outputId": "a202d294-ce7d-45fd-927e-9b4862f9417b"
      },
      "execution_count": null,
      "outputs": [
        {
          "output_type": "stream",
          "name": "stdout",
          "text": [
            "1 2 3 \n",
            "4 5 6 \n",
            "7 8 9 \n"
          ]
        }
      ]
    },
    {
      "cell_type": "code",
      "source": [
        "student_scores = {\n",
        "    'Alice': 85\n",
        "    , 'Bob' : 90\n",
        "    , 'Charlie' : 78\n",
        "}\n",
        "for student, score in student_scores.items():\n",
        "  print(f'{student}: {score}')"
      ],
      "metadata": {
        "colab": {
          "base_uri": "https://localhost:8080/"
        },
        "id": "91QmPG0SEMZr",
        "outputId": "d68da9db-5753-4ce1-de38-c088dfda488c"
      },
      "execution_count": null,
      "outputs": [
        {
          "output_type": "stream",
          "name": "stdout",
          "text": [
            "Alice: 85\n",
            "Bob: 90\n",
            "Charlie: 78\n"
          ]
        }
      ]
    },
    {
      "cell_type": "markdown",
      "source": [
        "### for ~ in ~ range()\n",
        "  - for 문장의 items 객체 위치에 range(from, to, by)를 이용해 반복문 실행 가능\n",
        "    + 변수 : 각 반복마다 현재 값을 저장할 변수\n",
        "    + 시작 : 반복을 시작할 숫자 (기본값은 0)\n",
        "    + 끝 : 반복을 끝낼 숫자 (입력한 숫자 - 1)\n",
        "    + 스텝 : 각 반복마다 증가할 값 (기본값 1)\n",
        "  - range() 함수를 이용하면 인덱스 위주의 반복을 실행시킬 수 있음\n",
        "\n",
        "```\n",
        "for 변수 in range(from시작, to끝, by스텝):\n",
        "  실행할 문장\n",
        "```"
      ],
      "metadata": {
        "id": "1fW7WOB0EeMs"
      }
    },
    {
      "cell_type": "code",
      "source": [
        "for i in range(5):\n",
        "  print(i)"
      ],
      "metadata": {
        "colab": {
          "base_uri": "https://localhost:8080/"
        },
        "id": "TzOB_IhkICLr",
        "outputId": "3af1e1df-6207-4d64-baaa-84a373216ba5"
      },
      "execution_count": null,
      "outputs": [
        {
          "output_type": "stream",
          "name": "stdout",
          "text": [
            "0\n",
            "1\n",
            "2\n",
            "3\n",
            "4\n"
          ]
        }
      ]
    },
    {
      "cell_type": "code",
      "source": [
        "for i in range(1, 6):\n",
        "  print(i)"
      ],
      "metadata": {
        "colab": {
          "base_uri": "https://localhost:8080/"
        },
        "id": "Hcd15ekEIFEi",
        "outputId": "40f6ddc8-48e5-4496-86c3-2c10b3a144d2"
      },
      "execution_count": null,
      "outputs": [
        {
          "output_type": "stream",
          "name": "stdout",
          "text": [
            "1\n",
            "2\n",
            "3\n",
            "4\n",
            "5\n"
          ]
        }
      ]
    },
    {
      "cell_type": "code",
      "source": [
        "for i in range(0, 10, 2):\n",
        "  print(i)"
      ],
      "metadata": {
        "colab": {
          "base_uri": "https://localhost:8080/"
        },
        "id": "r-A-3v0yIJmy",
        "outputId": "019ff5ee-42a1-474e-832b-4e970e6c9994"
      },
      "execution_count": null,
      "outputs": [
        {
          "output_type": "stream",
          "name": "stdout",
          "text": [
            "0\n",
            "2\n",
            "4\n",
            "6\n",
            "8\n"
          ]
        }
      ]
    },
    {
      "cell_type": "code",
      "source": [
        "for i in range(5, 0, -1):\n",
        "  print(i)"
      ],
      "metadata": {
        "colab": {
          "base_uri": "https://localhost:8080/"
        },
        "id": "Lo-qWhdpIM9i",
        "outputId": "0d4da563-06f2-4a8b-8fe0-d57e046498dc"
      },
      "execution_count": null,
      "outputs": [
        {
          "output_type": "stream",
          "name": "stdout",
          "text": [
            "5\n",
            "4\n",
            "3\n",
            "2\n",
            "1\n"
          ]
        }
      ]
    },
    {
      "cell_type": "code",
      "source": [
        "# 구구단 출력\n",
        "for i in range(1, 10):\n",
        "  for j in range(1,10):\n",
        "    print(f'{i} x {j} = {i*j}')\n",
        "  print()"
      ],
      "metadata": {
        "colab": {
          "base_uri": "https://localhost:8080/"
        },
        "id": "ze_W6KeMIR6z",
        "outputId": "295e7685-86b9-4be9-a1c0-ee3c663d8f88"
      },
      "execution_count": null,
      "outputs": [
        {
          "output_type": "stream",
          "name": "stdout",
          "text": [
            "1 x 1 = 1\n",
            "1 x 2 = 2\n",
            "1 x 3 = 3\n",
            "1 x 4 = 4\n",
            "1 x 5 = 5\n",
            "1 x 6 = 6\n",
            "1 x 7 = 7\n",
            "1 x 8 = 8\n",
            "1 x 9 = 9\n",
            "\n",
            "2 x 1 = 2\n",
            "2 x 2 = 4\n",
            "2 x 3 = 6\n",
            "2 x 4 = 8\n",
            "2 x 5 = 10\n",
            "2 x 6 = 12\n",
            "2 x 7 = 14\n",
            "2 x 8 = 16\n",
            "2 x 9 = 18\n",
            "\n",
            "3 x 1 = 3\n",
            "3 x 2 = 6\n",
            "3 x 3 = 9\n",
            "3 x 4 = 12\n",
            "3 x 5 = 15\n",
            "3 x 6 = 18\n",
            "3 x 7 = 21\n",
            "3 x 8 = 24\n",
            "3 x 9 = 27\n",
            "\n",
            "4 x 1 = 4\n",
            "4 x 2 = 8\n",
            "4 x 3 = 12\n",
            "4 x 4 = 16\n",
            "4 x 5 = 20\n",
            "4 x 6 = 24\n",
            "4 x 7 = 28\n",
            "4 x 8 = 32\n",
            "4 x 9 = 36\n",
            "\n",
            "5 x 1 = 5\n",
            "5 x 2 = 10\n",
            "5 x 3 = 15\n",
            "5 x 4 = 20\n",
            "5 x 5 = 25\n",
            "5 x 6 = 30\n",
            "5 x 7 = 35\n",
            "5 x 8 = 40\n",
            "5 x 9 = 45\n",
            "\n",
            "6 x 1 = 6\n",
            "6 x 2 = 12\n",
            "6 x 3 = 18\n",
            "6 x 4 = 24\n",
            "6 x 5 = 30\n",
            "6 x 6 = 36\n",
            "6 x 7 = 42\n",
            "6 x 8 = 48\n",
            "6 x 9 = 54\n",
            "\n",
            "7 x 1 = 7\n",
            "7 x 2 = 14\n",
            "7 x 3 = 21\n",
            "7 x 4 = 28\n",
            "7 x 5 = 35\n",
            "7 x 6 = 42\n",
            "7 x 7 = 49\n",
            "7 x 8 = 56\n",
            "7 x 9 = 63\n",
            "\n",
            "8 x 1 = 8\n",
            "8 x 2 = 16\n",
            "8 x 3 = 24\n",
            "8 x 4 = 32\n",
            "8 x 5 = 40\n",
            "8 x 6 = 48\n",
            "8 x 7 = 56\n",
            "8 x 8 = 64\n",
            "8 x 9 = 72\n",
            "\n",
            "9 x 1 = 9\n",
            "9 x 2 = 18\n",
            "9 x 3 = 27\n",
            "9 x 4 = 36\n",
            "9 x 5 = 45\n",
            "9 x 6 = 54\n",
            "9 x 7 = 63\n",
            "9 x 8 = 72\n",
            "9 x 9 = 81\n",
            "\n"
          ]
        }
      ]
    },
    {
      "cell_type": "markdown",
      "source": [
        "### random 모듈\n",
        "\n",
        "- 난수(random number)\n",
        "\n",
        "```\n",
        "import random\n",
        "변수.random모듈 함수\n",
        "```\n",
        "\n",
        "random모듈 함수 종류\n",
        "- random() : 0부터 1사이의 실수를 무작위로 추출\n",
        "- shuffle() : 시퀀스를 뒤죽박죽 섞어놓는 함수\n",
        "- choice() : 원소 하나를 아무거나 뽑아주는 함수\n",
        "- choices( , k=숫자) : 무작위로 k개의 원소를 추출(중복추출 가능)\n",
        "- uniform() : 2개의 숫자 사이에서 무작위로 하나의 실수를 추출\n",
        "- randint() : 2개의 숫자 사이에서 무작위로 하나의 정수를 추출\n",
        "- randrange() : range()함수와 합쳐진 함수로 range()함수로 만들어지는 정수 중 하나를 무작위로 추출\n",
        "- sample( , k=숫자) : 무작위로 k개의 원소를 추출(중복추출 불가능)"
      ],
      "metadata": {
        "id": "i7oNA6_Uf2-J"
      }
    },
    {
      "cell_type": "markdown",
      "source": [
        "## 제어문 : 반복문 while\n",
        "\n",
        "- 조건문이 True일 동안 계속 실행\n",
        "- 조건문의 결과가 False이면 else 블록을 1회 실행하고 구문을 빠져나옴\n",
        "\n",
        "```\n",
        "while 조건문:\n",
        "  조건이 Treu일 동안 반복 실행할 구문\n",
        "else:\n",
        "  조건이 False일 경우 실행할 문장\n",
        "```"
      ],
      "metadata": {
        "id": "TcpMCi1TI1oz"
      }
    },
    {
      "cell_type": "code",
      "source": [
        "i = 0\n",
        "while i <= 10:\n",
        "  print(i, end=' ')\n",
        "  i = i + 1"
      ],
      "metadata": {
        "colab": {
          "base_uri": "https://localhost:8080/"
        },
        "id": "5rEEVpDyPY4R",
        "outputId": "c583d0a5-c7a5-410e-cd4f-43c37ecefc48"
      },
      "execution_count": null,
      "outputs": [
        {
          "output_type": "stream",
          "name": "stdout",
          "text": [
            "0 1 2 3 4 5 6 7 8 9 10 "
          ]
        }
      ]
    },
    {
      "cell_type": "code",
      "source": [
        "# 홀수 출력\n",
        "num = 0\n",
        "while num <= 10:\n",
        "  if num%2 == 1:\n",
        "    print(num, end=' ')\n",
        "  num += 1"
      ],
      "metadata": {
        "colab": {
          "base_uri": "https://localhost:8080/"
        },
        "id": "ywF6BhN4PgYh",
        "outputId": "21cd3687-6888-4df1-b80d-a56fa4eb2316"
      },
      "execution_count": null,
      "outputs": [
        {
          "output_type": "stream",
          "name": "stdout",
          "text": [
            "1 3 5 7 9 "
          ]
        }
      ]
    },
    {
      "cell_type": "code",
      "source": [
        "# 짝수 출력\n",
        "num = 1\n",
        "while num <= 10:\n",
        "  if num%2 == 0:\n",
        "    print(num, end=' ')\n",
        "  num += 1"
      ],
      "metadata": {
        "colab": {
          "base_uri": "https://localhost:8080/"
        },
        "id": "GmSWtzB6PtpZ",
        "outputId": "327b15ff-a814-4da7-d6eb-041015ac6bd8"
      },
      "execution_count": null,
      "outputs": [
        {
          "output_type": "stream",
          "name": "stdout",
          "text": [
            "2 4 6 8 10 "
          ]
        }
      ]
    },
    {
      "cell_type": "code",
      "source": [
        "count = 0\n",
        "while count < 5:\n",
        "  print(count)\n",
        "  count += 1"
      ],
      "metadata": {
        "colab": {
          "base_uri": "https://localhost:8080/"
        },
        "id": "AOkkTXSjQgk6",
        "outputId": "5e960c45-3093-4088-c1f9-43dd0cf46f90"
      },
      "execution_count": null,
      "outputs": [
        {
          "output_type": "stream",
          "name": "stdout",
          "text": [
            "0\n",
            "1\n",
            "2\n",
            "3\n",
            "4\n"
          ]
        }
      ]
    },
    {
      "cell_type": "code",
      "source": [
        "user_input = \"\"\n",
        "while user_input.lower() != \"exit\":\n",
        "  user_input = input(\"Tyep 'exit' to end the loop : \")\n",
        "print(\"Exited loop\")"
      ],
      "metadata": {
        "colab": {
          "base_uri": "https://localhost:8080/"
        },
        "id": "iPZyYqJMQl1h",
        "outputId": "7fa2bf70-c8e1-45c0-cb88-e7ed8e50fc2a"
      },
      "execution_count": null,
      "outputs": [
        {
          "output_type": "stream",
          "name": "stdout",
          "text": [
            "Tyep 'exit' to end the loop : d\n",
            "Tyep 'exit' to end the loop : d\n",
            "Tyep 'exit' to end the loop : g\n",
            "Tyep 'exit' to end the loop : s\n",
            "Tyep 'exit' to end the loop : e\n",
            "Tyep 'exit' to end the loop : d\n",
            "Tyep 'exit' to end the loop : f\n",
            "Tyep 'exit' to end the loop : s\n",
            "Tyep 'exit' to end the loop : e\n",
            "Tyep 'exit' to end the loop : Exit\n",
            "Exited loop\n"
          ]
        }
      ]
    },
    {
      "cell_type": "code",
      "source": [
        "import time\n",
        "\n",
        "count = 0\n",
        "while True:\n",
        "  print(count)\n",
        "  count += 1\n",
        "  time.sleep(1)\n",
        "  if count == 5:\n",
        "    break"
      ],
      "metadata": {
        "colab": {
          "base_uri": "https://localhost:8080/"
        },
        "id": "tzygIKlxQ4u7",
        "outputId": "71f38778-554d-47a4-8afb-903fdb39a83d"
      },
      "execution_count": null,
      "outputs": [
        {
          "output_type": "stream",
          "name": "stdout",
          "text": [
            "0\n",
            "1\n",
            "2\n",
            "3\n",
            "4\n"
          ]
        }
      ]
    },
    {
      "cell_type": "code",
      "source": [
        "import random\n",
        "\n",
        "target = random. randint(1, 100)\n",
        "guess = None\n",
        "attempts = 0\n",
        "\n",
        "while guess != target:\n",
        "  guess = int(input(\"Guess the number (between 1 and 100): \"))\n",
        "  attempts += 1\n",
        "  if guess < target:\n",
        "    print(\"Too low!\")\n",
        "  elif guess > target :\n",
        "    print(\"Too high!\")\n",
        "  else:\n",
        "    print(f\"Congratulations! You've guessed the number in {attempts} attempts.\")"
      ],
      "metadata": {
        "colab": {
          "base_uri": "https://localhost:8080/"
        },
        "id": "PLO_o8iMREXy",
        "outputId": "e1949e64-f985-4a38-8dc2-b3934b4d6de2"
      },
      "execution_count": null,
      "outputs": [
        {
          "output_type": "stream",
          "name": "stdout",
          "text": [
            "Guess the number (between 1 and 100): 50\n",
            "Too low!\n",
            "Guess the number (between 1 and 100): 70\n",
            "Too high!\n",
            "Guess the number (between 1 and 100): 60\n",
            "Too low!\n",
            "Guess the number (between 1 and 100): 65\n",
            "Too low!\n",
            "Guess the number (between 1 and 100): 67\n",
            "Too low!\n",
            "Guess the number (between 1 and 100): 66\n",
            "Too low!\n",
            "Guess the number (between 1 and 100): 69\n",
            "Congratulations! You've guessed the number in 7 attempts.\n"
          ]
        }
      ]
    },
    {
      "cell_type": "markdown",
      "source": [
        "## break, continue 문\n",
        "\n",
        "- break문\n",
        "  + break를 만나면 break를 포함하는 반복문을 완전히 탈출\n",
        "- continue문\n",
        "  + 반복문 내에서 continue 이후의 문자을 건너뜀"
      ],
      "metadata": {
        "id": "nx2lZqZfyOC3"
      }
    },
    {
      "cell_type": "code",
      "source": [
        "for a in range(0, 3):\n",
        "  for b in range(1, 3):\n",
        "    if a == b :\n",
        "      break\n",
        "    print(a, b)"
      ],
      "metadata": {
        "colab": {
          "base_uri": "https://localhost:8080/"
        },
        "id": "0958fDlAyqFv",
        "outputId": "0ba731b8-6bb8-4e77-a4f1-5c9a90c532ad"
      },
      "execution_count": null,
      "outputs": [
        {
          "output_type": "stream",
          "name": "stdout",
          "text": [
            "0 1\n",
            "0 2\n",
            "2 1\n"
          ]
        }
      ]
    },
    {
      "cell_type": "code",
      "source": [
        "num = 1\n",
        "while num <= 10:\n",
        "  if num == 5:\n",
        "    break\n",
        "  print(num)\n",
        "  num += 1"
      ],
      "metadata": {
        "colab": {
          "base_uri": "https://localhost:8080/"
        },
        "id": "bxynsGyty4eH",
        "outputId": "5428636f-727e-4171-f324-1e0ebf12b4a4"
      },
      "execution_count": null,
      "outputs": [
        {
          "output_type": "stream",
          "name": "stdout",
          "text": [
            "1\n",
            "2\n",
            "3\n",
            "4\n"
          ]
        }
      ]
    },
    {
      "cell_type": "code",
      "source": [
        "num = 1\n",
        "while num <= 10:\n",
        "  if num % 2 != 0:\n",
        "    num += 1\n",
        "    continue\n",
        "  print(num)\n",
        "  num += 1"
      ],
      "metadata": {
        "colab": {
          "base_uri": "https://localhost:8080/"
        },
        "id": "xF1KdGDfzBUv",
        "outputId": "05a2d1eb-8cdb-443b-8b1e-744f7f04139f"
      },
      "execution_count": null,
      "outputs": [
        {
          "output_type": "stream",
          "name": "stdout",
          "text": [
            "2\n",
            "4\n",
            "6\n",
            "8\n",
            "10\n"
          ]
        }
      ]
    },
    {
      "cell_type": "code",
      "source": [
        "while True:\n",
        "  user_input = input(\"Type 'quit' to exit : \")\n",
        "  if user_input.lower() == 'quit':\n",
        "    break\n",
        "  print(\"You typed : \", user_input)"
      ],
      "metadata": {
        "colab": {
          "base_uri": "https://localhost:8080/"
        },
        "id": "DCW_hL3GzKwP",
        "outputId": "8cc924fc-cfa7-4480-9d9d-3c4b518ba2c6"
      },
      "execution_count": null,
      "outputs": [
        {
          "name": "stdout",
          "output_type": "stream",
          "text": [
            "Type 'quit' to exit : d\n",
            "You typed :  d\n",
            "Type 'quit' to exit : s\n",
            "You typed :  s\n",
            "Type 'quit' to exit : quit\n"
          ]
        }
      ]
    },
    {
      "cell_type": "code",
      "source": [
        "num = 1\n",
        "while num <= 100:\n",
        "  if num % 3 == 0:\n",
        "    num += 1\n",
        "    continue\n",
        "  print(num)\n",
        "  num += 1"
      ],
      "metadata": {
        "colab": {
          "base_uri": "https://localhost:8080/"
        },
        "id": "-61VpoBuzft1",
        "outputId": "e24cf0b5-8781-4410-fa27-66004a9c1a16"
      },
      "execution_count": null,
      "outputs": [
        {
          "output_type": "stream",
          "name": "stdout",
          "text": [
            "1\n",
            "2\n",
            "4\n",
            "5\n",
            "7\n",
            "8\n",
            "10\n",
            "11\n",
            "13\n",
            "14\n",
            "16\n",
            "17\n",
            "19\n",
            "20\n",
            "22\n",
            "23\n",
            "25\n",
            "26\n",
            "28\n",
            "29\n",
            "31\n",
            "32\n",
            "34\n",
            "35\n",
            "37\n",
            "38\n",
            "40\n",
            "41\n",
            "43\n",
            "44\n",
            "46\n",
            "47\n",
            "49\n",
            "50\n",
            "52\n",
            "53\n",
            "55\n",
            "56\n",
            "58\n",
            "59\n",
            "61\n",
            "62\n",
            "64\n",
            "65\n",
            "67\n",
            "68\n",
            "70\n",
            "71\n",
            "73\n",
            "74\n",
            "76\n",
            "77\n",
            "79\n",
            "80\n",
            "82\n",
            "83\n",
            "85\n",
            "86\n",
            "88\n",
            "89\n",
            "91\n",
            "92\n",
            "94\n",
            "95\n",
            "97\n",
            "98\n",
            "100\n"
          ]
        }
      ]
    },
    {
      "cell_type": "markdown",
      "source": [
        "## 제어문 : 중첩 루프\n",
        "\n",
        "- 반복문 안에 반복문을 포함시킬 수 있음\n",
        "- 2차원 이상의 데이터 구조의 모든 항목들을 처리하기 위해 사용할 수 있음"
      ],
      "metadata": {
        "id": "Ac9AR1vxzune"
      }
    },
    {
      "cell_type": "code",
      "source": [
        "for i in range(2, 10) :\n",
        "  for j in range(1, 10):\n",
        "    print(f\"{i} x {j} = {i * j}\")\n",
        "  print()"
      ],
      "metadata": {
        "colab": {
          "base_uri": "https://localhost:8080/"
        },
        "id": "OJ4-ZmSXz59u",
        "outputId": "51b8c88d-6826-4f5a-ece6-7b48575985da"
      },
      "execution_count": null,
      "outputs": [
        {
          "output_type": "stream",
          "name": "stdout",
          "text": [
            "2 x 1 = 2\n",
            "2 x 2 = 4\n",
            "2 x 3 = 6\n",
            "2 x 4 = 8\n",
            "2 x 5 = 10\n",
            "2 x 6 = 12\n",
            "2 x 7 = 14\n",
            "2 x 8 = 16\n",
            "2 x 9 = 18\n",
            "\n",
            "3 x 1 = 3\n",
            "3 x 2 = 6\n",
            "3 x 3 = 9\n",
            "3 x 4 = 12\n",
            "3 x 5 = 15\n",
            "3 x 6 = 18\n",
            "3 x 7 = 21\n",
            "3 x 8 = 24\n",
            "3 x 9 = 27\n",
            "\n",
            "4 x 1 = 4\n",
            "4 x 2 = 8\n",
            "4 x 3 = 12\n",
            "4 x 4 = 16\n",
            "4 x 5 = 20\n",
            "4 x 6 = 24\n",
            "4 x 7 = 28\n",
            "4 x 8 = 32\n",
            "4 x 9 = 36\n",
            "\n",
            "5 x 1 = 5\n",
            "5 x 2 = 10\n",
            "5 x 3 = 15\n",
            "5 x 4 = 20\n",
            "5 x 5 = 25\n",
            "5 x 6 = 30\n",
            "5 x 7 = 35\n",
            "5 x 8 = 40\n",
            "5 x 9 = 45\n",
            "\n",
            "6 x 1 = 6\n",
            "6 x 2 = 12\n",
            "6 x 3 = 18\n",
            "6 x 4 = 24\n",
            "6 x 5 = 30\n",
            "6 x 6 = 36\n",
            "6 x 7 = 42\n",
            "6 x 8 = 48\n",
            "6 x 9 = 54\n",
            "\n",
            "7 x 1 = 7\n",
            "7 x 2 = 14\n",
            "7 x 3 = 21\n",
            "7 x 4 = 28\n",
            "7 x 5 = 35\n",
            "7 x 6 = 42\n",
            "7 x 7 = 49\n",
            "7 x 8 = 56\n",
            "7 x 9 = 63\n",
            "\n",
            "8 x 1 = 8\n",
            "8 x 2 = 16\n",
            "8 x 3 = 24\n",
            "8 x 4 = 32\n",
            "8 x 5 = 40\n",
            "8 x 6 = 48\n",
            "8 x 7 = 56\n",
            "8 x 8 = 64\n",
            "8 x 9 = 72\n",
            "\n",
            "9 x 1 = 9\n",
            "9 x 2 = 18\n",
            "9 x 3 = 27\n",
            "9 x 4 = 36\n",
            "9 x 5 = 45\n",
            "9 x 6 = 54\n",
            "9 x 7 = 63\n",
            "9 x 8 = 72\n",
            "9 x 9 = 81\n",
            "\n"
          ]
        }
      ]
    },
    {
      "cell_type": "code",
      "source": [
        "# 이차원 리스트의 요소를 출력하는 예시\n",
        "matrix = [\n",
        "    [1, 2, 3]\n",
        "    , [4, 5, 6]\n",
        "    , [7, 8, 9]\n",
        "]\n",
        "\n",
        "for row in matrix:\n",
        "  for item in row:\n",
        "    print(item, end=' ')\n",
        "  print()"
      ],
      "metadata": {
        "colab": {
          "base_uri": "https://localhost:8080/"
        },
        "id": "C2yLHU3WN-k0",
        "outputId": "04569dfd-776a-43d9-d8bf-4d5f4b4d0560"
      },
      "execution_count": null,
      "outputs": [
        {
          "output_type": "stream",
          "name": "stdout",
          "text": [
            "1 2 3 \n",
            "4 5 6 \n",
            "7 8 9 \n"
          ]
        }
      ]
    },
    {
      "cell_type": "code",
      "source": [
        "for i in range(1, 10):\n",
        "  for j in range(2, 10):\n",
        "    print(\"{}x{}={:>2}\".format(j, i, i*j), end='\\t')\n",
        "  print()"
      ],
      "metadata": {
        "colab": {
          "base_uri": "https://localhost:8080/"
        },
        "id": "D_jMiZDTObXD",
        "outputId": "540d55dc-cc41-4490-8194-3b819d9a7b89"
      },
      "execution_count": null,
      "outputs": [
        {
          "output_type": "stream",
          "name": "stdout",
          "text": [
            "2x1= 2\t3x1= 3\t4x1= 4\t5x1= 5\t6x1= 6\t7x1= 7\t8x1= 8\t9x1= 9\t\n",
            "2x2= 4\t3x2= 6\t4x2= 8\t5x2=10\t6x2=12\t7x2=14\t8x2=16\t9x2=18\t\n",
            "2x3= 6\t3x3= 9\t4x3=12\t5x3=15\t6x3=18\t7x3=21\t8x3=24\t9x3=27\t\n",
            "2x4= 8\t3x4=12\t4x4=16\t5x4=20\t6x4=24\t7x4=28\t8x4=32\t9x4=36\t\n",
            "2x5=10\t3x5=15\t4x5=20\t5x5=25\t6x5=30\t7x5=35\t8x5=40\t9x5=45\t\n",
            "2x6=12\t3x6=18\t4x6=24\t5x6=30\t6x6=36\t7x6=42\t8x6=48\t9x6=54\t\n",
            "2x7=14\t3x7=21\t4x7=28\t5x7=35\t6x7=42\t7x7=49\t8x7=56\t9x7=63\t\n",
            "2x8=16\t3x8=24\t4x8=32\t5x8=40\t6x8=48\t7x8=56\t8x8=64\t9x8=72\t\n",
            "2x9=18\t3x9=27\t4x9=36\t5x9=45\t6x9=54\t7x9=63\t8x9=72\t9x9=81\t\n"
          ]
        }
      ]
    },
    {
      "cell_type": "markdown",
      "source": [
        "<hr>"
      ],
      "metadata": {
        "id": "3IeRDDtbeyh1"
      }
    },
    {
      "cell_type": "markdown",
      "source": [
        "# 3. 제어문(문제)"
      ],
      "metadata": {
        "id": "PrRkhge9fVyd"
      }
    },
    {
      "cell_type": "markdown",
      "source": [
        "## 수업 문제 1 (if문)\n",
        "\n",
        "- 제어문 if ~ elif ~ else~ 의 코드를 활용하여 다음 코드를 작성하세요\n",
        "\n",
        "1. 기온, 습도, 풍속을 입력 받습니다.\n",
        "\n",
        "2.  - 기온이 30도이상이고 습도가 70프로 이상이면 메세지 출력 \"덥고습합니다.\"\n",
        "    - 기온이 30도 이상이고 습도가 70프로 미만이면 메세지 출력 \"그래도 많지 덥지 않네요.\"\n",
        "\n",
        "3. - 기온이 30도 미만이고 풍속이 10 이상이면 메세지 출력 \"바람이 그래도 불어 다행이네요\"\n",
        "  - 기온이 30도 미만이고 풍속이 10미만이면 메세지 출력 \"바람도 없고 덥습니다\"\n"
      ],
      "metadata": {
        "id": "QTFC7eC0fd5l"
      }
    },
    {
      "cell_type": "code",
      "source": [
        "temperature = int(input(\"기온을 입력하세요\"))\n",
        "humidity = int(input(\"습도를 입력하세요\"))\n",
        "wind_speed = int(input(\"풍속을 입력하세요\"))\n",
        "\n",
        "print(f\"현재 기온은 {temperature}도, 습도는 {humidity}%, 풍속은 {wind_speed} 입니다.\")\n",
        "\n",
        "def weather(temperature, humidity, wind_speed):\n",
        "  if temperature >= 30:\n",
        "    if humidity >= 70:\n",
        "      weather_condition = \"덥고습합니다.\"\n",
        "    else:\n",
        "      weather_condition = \"그래도 많지 덥지 않네요.\"\n",
        "  elif wind_speed >= 10:\n",
        "      weather_condition = \"바람이 그래도 불어 다행이네요.\"\n",
        "  else:\n",
        "    weather_condition = \"바람도 없고 덥습니다.\"\n",
        "  return print(weather_condition)\n",
        "\n",
        "weather(temperature, humidity, wind_speed)"
      ],
      "metadata": {
        "colab": {
          "base_uri": "https://localhost:8080/"
        },
        "id": "Xl9bSjg5fhVm",
        "outputId": "3b29a217-611f-46a4-cc20-6a47da1c65a2"
      },
      "execution_count": null,
      "outputs": [
        {
          "output_type": "stream",
          "name": "stdout",
          "text": [
            "기온을 입력하세요28\n",
            "습도를 입력하세요50\n",
            "풍속을 입력하세요9\n",
            "현재 기온은 28도, 습도는 50%, 풍속은 9 입니다.\n",
            "바람도 없고 덥습니다.\n"
          ]
        }
      ]
    },
    {
      "cell_type": "markdown",
      "source": [
        "### 수업 문제 2 (if문)\n",
        "\n",
        "- 제어문 if ~ elif ~ else~ 의 코드를 활용하여 다음 코드를 작성하세요\n",
        "\n",
        "- 연령, 수입, 대출 상환 잔여기간를 적절한 안내와 함께 입력 받습니다.\n",
        "\n",
        "1.\n",
        "  - 연령이 28세 이상이면서 수입이 50000달러이상이고 대출 상환 잔여기간이 30일 이상이면 메세지 출력 \"대출상환이 30일 이상 남았습니다.\"\n",
        "  - 연령이 28세 이상이면서 수입이 50000달러이상이고 대출 상환 잔여기간이 30일 미만이면 메세지 출력 \"대출상환이 30일 이내로 임박했습니다.\"\n",
        "\n",
        "2.\n",
        "  - 연령이 18세 이상이고 28세미만이면서 수입이 40000달러이상이고 대출 상환 잔여기간이 30일 이상이면 메세지 출력 \"대출상환이 30일 이상 남아 있으나 상환준비를 해주세요.\"\n",
        "  - 연령이 18세 이상이면서 28세미만이면서 수입이 40000달러이상이고 대출 상환 잔여기간이 30일 미만이면 메세지 출력 \"대출상환이 30일 이내로 임박했으니 은행에 방문해서 상환상담을  해주세요.\"\n",
        "\n",
        "3.\n",
        "  - 연령이 18세 미만이면 메세지 출력 \"대출에 해당사항이 없는 연령입니다.\"\n"
      ],
      "metadata": {
        "id": "u_cwEazhiBPF"
      }
    },
    {
      "cell_type": "code",
      "source": [
        "age = int(input(\"나이를 입력하세요: \"))\n",
        "income = int(input(\"수입을 입력하세요(달러 기준): \"))\n",
        "repay_loan_remainded_period = int(input(\"대출 상환 잔여기간을 입력하세요(일 기준): \"))\n",
        "\n",
        "def loan(age, income, repay_loan_remainded_period):\n",
        "  if age >= 28:\n",
        "      if income >= 50000:\n",
        "          if repay_loan_remainded_period >= 30:\n",
        "              comment = \"대출상환이 30일 이상 남았습니다.\"\n",
        "          else:\n",
        "              comment = \"대출상환이 30일 이내로 임박했습니다.\"\n",
        "      else:\n",
        "          comment = \"수입이 부족하여 대출조건을 만족하지 못합니다.\"\n",
        "  elif age >= 18:\n",
        "      if income >= 40000:\n",
        "          if repay_loan_remainded_period >= 30:\n",
        "              comment = \"대출상환이 30일 이상 남아 있으나 상환준비를 해주세요.\"\n",
        "          else:\n",
        "              comment = \"대출상환이 30일 이내로 임박했으니 은행에 방문해서 상환상담을 해주세요.\"\n",
        "      else:\n",
        "          comment = \"수입이 부족하여 대출조건을 만족하지 못합니다.\"\n",
        "  else:\n",
        "      comment = \"대출에 해당사항이 없는 연령입니다.\"\n",
        "\n",
        "  return print(comment)\n",
        "\n",
        "loan(age, income, repay_loan_remainded_period)"
      ],
      "metadata": {
        "colab": {
          "base_uri": "https://localhost:8080/"
        },
        "id": "SHzsFg2jidRr",
        "outputId": "e3fa5b07-7044-40af-a1ae-a9dfccd0378f"
      },
      "execution_count": null,
      "outputs": [
        {
          "output_type": "stream",
          "name": "stdout",
          "text": [
            "나이를 입력하세요: 30\n",
            "수입을 입력하세요(달러 기준): 20000\n",
            "대출 상환 잔여기간을 입력하세요(일 기준): 30\n",
            "수입이 부족하여 대출조건을 만족하지 못합니다.\n"
          ]
        }
      ]
    },
    {
      "cell_type": "markdown",
      "source": [
        "### 수업 문제 3 (for문)\n",
        "\n",
        "- 제어문 for문 사용하여 구구단 출력하기\n",
        "\n"
      ],
      "metadata": {
        "id": "5Vm5kYpIJmtT"
      }
    },
    {
      "cell_type": "code",
      "source": [
        "# 1단계 예시) 9단에서1단으로\n",
        "for i in range(9, 0, -1):\n",
        "  for j in range(1,10):\n",
        "    print(f'{i} x {j} = {i*j}')\n",
        "  print()"
      ],
      "metadata": {
        "id": "I-dO_F15k5z1",
        "colab": {
          "base_uri": "https://localhost:8080/"
        },
        "collapsed": true,
        "outputId": "5ce4a9b0-85b9-4039-90b3-50a9a3e57e4d"
      },
      "execution_count": null,
      "outputs": [
        {
          "output_type": "stream",
          "name": "stdout",
          "text": [
            "9 x 1 = 9\n",
            "9 x 2 = 18\n",
            "9 x 3 = 27\n",
            "9 x 4 = 36\n",
            "9 x 5 = 45\n",
            "9 x 6 = 54\n",
            "9 x 7 = 63\n",
            "9 x 8 = 72\n",
            "9 x 9 = 81\n",
            "\n",
            "8 x 1 = 8\n",
            "8 x 2 = 16\n",
            "8 x 3 = 24\n",
            "8 x 4 = 32\n",
            "8 x 5 = 40\n",
            "8 x 6 = 48\n",
            "8 x 7 = 56\n",
            "8 x 8 = 64\n",
            "8 x 9 = 72\n",
            "\n",
            "7 x 1 = 7\n",
            "7 x 2 = 14\n",
            "7 x 3 = 21\n",
            "7 x 4 = 28\n",
            "7 x 5 = 35\n",
            "7 x 6 = 42\n",
            "7 x 7 = 49\n",
            "7 x 8 = 56\n",
            "7 x 9 = 63\n",
            "\n",
            "6 x 1 = 6\n",
            "6 x 2 = 12\n",
            "6 x 3 = 18\n",
            "6 x 4 = 24\n",
            "6 x 5 = 30\n",
            "6 x 6 = 36\n",
            "6 x 7 = 42\n",
            "6 x 8 = 48\n",
            "6 x 9 = 54\n",
            "\n",
            "5 x 1 = 5\n",
            "5 x 2 = 10\n",
            "5 x 3 = 15\n",
            "5 x 4 = 20\n",
            "5 x 5 = 25\n",
            "5 x 6 = 30\n",
            "5 x 7 = 35\n",
            "5 x 8 = 40\n",
            "5 x 9 = 45\n",
            "\n",
            "4 x 1 = 4\n",
            "4 x 2 = 8\n",
            "4 x 3 = 12\n",
            "4 x 4 = 16\n",
            "4 x 5 = 20\n",
            "4 x 6 = 24\n",
            "4 x 7 = 28\n",
            "4 x 8 = 32\n",
            "4 x 9 = 36\n",
            "\n",
            "3 x 1 = 3\n",
            "3 x 2 = 6\n",
            "3 x 3 = 9\n",
            "3 x 4 = 12\n",
            "3 x 5 = 15\n",
            "3 x 6 = 18\n",
            "3 x 7 = 21\n",
            "3 x 8 = 24\n",
            "3 x 9 = 27\n",
            "\n",
            "2 x 1 = 2\n",
            "2 x 2 = 4\n",
            "2 x 3 = 6\n",
            "2 x 4 = 8\n",
            "2 x 5 = 10\n",
            "2 x 6 = 12\n",
            "2 x 7 = 14\n",
            "2 x 8 = 16\n",
            "2 x 9 = 18\n",
            "\n",
            "1 x 1 = 1\n",
            "1 x 2 = 2\n",
            "1 x 3 = 3\n",
            "1 x 4 = 4\n",
            "1 x 5 = 5\n",
            "1 x 6 = 6\n",
            "1 x 7 = 7\n",
            "1 x 8 = 8\n",
            "1 x 9 = 9\n",
            "\n"
          ]
        }
      ]
    },
    {
      "cell_type": "code",
      "source": [
        "# 2단계 예시) 9*9=81부터 1*1=1까지\n",
        "for i in range(9, 0, -1):\n",
        "  for j in range(9, 0, -1):\n",
        "    print(f'{i} x {j} = {i*j}')\n",
        "  print()"
      ],
      "metadata": {
        "colab": {
          "base_uri": "https://localhost:8080/"
        },
        "id": "hk7TRM9gLzlS",
        "outputId": "82982a62-5fc9-4dba-d6c2-95d898aa5028"
      },
      "execution_count": null,
      "outputs": [
        {
          "output_type": "stream",
          "name": "stdout",
          "text": [
            "9 x 9 = 81\n",
            "9 x 8 = 72\n",
            "9 x 7 = 63\n",
            "9 x 6 = 54\n",
            "9 x 5 = 45\n",
            "9 x 4 = 36\n",
            "9 x 3 = 27\n",
            "9 x 2 = 18\n",
            "9 x 1 = 9\n",
            "\n",
            "8 x 9 = 72\n",
            "8 x 8 = 64\n",
            "8 x 7 = 56\n",
            "8 x 6 = 48\n",
            "8 x 5 = 40\n",
            "8 x 4 = 32\n",
            "8 x 3 = 24\n",
            "8 x 2 = 16\n",
            "8 x 1 = 8\n",
            "\n",
            "7 x 9 = 63\n",
            "7 x 8 = 56\n",
            "7 x 7 = 49\n",
            "7 x 6 = 42\n",
            "7 x 5 = 35\n",
            "7 x 4 = 28\n",
            "7 x 3 = 21\n",
            "7 x 2 = 14\n",
            "7 x 1 = 7\n",
            "\n",
            "6 x 9 = 54\n",
            "6 x 8 = 48\n",
            "6 x 7 = 42\n",
            "6 x 6 = 36\n",
            "6 x 5 = 30\n",
            "6 x 4 = 24\n",
            "6 x 3 = 18\n",
            "6 x 2 = 12\n",
            "6 x 1 = 6\n",
            "\n",
            "5 x 9 = 45\n",
            "5 x 8 = 40\n",
            "5 x 7 = 35\n",
            "5 x 6 = 30\n",
            "5 x 5 = 25\n",
            "5 x 4 = 20\n",
            "5 x 3 = 15\n",
            "5 x 2 = 10\n",
            "5 x 1 = 5\n",
            "\n",
            "4 x 9 = 36\n",
            "4 x 8 = 32\n",
            "4 x 7 = 28\n",
            "4 x 6 = 24\n",
            "4 x 5 = 20\n",
            "4 x 4 = 16\n",
            "4 x 3 = 12\n",
            "4 x 2 = 8\n",
            "4 x 1 = 4\n",
            "\n",
            "3 x 9 = 27\n",
            "3 x 8 = 24\n",
            "3 x 7 = 21\n",
            "3 x 6 = 18\n",
            "3 x 5 = 15\n",
            "3 x 4 = 12\n",
            "3 x 3 = 9\n",
            "3 x 2 = 6\n",
            "3 x 1 = 3\n",
            "\n",
            "2 x 9 = 18\n",
            "2 x 8 = 16\n",
            "2 x 7 = 14\n",
            "2 x 6 = 12\n",
            "2 x 5 = 10\n",
            "2 x 4 = 8\n",
            "2 x 3 = 6\n",
            "2 x 2 = 4\n",
            "2 x 1 = 2\n",
            "\n",
            "1 x 9 = 9\n",
            "1 x 8 = 8\n",
            "1 x 7 = 7\n",
            "1 x 6 = 6\n",
            "1 x 5 = 5\n",
            "1 x 4 = 4\n",
            "1 x 3 = 3\n",
            "1 x 2 = 2\n",
            "1 x 1 = 1\n",
            "\n"
          ]
        }
      ]
    },
    {
      "cell_type": "code",
      "source": [
        "# 3단계 예시) 자유로운 응용 구구단 표현\n",
        "# 출력하고자 하는 구구단 단수 입력받아서 해당 구구단 출력\n",
        "\n",
        "import sys\n",
        "\n",
        "n = int(input(\"출력할 구구단 단수를 입력해주세요\"))\n",
        "how_calculation = input(\"정상적으로 출력하고 싶다면 'O', 역순으로 출력하고 싶다면 'X'를 입력하세요(대소문자 상관 없음)\")\n",
        "how_calculation = how_calculation.upper()\n",
        "\n",
        "def multiplication_tables(n, how_calculation):\n",
        "  if how_calculation == 'O':\n",
        "    for i in range(1, 10):\n",
        "      print(f'{n} x {i} = {n*i}')\n",
        "  elif how_calculation == 'X':\n",
        "    for j in range(9, 0, -1):\n",
        "      print(f'{n} x {j} = {n*j}')\n",
        "  else:\n",
        "    sys.exit(\"값을 잘못 입력하였습니다. 프로그램 종료\")\n",
        "\n",
        "\n",
        "multiplication_tables(n, how_calculation)"
      ],
      "metadata": {
        "colab": {
          "base_uri": "https://localhost:8080/"
        },
        "id": "ArZdgVg7JyHS",
        "outputId": "efa05da2-71c5-44b9-fd8f-f05cd2b4e986"
      },
      "execution_count": null,
      "outputs": [
        {
          "output_type": "stream",
          "name": "stdout",
          "text": [
            "출력할 구구단 단수를 입력해주세요9\n",
            "정상적으로 출력하고 싶다면 'O', 역순으로 출력하고 싶다면 'X'를 입력하세요(대소문자 상관 없음)x\n",
            "9 x 9 = 81\n",
            "9 x 8 = 72\n",
            "9 x 7 = 63\n",
            "9 x 6 = 54\n",
            "9 x 5 = 45\n",
            "9 x 4 = 36\n",
            "9 x 3 = 27\n",
            "9 x 2 = 18\n",
            "9 x 1 = 9\n"
          ]
        }
      ]
    },
    {
      "cell_type": "markdown",
      "source": [
        "### 수업 문제 4 (while문)\n",
        "\n",
        "- 숫자맞추기\n",
        "\n",
        "```\n",
        "코드를 응용하여 간단 스무고개 게임을 코딩 후 공유해 주세요\n",
        "1단계예시) 범위를 바꿔보기\n",
        "2단계예시) 표현을 바꿔보기\n",
        "3단계예시) 사람과 동물 구분하기, 식물이름 구분하기 등 자유로운 응용\n",
        "```\n"
      ],
      "metadata": {
        "id": "bnbNFxadOW8h"
      }
    },
    {
      "cell_type": "code",
      "source": [
        "# 1단계예시) 범위를 바꿔보기\n",
        "import random\n",
        "\n",
        "target = random.randint(1, 200)\n",
        "guess = None\n",
        "attempts = 0\n",
        "\n",
        "while guess != target:\n",
        "  guess = int(input(\"Guess the number (between 1 and 100): \"))\n",
        "  attempts += 1\n",
        "  if guess < target:\n",
        "    print(\"Too low!\")\n",
        "  elif guess > target :\n",
        "    print(\"Too high!\")\n",
        "  else:\n",
        "    print(f\"Congratulations! You've guessed the number in {attempts} attempts.\")"
      ],
      "metadata": {
        "colab": {
          "base_uri": "https://localhost:8080/"
        },
        "id": "8xqJ1LYuOhO6",
        "outputId": "8364a6cb-3410-43e7-b671-e9394d4562db"
      },
      "execution_count": null,
      "outputs": [
        {
          "output_type": "stream",
          "name": "stdout",
          "text": [
            "Guess the number (between 1 and 100): 100\n",
            "Too low!\n",
            "Guess the number (between 1 and 100): 150\n",
            "Too low!\n",
            "Guess the number (between 1 and 100): 170\n",
            "Too low!\n",
            "Guess the number (between 1 and 100): 180\n",
            "Too low!\n",
            "Guess the number (between 1 and 100): 190\n",
            "Too low!\n",
            "Guess the number (between 1 and 100): 195\n",
            "Too high!\n",
            "Guess the number (between 1 and 100): 194\n",
            "Too high!\n",
            "Guess the number (between 1 and 100): 193\n",
            "Congratulations! You've guessed the number in 8 attempts.\n"
          ]
        }
      ]
    },
    {
      "cell_type": "code",
      "source": [
        "# 2단계예시) 표현을 바꿔보기\n",
        "import random\n",
        "import string\n",
        "import sys\n",
        "\n",
        "letter_set = string.ascii_letters\n",
        "target = random.choice(letter_set)\n",
        "guess = None\n",
        "attempts = 0\n",
        "\n",
        "while guess != target:\n",
        "  guess = input(\"Uppercase letters are larger than lowercase letters.\\nGuess the string (between a and z, betwee A and Z ): \")\n",
        "  attempts += 1\n",
        "  if letter_set.index(guess) < letter_set.index(target):\n",
        "    print(\"Too low!\")\n",
        "  elif letter_set.index(guess) > letter_set.index(target) :\n",
        "    print(\"Too high!\")\n",
        "  elif letter_set.index(guess) == letter_set.index(target):\n",
        "    sys.exit(f\"Congratulations! You've guessed the number in {attempts} attempts.\")\n",
        "  else:\n",
        "    sys.exit(\"값을 잘못 입력하였습니다. 게임을 다시 시작해주세요\")\n"
      ],
      "metadata": {
        "colab": {
          "base_uri": "https://localhost:8080/",
          "height": 680
        },
        "id": "jHH-UP2LUhl5",
        "outputId": "9fdda122-18a4-4e9a-b3f6-78a60d0731bd"
      },
      "execution_count": null,
      "outputs": [
        {
          "name": "stdout",
          "output_type": "stream",
          "text": [
            "Uppercase letters are larger than lowercase letters.\n",
            "Guess the string (between a and z, betwee A and Z ): a\n",
            "Too low!\n",
            "Uppercase letters are larger than lowercase letters.\n",
            "Guess the string (between a and z, betwee A and Z ): A\n",
            "Too high!\n",
            "Uppercase letters are larger than lowercase letters.\n",
            "Guess the string (between a and z, betwee A and Z ): d\n",
            "Too low!\n",
            "Uppercase letters are larger than lowercase letters.\n",
            "Guess the string (between a and z, betwee A and Z ): t\n",
            "Too high!\n",
            "Uppercase letters are larger than lowercase letters.\n",
            "Guess the string (between a and z, betwee A and Z ): g\n",
            "Too low!\n",
            "Uppercase letters are larger than lowercase letters.\n",
            "Guess the string (between a and z, betwee A and Z ): e\n",
            "Too low!\n",
            "Uppercase letters are larger than lowercase letters.\n",
            "Guess the string (between a and z, betwee A and Z ): f\n",
            "Too low!\n",
            "Uppercase letters are larger than lowercase letters.\n",
            "Guess the string (between a and z, betwee A and Z ): i\n",
            "Too low!\n",
            "Uppercase letters are larger than lowercase letters.\n",
            "Guess the string (between a and z, betwee A and Z ): j\n",
            "Too low!\n",
            "Uppercase letters are larger than lowercase letters.\n",
            "Guess the string (between a and z, betwee A and Z ): k\n",
            "Too low!\n",
            "Uppercase letters are larger than lowercase letters.\n",
            "Guess the string (between a and z, betwee A and Z ): l\n"
          ]
        },
        {
          "output_type": "error",
          "ename": "SystemExit",
          "evalue": "Congratulations! You've guessed the number in 11 attempts.",
          "traceback": [
            "An exception has occurred, use %tb to see the full traceback.\n",
            "\u001b[0;31mSystemExit\u001b[0m\u001b[0;31m:\u001b[0m Congratulations! You've guessed the number in 11 attempts.\n"
          ]
        }
      ]
    },
    {
      "cell_type": "code",
      "source": [
        "# 3단계예시) 사람과 동물 구분하기, 식물이름 구분하기 등 자유로운 응용\n",
        "# 프로모션 이벤트 만들기\n",
        "import random\n",
        "import string\n",
        "import sys\n",
        "\n",
        "promotion_set = [\"아이패드\", \"애플워치\", \"백화점상품권\", \"호텔숙박권\", \"노트북\", \"샤넬백\", \"냉장고\", \"커피기프티콘\"]\n",
        "print(\"지금 가장 받고 싶은 선물을 3번 안에 맞추면 경품 증정!\")\n",
        "print(promotion_set)\n",
        "\n",
        "target = random.choice(promotion_set)\n",
        "guess = None\n",
        "attempts = 0\n",
        "\n",
        "while guess != target:\n",
        "  guess = input(\"마스코트가 지금 가장 받고 싶어하는 선물은 무엇일까요? 기회는 3번!\")\n",
        "  attempts += 1\n",
        "  if guess == target:\n",
        "    print(f\"정답! {attempts}번만에 맞추셨네요!\")\n",
        "  else:\n",
        "    if attempts >= 1 and attempts < 3:\n",
        "      remaind_count = 3-attempts\n",
        "      print(f\"틀렸습니다. 남은 기회는 {remaind_count}번 \")\n",
        "    else:\n",
        "      sys.exit(\"기회를 모두 소진하였습니다.\")"
      ],
      "metadata": {
        "colab": {
          "base_uri": "https://localhost:8080/"
        },
        "id": "RXl3RO8WUho6",
        "outputId": "bc08a906-5be0-4f1a-c462-ad3d7c23df59"
      },
      "execution_count": null,
      "outputs": [
        {
          "output_type": "stream",
          "name": "stdout",
          "text": [
            "지금 가장 받고 싶은 선물을 3번 안에 맞추면 경품 증정!\n",
            "마스코트가 지금 가장 받고 싶어하는 선물은 무엇일까요? 노트북\n",
            "정답! 1번만에 맞추셨네요!\n"
          ]
        }
      ]
    },
    {
      "cell_type": "markdown",
      "source": [
        "### 수업 문제 5\n",
        "\n",
        "- 특수문자를 사용하여 다양한 모양 찍기를 시도해서 코딩내용을 공유해 봅시다\n",
        "\n",
        "```\n",
        "1단계예시) 특수문자를바꿔보기\n",
        "\n",
        "2단계예시) range 범위바꿔보기\n",
        "\n",
        "3단계예시) 자유로운응용(코드의 주요 컨셉을 주석으로 넣어주세요)\n",
        "```\n"
      ],
      "metadata": {
        "id": "VfPZwRLIfrCI"
      }
    },
    {
      "cell_type": "code",
      "source": [
        "# 1단계예시) 특수문자를바꿔보기\n",
        "n = int(input(\"숫자를 입력하세요\"))\n",
        "symbol = input(\"넣고자 하는 특수문자를 입력하세요\")\n",
        "\n",
        "for i in range(n):\n",
        "  for j in range(n-i-1):\n",
        "    print(\" \", end='')\n",
        "  for j in range(2 * i+1):\n",
        "    print(symbol, end='')\n",
        "  print()\n",
        "for i in range(n - 2, -1, -1):\n",
        "  for j in range(n - i - 1):\n",
        "    print(\" \", end='')\n",
        "  for j in range(2 * i+1):\n",
        "    print(symbol, end='')\n",
        "  print()"
      ],
      "metadata": {
        "colab": {
          "base_uri": "https://localhost:8080/"
        },
        "id": "04Sh9MzvY7Rw",
        "outputId": "a73d7c97-e977-49db-d202-354415a84254"
      },
      "execution_count": null,
      "outputs": [
        {
          "output_type": "stream",
          "name": "stdout",
          "text": [
            "숫자를 입력하세요5\n",
            "넣고자 하는 특수문자를 입력하세요@\n",
            "    @\n",
            "   @@@\n",
            "  @@@@@\n",
            " @@@@@@@\n",
            "@@@@@@@@@\n",
            " @@@@@@@\n",
            "  @@@@@\n",
            "   @@@\n",
            "    @\n"
          ]
        }
      ]
    },
    {
      "cell_type": "code",
      "source": [
        "# 2단계예시) range 범위바꿔보기\n",
        "# 2단계씩 건너뛰면서 출력\n",
        "n = int(input(\"숫자를 입력하세요\")) * 2\n",
        "symbol = input(\"넣고자 하는 특수문자를 입력하세요\")\n",
        "\n",
        "for i in range(0, n, 2):\n",
        "  for j in range(n-i-1):\n",
        "    print(\" \", end='')\n",
        "  for j in range(2 * i+1):\n",
        "    print(symbol, end='')\n",
        "  print()"
      ],
      "metadata": {
        "colab": {
          "base_uri": "https://localhost:8080/"
        },
        "id": "qADPKhlx3qj-",
        "outputId": "edae0cb9-72ce-4dd1-9c04-792a5632af85"
      },
      "execution_count": null,
      "outputs": [
        {
          "output_type": "stream",
          "name": "stdout",
          "text": [
            "숫자를 입력하세요5\n",
            "넣고자 하는 특수문자를 입력하세요@\n",
            "         @\n",
            "       @@@@@\n",
            "     @@@@@@@@@\n",
            "   @@@@@@@@@@@@@\n",
            " @@@@@@@@@@@@@@@@@\n"
          ]
        }
      ]
    },
    {
      "cell_type": "code",
      "source": [
        "# 3단계예시) 자유로운응용(코드의 주요 컨셉을 주석으로 넣어주세요)\n",
        "# 계단 만들기\n",
        "sybol = input(\"사용하고자 하는 특수문자를 입력하세요\")\n",
        "stairs = int(input(\"만들고자 하는 계단의 층수를 입력하세요\"))\n",
        "\n",
        "for i in range(stairs):\n",
        "    for j in range(stairs - i - 1):\n",
        "        print(\" \", end='')\n",
        "    for j in range(i + 1):\n",
        "        print(symbol, end='')\n",
        "    print()"
      ],
      "metadata": {
        "colab": {
          "base_uri": "https://localhost:8080/"
        },
        "id": "GvCZAnhD2XwO",
        "outputId": "c3034502-428f-4af1-93f0-e07b3e27e4fb"
      },
      "execution_count": null,
      "outputs": [
        {
          "output_type": "stream",
          "name": "stdout",
          "text": [
            "사용하고자 하는 특수문자를 입력하세요@\n",
            "만들고자 하는 계단의 층수를 입력하세요5\n",
            "    @\n",
            "   @@\n",
            "  @@@\n",
            " @@@@\n",
            "@@@@@\n"
          ]
        }
      ]
    },
    {
      "cell_type": "markdown",
      "source": [
        "### 수업 문제 6\n",
        "\n",
        "- 제어문 최종 프로젝트를 다음 주제에 따라 코딩을 시도하고 공유해 주세요\n",
        "\n",
        "```\n",
        "가위바위보 게임\n",
        "\n",
        "1)  게임의 규칙 정리\n",
        "2)  필요한 변수 설정 및 초기화(가위, 바위, 보 : 문자열 또는 숫자로 변경)\n",
        "3)  게임의 시작 및 종료 조건(while true, break)\n",
        "4)  게임의 점수 조건(변수 설정과 복합연산자)\n",
        "5)  적절한 디버깅\n",
        "```\n"
      ],
      "metadata": {
        "id": "rCAfrCdw6tpr"
      }
    },
    {
      "cell_type": "code",
      "source": [
        "import random\n",
        "\n",
        "RPS = [\"가위\", \"바위\", \"보\"]\n",
        "user_score = 0\n",
        "computer_score = 0\n",
        "\n",
        "print(\"게임을 시작합니다!\")\n",
        "while True:\n",
        "  game_RPS = random.choice(RPS)\n",
        "  user_RPS = input(\"가위, 바위, 보 중 선택하세요\")\n",
        "\n",
        "  if game_RPS == '가위':\n",
        "    if user_RPS == '가위':\n",
        "      print(f\"Computer {game_RPS}, Player {user_RPS}이므로 무승부입니다.\")\n",
        "    elif user_RPS == '바위':\n",
        "      print(f\"Computer {game_RPS}, Player {user_RPS}이므로 Player win!\")\n",
        "      user_score += 1\n",
        "    elif user_RPS == '보':\n",
        "      print(f\"Computer {game_RPS}, Player {user_RPS}이므로 Computer win!\")\n",
        "      computer_score += 1\n",
        "    else:\n",
        "      print(\"값을 잘못입력하였습니다. 다시 시도해주세요. \")\n",
        "  elif game_RPS == '바위':\n",
        "    if user_RPS == '가위':\n",
        "      print(f\"Computer {game_RPS}, Player {user_RPS}이므로 Computer win!\")\n",
        "      computer_score += 1\n",
        "    elif user_RPS == '바위':\n",
        "      print(f\"Computer {game_RPS}, Player {user_RPS}이므로 무승부입니다.\")\n",
        "    elif user_RPS == '보':\n",
        "      print(f\"Computer {game_RPS}, Player {user_RPS}이므로 Player win!\")\n",
        "      user_score += 1\n",
        "    else:\n",
        "      print(\"값을 잘못입력하였습니다. 다시 시도해주세요. \")\n",
        "  else:\n",
        "    if user_RPS == '가위':\n",
        "      print(f\"Computer {game_RPS}, Player {user_RPS}이므로 Player win!\")\n",
        "      user_score += 1\n",
        "    elif user_RPS == '바위':\n",
        "      print(f\"Computer {game_RPS}, Player {user_RPS}이므로 Computer win!\")\n",
        "      computer_score += 1\n",
        "    elif user_RPS == '보':\n",
        "      print(f\"Computer {game_RPS}, Player {user_RPS}이므로 무승부입니다.\")\n",
        "    else:\n",
        "      print(\"값을 잘못입력하였습니다. 다시 시도해주세요. \")\n",
        "\n",
        "  game_continue = input(\"게임을 종료하시겠습니까?(종료를 희망한다면 '종료'를 입력, 계속 진행을 희망한다면 아무거나 입력하세요.)\")\n",
        "  print()\n",
        "  if game_continue == '종료':\n",
        "    print(f\"Computer {computer_score}점, Player {user_score}점\")\n",
        "    break\n",
        "  else:\n",
        "    continue"
      ],
      "metadata": {
        "colab": {
          "base_uri": "https://localhost:8080/"
        },
        "id": "EEpJmNkx81t1",
        "outputId": "07076c7e-9b71-40c7-f43b-c9077c5aae75"
      },
      "execution_count": null,
      "outputs": [
        {
          "output_type": "stream",
          "name": "stdout",
          "text": [
            "게임을 시작합니다!\n",
            "가위, 바위, 보 중 선택하세요보\n",
            "Computer 바위, Player 보이므로 Player win!\n",
            "게임을 종료하시겠습니까?(종료를 희망한다면 '종료'를 입력, 계속 진행을 희망한다면 아무거나 입력하세요.)\n",
            "\n",
            "가위, 바위, 보 중 선택하세요가위\n",
            "Computer 보, Player 가위이므로 Player win!\n",
            "게임을 종료하시겠습니까?(종료를 희망한다면 '종료'를 입력, 계속 진행을 희망한다면 아무거나 입력하세요.)종료\n",
            "\n",
            "Computer 0점, Player 2점\n"
          ]
        }
      ]
    },
    {
      "cell_type": "markdown",
      "source": [
        "<hr>"
      ],
      "metadata": {
        "id": "P69HoX8XGYda"
      }
    },
    {
      "cell_type": "markdown",
      "source": [
        "# 3. 제어문(예제)"
      ],
      "metadata": {
        "id": "WSPw-vTmPrci"
      }
    },
    {
      "cell_type": "markdown",
      "source": [
        "## 예제1. 구구단 출력1"
      ],
      "metadata": {
        "id": "DVdZLku9PuV7"
      }
    },
    {
      "cell_type": "code",
      "source": [
        "for i in range(1, 10):\n",
        "  for j in range(1, 10):\n",
        "    print(i*j, end=' ')\n",
        "  print()"
      ],
      "metadata": {
        "colab": {
          "base_uri": "https://localhost:8080/"
        },
        "id": "78aYHTprP8L4",
        "outputId": "1ec76719-a78a-4b7b-a33a-9336e29302c0"
      },
      "execution_count": null,
      "outputs": [
        {
          "output_type": "stream",
          "name": "stdout",
          "text": [
            "1 2 3 4 5 6 7 8 9 \n",
            "2 4 6 8 10 12 14 16 18 \n",
            "3 6 9 12 15 18 21 24 27 \n",
            "4 8 12 16 20 24 28 32 36 \n",
            "5 10 15 20 25 30 35 40 45 \n",
            "6 12 18 24 30 36 42 48 54 \n",
            "7 14 21 28 35 42 49 56 63 \n",
            "8 16 24 32 40 48 56 64 72 \n",
            "9 18 27 36 45 54 63 72 81 \n"
          ]
        }
      ]
    },
    {
      "cell_type": "markdown",
      "source": [
        "## 예제2. 구구단 출력2"
      ],
      "metadata": {
        "id": "vyCF3qOuP-uL"
      }
    },
    {
      "cell_type": "code",
      "source": [
        "# 세로방향으로 구구단 출력\n",
        "for i in range(1, 10):\n",
        "  for j in range(2, 10):\n",
        "    print(i*j, end=' ')\n",
        "  print()"
      ],
      "metadata": {
        "colab": {
          "base_uri": "https://localhost:8080/"
        },
        "id": "g6J16fHuQACI",
        "outputId": "e3b23123-5c42-44fa-fed7-99b62f647497"
      },
      "execution_count": null,
      "outputs": [
        {
          "output_type": "stream",
          "name": "stdout",
          "text": [
            "2 3 4 5 6 7 8 9 \n",
            "4 6 8 10 12 14 16 18 \n",
            "6 9 12 15 18 21 24 27 \n",
            "8 12 16 20 24 28 32 36 \n",
            "10 15 20 25 30 35 40 45 \n",
            "12 18 24 30 36 42 48 54 \n",
            "14 21 28 35 42 49 56 63 \n",
            "16 24 32 40 48 56 64 72 \n",
            "18 27 36 45 54 63 72 81 \n"
          ]
        }
      ]
    },
    {
      "cell_type": "markdown",
      "source": [
        "## 예제3. 구구단 출력 3"
      ],
      "metadata": {
        "id": "0mJFzQ-UtmHF"
      }
    },
    {
      "cell_type": "code",
      "source": [
        "for i in range(1, 10):\n",
        "  for j in range(2, 10):\n",
        "    print(f\"{i}x{j}={i*j}\", end=' ')\n",
        "  print()"
      ],
      "metadata": {
        "colab": {
          "base_uri": "https://localhost:8080/"
        },
        "id": "J_GVavivts4U",
        "outputId": "778ee39b-acf4-4b58-8edb-705e7c9e6eca"
      },
      "execution_count": null,
      "outputs": [
        {
          "output_type": "stream",
          "name": "stdout",
          "text": [
            "1x2=2 1x3=3 1x4=4 1x5=5 1x6=6 1x7=7 1x8=8 1x9=9 \n",
            "2x2=4 2x3=6 2x4=8 2x5=10 2x6=12 2x7=14 2x8=16 2x9=18 \n",
            "3x2=6 3x3=9 3x4=12 3x5=15 3x6=18 3x7=21 3x8=24 3x9=27 \n",
            "4x2=8 4x3=12 4x4=16 4x5=20 4x6=24 4x7=28 4x8=32 4x9=36 \n",
            "5x2=10 5x3=15 5x4=20 5x5=25 5x6=30 5x7=35 5x8=40 5x9=45 \n",
            "6x2=12 6x3=18 6x4=24 6x5=30 6x6=36 6x7=42 6x8=48 6x9=54 \n",
            "7x2=14 7x3=21 7x4=28 7x5=35 7x6=42 7x7=49 7x8=56 7x9=63 \n",
            "8x2=16 8x3=24 8x4=32 8x5=40 8x6=48 8x7=56 8x8=64 8x9=72 \n",
            "9x2=18 9x3=27 9x4=36 9x5=45 9x6=54 9x7=63 9x8=72 9x9=81 \n"
          ]
        }
      ]
    },
    {
      "cell_type": "markdown",
      "source": [
        "## 예제 4. 1부터 10까지의 홀수 (또는 짝수)를 출력하세요."
      ],
      "metadata": {
        "id": "ko2iUBekt8wl"
      }
    },
    {
      "cell_type": "code",
      "source": [
        "# 홀수 출력\n",
        "n = int(input(\"숫자를 입력하세요\"))\n",
        "for i in range(1, n+1, 2):\n",
        "  print(i)"
      ],
      "metadata": {
        "colab": {
          "base_uri": "https://localhost:8080/"
        },
        "id": "SMPQA0l_uJGV",
        "outputId": "8dcfb276-a987-40ec-dc4c-e70ff64408b0"
      },
      "execution_count": null,
      "outputs": [
        {
          "output_type": "stream",
          "name": "stdout",
          "text": [
            "숫자를 입력하세요10\n",
            "1\n",
            "3\n",
            "5\n",
            "7\n",
            "9\n"
          ]
        }
      ]
    },
    {
      "cell_type": "code",
      "source": [
        "# 짝수 출력\n",
        "n = int(input(\"숫자를 입력하세요\"))\n",
        "for i in range(2, n+1, 2):\n",
        "  print(i)"
      ],
      "metadata": {
        "colab": {
          "base_uri": "https://localhost:8080/"
        },
        "id": "CxmP1FGVuWQY",
        "outputId": "092ff989-5c45-4386-9d55-f9e5933dec6e"
      },
      "execution_count": null,
      "outputs": [
        {
          "output_type": "stream",
          "name": "stdout",
          "text": [
            "숫자를 입력하세요10\n",
            "2\n",
            "4\n",
            "6\n",
            "8\n",
            "10\n"
          ]
        }
      ]
    },
    {
      "cell_type": "markdown",
      "source": [
        "## 예제 5. 1부터 10까지의 숫자를 거꾸로 출력하세요."
      ],
      "metadata": {
        "id": "oi0oP20suaVE"
      }
    },
    {
      "cell_type": "code",
      "source": [
        "for i in range(10, 0, -1):\n",
        "  print(i)"
      ],
      "metadata": {
        "colab": {
          "base_uri": "https://localhost:8080/"
        },
        "id": "T7c37Ctsusov",
        "outputId": "ac24cfa9-e224-4411-d5b0-426e5c77dba9"
      },
      "execution_count": null,
      "outputs": [
        {
          "output_type": "stream",
          "name": "stdout",
          "text": [
            "10\n",
            "9\n",
            "8\n",
            "7\n",
            "6\n",
            "5\n",
            "4\n",
            "3\n",
            "2\n",
            "1\n"
          ]
        }
      ]
    },
    {
      "cell_type": "markdown",
      "source": [
        "## 예제 6. 1부터 10까지의 숫자 중 홀수는 '*', 짝수는 '@'대체하여 출력하세요."
      ],
      "metadata": {
        "id": "DBRFtuv4uyd0"
      }
    },
    {
      "cell_type": "code",
      "source": [
        "n = int(input(\"숫자를 입력하세요\"))\n",
        "\n",
        "for i in range(1, n+1):\n",
        "  if i % 2 == 0:\n",
        "    print('@', end=' ')\n",
        "  else:\n",
        "    print('*', end=' ')"
      ],
      "metadata": {
        "colab": {
          "base_uri": "https://localhost:8080/"
        },
        "id": "0V7RWc9LvB6U",
        "outputId": "73ad3612-d11b-4382-b9d8-7e436f4f839b"
      },
      "execution_count": null,
      "outputs": [
        {
          "output_type": "stream",
          "name": "stdout",
          "text": [
            "숫자를 입력하세요20\n",
            "* @ * @ * @ * @ * @ * @ * @ * @ * @ * @ "
          ]
        }
      ]
    },
    {
      "cell_type": "markdown",
      "source": [
        "## 예제 7. 사용자로부터 숫자를 입력받아 해당 숫자만큼의 층수를 가지는 피라미드를 \"*\"로 출력하세요."
      ],
      "metadata": {
        "id": "gSAToY9PvUGl"
      }
    },
    {
      "cell_type": "code",
      "source": [
        "num = int(input(\"숫자를 입력하세요\"))\n",
        "\n",
        "for i in range(1, num+1):\n",
        "  print(\" \" * (num - i) + \"*\" * (2*i - 1))"
      ],
      "metadata": {
        "colab": {
          "base_uri": "https://localhost:8080/"
        },
        "id": "hpt0qz9Vvl7g",
        "outputId": "1df2db1e-e358-4ed4-ef51-c03c4f1377fd"
      },
      "execution_count": null,
      "outputs": [
        {
          "output_type": "stream",
          "name": "stdout",
          "text": [
            "숫자를 입력하세요10\n",
            "         *\n",
            "        ***\n",
            "       *****\n",
            "      *******\n",
            "     *********\n",
            "    ***********\n",
            "   *************\n",
            "  ***************\n",
            " *****************\n",
            "*******************\n"
          ]
        }
      ]
    },
    {
      "cell_type": "markdown",
      "source": [
        "## 예제 8. 사용자로부터 숫자를 입력받아 해당 숫자만큼의 계단식 별찍기를 출력하세요."
      ],
      "metadata": {
        "id": "fGtifiscxnld"
      }
    },
    {
      "cell_type": "code",
      "source": [
        "num = int(input(\"숫자를 입력하세요\"))\n",
        "\n",
        "for i in range(1, num+1):\n",
        "  print('*'*i)"
      ],
      "metadata": {
        "colab": {
          "base_uri": "https://localhost:8080/"
        },
        "id": "jaM59EQvx_Ac",
        "outputId": "98c101d8-928e-4be9-ddad-94ad56f3d77c"
      },
      "execution_count": null,
      "outputs": [
        {
          "output_type": "stream",
          "name": "stdout",
          "text": [
            "숫자를 입력하세요10\n",
            "*\n",
            "**\n",
            "***\n",
            "****\n",
            "*****\n",
            "******\n",
            "*******\n",
            "********\n",
            "*********\n",
            "**********\n"
          ]
        }
      ]
    },
    {
      "cell_type": "markdown",
      "source": [
        "<hr>"
      ],
      "metadata": {
        "id": "YqEfPFuUyNU1"
      }
    },
    {
      "cell_type": "markdown",
      "source": [
        "# 3. 제어문(심화 예제)"
      ],
      "metadata": {
        "id": "_8xwfyESyReE"
      }
    },
    {
      "cell_type": "markdown",
      "source": [
        "## 다차원 리스트 인덱싱"
      ],
      "metadata": {
        "id": "cc21jElTyirU"
      }
    },
    {
      "cell_type": "code",
      "source": [
        "three_d_list = [\n",
        "    [  # Layer 1\n",
        "        [1, 2, 3],\n",
        "        [4, 5, 6],\n",
        "        [7, 8, 9]\n",
        "    ],\n",
        "    [  # Layer 2\n",
        "        [10, 11, 12],\n",
        "        [13, 14, 15],\n",
        "        [16, 17, 18]\n",
        "    ],\n",
        "    [  # Layer 3\n",
        "        [19, 20, 21],\n",
        "        [22, 23, 24],\n",
        "        [25, 26, 27]\n",
        "    ]\n",
        "]\n",
        "\n",
        "print(three_d_list[1][0][0])"
      ],
      "metadata": {
        "colab": {
          "base_uri": "https://localhost:8080/"
        },
        "id": "rR3qGUlgyo0H",
        "outputId": "7388ac6a-6326-4df8-c989-5b99a8e7c860"
      },
      "execution_count": null,
      "outputs": [
        {
          "output_type": "stream",
          "name": "stdout",
          "text": [
            "10\n"
          ]
        }
      ]
    }
  ]
}